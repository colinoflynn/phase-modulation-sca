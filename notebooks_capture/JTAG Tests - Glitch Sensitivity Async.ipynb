{
 "cells": [
  {
   "cell_type": "markdown",
   "id": "d8b927f0",
   "metadata": {},
   "source": [
    "## JTAG Tests: Glitch Sensitivity\n",
    "\n",
    "This requires the following hardware setup:\n",
    "\n",
    "* CW-Husky, SAM4S2AA Target, CW313 board\n",
    "* 20-pin cable from front panel (UserIO) to \"JTAG\" header, OR use the mixer board (mixer board has series resistors on TDI/TDO which seemed to result in better high-frequency results)\n",
    "* 20-pin cable from ChipWhisperer connector (side panel on CW) to target board\n",
    "* No SMA cable connected\n",
    "* No HS1/HS2 jumpers (clock won't be used from the target).\n",
    "* Trigger jumper routing GPIO4 to trigger (default for CW313 / ChipWhisperer)\n",
    "\n",
    "These tests were run with the jumper mounted on HDR1, which shorts out the shunt resistor. This reduces the shunt resistor signal (but does not eliminate it fully).\n",
    "\n",
    "Decoupling capacitors C1 & C2 were mounted (100nF) on the ATSAM4S2A."
   ]
  },
  {
   "cell_type": "code",
   "execution_count": null,
   "id": "6ee03b31",
   "metadata": {},
   "outputs": [],
   "source": [
    "import numpy as np\n",
    "import chipwhisperer as cw\n",
    "import os"
   ]
  },
  {
   "cell_type": "code",
   "execution_count": null,
   "id": "46c9b541",
   "metadata": {},
   "outputs": [],
   "source": [
    "%run \"functions.ipynb\""
   ]
  },
  {
   "cell_type": "code",
   "execution_count": null,
   "id": "2756f911",
   "metadata": {},
   "outputs": [],
   "source": [
    "data_dir = \"data_store\""
   ]
  },
  {
   "cell_type": "code",
   "execution_count": null,
   "id": "f587110c",
   "metadata": {},
   "outputs": [],
   "source": [
    "def capture_ttest_jtag(N, splot=None, repeat=1, resync=True, xorinout=False):\n",
    "    \"\"\"Captures a T-Test (Modified for Logic Analyzer Block Instead)\"\"\"\n",
    "    import numpy as np\n",
    "    from tqdm.autonotebook import trange\n",
    "    ktp = cw.ktp.TVLATTest()\n",
    "    ktp.init(N)\n",
    "\n",
    "    group1 = []\n",
    "    group2 = []\n",
    "    g1_i = 0\n",
    "    g2_i = 0\n",
    "    for i in trange(2*N, desc='Capturing traces'):\n",
    "        key, text = ktp.next()  # TVLA T-Test changes PT between two options\n",
    "        \n",
    "        temp_wave = []\n",
    "        for j in range(0, repeat):\n",
    "\n",
    "            scope.LA.arm()\n",
    "\n",
    "            trace = cw.capture_trace(scope, target, text, key)\n",
    "\n",
    "\n",
    "            if trace is None:\n",
    "                print(\"Serial Error - dropped trace\")\n",
    "                continue\n",
    "\n",
    "            raw = scope.LA.read_capture_data()\n",
    "            tck = scope.LA.extract(raw, 5)\n",
    "            tdo = scope.LA.extract(raw, 3)\n",
    "            tdi = scope.LA.extract(raw, 7)\n",
    "            tms = scope.LA.extract(raw, 6)\n",
    "\n",
    "            wave = tdo\n",
    "            \n",
    "            if xorinout:\n",
    "                wave = wave ^ tdi\n",
    "            #wave = trace.wave\n",
    "\n",
    "            #Deal with phase offset issue\n",
    "            if resync:\n",
    "                if tdi[0] == 0:\n",
    "                    wave = wave[0:-1]\n",
    "                else:\n",
    "                    wave = wave[1:]\n",
    "                \n",
    "            temp_wave.append(wave)\n",
    "        \n",
    "        wave = np.mean(temp_wave, axis=0)\n",
    "            \n",
    "        if i % 25 == 0:\n",
    "            if splot:\n",
    "                splot.update(wave) # wave is the name for the data for our power trace\n",
    "            \n",
    "     \n",
    "        if trace.textin == bytearray([0xda, 0x39, 0xa3, 0xee, 0x5e, 0x6b, 0x4b, 0x0d, 0x32, 0x55, 0xbf, 0xef, 0x95, 0x60, 0x18, 0x90]):\n",
    "            group1.append(wave)\n",
    "            g1_i += 1\n",
    "        else:\n",
    "            group2.append(wave)\n",
    "            g2_i += 1\n",
    "\n",
    "    group1 = np.array(group1)\n",
    "    print(len(group1))\n",
    "    group2 = np.array(group2)\n",
    "    print(len(group2))\n",
    "    \n",
    "    return (group1, group2)"
   ]
  },
  {
   "cell_type": "markdown",
   "id": "c9e0085f",
   "metadata": {},
   "source": [
    "## ChipWhisperer Configuration (Shared)"
   ]
  },
  {
   "cell_type": "code",
   "execution_count": null,
   "id": "f3736a81",
   "metadata": {},
   "outputs": [],
   "source": [
    "# Set hardware settings\n",
    "SCOPETYPE = 'OPENADC'\n",
    "PLATFORM = 'CW308_SAM4S'\n",
    "CRYPTO_TARGET='TINYAES128C' # 'TINYAES128C' or 'MBEDTLS'\n",
    "SS_VER='SS_VER_2_1'"
   ]
  },
  {
   "cell_type": "code",
   "execution_count": null,
   "id": "50bf0a21",
   "metadata": {},
   "outputs": [],
   "source": [
    "# Connect to ChipWhisperer\n",
    "scope = cw.scope(bitstream = r\"firmwares/cwhusky_top_latriggeredwithoffset.bit\")\n",
    "target = cw.target(scope, cw.targets.SimpleSerial2)"
   ]
  },
  {
   "cell_type": "code",
   "execution_count": null,
   "id": "ba83b626",
   "metadata": {},
   "outputs": [],
   "source": [
    "scope.default_setup()"
   ]
  },
  {
   "cell_type": "code",
   "execution_count": null,
   "id": "ac05eea6",
   "metadata": {},
   "outputs": [],
   "source": []
  },
  {
   "cell_type": "code",
   "execution_count": null,
   "id": "3d9f1837",
   "metadata": {},
   "outputs": [],
   "source": [
    "def jtag_clkout(enabled):\n",
    "    if enabled:\n",
    "        data = 0x08\n",
    "    else:\n",
    "        data = 0x00\n",
    "\n",
    "    CODE_READ = 0x80\n",
    "    CODE_WRITE = 0xC0\n",
    "    scope.userio.oa.sendMessage(CODE_WRITE, \"USERIO_DEBUG_DRIVEN\", [data])\n",
    "    \n",
    "    # Can use this to check write worked\n",
    "    #scope.userio.oa.sendMessage(CODE_READ, \"USERIO_DEBUG_DRIVEN\")\n",
    "\n",
    "def jtag_glitchout(enabled):\n",
    "    if enabled:\n",
    "        data = 0x10\n",
    "    else:\n",
    "        data = 0x00\n",
    "\n",
    "    CODE_READ = 0x80\n",
    "    CODE_WRITE = 0xC0\n",
    "    scope.userio.oa.sendMessage(CODE_WRITE, \"USERIO_DEBUG_DRIVEN\", [data])\n",
    "    \n",
    "    # Can use this to check write worked\n",
    "    #scope.userio.oa.sendMessage(CODE_READ, \"USERIO_DEBUG_DRIVEN\")\n",
    "    "
   ]
  },
  {
   "cell_type": "code",
   "execution_count": null,
   "id": "be006b3e",
   "metadata": {},
   "outputs": [],
   "source": [
    "jtag_clkout(False)"
   ]
  },
  {
   "cell_type": "markdown",
   "id": "10ca23ac",
   "metadata": {},
   "source": [
    "## Build Firmware - 15 MHz Internal Clock"
   ]
  },
  {
   "cell_type": "code",
   "execution_count": null,
   "id": "90ae6bc8",
   "metadata": {},
   "outputs": [],
   "source": [
    "# program firmware onto target\n",
    "prog = cw.programmers.SAM4SProgrammer\n",
    "cw.program_target(scope, prog, \"firmwares/fw-15mhz.hex\")"
   ]
  },
  {
   "cell_type": "code",
   "execution_count": null,
   "id": "4ee7cc87",
   "metadata": {},
   "outputs": [],
   "source": [
    "import time\n",
    "scope.io.target_pwr = False\n",
    "time.sleep(0.5)\n",
    "scope.io.target_pwr = True"
   ]
  },
  {
   "cell_type": "code",
   "execution_count": null,
   "id": "c3769572",
   "metadata": {},
   "outputs": [],
   "source": [
    "# Baud is lower so it works from internal oscillator which isn't as precise\n",
    "target.baud = 38400"
   ]
  },
  {
   "cell_type": "code",
   "execution_count": null,
   "id": "72f8729e",
   "metadata": {},
   "outputs": [],
   "source": [
    "# When device is running at 2 MHz baud calculation is off - measuring actual baud shows this is correct:\n",
    "# Uncomment this when compiling for 2 MHz firmware\n",
    "#target.baud = 62750"
   ]
  },
  {
   "cell_type": "code",
   "execution_count": null,
   "id": "9fcf8270",
   "metadata": {},
   "outputs": [],
   "source": [
    "#We don't use the clock output\n",
    "scope.io.hs2 = None"
   ]
  },
  {
   "cell_type": "code",
   "execution_count": null,
   "id": "7287c5c1",
   "metadata": {},
   "outputs": [],
   "source": [
    "# We don't care about the ADC sampling rate, set this low.\n",
    "# Should actually turn off the ADC as we are way overclocking it in some cells.\n",
    "# But I think it's fine?\n",
    "scope.clock.adc_mul = 1"
   ]
  },
  {
   "cell_type": "markdown",
   "id": "319b1ef5",
   "metadata": {},
   "source": [
    "## JTAG Function Definitions\n",
    "\n",
    "It's assumed you've already seen the previous JTAG notebooks, so these will not be described here."
   ]
  },
  {
   "cell_type": "code",
   "execution_count": null,
   "id": "090b6ff3",
   "metadata": {},
   "outputs": [],
   "source": [
    "def read_tdo_status():\n",
    "    pins = scope.userio.status\n",
    "    if pins & (1<<3):\n",
    "        return True\n",
    "    else:\n",
    "        return False\n",
    "    \n",
    "def write(tms, tdi):\n",
    "    old = scope.userio.drive_data\n",
    "    old &= ~(1<<6 | 1<<7)\n",
    "    if tms:\n",
    "        old |= 1<<6\n",
    "    if tdi:\n",
    "        old |= 1<<7\n",
    "    \n",
    "    scope.userio.drive_data = old\n",
    "    scope.userio.drive_data = old | (1<<5)\n",
    "    scope.userio.drive_data = old & ~(1<<5)"
   ]
  },
  {
   "cell_type": "code",
   "execution_count": null,
   "id": "97aeb993",
   "metadata": {},
   "outputs": [],
   "source": [
    "def setup_bypass(verbose=True):\n",
    "    #Take control of TDI, TMS, TCK\n",
    "    scope.userio.direction = 0b11100000\n",
    "    \n",
    "    write(1, 1)\n",
    "    write(1, 1)\n",
    "    write(1, 1)\n",
    "    write(1, 1)\n",
    "    write(1, 1)\n",
    "\n",
    "    write(0, 1) #\n",
    "    write(1, 1)\n",
    "    write(1, 1)\n",
    "    write(0, 1)\n",
    "    write(0, 1)\n",
    "\n",
    "    #Send a bunch of 1's to force bypass mode\n",
    "    for i in range(0, 10):\n",
    "        write(0, 1)\n",
    "\n",
    "    #exit shift-IR state\n",
    "    write(1,1)\n",
    "\n",
    "    write(1, 1)\n",
    "    write(1, 1)\n",
    "    write(0, 1)\n",
    "    write(0, 1)\n",
    "\n",
    "    for i in range(0, 10):\n",
    "        write(0, 0)\n",
    "\n",
    "    tdo_result = []\n",
    "\n",
    "    for i in range(0, 10):\n",
    "        tdo_result.append(read_tdo_status())\n",
    "        if i == 0:\n",
    "            write(0, 1)\n",
    "        else:\n",
    "            write(0, 0)\n",
    "\n",
    "    if tdo_result[0:10] == [False, True, False, False, False, False, False, False, False, False]:\n",
    "        if verbose:\n",
    "            print(\"JTAG Setup successful - bypass mode enabled, saw '1' sequence successfuly\")\n",
    "        return True\n",
    "    else:\n",
    "        if verbose:\n",
    "            print(\"JTAG Setup not successful\")\n",
    "            print(tdo_result)\n",
    "        return False"
   ]
  },
  {
   "cell_type": "markdown",
   "id": "94c67a32",
   "metadata": {},
   "source": [
    "## Logic Analyzer Setup"
   ]
  },
  {
   "cell_type": "code",
   "execution_count": null,
   "id": "85fd3858",
   "metadata": {},
   "outputs": [],
   "source": [
    "help(scope.LA)\n",
    "print(scope.LA.max_capture_depth)"
   ]
  },
  {
   "cell_type": "code",
   "execution_count": null,
   "id": "459f56d0",
   "metadata": {},
   "outputs": [],
   "source": [
    "assert scope.LA.present, 'There is no logic analyzer in this FPGA bitfile!'"
   ]
  },
  {
   "cell_type": "code",
   "execution_count": null,
   "id": "4f03dbdf",
   "metadata": {},
   "outputs": [],
   "source": [
    "import time\n",
    "\n",
    "scope.LA.enabled = False\n",
    "scope.clock.clkgen_freq = 200E6\n",
    "scope.clock.reset_dcms()\n",
    "#scope.LA.enabled = True\n",
    "#scope.LA.clk_source = \"pll\"\n",
    "#scope.LA.reset_MMCM()\n",
    "#scope.clock.pll._warning_freq = 400E6\n",
    "\n",
    "scope.LA.enabled = True\n",
    "scope.LA._warning_frequency = 401e6 # prevent warning message that we're setting the sampling clock too high\n",
    "scope.LA.oversampling_factor = 1\n",
    "scope.LA.downsample = 1\n",
    "scope.LA.capture_group = 'USERIO 20-pin'\n",
    "scope.LA.trigger_source = \"capture\"\n",
    "scope.LA.capture_depth = 16376"
   ]
  },
  {
   "cell_type": "code",
   "execution_count": null,
   "id": "ee4cd667",
   "metadata": {},
   "outputs": [],
   "source": [
    "scope.clock.clkgen_freq = 50E6"
   ]
  },
  {
   "cell_type": "code",
   "execution_count": null,
   "id": "f6e2fa7f",
   "metadata": {},
   "outputs": [],
   "source": [
    "scope.LA.reset_MMCM()"
   ]
  },
  {
   "cell_type": "code",
   "execution_count": null,
   "id": "2e5a905f",
   "metadata": {},
   "outputs": [],
   "source": [
    "assert scope.LA.locked"
   ]
  },
  {
   "cell_type": "code",
   "execution_count": null,
   "id": "9d57fa57",
   "metadata": {},
   "outputs": [],
   "source": [
    "#Turn on the output clock - we won't see feedback yet as haven't turned on JTAG bypass mode\n",
    "jtag_clkout(True)\n",
    "scope.userio.direction = 0b11100000"
   ]
  },
  {
   "cell_type": "code",
   "execution_count": null,
   "id": "aa5e639b",
   "metadata": {},
   "outputs": [],
   "source": [
    "scope.LA.arm()"
   ]
  },
  {
   "cell_type": "code",
   "execution_count": null,
   "id": "e05ffd47",
   "metadata": {},
   "outputs": [],
   "source": [
    "scope.LA.trigger_now()"
   ]
  },
  {
   "cell_type": "code",
   "execution_count": null,
   "id": "1408229c",
   "metadata": {},
   "outputs": [],
   "source": [
    "scope.LA.errors"
   ]
  },
  {
   "cell_type": "markdown",
   "id": "ef810267",
   "metadata": {},
   "source": [
    "### Testing JTAG Feedthrough\n",
    "\n",
    "Watch the following says `JTAG Setup successful - bypass mode enabled, saw '1' sequence successfuly`."
   ]
  },
  {
   "cell_type": "code",
   "execution_count": null,
   "id": "89369f64",
   "metadata": {},
   "outputs": [],
   "source": [
    "jtag_clkout(False)\n",
    "setup_bypass()\n",
    "jtag_clkout(True)"
   ]
  },
  {
   "cell_type": "markdown",
   "id": "b600029a",
   "metadata": {},
   "source": [
    "Alright, now we can do a new capture:"
   ]
  },
  {
   "cell_type": "code",
   "execution_count": null,
   "id": "34529fe8",
   "metadata": {},
   "outputs": [],
   "source": [
    "assert scope.LA.locked"
   ]
  },
  {
   "cell_type": "code",
   "execution_count": null,
   "id": "b71b512a",
   "metadata": {},
   "outputs": [],
   "source": [
    "scope.LA.arm()\n",
    "scope.LA.trigger_now()\n",
    "time.sleep(0.1)"
   ]
  },
  {
   "cell_type": "code",
   "execution_count": null,
   "id": "98921172",
   "metadata": {},
   "outputs": [],
   "source": [
    "print(scope.LA.errors)\n",
    "raw = scope.LA.read_capture_data()\n",
    "tck = scope.LA.extract(raw, 5)\n",
    "tdo = scope.LA.extract(raw, 3)\n",
    "tdi = scope.LA.extract(raw, 7)\n",
    "tms = scope.LA.extract(raw, 6)"
   ]
  },
  {
   "cell_type": "code",
   "execution_count": null,
   "id": "77110c58",
   "metadata": {},
   "outputs": [],
   "source": [
    "print(tdo)\n",
    "print(tdi)"
   ]
  },
  {
   "cell_type": "markdown",
   "id": "13e19c1f",
   "metadata": {},
   "source": [
    "These should all match up - you may get a phase shift so you'll see the 1/0 offset.\n",
    "```\n",
    "[0 1 0 ... 1 0 1]\n",
    "[0 1 0 ... 1 0 1]\n",
    "```\n",
    "We can compare all of the inputs & outputs to check they are matching, either directly OR with an offset of one cycle:"
   ]
  },
  {
   "cell_type": "code",
   "execution_count": null,
   "id": "546f1643",
   "metadata": {},
   "outputs": [],
   "source": [
    "print(np.all(tdi == tdo))\n",
    "print(np.all(tdi[0:-1] == tdo[1:]))"
   ]
  },
  {
   "cell_type": "code",
   "execution_count": null,
   "id": "d2d5a4be",
   "metadata": {},
   "outputs": [],
   "source": [
    "scope.clock.pll._warning_freq = 400E6"
   ]
  },
  {
   "cell_type": "code",
   "execution_count": null,
   "id": "3aea0aed",
   "metadata": {},
   "outputs": [],
   "source": [
    "scope.LA"
   ]
  },
  {
   "cell_type": "markdown",
   "id": "487d12d1",
   "metadata": {},
   "source": [
    "### Checking Maximum TDI->TDO Frequency\n",
    "\n",
    "The following will test the TDI->TDO path and will help see how well the received data matches the expected 1/0 split."
   ]
  },
  {
   "cell_type": "code",
   "execution_count": null,
   "id": "3570348e",
   "metadata": {},
   "outputs": [],
   "source": [
    "max_freq = 300\n",
    "frequency_sweep_list = []\n",
    "try:\n",
    "    for i in range(50, max_freq, 1):\n",
    "        scope.clock.clkgen_freq = i * 1E6\n",
    "        time.sleep(0.01)\n",
    "        scope.LA.reset_MMCM()\n",
    "        time.sleep(0.01)\n",
    "        assert scope.LA.locked\n",
    "\n",
    "        scope.LA.arm()\n",
    "        scope.LA.trigger_now()\n",
    "        time.sleep(0.1)\n",
    "        raw = scope.LA.read_capture_data()\n",
    "        tdo = scope.LA.extract(raw, 3)\n",
    "        tdi = scope.LA.extract(raw, 7)\n",
    "\n",
    "        result = tdo ^ tdi\n",
    "        \n",
    "        zeros = np.sum(result == 0)\n",
    "        ones = np.sum(result == 1)\n",
    "\n",
    "        print(\"{:d} zeros, {:d} ones at {:d} MHz\".format(zeros, ones, i))\n",
    "        frequency_sweep_list.append( (zeros, ones, i)  )\n",
    "except:\n",
    "    scope.clock.clkgen_freq = 10E6\n",
    "    raise"
   ]
  },
  {
   "cell_type": "code",
   "execution_count": null,
   "id": "6cedca9d",
   "metadata": {},
   "outputs": [],
   "source": [
    "#np.save(\"jtag_frequency_sweep_april42024_withdecouplingcaps_newLAbuild_xorout.npy\", frequency_sweep_list)"
   ]
  },
  {
   "cell_type": "markdown",
   "id": "363ef417",
   "metadata": {},
   "source": [
    "Due to phase shifts you'll see various results that are \"naturally\" faulty, as the S&H times at the TCK/TDI input are being violated. Ideally we'd like to see such violations near the upper end of the sampling frequency.\n",
    "\n",
    "```\n",
    "8188 zeros, 8188 ones at 211 MHz\n",
    "8188 zeros, 8188 ones at 212 MHz\n",
    "8188 zeros, 8188 ones at 213 MHz\n",
    "8188 zeros, 8188 ones at 214 MHz\n",
    "8188 zeros, 8188 ones at 215 MHz\n",
    "8188 zeros, 8188 ones at 216 MHz\n",
    "8188 zeros, 8188 ones at 217 MHz\n",
    "8188 zeros, 8188 ones at 218 MHz\n",
    "8185 zeros, 8191 ones at 219 MHz\n",
    "8067 zeros, 8309 ones at 220 MHz\n",
    "7665 zeros, 8711 ones at 221 MHz\n",
    "7755 zeros, 8621 ones at 222 MHz\n",
    "8076 zeros, 8300 ones at 223 MHz\n",
    "8477 zeros, 7899 ones at 224 MHz\n",
    "8915 zeros, 7461 ones at 225 MHz\n",
    "9573 zeros, 6803 ones at 226 MHz\n",
    "2465 zeros, 13911 ones at 227 MHz\n",
    "0 zeros, 16376 ones at 228 MHz\n",
    "0 zeros, 16376 ones at 229 MHz\n",
    "16376 zeros, 0 ones at 230 MHz\n",
    "0 zeros, 16376 ones at 231 MHz\n",
    "0 zeros, 16376 ones at 232 MHz\n",
    "16376 zeros, 0 ones at 233 MHz\n",
    "```\n"
   ]
  },
  {
   "cell_type": "markdown",
   "id": "099dc4f2",
   "metadata": {},
   "source": [
    "## T-Testing"
   ]
  },
  {
   "cell_type": "code",
   "execution_count": null,
   "id": "397b7993",
   "metadata": {},
   "outputs": [],
   "source": [
    "jtag_clkout(True)"
   ]
  },
  {
   "cell_type": "code",
   "execution_count": null,
   "id": "24fff8e4",
   "metadata": {},
   "outputs": [],
   "source": [
    "scope.io.nrst = None"
   ]
  },
  {
   "cell_type": "code",
   "execution_count": null,
   "id": "2457e2b7",
   "metadata": {},
   "outputs": [],
   "source": [
    "scope.clock.clkgen_freq = 159E6"
   ]
  },
  {
   "cell_type": "code",
   "execution_count": null,
   "id": "acfe6f48",
   "metadata": {},
   "outputs": [],
   "source": [
    "print(scope.clock)\n",
    "print(scope.adc)\n",
    "print(scope.LA)"
   ]
  },
  {
   "cell_type": "code",
   "execution_count": null,
   "id": "2d51d142",
   "metadata": {},
   "outputs": [],
   "source": [
    "#Setting an offset here will sweep through\n",
    "#scope.adc.offset = 6500\n",
    "\n",
    "#Set to 10K offset for 180MS/s\n",
    "scope.adc.offset = 10000\n",
    "\n",
    "#Set to 10K for 158MS/s\n",
    "#scope.adc.offset = 10000\n",
    "\n",
    "#Set to 8K for 109MS/s\n",
    "#scope.adc.offset = 5000\n",
    "\n",
    "# Samples doesn't matter, but code downloads data by default, so keep this lower to avoid wasting too much time.\n",
    "# Should probably avoid downloading ADC data eventually since it's not used at all.\n",
    "scope.adc.samples = 1000"
   ]
  },
  {
   "cell_type": "code",
   "execution_count": null,
   "id": "d67331c0",
   "metadata": {},
   "outputs": [],
   "source": [
    "N = 10000\n",
    "group1, group2 = capture_ttest_jtag(N, repeat=1, resync=False, xorinout=True)"
   ]
  },
  {
   "cell_type": "markdown",
   "id": "1e64f1d2",
   "metadata": {},
   "source": [
    "**IMPORTANT**: If the above capture isn't working & you reset the device, be sure you also configure the JTAG bypass mode to be enabled again!"
   ]
  },
  {
   "cell_type": "code",
   "execution_count": null,
   "id": "a0f79823",
   "metadata": {},
   "outputs": [],
   "source": [
    "nptsave(\"jtag_offset10000_clock159E6_10k_xor_async\", group1, group2)"
   ]
  },
  {
   "cell_type": "code",
   "execution_count": null,
   "id": "ec2a3cbf",
   "metadata": {},
   "outputs": [],
   "source": []
  },
  {
   "cell_type": "code",
   "execution_count": null,
   "id": "4a1a62ce",
   "metadata": {},
   "outputs": [],
   "source": [
    "#group1, group2, N = nptload(\"jtag_offset10000_clock158E6_10k_1avg_xor_extclock\")"
   ]
  },
  {
   "cell_type": "code",
   "execution_count": null,
   "id": "c2549ce6",
   "metadata": {
    "scrolled": true
   },
   "outputs": [],
   "source": [
    "import numpy as np\n",
    "mean1 = np.mean(group1, axis=0)\n",
    "mean2 = np.mean(group2, axis=0)\n",
    "cw.plot(mean2) * cw.plot(mean1)"
   ]
  },
  {
   "cell_type": "code",
   "execution_count": null,
   "id": "8326e7f5",
   "metadata": {},
   "outputs": [],
   "source": [
    "#from scipy import signal\n",
    "#sos = signal.butter(5, 0.05, 'highpass', output='sos')\n",
    "\n",
    "#group11 = signal.sosfilt(sos, group1)\n",
    "#group12 = signal.sosfilt(sos, group2)"
   ]
  },
  {
   "cell_type": "code",
   "execution_count": null,
   "id": "4a32febb",
   "metadata": {},
   "outputs": [],
   "source": [
    "from scipy.stats import ttest_ind\n",
    "M = int(N/2)\n",
    "t1_val = ttest_ind(group1[:M], group2[:M], axis=0, equal_var=False)[0]\n",
    "t2_val = ttest_ind(group1[M:], group2[M:], axis=0, equal_var=False)[0]\n",
    "\n",
    "#t1_val = ttest_ind(group1, group2, axis=0, equal_var=False)[0]\n",
    "#t2_val = ttest_ind(group11, group22, axis=0, equal_var=False)[0]"
   ]
  },
  {
   "cell_type": "code",
   "execution_count": null,
   "id": "c34db6ef",
   "metadata": {},
   "outputs": [],
   "source": [
    "%matplotlib notebook\n",
    "plot_t(t1_val, M, \"JTAG Glitch Experiments\")\n",
    "plot_t(t2_val, M, \"JTAG Glitch Experiments\")"
   ]
  },
  {
   "cell_type": "code",
   "execution_count": null,
   "id": "c7e8f77e",
   "metadata": {},
   "outputs": [],
   "source": [
    "from scipy.stats import ttest_ind\n",
    "t_val = ttest_ind(group1, group2, axis=0, equal_var=False)[0]"
   ]
  },
  {
   "cell_type": "code",
   "execution_count": null,
   "id": "81d6e1b2",
   "metadata": {},
   "outputs": [],
   "source": [
    "import matplotlib.pylab as plt\n",
    "plt.figure()\n",
    "plot_t(t_val, N, \"JTAG Glitch Experiments\")"
   ]
  },
  {
   "cell_type": "code",
   "execution_count": null,
   "id": "c77353cd",
   "metadata": {},
   "outputs": [],
   "source": [
    "# Plotting glitches over time"
   ]
  },
  {
   "cell_type": "code",
   "execution_count": null,
   "id": "f9f21cc0",
   "metadata": {},
   "outputs": [],
   "source": [
    "%matplotlib notebook\n",
    "import matplotlib.pylab as plt\n",
    "plt.plot(np.sum(group1, axis=0))"
   ]
  },
  {
   "cell_type": "markdown",
   "id": "40c74d00",
   "metadata": {},
   "source": [
    "### SCA Results"
   ]
  },
  {
   "cell_type": "code",
   "execution_count": null,
   "id": "a7fdfeb4",
   "metadata": {},
   "outputs": [],
   "source": [
    "scope.LA"
   ]
  },
  {
   "cell_type": "code",
   "execution_count": null,
   "id": "fd3996fe",
   "metadata": {},
   "outputs": [],
   "source": [
    "scope.adc.offset = 10000"
   ]
  },
  {
   "cell_type": "code",
   "execution_count": null,
   "id": "09ed529a",
   "metadata": {},
   "outputs": [],
   "source": [
    "splot = cw.StreamPlot()\n",
    "splot.plot()"
   ]
  },
  {
   "cell_type": "code",
   "execution_count": null,
   "id": "167f0644",
   "metadata": {
    "scrolled": true
   },
   "outputs": [],
   "source": [
    "from tqdm.notebook import trange\n",
    "import numpy as np\n",
    "import time\n",
    "\n",
    "ktp = cw.ktp.Basic() # default - fixed key, random plaintext\n",
    "\n",
    "textins = []\n",
    "textouts = []\n",
    "waves = []\n",
    "keys = []\n",
    "\n",
    "N = 500000\n",
    "for i in trange(N, desc='Capturing traces'):\n",
    "    key, text = ktp.next() # new plaintext, same key\n",
    "    #ps.runBlock()\n",
    "    scope.LA.arm()\n",
    "    trace = cw.capture_trace(scope, target, text, key) # set key, send plaintext, receive ciphertext, capture power trace\n",
    "    if not trace:\n",
    "        continue\n",
    "    raw = scope.LA.read_capture_data()\n",
    "    tck = scope.LA.extract(raw, 5)\n",
    "    tdo = scope.LA.extract(raw, 3)\n",
    "    tdi = scope.LA.extract(raw, 7)\n",
    "    tms = scope.LA.extract(raw, 6)\n",
    "\n",
    "    wave = tdo\n",
    "            \n",
    "    wave = wave ^ tdi  \n",
    "    \n",
    "    #wave = trace.wave\n",
    " \n",
    "    waves.append(wave)\n",
    "    textins.append(trace.textin)\n",
    "    textouts.append(trace.textout)\n",
    "    keys.append(trace.key)\n",
    "\n",
    "    # Update our plot with a new trace\n",
    "    if i % 100 == 0:\n",
    "        splot.update(wave) # wave is the name for the data for our power trace\n",
    "        \n",
    "    if i % 10000 == 0:\n",
    "        try:\n",
    "            print(\"Attempting save at {:d}\".format(i))\n",
    "            #raise IOError(\"Change 'False' to True and run this again\")\n",
    "            save_ets(waves, textins, textouts, keys, \"d:/data_store/jtagglitch_15MHzCPU_159MHz_async_10koffsetLA_mixerjtagboard_jtaglaresults_k.ets\", overwrite=True)\n",
    "            print(\"phew\")\n",
    "        except:\n",
    "            print(\"Hmm... save failed, skipped!\")\n",
    "            pass"
   ]
  },
  {
   "cell_type": "code",
   "execution_count": null,
   "id": "6da0f881",
   "metadata": {},
   "outputs": [],
   "source": [
    "save_ets(waves, textins, textouts, keys, \"d:/data_store/jtagglitch_15MHzCPU_159MHz_async_10koffsetLA_mixerjtagboard_jtaglaresults_k.ets\", overwrite=True)"
   ]
  },
  {
   "cell_type": "code",
   "execution_count": null,
   "id": "288a628b",
   "metadata": {},
   "outputs": [],
   "source": []
  }
 ],
 "metadata": {
  "kernelspec": {
   "display_name": "Python 3 (ipykernel)",
   "language": "python",
   "name": "python3"
  },
  "language_info": {
   "codemirror_mode": {
    "name": "ipython",
    "version": 3
   },
   "file_extension": ".py",
   "mimetype": "text/x-python",
   "name": "python",
   "nbconvert_exporter": "python",
   "pygments_lexer": "ipython3",
   "version": "3.10.8"
  }
 },
 "nbformat": 4,
 "nbformat_minor": 5
}
