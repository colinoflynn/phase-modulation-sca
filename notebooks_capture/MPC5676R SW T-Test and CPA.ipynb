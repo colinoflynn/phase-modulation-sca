{
 "cells": [
  {
   "cell_type": "markdown",
   "id": "7fa89cc9",
   "metadata": {},
   "source": [
    "# Baseline SCA Measurements using Shunt Resistor on Target\n",
    "\n",
    "The following script was used to capture the baseline measurements, first for T-Test, and then for CPA.\n",
    "\n",
    "The firmware is also built in this notebook to keep a constant binary image for later comparison.\n",
    "\n",
    "Note both sync & async captures leave the clock output enabled. This could be turned off as it increases noise a bit, but to leave the closest comparison between the two I've used the same binaries."
   ]
  },
  {
   "cell_type": "code",
   "execution_count": null,
   "id": "6ee03b31",
   "metadata": {},
   "outputs": [],
   "source": [
    "import numpy as np\n",
    "import chipwhisperer as cw\n",
    "import os"
   ]
  },
  {
   "cell_type": "code",
   "execution_count": null,
   "id": "46c9b541",
   "metadata": {},
   "outputs": [],
   "source": [
    "%run \"functions.ipynb\""
   ]
  },
  {
   "cell_type": "code",
   "execution_count": null,
   "id": "2756f911",
   "metadata": {},
   "outputs": [],
   "source": [
    "data_dir = \"d:/data_store\""
   ]
  },
  {
   "cell_type": "markdown",
   "id": "c9e0085f",
   "metadata": {},
   "source": [
    "## ChipWhisperer Configuration (Shared)"
   ]
  },
  {
   "cell_type": "code",
   "execution_count": null,
   "id": "f3736a81",
   "metadata": {},
   "outputs": [],
   "source": [
    "# Set hardware settings\n",
    "SCOPETYPE = 'OPENADC'\n",
    "PLATFORM = 'CW308_SAM4S'\n",
    "CRYPTO_TARGET='TINYAES128C' # 'TINYAES128C' or 'MBEDTLS'\n",
    "SS_VER='SS_VER_1_1'"
   ]
  },
  {
   "cell_type": "code",
   "execution_count": null,
   "id": "50bf0a21",
   "metadata": {},
   "outputs": [],
   "source": [
    "scope = cw.scope(bitstream = r\"C:\\dev\\cwhusky-fpga-jtag\\fpga\\vivado\\cwhusky.runs\\impl_no_ilas\\cwhusky_top.bit\")\n",
    "target = cw.target(scope, cw.targets.SimpleSerial)\n",
    "scope.default_setup()"
   ]
  },
  {
   "cell_type": "code",
   "execution_count": null,
   "id": "dcfcf495",
   "metadata": {},
   "outputs": [],
   "source": [
    "scope.clock.clkgen_freq = 16E6\n",
    "target.baud = 38400\n",
    "scope.clock.adc_mul = 2\n",
    "scope.adc.samples = 20000\n",
    "scope.gain.mode = \"low\"\n",
    "scope.gain.gain = 45"
   ]
  },
  {
   "cell_type": "code",
   "execution_count": null,
   "id": "981c52a8",
   "metadata": {
    "scrolled": true
   },
   "outputs": [],
   "source": [
    "splot = cw.StreamPlot()\n",
    "splot.plot()"
   ]
  },
  {
   "cell_type": "code",
   "execution_count": null,
   "id": "8fbe3e72",
   "metadata": {},
   "outputs": [],
   "source": [
    " for tap in tap_cmds:\n",
    "    jtag_clkout(False)\n",
    "    bypass_tap(tap[\"ID\"], tap[\"CMD\"])\n",
    "    jtag_clkout(True)\n",
    "    print(\"testing \" + tap[\"Name\"])\n",
    "    group1, group2 = capture_ttest(10000, picoscope=False, splot=splot)\n",
    "    \n",
    "    #first = []\n",
    "    #for g in group1:\n",
    "    #    first.append(g[0])\n",
    "    #avg = np.mean(first)\n",
    "    #group1resync = []\n",
    "    #for g in group1:\n",
    "    #    if g[0] > avg:\n",
    "    #        group1resync.append(g[:-2])\n",
    "    #    else:\n",
    "    #        group1resync.append(g[2:])\n",
    "    # \n",
    "    #group2resync = []\n",
    "    #for g in group2:\n",
    "    #    if g[0] > avg:\n",
    "    #        group2resync.append(g[:-2])\n",
    "    #    else:\n",
    "    #        group2resync.append(g[2:])\n",
    "    \n",
    "    nptsave(\"jtag_16mhztdo_32msps_noresync_{:s}_10k\".format(tap[\"Name\"]), group1, group2)    "
   ]
  },
  {
   "cell_type": "code",
   "execution_count": null,
   "id": "f2e2e7e6",
   "metadata": {},
   "outputs": [],
   "source": [
    "scope.clock"
   ]
  },
  {
   "cell_type": "code",
   "execution_count": null,
   "id": "7c74f0e7",
   "metadata": {},
   "outputs": [],
   "source": []
  },
  {
   "cell_type": "code",
   "execution_count": null,
   "id": "07681bad",
   "metadata": {},
   "outputs": [],
   "source": []
  },
  {
   "cell_type": "code",
   "execution_count": null,
   "id": "5bcc8351",
   "metadata": {},
   "outputs": [],
   "source": []
  },
  {
   "cell_type": "code",
   "execution_count": null,
   "id": "cc02812e",
   "metadata": {},
   "outputs": [],
   "source": [
    " group1, group2 = capture_ttest(1000, picoscope=False, splot=splot)"
   ]
  },
  {
   "cell_type": "code",
   "execution_count": null,
   "id": "b86321bd",
   "metadata": {},
   "outputs": [],
   "source": [
    "from scipy.stats import ttest_ind\n",
    "import matplotlib.pylab as plt\n",
    "from scipy import signal\n",
    "t_val = ttest_ind(group1, group2, axis=0, equal_var=False)[0]"
   ]
  },
  {
   "cell_type": "code",
   "execution_count": null,
   "id": "5f43af9d",
   "metadata": {},
   "outputs": [],
   "source": [
    "import matplotlib.pylab as plt\n",
    "plt.figure()\n",
    "plt.plot(t_val)"
   ]
  },
  {
   "cell_type": "code",
   "execution_count": null,
   "id": "c8fb7563",
   "metadata": {},
   "outputs": [],
   "source": [
    "%matplotlib notebook\n",
    "plt.plot(np.mean(group1, axis=0))"
   ]
  },
  {
   "cell_type": "code",
   "execution_count": null,
   "id": "e784eb61",
   "metadata": {},
   "outputs": [],
   "source": []
  },
  {
   "cell_type": "code",
   "execution_count": null,
   "id": "3ff1f1e9",
   "metadata": {},
   "outputs": [],
   "source": []
  },
  {
   "cell_type": "code",
   "execution_count": null,
   "id": "ce590b91",
   "metadata": {},
   "outputs": [],
   "source": []
  },
  {
   "cell_type": "code",
   "execution_count": null,
   "id": "c03135c3",
   "metadata": {},
   "outputs": [],
   "source": []
  },
  {
   "cell_type": "code",
   "execution_count": null,
   "id": "d125c89d",
   "metadata": {},
   "outputs": [],
   "source": []
  },
  {
   "cell_type": "code",
   "execution_count": null,
   "id": "9ef7ad63",
   "metadata": {},
   "outputs": [],
   "source": []
  },
  {
   "cell_type": "code",
   "execution_count": null,
   "id": "ae0800d2",
   "metadata": {},
   "outputs": [],
   "source": [
    "def jtag_clkout(enabled):\n",
    "    if enabled:\n",
    "        data = 0x08\n",
    "    else:\n",
    "        data = 0x00\n",
    "\n",
    "    CODE_READ = 0x80\n",
    "    CODE_WRITE = 0xC0\n",
    "    scope.userio.oa.sendMessage(CODE_WRITE, \"USERIO_DEBUG_DRIVEN\", [data])\n",
    "    \n",
    "    # Can use this to check write worked\n",
    "    #scope.userio.oa.sendMessage(CODE_READ, \"USERIO_DEBUG_DRIVEN\")\n",
    "    "
   ]
  },
  {
   "cell_type": "code",
   "execution_count": null,
   "id": "a6e6d238",
   "metadata": {},
   "outputs": [],
   "source": [
    "def read_tdo_status():\n",
    "    pins = scope.userio.status\n",
    "    if pins & (1<<3):\n",
    "        return True\n",
    "    else:\n",
    "        return False\n",
    "    \n",
    "def write(tms, tdi):\n",
    "    old = scope.userio.drive_data\n",
    "    old &= ~(1<<6 | 1<<7)\n",
    "    if tms:\n",
    "        old |= 1<<6\n",
    "    if tdi:\n",
    "        old |= 1<<7\n",
    "    \n",
    "    scope.userio.drive_data = old\n",
    "    scope.userio.drive_data = old | (1<<5)\n",
    "    scope.userio.drive_data = old & ~(1<<5)"
   ]
  },
  {
   "cell_type": "code",
   "execution_count": null,
   "id": "8ee80c8e",
   "metadata": {},
   "outputs": [],
   "source": [
    "def setup_bypass(verbose=True):\n",
    "    #Take control of TDI, TMS, TCK\n",
    "    scope.userio.direction = 0b11100000\n",
    "    \n",
    "    write(1, 1)\n",
    "    write(1, 1)\n",
    "    write(1, 1)\n",
    "    write(1, 1)\n",
    "    write(1, 1)\n",
    "\n",
    "    write(0, 1) #\n",
    "    write(1, 1)\n",
    "    write(1, 1)\n",
    "    write(0, 1)\n",
    "    write(0, 1)\n",
    "\n",
    "    #Send a bunch of 1's to force bypass mode\n",
    "    for i in range(0, 10):\n",
    "        write(0, 1)\n",
    "\n",
    "    #exit shift-IR state\n",
    "    write(1,1)\n",
    "\n",
    "    write(1, 1)\n",
    "    write(1, 1)\n",
    "    write(0, 1)\n",
    "    write(0, 1)\n",
    "\n",
    "    for i in range(0, 10):\n",
    "        write(0, 0)\n",
    "\n",
    "    tdo_result = []\n",
    "\n",
    "    for i in range(0, 10):\n",
    "        tdo_result.append(read_tdo_status())\n",
    "        if i == 0:\n",
    "            write(0, 1)\n",
    "        else:\n",
    "            write(0, 0)\n",
    "\n",
    "    if tdo_result[0:10] == [False, True, False, False, False, False, False, False, False, False]:\n",
    "        if verbose:\n",
    "            print(\"JTAG Setup successful - bypass mode enabled, saw '1' sequence successfuly\")\n",
    "        return True\n",
    "    else:\n",
    "        if verbose:\n",
    "            print(\"JTAG Setup not successful\")\n",
    "            print(tdo_result)\n",
    "        return False"
   ]
  },
  {
   "cell_type": "code",
   "execution_count": null,
   "id": "dc7afa52",
   "metadata": {},
   "outputs": [],
   "source": [
    "jtag_clkout(False)\n",
    "setup_bypass()"
   ]
  },
  {
   "cell_type": "code",
   "execution_count": null,
   "id": "4f888dd8",
   "metadata": {},
   "outputs": [],
   "source": [
    "jtag_clkout(False)"
   ]
  },
  {
   "cell_type": "code",
   "execution_count": null,
   "id": "6b7cf3c0",
   "metadata": {},
   "outputs": [],
   "source": [
    "scope.clock"
   ]
  },
  {
   "cell_type": "code",
   "execution_count": null,
   "id": "860b1027",
   "metadata": {},
   "outputs": [],
   "source": []
  },
  {
   "cell_type": "code",
   "execution_count": null,
   "id": "f29e0279",
   "metadata": {},
   "outputs": [],
   "source": []
  },
  {
   "cell_type": "code",
   "execution_count": null,
   "id": "7e1dfc48",
   "metadata": {},
   "outputs": [],
   "source": [
    "| ACCESS_AUX_TAP_NPC | 10000     | Enables access to the NPC TAP controller                                         |\n",
    "| ACCESS_AUX_TAP_OnCE| 10001     | Enables access to the primary e200 OnCE TAP controller (Primary CPU, core 0)      |\n",
    "| ACCESS_AUX_TAP_eTPU| 10010     | Enables access to the eTPU Nexus TAP controller (eTPU_A, eTPU_B, CDC_AB)          |\n",
    "| ACCESS_AUX_TAP_NXDM| 10011     | Enables access to the eDMA_A Nexus TAP controller (for Data Trace)                 |\n",
    "| ACCESS_AUX_TAP_NXFR| 10100     | Enables access to the FlexRay Nexus TAP controller (for Data Trace)               |\n",
    "| ACCESS_AUX_TAP_eTPU_SECONDARY | 10110 | Enables access to a secondary set of eTPU modules (eTPU_C, eTPU_D, CDC_CD) |\n",
    "| ACCESS_AUX_TAP_NXDM_B      | 10111     | Enables access to the eDMA_B Nexus TAP controller (for Data Trace)  |\n",
    "| ACCESS_AUX_TAP_OnCE1       | 11001     | Enables access to the secondary OnCE TAP controller (core 1)        |"
   ]
  },
  {
   "cell_type": "code",
   "execution_count": null,
   "id": "9c7ab982",
   "metadata": {},
   "outputs": [],
   "source": [
    "from jtagbs import JTAGBS, JTAGCWUserIO\n",
    "interface = JTAGCWUserIO(scope)\n",
    "jtag = JTAGBS(interface)\n",
    "\n",
    "#jtag.init_scanchain()\n",
    "interface.scan_init_chain(True)\n",
    "\n",
    "print(jtag.list_devids())\n",
    "print(jtag.list_devices())"
   ]
  },
  {
   "cell_type": "code",
   "execution_count": null,
   "id": "036b42a5",
   "metadata": {},
   "outputs": [],
   "source": []
  },
  {
   "cell_type": "code",
   "execution_count": null,
   "id": "7e65fd9c",
   "metadata": {},
   "outputs": [],
   "source": [
    "def bypass_tap(tap=None, bypass_cmd = 0b11111):\n",
    "    interface.read_DR(0, pause_dr=True)\n",
    "    if tap:\n",
    "        interface.write_IR(tap, 5, True)\n",
    "    interface.write_IR(bypass_cmd, bin(bypass_cmd).count('1'), True)\n",
    "    return check_bypass()"
   ]
  },
  {
   "cell_type": "code",
   "execution_count": null,
   "id": "5c239adf",
   "metadata": {},
   "outputs": [],
   "source": [
    "def check_bypass(verbose=True):\n",
    "    \n",
    "    #write(1, 1)\n",
    "    write(1, 1)\n",
    "    write(0, 1)\n",
    "    write(0, 1)\n",
    "\n",
    "    for i in range(0, 10):\n",
    "        write(0, 0)\n",
    "\n",
    "    tdo_result = []\n",
    "\n",
    "    for i in range(0, 10):\n",
    "        tdo_result.append(read_tdo_status())\n",
    "        if i == 0:\n",
    "            write(0, 1)\n",
    "        else:\n",
    "            write(0, 0)\n",
    "    if tdo_result[0:10] == [False, True, False, False, False, False, False, False, False, False]:\n",
    "        if verbose:\n",
    "            print(\"JTAG Setup successful - bypass mode enabled, saw '1' sequence successfuly\")\n",
    "        return True\n",
    "    else:\n",
    "        if verbose:\n",
    "            print(\"JTAG Setup not successful\")\n",
    "            print(tdo_result)\n",
    "        return False"
   ]
  },
  {
   "cell_type": "code",
   "execution_count": null,
   "id": "5b04e292",
   "metadata": {},
   "outputs": [],
   "source": [
    "bypass_tap(None,   0b11111) #Main TAP\n",
    "bypass_tap(0b10000, 0b1111) #TAP_NPC, 4-bit\n",
    "bypass_tap(0b10001, 0b1111111111) #TAP_ONCE, 10-bit\n",
    "bypass_tap(0b10010, 0b1111) #TAP_eTPU, 4-bit\n",
    "bypass_tap(0b10011, 0b1111) #TAP_NXDM, 4-bit\n",
    "bypass_tap(0b10100, 0b1111) #TAP_NXFR, 4-bit\n",
    "bypass_tap(0b10110, 0b1111) #TAP_eTPU2, 4-bit\n",
    "bypass_tap(0b10111, 0b1111) #TAP_NXDM_B, 4-bit\n",
    "bypass_tap(0b11001, 0b1111111111) #TAP_ONCE_1, 10-bit"
   ]
  },
  {
   "cell_type": "code",
   "execution_count": null,
   "id": "e60e753e",
   "metadata": {},
   "outputs": [],
   "source": [
    "tap_cmds = [{\"ID\":None,    \"CMD\":0b11111, \"Name\":\"Main\"},\n",
    "            {\"ID\":0b10000, \"CMD\":0b1111, \"Name\":\"NPC\"},\n",
    "            {\"ID\":0b10001, \"CMD\":0b1111111111, \"Name\":\"ONCE\"},\n",
    "            {\"ID\":0b10010, \"CMD\":0b1111, \"Name\":\"eTPU\"},\n",
    "            {\"ID\":0b10011, \"CMD\":0b1111, \"Name\":\"NXDM\"},\n",
    "            {\"ID\":0b10100, \"CMD\":0b1111, \"Name\":\"NXFR\"},\n",
    "            {\"ID\":0b10110, \"CMD\":0b1111, \"Name\":\"eTPU2\"},\n",
    "            {\"ID\":0b10111, \"CMD\":0b1111, \"Name\":\"NXDM_B\"},\n",
    "            {\"ID\":0b11001, \"CMD\":0b1111111111, \"Name\":\"ONCE_1\"},\n",
    "            ]          "
   ]
  },
  {
   "cell_type": "code",
   "execution_count": null,
   "id": "eede4b7d",
   "metadata": {},
   "outputs": [],
   "source": []
  },
  {
   "cell_type": "code",
   "execution_count": null,
   "id": "4ac39353",
   "metadata": {},
   "outputs": [],
   "source": []
  },
  {
   "cell_type": "code",
   "execution_count": null,
   "id": "dbc6e200",
   "metadata": {},
   "outputs": [],
   "source": [
    "jtag_clkout(True)"
   ]
  },
  {
   "cell_type": "code",
   "execution_count": null,
   "id": "0445d28e",
   "metadata": {},
   "outputs": [],
   "source": [
    "import time\n",
    "\n",
    "scope.LA.enabled = True\n",
    "scope.LA.oversampling_factor = 2\n",
    "scope.LA.downsample = 1\n",
    "scope.LA.capture_group = 'USERIO 20-pin'\n",
    "scope.LA.trigger_source = \"capture\"\n",
    "scope.LA.capture_depth = 16376"
   ]
  },
  {
   "cell_type": "code",
   "execution_count": null,
   "id": "2ba3973c",
   "metadata": {},
   "outputs": [],
   "source": [
    "scope.LA.arm()"
   ]
  },
  {
   "cell_type": "code",
   "execution_count": null,
   "id": "a0ec26a1",
   "metadata": {},
   "outputs": [],
   "source": [
    "scope.LA.trigger_now()"
   ]
  },
  {
   "cell_type": "code",
   "execution_count": null,
   "id": "f561a821",
   "metadata": {},
   "outputs": [],
   "source": [
    "raw = scope.LA.read_capture_data()\n",
    "tck = scope.LA.extract(raw, 5)\n",
    "tdo = scope.LA.extract(raw, 3)\n",
    "tdi = scope.LA.extract(raw, 7)\n",
    "tms = scope.LA.extract(raw, 6)"
   ]
  },
  {
   "cell_type": "code",
   "execution_count": null,
   "id": "09fbf483",
   "metadata": {},
   "outputs": [],
   "source": [
    "from bokeh.plotting import figure, show\n",
    "from bokeh.resources import INLINE\n",
    "from bokeh.io import output_notebook\n",
    "from bokeh.models import Span, Legend, LegendItem\n",
    "import numpy as np\n",
    "output_notebook(INLINE)\n",
    "\n",
    "o = figure(plot_width=1800)\n",
    "\n",
    "xrange = range(len(tck))\n",
    "O1 = o.line(xrange, tck + 6, line_color='black')\n",
    "O2 = o.line(xrange, tdo + 4, line_color='blue')\n",
    "O3 = o.line(xrange, tdi + 2, line_color='red')\n",
    "\n",
    "legend = Legend(items=[\n",
    "    LegendItem(label='TCK', renderers=[O1]),\n",
    "    LegendItem(label='TDO', renderers=[O2]),\n",
    "    LegendItem(label='TDI', renderers=[O3]),\n",
    "])\n",
    "o.add_layout(legend)"
   ]
  },
  {
   "cell_type": "code",
   "execution_count": null,
   "id": "9c5dde41",
   "metadata": {},
   "outputs": [],
   "source": [
    "show(o)"
   ]
  },
  {
   "cell_type": "code",
   "execution_count": null,
   "id": "3dab92db",
   "metadata": {},
   "outputs": [],
   "source": [
    "np.all(tdi == tdo)"
   ]
  },
  {
   "cell_type": "code",
   "execution_count": null,
   "id": "0aaf1b0c",
   "metadata": {},
   "outputs": [],
   "source": []
  },
  {
   "cell_type": "code",
   "execution_count": null,
   "id": "576bdf65",
   "metadata": {},
   "outputs": [],
   "source": []
  },
  {
   "cell_type": "code",
   "execution_count": null,
   "id": "41f713e9",
   "metadata": {
    "scrolled": true
   },
   "outputs": [],
   "source": [
    "max_freq = []\n",
    "\n",
    "for tap in tap_cmds:\n",
    "    \n",
    "    print(\"testing \" + tap[\"Name\"])\n",
    "    max_item = {\"Name\":tap[\"Name\"], \"Max\":0}\n",
    "    \n",
    "    fails = 0\n",
    "    for i in range(10, 100):        \n",
    "        jtag_clkout(False)\n",
    "        scope.clock.clkgen_freq = i*1E6\n",
    "        time.sleep(0.05)\n",
    "        bypass_tap(tap[\"ID\"], tap[\"CMD\"])\n",
    "        jtag_clkout(True)\n",
    "\n",
    "        scope.LA.arm()\n",
    "        scope.LA.trigger_now()\n",
    "        time.sleep(0.05)\n",
    "        raw = scope.LA.read_capture_data()\n",
    "        tck = scope.LA.extract(raw, 5)\n",
    "        tdo = scope.LA.extract(raw, 3)\n",
    "        tdi = scope.LA.extract(raw, 7)\n",
    "        tms = scope.LA.extract(raw, 6)\n",
    "    \n",
    "        if (np.all(tdi == tdo)) == False and (np.all(tdi[1:] == tdo[0:-1])) == False:\n",
    "            print(\"Failed at {:d} MHz\".format(i*4))\n",
    "            print(tdo[0:10])\n",
    "            print(tdi[0:10])\n",
    "            fails += 1\n",
    "        else:\n",
    "            fails = 0\n",
    "            max_item[\"Max\"] = i*4\n",
    "        \n",
    "        if fails > 6:\n",
    "            break\n",
    "    \n",
    "    max_freq.append(max_item)"
   ]
  },
  {
   "cell_type": "code",
   "execution_count": null,
   "id": "79c7276f",
   "metadata": {},
   "outputs": [],
   "source": [
    "print(max_freq)\n",
    "np.save(\"mpc_5676r_max_freq_nobiterrors.npy\", max_freq)"
   ]
  },
  {
   "cell_type": "code",
   "execution_count": null,
   "id": "246b728a",
   "metadata": {},
   "outputs": [],
   "source": [
    "max_freq"
   ]
  },
  {
   "cell_type": "code",
   "execution_count": null,
   "id": "2653d908",
   "metadata": {},
   "outputs": [],
   "source": [
    "scope.clock.clkgen_freq = 16E6"
   ]
  },
  {
   "cell_type": "code",
   "execution_count": null,
   "id": "fcd865b6",
   "metadata": {},
   "outputs": [],
   "source": []
  },
  {
   "cell_type": "code",
   "execution_count": null,
   "id": "2796ed12",
   "metadata": {},
   "outputs": [],
   "source": [
    "scope.adc.offset = 5000\n",
    "scope.adc.samples = 10000 "
   ]
  },
  {
   "cell_type": "code",
   "execution_count": null,
   "id": "7599b2b9",
   "metadata": {},
   "outputs": [],
   "source": [
    "## For SCA setup!!\n",
    "#scope.gain.mode = \"high\"\n",
    "#scope.gain.gain = 35\n",
    "\n",
    "\n",
    "## For JTAG mixer output setup!!\n",
    "scope.gain.mode = \"low\"\n",
    "scope.gain.gain = 50"
   ]
  },
  {
   "cell_type": "code",
   "execution_count": null,
   "id": "259cb946",
   "metadata": {},
   "outputs": [],
   "source": [
    "jtag_clkout(False)\n",
    "bypass_tap(0b10011, 0b1111) #TAP_NXDM, 4-bit\n",
    "jtag_clkout(True)"
   ]
  },
  {
   "cell_type": "code",
   "execution_count": null,
   "id": "26e0ea7e",
   "metadata": {},
   "outputs": [],
   "source": [
    "splot = cw.StreamPlot()\n",
    "splot.plot()"
   ]
  },
  {
   "cell_type": "code",
   "execution_count": null,
   "id": "4dc30d14",
   "metadata": {},
   "outputs": [],
   "source": [
    "from tqdm.notebook import trange\n",
    "import numpy as np\n",
    "import time\n",
    "\n",
    "ktp = cw.ktp.Basic() # default - fixed key, random plaintext\n",
    "\n",
    "textins = []\n",
    "textouts = []\n",
    "waves = []\n",
    "keys = []\n",
    "\n",
    "N = 300000\n",
    "for i in trange(N, desc='Capturing traces'):\n",
    "    key, text = ktp.next() # new plaintext, same key\n",
    "    #ps.runBlock()\n",
    "    trace = cw.capture_trace(scope, target, text, key) # set key, send plaintext, receive ciphertext, capture power trace\n",
    "    if not trace:\n",
    "        continue\n",
    "    \n",
    "    #while ps.isReady() == False:\n",
    "    #    continue\n",
    "    \n",
    "    #wave = ps.getDataV('A')\n",
    "    \n",
    "    wave = trace.wave\n",
    " \n",
    "    waves.append(wave)\n",
    "    textins.append(trace.textin)\n",
    "    textouts.append(trace.textout)\n",
    "    keys.append(trace.key)\n",
    "\n",
    "    # Update our plot with a new trace\n",
    "    if i % 200 == 0:\n",
    "        splot.update(wave) # wave is the name for the data for our power trace\n",
    "        \n",
    "        \n",
    "    if i % 50000 == 0:\n",
    "        try:\n",
    "            print(\"Attempting save at {:d}\".format(i))\n",
    "            save_ets(waves, textins, textouts, keys, \"d:/data_store/mpc5676r_jtag_16mhz_32msps_5koffset_cpa_300k.ets\", overwrite=False)\n",
    "            print(\"phew\")\n",
    "        except:\n",
    "            print(\"Hmm... save failed, skipped!\")\n",
    "            pass"
   ]
  },
  {
   "cell_type": "code",
   "execution_count": null,
   "id": "9b2142ab",
   "metadata": {},
   "outputs": [],
   "source": [
    "save_ets(waves, textins, textouts, keys, \"d:/data_store/mpc5676r_jtag_16mhz_32msps_5koffset_cpa_300k.ets\", overwrite=False)"
   ]
  },
  {
   "cell_type": "code",
   "execution_count": null,
   "id": "f6d29164",
   "metadata": {},
   "outputs": [],
   "source": [
    "#save_ets(waves, textins, textouts, keys, \"d:/data_store/mpc5676r_jtag_etpu_16mhz_32msps_250k_cpa_10koffset.ets\", overwrite=False)\n",
    "\n",
    "\n",
    "\n",
    "#SCA Reference\n",
    "#save_ets(waves, textins, textouts, keys, \"d:/data_store/mpc5676r_sca_16mhz_32msps_5k_cpa_25k.ets\", overwrite=False)\n",
    "save_ets(waves, textins, textouts, keys, \"d:/data_store/mpc5676r_sca_jtagclockon_16mhz_32msps_21k_cpa_25k.ets\", overwrite=False)"
   ]
  },
  {
   "cell_type": "code",
   "execution_count": null,
   "id": "d7e1288c",
   "metadata": {},
   "outputs": [],
   "source": []
  },
  {
   "cell_type": "code",
   "execution_count": null,
   "id": "0f98b521",
   "metadata": {},
   "outputs": [],
   "source": []
  },
  {
   "cell_type": "code",
   "execution_count": null,
   "id": "57df09df",
   "metadata": {},
   "outputs": [],
   "source": []
  },
  {
   "cell_type": "code",
   "execution_count": null,
   "id": "b5b96234",
   "metadata": {},
   "outputs": [],
   "source": []
  },
  {
   "cell_type": "code",
   "execution_count": null,
   "id": "2c453698",
   "metadata": {},
   "outputs": [],
   "source": [
    "from tqdm.notebook import trange\n",
    "import numpy as np\n",
    "import time\n",
    "\n",
    "ktp = cw.ktp.Basic() # default - fixed key, random plaintext\n",
    "\n",
    "textins = []\n",
    "textouts = []\n",
    "waves = []\n",
    "keys = []\n",
    "\n",
    "N = 10000\n",
    "for i in trange(N, desc='Capturing traces'):\n",
    "    key, text = ktp.next() # new plaintext, same key\n",
    "    #ps.runBlock()\n",
    "    trace = cw.capture_trace(scope, target, text, key) # set key, send plaintext, receive ciphertext, capture power trace\n",
    "    if not trace:\n",
    "        continue\n",
    "    \n",
    "    #while ps.isReady() == False:\n",
    "    #    continue\n",
    "    \n",
    "    #wave = ps.getDataV('A')\n",
    "    \n",
    "    wave = trace.wave\n",
    " \n",
    "    waves.append(wave)\n",
    "    textins.append(trace.textin)\n",
    "    textouts.append(trace.textout)\n",
    "    keys.append(trace.key)\n",
    "\n",
    "    # Update our plot with a new trace\n",
    "    if i % 50 == 0:\n",
    "        splot.update(wave) # wave is the name for the data for our power trace"
   ]
  },
  {
   "cell_type": "code",
   "execution_count": null,
   "id": "762196e8",
   "metadata": {},
   "outputs": [],
   "source": [
    "save_ets(waves, textins, textouts, keys, \"d:/data_store/mpc5676r_shunt_64msps_save.ets\", overwrite=False)"
   ]
  },
  {
   "cell_type": "code",
   "execution_count": null,
   "id": "ff972106",
   "metadata": {},
   "outputs": [],
   "source": []
  }
 ],
 "metadata": {
  "kernelspec": {
   "display_name": "Python 3 (ipykernel)",
   "language": "python",
   "name": "python3"
  },
  "language_info": {
   "codemirror_mode": {
    "name": "ipython",
    "version": 3
   },
   "file_extension": ".py",
   "mimetype": "text/x-python",
   "name": "python",
   "nbconvert_exporter": "python",
   "pygments_lexer": "ipython3",
   "version": "3.10.8"
  }
 },
 "nbformat": 4,
 "nbformat_minor": 5
}
