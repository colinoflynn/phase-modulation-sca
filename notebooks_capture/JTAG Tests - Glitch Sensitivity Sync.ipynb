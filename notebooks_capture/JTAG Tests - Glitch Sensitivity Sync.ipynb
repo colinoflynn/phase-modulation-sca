{
 "cells": [
  {
   "cell_type": "markdown",
   "id": "d8b927f0",
   "metadata": {},
   "source": [
    "## JTAG Tests: Glitch Sensitivity\n",
    "\n",
    "This requires the following hardware setup:\n",
    "\n",
    "* CW-Husky, SAM4S2AA Target, CW313 board\n",
    "* 20-pin cable from front panel (UserIO) to \"JTAG\" header, OR use the mixer board (mixer board has series resistors on TDI/TDO which seemed to result in better high-frequency results)\n",
    "* 20-pin cable from ChipWhisperer connector (side panel on CW) to target board\n",
    "* No SMA cable connected\n",
    "* HS1 jumper to use clock sync\n",
    "* Trigger jumper routing GPIO4 to trigger (default for CW313 / ChipWhisperer)\n",
    "\n",
    "These tests were run with the jumper mounted on HDR1, which shorts out the shunt resistor. This reduces the shunt resistor signal (but does not eliminate it fully)."
   ]
  },
  {
   "cell_type": "code",
   "execution_count": null,
   "id": "6ee03b31",
   "metadata": {},
   "outputs": [],
   "source": [
    "import numpy as np\n",
    "import chipwhisperer as cw\n",
    "import os"
   ]
  },
  {
   "cell_type": "code",
   "execution_count": null,
   "id": "46c9b541",
   "metadata": {},
   "outputs": [],
   "source": [
    "%run \"functions.ipynb\""
   ]
  },
  {
   "cell_type": "code",
   "execution_count": null,
   "id": "2756f911",
   "metadata": {},
   "outputs": [],
   "source": [
    "data_dir = \"data_store\""
   ]
  },
  {
   "cell_type": "code",
   "execution_count": null,
   "id": "f587110c",
   "metadata": {},
   "outputs": [],
   "source": [
    "def capture_ttest_jtag(N, splot=None, repeat=1, resync=True, xorinout=False):\n",
    "    \"\"\"Captures a T-Test (Modified for Logic Analyzer Block Instead)\"\"\"\n",
    "    import numpy as np\n",
    "    from tqdm.autonotebook import trange\n",
    "    ktp = cw.ktp.TVLATTest()\n",
    "    ktp.init(N)\n",
    "\n",
    "    group1 = []\n",
    "    group2 = []\n",
    "    g1_i = 0\n",
    "    g2_i = 0\n",
    "    for i in trange(2*N, desc='Capturing traces'):\n",
    "        key, text = ktp.next()  # TVLA T-Test changes PT between two options\n",
    "        \n",
    "        temp_wave = []\n",
    "        for j in range(0, repeat):\n",
    "\n",
    "            scope.LA.arm()\n",
    "\n",
    "            trace = cw.capture_trace(scope, target, text, key)\n",
    "\n",
    "\n",
    "            if trace is None:\n",
    "                print(\"Serial Error - dropped trace\")\n",
    "                continue\n",
    "\n",
    "            raw = scope.LA.read_capture_data()\n",
    "            tck = scope.LA.extract(raw, 5)\n",
    "            tdo = scope.LA.extract(raw, 3)\n",
    "            tdi = scope.LA.extract(raw, 7)\n",
    "            tms = scope.LA.extract(raw, 6)\n",
    "\n",
    "            wave = tdo\n",
    "            \n",
    "            if xorinout:\n",
    "                wave = wave ^ tdi\n",
    "            #wave = trace.wave\n",
    "\n",
    "            #Deal with phase offset issue\n",
    "            if resync:\n",
    "                if tdi[0] == 0:\n",
    "                    wave = wave[0:-1]\n",
    "                else:\n",
    "                    wave = wave[1:]\n",
    "                \n",
    "            temp_wave.append(wave)\n",
    "        \n",
    "        wave = np.mean(temp_wave, axis=0)\n",
    "            \n",
    "        if i % 25 == 0:\n",
    "            if splot:\n",
    "                splot.update(wave) # wave is the name for the data for our power trace\n",
    "            \n",
    "     \n",
    "        if trace.textin == bytearray([0xda, 0x39, 0xa3, 0xee, 0x5e, 0x6b, 0x4b, 0x0d, 0x32, 0x55, 0xbf, 0xef, 0x95, 0x60, 0x18, 0x90]):\n",
    "            group1.append(wave)\n",
    "            g1_i += 1\n",
    "        else:\n",
    "            group2.append(wave)\n",
    "            g2_i += 1\n",
    "\n",
    "    group1 = np.array(group1)\n",
    "    print(len(group1))\n",
    "    group2 = np.array(group2)\n",
    "    print(len(group2))\n",
    "    \n",
    "    return (group1, group2)"
   ]
  },
  {
   "cell_type": "markdown",
   "id": "c9e0085f",
   "metadata": {},
   "source": [
    "## ChipWhisperer Configuration (Shared)"
   ]
  },
  {
   "cell_type": "code",
   "execution_count": null,
   "id": "f3736a81",
   "metadata": {},
   "outputs": [],
   "source": [
    "# Set hardware settings\n",
    "SCOPETYPE = 'OPENADC'\n",
    "PLATFORM = 'CW308_SAM4S'\n",
    "CRYPTO_TARGET='TINYAES128C' # 'TINYAES128C' or 'MBEDTLS'\n",
    "SS_VER='SS_VER_2_1'"
   ]
  },
  {
   "cell_type": "code",
   "execution_count": null,
   "id": "50bf0a21",
   "metadata": {},
   "outputs": [],
   "source": [
    "# Connect to ChipWhisperer\n",
    "scope = cw.scope(bitstream = r\"firmwares/cwhusky_top_latriggeredwithoffset.bit\")\n",
    "target = cw.target(scope, cw.targets.SimpleSerial2)"
   ]
  },
  {
   "cell_type": "code",
   "execution_count": null,
   "id": "ba83b626",
   "metadata": {},
   "outputs": [],
   "source": [
    "scope.default_setup()"
   ]
  },
  {
   "cell_type": "code",
   "execution_count": null,
   "id": "ac05eea6",
   "metadata": {},
   "outputs": [],
   "source": []
  },
  {
   "cell_type": "code",
   "execution_count": null,
   "id": "3d9f1837",
   "metadata": {},
   "outputs": [],
   "source": [
    "def jtag_clkout(enabled):\n",
    "    if enabled:\n",
    "        data = 0x08\n",
    "    else:\n",
    "        data = 0x00\n",
    "\n",
    "    CODE_READ = 0x80\n",
    "    CODE_WRITE = 0xC0\n",
    "    scope.userio.oa.sendMessage(CODE_WRITE, \"USERIO_DEBUG_DRIVEN\", [data])\n",
    "    \n",
    "    # Can use this to check write worked\n",
    "    #scope.userio.oa.sendMessage(CODE_READ, \"USERIO_DEBUG_DRIVEN\")\n",
    "\n",
    "def jtag_glitchout(enabled):\n",
    "    if enabled:\n",
    "        data = 0x10\n",
    "    else:\n",
    "        data = 0x00\n",
    "\n",
    "    CODE_READ = 0x80\n",
    "    CODE_WRITE = 0xC0\n",
    "    scope.userio.oa.sendMessage(CODE_WRITE, \"USERIO_DEBUG_DRIVEN\", [data])\n",
    "    \n",
    "    # Can use this to check write worked\n",
    "    #scope.userio.oa.sendMessage(CODE_READ, \"USERIO_DEBUG_DRIVEN\")\n",
    "    "
   ]
  },
  {
   "cell_type": "code",
   "execution_count": null,
   "id": "be006b3e",
   "metadata": {},
   "outputs": [],
   "source": [
    "jtag_clkout(False)"
   ]
  },
  {
   "cell_type": "markdown",
   "id": "10ca23ac",
   "metadata": {},
   "source": [
    "## Build Firmware - 15 MHz Internal Clock, External Output (7.5 MHz) for sync"
   ]
  },
  {
   "cell_type": "code",
   "execution_count": null,
   "id": "90ae6bc8",
   "metadata": {},
   "outputs": [],
   "source": [
    "# program firmware onto target\n",
    "prog = cw.programmers.SAM4SProgrammer\n",
    "cw.program_target(scope, prog, \"firmwares/fw-15mhz-clkout.hex\")"
   ]
  },
  {
   "cell_type": "code",
   "execution_count": null,
   "id": "4ee7cc87",
   "metadata": {},
   "outputs": [],
   "source": [
    "import time\n",
    "scope.io.target_pwr = False\n",
    "time.sleep(0.5)\n",
    "scope.io.target_pwr = True"
   ]
  },
  {
   "cell_type": "code",
   "execution_count": null,
   "id": "c3769572",
   "metadata": {},
   "outputs": [],
   "source": [
    "# Baud is lower so it works from internal oscillator which isn't as precise\n",
    "target.baud = 38400"
   ]
  },
  {
   "cell_type": "code",
   "execution_count": null,
   "id": "72f8729e",
   "metadata": {},
   "outputs": [],
   "source": [
    "# When device is running at 2 MHz baud calculation is off - measuring actual baud shows this is correct:\n",
    "# Uncomment this when compiling for 2 MHz firmware\n",
    "#target.baud = 62750"
   ]
  },
  {
   "cell_type": "code",
   "execution_count": null,
   "id": "9fcf8270",
   "metadata": {},
   "outputs": [],
   "source": [
    "#We don't use the clock output\n",
    "scope.io.hs2 = None"
   ]
  },
  {
   "cell_type": "code",
   "execution_count": null,
   "id": "7287c5c1",
   "metadata": {},
   "outputs": [],
   "source": [
    "# We don't care about the ADC sampling rate, set this low.\n",
    "# Should actually turn off the ADC as we are way overclocking it in some cells.\n",
    "# But I think it's fine?\n",
    "scope.clock.adc_mul = 1"
   ]
  },
  {
   "cell_type": "code",
   "execution_count": null,
   "id": "022ab93d",
   "metadata": {},
   "outputs": [],
   "source": [
    "scope.clock.clkgen_src = \"extclk\"\n",
    "scope.clock.pll.set_outfreqs(7.5E6, 221E6, 1, force_recalc=True)\n",
    "#scope.clock.pll.set_outfreqs(7.5E6, 50E6, 1, force_recalc=True)"
   ]
  },
  {
   "cell_type": "code",
   "execution_count": null,
   "id": "f98e7486",
   "metadata": {},
   "outputs": [],
   "source": []
  },
  {
   "cell_type": "code",
   "execution_count": null,
   "id": "ba63bfe3",
   "metadata": {},
   "outputs": [],
   "source": []
  },
  {
   "cell_type": "code",
   "execution_count": null,
   "id": "f5089210",
   "metadata": {},
   "outputs": [],
   "source": [
    "#scope.clock.clkgen_freq = 10E6\n",
    "#scope.clock.adc_mul = 1"
   ]
  },
  {
   "cell_type": "markdown",
   "id": "319b1ef5",
   "metadata": {},
   "source": [
    "## JTAG Function Definitions\n",
    "\n",
    "It's assumed you've already seen the previous JTAG notebooks, so these will not be described here."
   ]
  },
  {
   "cell_type": "code",
   "execution_count": null,
   "id": "2f33dd49",
   "metadata": {},
   "outputs": [],
   "source": []
  },
  {
   "cell_type": "code",
   "execution_count": null,
   "id": "090b6ff3",
   "metadata": {},
   "outputs": [],
   "source": [
    "def read_tdo_status():\n",
    "    pins = scope.userio.status\n",
    "    if pins & (1<<3):\n",
    "        return True\n",
    "    else:\n",
    "        return False\n",
    "    \n",
    "def write(tms, tdi):\n",
    "    old = scope.userio.drive_data\n",
    "    old &= ~(1<<6 | 1<<7)\n",
    "    if tms:\n",
    "        old |= 1<<6\n",
    "    if tdi:\n",
    "        old |= 1<<7\n",
    "    \n",
    "    scope.userio.drive_data = old\n",
    "    scope.userio.drive_data = old | (1<<5)\n",
    "    scope.userio.drive_data = old & ~(1<<5)"
   ]
  },
  {
   "cell_type": "code",
   "execution_count": null,
   "id": "97aeb993",
   "metadata": {},
   "outputs": [],
   "source": [
    "def setup_bypass(verbose=True):\n",
    "    #Take control of TDI, TMS, TCK\n",
    "    scope.userio.direction = 0b11100000\n",
    "    \n",
    "    write(1, 1)\n",
    "    write(1, 1)\n",
    "    write(1, 1)\n",
    "    write(1, 1)\n",
    "    write(1, 1)\n",
    "\n",
    "    write(0, 1) #\n",
    "    write(1, 1)\n",
    "    write(1, 1)\n",
    "    write(0, 1)\n",
    "    write(0, 1)\n",
    "\n",
    "    #Send a bunch of 1's to force bypass mode\n",
    "    for i in range(0, 10):\n",
    "        write(0, 1)\n",
    "\n",
    "    #exit shift-IR state\n",
    "    write(1,1)\n",
    "\n",
    "    write(1, 1)\n",
    "    write(1, 1)\n",
    "    write(0, 1)\n",
    "    write(0, 1)\n",
    "\n",
    "    for i in range(0, 10):\n",
    "        write(0, 0)\n",
    "\n",
    "    tdo_result = []\n",
    "\n",
    "    for i in range(0, 10):\n",
    "        tdo_result.append(read_tdo_status())\n",
    "        if i == 0:\n",
    "            write(0, 1)\n",
    "        else:\n",
    "            write(0, 0)\n",
    "\n",
    "    if tdo_result[0:10] == [False, True, False, False, False, False, False, False, False, False]:\n",
    "        if verbose:\n",
    "            print(\"JTAG Setup successful - bypass mode enabled, saw '1' sequence successfuly\")\n",
    "        return True\n",
    "    else:\n",
    "        if verbose:\n",
    "            print(\"JTAG Setup not successful\")\n",
    "            print(tdo_result)\n",
    "        return False"
   ]
  },
  {
   "cell_type": "markdown",
   "id": "94c67a32",
   "metadata": {},
   "source": [
    "## Logic Analyzer Setup"
   ]
  },
  {
   "cell_type": "code",
   "execution_count": null,
   "id": "85fd3858",
   "metadata": {},
   "outputs": [],
   "source": [
    "help(scope.LA)\n",
    "print(scope.LA.max_capture_depth)"
   ]
  },
  {
   "cell_type": "code",
   "execution_count": null,
   "id": "459f56d0",
   "metadata": {},
   "outputs": [],
   "source": [
    "assert scope.LA.present, 'There is no logic analyzer in this FPGA bitfile!'"
   ]
  },
  {
   "cell_type": "code",
   "execution_count": null,
   "id": "4f03dbdf",
   "metadata": {},
   "outputs": [],
   "source": [
    "import time\n",
    "\n",
    "scope.LA.enabled = False\n",
    "scope.clock.clkgen_freq = 200E6\n",
    "scope.clock.reset_dcms()\n",
    "#scope.LA.enabled = True\n",
    "#scope.LA.clk_source = \"pll\"\n",
    "#scope.LA.reset_MMCM()\n",
    "#scope.clock.pll._warning_freq = 400E6\n",
    "\n",
    "scope.LA.enabled = True\n",
    "scope.LA._warning_frequency = 401e6 # prevent warning message that we're setting the sampling clock too high\n",
    "scope.LA.oversampling_factor = 1\n",
    "scope.LA.downsample = 1\n",
    "scope.LA.capture_group = 'USERIO 20-pin'\n",
    "scope.LA.trigger_source = \"capture\"\n",
    "scope.LA.capture_depth = 16376"
   ]
  },
  {
   "cell_type": "code",
   "execution_count": null,
   "id": "b10c1944",
   "metadata": {},
   "outputs": [],
   "source": [
    "scope.LA.oversampling_factor = 1\n",
    "scope.LA.downsample = 1\n",
    "scope.LA.capture_group = 'USERIO 20-pin'\n",
    "scope.LA.trigger_source =  \"capture\"\n",
    "scope.LA.capture_depth = 16376\n",
    "\n",
    "max_freq = 0\n",
    "for i in range(25, 400, 5):\n",
    "    scope.clock.clkgen_freq = i * 1E6\n",
    "    scope.clock.reset_dcms()\n",
    "    #scope.clock.recal_pll()\n",
    "    #scope.clock.reset_dcms()\n",
    "    time.sleep(0.05)\n",
    "    scope.LA.reset_MMCM()\n",
    "    time.sleep(0.05)\n",
    "    if scope.LA.locked == False:\n",
    "        max_freq = i\n",
    "        print(\"Logic Analyzer failed at {:d} MHz\".format(i))\n",
    "        break\n",
    "scope.clock.clkgen_freq = 20E6"
   ]
  },
  {
   "cell_type": "markdown",
   "id": "39f4608e",
   "metadata": {},
   "source": [
    "### Testing Capture & Plotting"
   ]
  },
  {
   "cell_type": "code",
   "execution_count": null,
   "id": "ee4cd667",
   "metadata": {},
   "outputs": [],
   "source": [
    "scope.clock.clkgen_freq = 50E6"
   ]
  },
  {
   "cell_type": "code",
   "execution_count": null,
   "id": "f6e2fa7f",
   "metadata": {},
   "outputs": [],
   "source": [
    "scope.LA.reset_MMCM()"
   ]
  },
  {
   "cell_type": "code",
   "execution_count": null,
   "id": "2e5a905f",
   "metadata": {},
   "outputs": [],
   "source": [
    "assert scope.LA.locked"
   ]
  },
  {
   "cell_type": "code",
   "execution_count": null,
   "id": "9d57fa57",
   "metadata": {},
   "outputs": [],
   "source": [
    "#Turn on the output clock - we won't see feedback yet as haven't turned on JTAG bypass mode\n",
    "jtag_clkout(True)\n",
    "scope.userio.direction = 0b11100000"
   ]
  },
  {
   "cell_type": "code",
   "execution_count": null,
   "id": "aa5e639b",
   "metadata": {},
   "outputs": [],
   "source": [
    "scope.LA.arm()"
   ]
  },
  {
   "cell_type": "code",
   "execution_count": null,
   "id": "e05ffd47",
   "metadata": {},
   "outputs": [],
   "source": [
    "scope.LA.trigger_now()"
   ]
  },
  {
   "cell_type": "code",
   "execution_count": null,
   "id": "1408229c",
   "metadata": {},
   "outputs": [],
   "source": [
    "scope.LA.errors"
   ]
  },
  {
   "cell_type": "markdown",
   "id": "a589b0cd",
   "metadata": {},
   "source": [
    "On the standard JTAG pinout, we have:\n",
    "\n",
    "* d[2] = nrst\n",
    "* d[3] = tdo\n",
    "* d[4] = rclk\n",
    "* d[5] = tck\n",
    "* d[6] = tms\n",
    "* d[7] = tdi"
   ]
  },
  {
   "cell_type": "code",
   "execution_count": null,
   "id": "dc74f2c2",
   "metadata": {},
   "outputs": [],
   "source": [
    "raw = scope.LA.read_capture_data()\n",
    "tck = scope.LA.extract(raw, 5)\n",
    "tdo = scope.LA.extract(raw, 3)\n",
    "tdi = scope.LA.extract(raw, 7)\n",
    "tms = scope.LA.extract(raw, 6)"
   ]
  },
  {
   "cell_type": "code",
   "execution_count": null,
   "id": "397c8752",
   "metadata": {},
   "outputs": [],
   "source": [
    "from bokeh.plotting import figure, show\n",
    "from bokeh.resources import INLINE\n",
    "from bokeh.io import output_notebook\n",
    "from bokeh.models import Span, Legend, LegendItem\n",
    "import numpy as np\n",
    "output_notebook(INLINE)\n",
    "\n",
    "o = figure(plot_width=1800)\n",
    "\n",
    "xrange = range(len(tck))\n",
    "O1 = o.line(xrange, tck + 6, line_color='black')\n",
    "O2 = o.line(xrange, tdo + 4, line_color='blue')\n",
    "O3 = o.line(xrange, tdi + 2, line_color='red')\n",
    "\n",
    "legend = Legend(items=[\n",
    "    LegendItem(label='TCK', renderers=[O1]),\n",
    "    LegendItem(label='TDO', renderers=[O2]),\n",
    "    LegendItem(label='TDI', renderers=[O3]),\n",
    "])\n",
    "o.add_layout(legend)"
   ]
  },
  {
   "cell_type": "code",
   "execution_count": null,
   "id": "a26bed08",
   "metadata": {},
   "outputs": [],
   "source": [
    "show(o)"
   ]
  },
  {
   "cell_type": "code",
   "execution_count": null,
   "id": "194ecaae",
   "metadata": {},
   "outputs": [],
   "source": [
    "from bokeh.plotting import figure, show\n",
    "from bokeh.resources import INLINE\n",
    "from bokeh.io import output_notebook\n",
    "from bokeh.models import Span, Legend, LegendItem\n",
    "import numpy as np\n",
    "output_notebook(INLINE)\n",
    "\n",
    "o = figure(plot_width=600)\n",
    "\n",
    "xrange = range(25)\n",
    "O3 = o.line(xrange, tdi[0:25] + 2, line_color='red')\n",
    "\n",
    "legend = Legend(items=[\n",
    "    LegendItem(label='TDI', renderers=[O3]),\n",
    "])\n",
    "o.add_layout(legend)"
   ]
  },
  {
   "cell_type": "code",
   "execution_count": null,
   "id": "7ea325af",
   "metadata": {},
   "outputs": [],
   "source": [
    "show(o)"
   ]
  },
  {
   "cell_type": "code",
   "execution_count": null,
   "id": "ec74a13c",
   "metadata": {},
   "outputs": [],
   "source": [
    "tdi[0:25]"
   ]
  },
  {
   "cell_type": "markdown",
   "id": "8b9353df",
   "metadata": {},
   "source": [
    "What you expect from the above is that TDI (input to the device) is seen oscillating between 1 & 0. The sampling is done on the TCK clock so we won't see anything interesting on that line (will show as always high).\n",
    "\n",
    "![](docs/jtag_tdo_10mhz.png)\n",
    "\n",
    "The TDI output will look like this:\n",
    "`array([0, 1, 0, 1, 0, 1, 0, 1, 0, 1, 0, 1, 0, 1, 0, 1, 0, 1, 0, 1, 0, 1, 0, 1, 0])`\n",
    "\n",
    "With that working, let's turn on the TDI->TDO path and figure out how close to the sun we can fly."
   ]
  },
  {
   "cell_type": "markdown",
   "id": "ef810267",
   "metadata": {},
   "source": [
    "### Testing JTAG Feedthrough\n",
    "\n",
    "Watch the following says `JTAG Setup successful - bypass mode enabled, saw '1' sequence successfuly`."
   ]
  },
  {
   "cell_type": "code",
   "execution_count": null,
   "id": "89369f64",
   "metadata": {},
   "outputs": [],
   "source": [
    "jtag_clkout(False)\n",
    "setup_bypass()\n",
    "jtag_clkout(True)"
   ]
  },
  {
   "cell_type": "markdown",
   "id": "b600029a",
   "metadata": {},
   "source": [
    "Alright, now we can do a new capture:"
   ]
  },
  {
   "cell_type": "code",
   "execution_count": null,
   "id": "34529fe8",
   "metadata": {},
   "outputs": [],
   "source": [
    "assert scope.LA.locked"
   ]
  },
  {
   "cell_type": "code",
   "execution_count": null,
   "id": "b71b512a",
   "metadata": {},
   "outputs": [],
   "source": [
    "scope.LA.arm()\n",
    "scope.LA.trigger_now()\n",
    "time.sleep(0.1)"
   ]
  },
  {
   "cell_type": "code",
   "execution_count": null,
   "id": "98921172",
   "metadata": {},
   "outputs": [],
   "source": [
    "print(scope.LA.errors)\n",
    "raw = scope.LA.read_capture_data()\n",
    "tck = scope.LA.extract(raw, 5)\n",
    "tdo = scope.LA.extract(raw, 3)\n",
    "tdi = scope.LA.extract(raw, 7)\n",
    "tms = scope.LA.extract(raw, 6)"
   ]
  },
  {
   "cell_type": "code",
   "execution_count": null,
   "id": "77110c58",
   "metadata": {},
   "outputs": [],
   "source": [
    "print(tdo)\n",
    "print(tdi)"
   ]
  },
  {
   "cell_type": "markdown",
   "id": "13e19c1f",
   "metadata": {},
   "source": [
    "These should all match up - you may get a phase shift so you'll see the 1/0 offset.\n",
    "```\n",
    "[0 1 0 ... 1 0 1]\n",
    "[0 1 0 ... 1 0 1]\n",
    "```\n",
    "We can compare all of the inputs & outputs to check they are matching, either directly OR with an offset of one cycle:"
   ]
  },
  {
   "cell_type": "code",
   "execution_count": null,
   "id": "546f1643",
   "metadata": {},
   "outputs": [],
   "source": [
    "print(np.all(tdi == tdo))\n",
    "print(np.all(tdi[0:-1] == tdo[1:]))"
   ]
  },
  {
   "cell_type": "code",
   "execution_count": null,
   "id": "d2d5a4be",
   "metadata": {},
   "outputs": [],
   "source": [
    "scope.clock.pll._warning_freq = 400E6"
   ]
  },
  {
   "cell_type": "code",
   "execution_count": null,
   "id": "3aea0aed",
   "metadata": {},
   "outputs": [],
   "source": [
    "scope.LA"
   ]
  },
  {
   "cell_type": "markdown",
   "id": "44df3d9b",
   "metadata": {},
   "source": [
    "### Checking Maximum LA Lock Frequency"
   ]
  },
  {
   "cell_type": "code",
   "execution_count": null,
   "id": "90f8cd21",
   "metadata": {},
   "outputs": [],
   "source": [
    "import time\n",
    "\n",
    "max_freq = 300\n",
    "for i in range(25, 400, 5):\n",
    "    scope.clock.clkgen_freq = i * 1E6\n",
    "    scope.clock.reset_dcms()\n",
    "    time.sleep(0.05)\n",
    "    scope.LA.reset_MMCM()\n",
    "    time.sleep(0.05)\n",
    "    if scope.LA.locked == False:\n",
    "        max_freq = i\n",
    "        print(\"Logic Analyzer failed at {:d} MHz\".format(i))\n",
    "        #break\n",
    "\n",
    "#Keep it cool!\n",
    "scope.clock.clkgen_freq = 10E6"
   ]
  },
  {
   "cell_type": "markdown",
   "id": "f8900f09",
   "metadata": {},
   "source": [
    "This is the maximum frequency the logic analyzer worked up to. This will vary per unit, with FPGA build, and with temperature. Going beyond the value determined above will just be useless, as you won't see the values on our scope. You can check the unit temperature with:"
   ]
  },
  {
   "cell_type": "code",
   "execution_count": null,
   "id": "305e9508",
   "metadata": {},
   "outputs": [],
   "source": [
    "scope.XADC"
   ]
  },
  {
   "cell_type": "markdown",
   "id": "487d12d1",
   "metadata": {},
   "source": [
    "### Checking Maximum TDI->TDO Frequency\n",
    "\n",
    "The following will test the TDI->TDO path and will help see how well the received data matches the expected 1/0 split."
   ]
  },
  {
   "cell_type": "code",
   "execution_count": null,
   "id": "3570348e",
   "metadata": {},
   "outputs": [],
   "source": [
    "max_freq = 300\n",
    "frequency_sweep_list = []\n",
    "try:\n",
    "    for i in range(50, max_freq, 1):\n",
    "        scope.clock.clkgen_freq = i * 1E6\n",
    "        time.sleep(0.01)\n",
    "        scope.LA.reset_MMCM()\n",
    "        time.sleep(0.01)\n",
    "        assert scope.LA.locked\n",
    "\n",
    "        scope.LA.arm()\n",
    "        scope.LA.trigger_now()\n",
    "        time.sleep(0.1)\n",
    "        raw = scope.LA.read_capture_data()\n",
    "        tdo = scope.LA.extract(raw, 3)\n",
    "        tdi = scope.LA.extract(raw, 7)\n",
    "\n",
    "        result = tdo ^ tdi\n",
    "        \n",
    "        zeros = np.sum(result == 0)\n",
    "        ones = np.sum(result == 1)\n",
    "\n",
    "        print(\"{:d} zeros, {:d} ones at {:d} MHz\".format(zeros, ones, i))\n",
    "        frequency_sweep_list.append( (zeros, ones, i)  )\n",
    "except:\n",
    "    scope.clock.clkgen_freq = 10E6\n",
    "    raise"
   ]
  },
  {
   "cell_type": "code",
   "execution_count": null,
   "id": "6cedca9d",
   "metadata": {},
   "outputs": [],
   "source": [
    "np.save(\"jtag_frequency_sweep_april42024_withdecouplingcaps_newLAbuild_xorout.npy\", frequency_sweep_list)"
   ]
  },
  {
   "cell_type": "markdown",
   "id": "363ef417",
   "metadata": {},
   "source": [
    "Due to phase shifts you'll see various results that are \"naturally\" faulty, as the S&H times at the TCK/TDI input are being violated. Ideally we'd like to see such violations near the upper end of the sampling frequency.\n",
    "\n",
    "```\n",
    "8188 zeros, 8188 ones at 211 MHz\n",
    "8188 zeros, 8188 ones at 212 MHz\n",
    "8188 zeros, 8188 ones at 213 MHz\n",
    "8188 zeros, 8188 ones at 214 MHz\n",
    "8188 zeros, 8188 ones at 215 MHz\n",
    "8188 zeros, 8188 ones at 216 MHz\n",
    "8188 zeros, 8188 ones at 217 MHz\n",
    "8188 zeros, 8188 ones at 218 MHz\n",
    "8185 zeros, 8191 ones at 219 MHz\n",
    "8067 zeros, 8309 ones at 220 MHz\n",
    "7665 zeros, 8711 ones at 221 MHz\n",
    "7755 zeros, 8621 ones at 222 MHz\n",
    "8076 zeros, 8300 ones at 223 MHz\n",
    "8477 zeros, 7899 ones at 224 MHz\n",
    "8915 zeros, 7461 ones at 225 MHz\n",
    "9573 zeros, 6803 ones at 226 MHz\n",
    "2465 zeros, 13911 ones at 227 MHz\n",
    "0 zeros, 16376 ones at 228 MHz\n",
    "0 zeros, 16376 ones at 229 MHz\n",
    "16376 zeros, 0 ones at 230 MHz\n",
    "0 zeros, 16376 ones at 231 MHz\n",
    "0 zeros, 16376 ones at 232 MHz\n",
    "16376 zeros, 0 ones at 233 MHz\n",
    "```\n"
   ]
  },
  {
   "cell_type": "code",
   "execution_count": null,
   "id": "7c2d0c59",
   "metadata": {},
   "outputs": [],
   "source": [
    "# If you'd like to load an existing list, just run this:\n",
    "frequency_sweep_list = np.load(\"jtag_frequency_sweep.npy\")"
   ]
  },
  {
   "cell_type": "markdown",
   "id": "099dc4f2",
   "metadata": {},
   "source": [
    "## T-Testing"
   ]
  },
  {
   "cell_type": "code",
   "execution_count": null,
   "id": "397b7993",
   "metadata": {},
   "outputs": [],
   "source": [
    "jtag_clkout(True)"
   ]
  },
  {
   "cell_type": "code",
   "execution_count": null,
   "id": "2457e2b7",
   "metadata": {},
   "outputs": [],
   "source": [
    "scope.clock.pll.set_outfreqs(7.5E6, 159E6, 1, force_recalc=True)\n",
    "#scope.LA.reset_MMCM()"
   ]
  },
  {
   "cell_type": "code",
   "execution_count": null,
   "id": "acfe6f48",
   "metadata": {},
   "outputs": [],
   "source": [
    "print(scope.clock)\n",
    "print(scope.adc)\n",
    "print(scope.LA)"
   ]
  },
  {
   "cell_type": "code",
   "execution_count": null,
   "id": "2d51d142",
   "metadata": {},
   "outputs": [],
   "source": [
    "#Setting an offset here will sweep through\n",
    "#scope.adc.offset = 6500\n",
    "\n",
    "#Set to 10K offset for 180MS/s\n",
    "scope.adc.offset = 10000\n",
    "\n",
    "#Set to 10K for 158MS/s\n",
    "#scope.adc.offset = 10000\n",
    "\n",
    "#Set to 8K for 109MS/s\n",
    "#scope.adc.offset = 5000\n",
    "\n",
    "# Samples doesn't matter, but code downloads data by default, so keep this lower to avoid wasting too much time.\n",
    "# Should probably avoid downloading ADC data eventually since it's not used at all.\n",
    "scope.adc.samples = 1000"
   ]
  },
  {
   "cell_type": "code",
   "execution_count": null,
   "id": "a19fcd79",
   "metadata": {},
   "outputs": [],
   "source": [
    "scope.clock.extclk_error = False"
   ]
  },
  {
   "cell_type": "code",
   "execution_count": null,
   "id": "d67331c0",
   "metadata": {},
   "outputs": [],
   "source": [
    "N = 10000\n",
    "group1, group2 = capture_ttest_jtag(N, repeat=1, resync=False, xorinout=True)"
   ]
  },
  {
   "cell_type": "markdown",
   "id": "1e64f1d2",
   "metadata": {},
   "source": [
    "**IMPORTANT**: If the above capture isn't working & you reset the device, be sure you also configure the JTAG bypass mode to be enabled again!"
   ]
  },
  {
   "cell_type": "code",
   "execution_count": null,
   "id": "a0f79823",
   "metadata": {},
   "outputs": [],
   "source": [
    "#nptsave(\"jtag_offset0_clock221E6_10k\", group1, group2)\n",
    "#nptsave(\"jtag_offset15k_clock221E6_10k\", group1, group2)\n",
    "#nptsave(\"jtag_offset30k_clock221E6_10k\", group1, group2)\n",
    "#nptsave(\"jtag_offset6500_clock221E6_10_25avgpertrace\", group1, group2)\n",
    "\n",
    "\n",
    "#nptsave(\"jtag_offset6500_clock221E6_100_25avgpertrace\", group1, group2)\n",
    "#nptsave(\"jtag_offset6500_clock221E6_2500_1avgpertrace\", group1, group2)\n",
    "\n",
    "\n",
    "#The following resulted in interesting results, but didn't align?\n",
    "#nptsave(\"jtag_offset6500_clock221E6_2500_1avgpertrace_run2\", group11, group12)\n",
    "#nptsave(\"jtag_offset6500_clock221E6_2500_1avgpertrace_run2\", group11, group12)\n",
    "\n",
    "#The following had results near point 11xxxx\n",
    "#nptsave(\"jtag_offset6500_clock221E6_10k_avg_noresync_extclock\", group1, group2)\n",
    "#nptsave(\"jtag_offset6500_clock221E6_10k_avg_resync_extclock\", group1, group2)\n",
    "\n",
    "#nptsave(\"jtag_offset6500_clock221E6_200k_1avg_xor_extclock\", group1, group2)\n",
    "\n",
    "#April 3, 2024:\n",
    "#nptsave(\"jtag_offset10000_clock158E6_10k_1avg_xor_extclock\", group1, group2)\n",
    "#nptsave(\"jtag_offset12000_clock178E6_10k_1avg_xor_extclock\", group1, group2)\n",
    "#nptsave(\"jtag_offset10000_clock186E6_10k_xor_extclock\", group1, group2)\n",
    "#nptsave(\"jtag_offset10000_clock159E6_10k_xor_extclock\", group1, group2)\n",
    "\n",
    "\n",
    "#April 5, 2024\n",
    "#nptsave(\"jtag_offset10000_clock159E6_10k_xor_extclock_new\", group1, group2)"
   ]
  },
  {
   "cell_type": "code",
   "execution_count": null,
   "id": "ec2a3cbf",
   "metadata": {},
   "outputs": [],
   "source": []
  },
  {
   "cell_type": "code",
   "execution_count": null,
   "id": "4a1a62ce",
   "metadata": {},
   "outputs": [],
   "source": [
    "#group1, group2, N = nptload(\"jtag_offset10000_clock158E6_10k_1avg_xor_extclock\")"
   ]
  },
  {
   "cell_type": "code",
   "execution_count": null,
   "id": "c2549ce6",
   "metadata": {},
   "outputs": [],
   "source": [
    "import numpy as np\n",
    "mean1 = np.mean(group1, axis=0)\n",
    "mean2 = np.mean(group2, axis=0)\n",
    "cw.plot(mean2) * cw.plot(mean1)"
   ]
  },
  {
   "cell_type": "code",
   "execution_count": null,
   "id": "8326e7f5",
   "metadata": {},
   "outputs": [],
   "source": [
    "#from scipy import signal\n",
    "#sos = signal.butter(5, 0.05, 'highpass', output='sos')\n",
    "\n",
    "#group11 = signal.sosfilt(sos, group1)\n",
    "#group12 = signal.sosfilt(sos, group2)"
   ]
  },
  {
   "cell_type": "code",
   "execution_count": null,
   "id": "4a32febb",
   "metadata": {},
   "outputs": [],
   "source": [
    "from scipy.stats import ttest_ind\n",
    "M = int(N/2)\n",
    "t1_val = ttest_ind(group1[:M], group2[:M], axis=0, equal_var=False)[0]\n",
    "t2_val = ttest_ind(group1[M:], group2[M:], axis=0, equal_var=False)[0]\n",
    "\n",
    "#t1_val = ttest_ind(group1, group2, axis=0, equal_var=False)[0]\n",
    "#t2_val = ttest_ind(group11, group22, axis=0, equal_var=False)[0]"
   ]
  },
  {
   "cell_type": "code",
   "execution_count": null,
   "id": "c34db6ef",
   "metadata": {},
   "outputs": [],
   "source": [
    "%matplotlib notebook\n",
    "plot_t(t1_val, M, \"JTAG Glitch Experiments\")\n",
    "plot_t(t2_val, M, \"JTAG Glitch Experiments\")"
   ]
  },
  {
   "cell_type": "code",
   "execution_count": null,
   "id": "c7e8f77e",
   "metadata": {},
   "outputs": [],
   "source": [
    "from scipy.stats import ttest_ind\n",
    "t_val = ttest_ind(group1, group2, axis=0, equal_var=False)[0]"
   ]
  },
  {
   "cell_type": "code",
   "execution_count": null,
   "id": "81d6e1b2",
   "metadata": {},
   "outputs": [],
   "source": [
    "plt.figure()\n",
    "plot_t(t_val, N, \"JTAG Glitch Experiments\")"
   ]
  },
  {
   "cell_type": "code",
   "execution_count": null,
   "id": "c77353cd",
   "metadata": {},
   "outputs": [],
   "source": [
    "# Plotting glitches over time"
   ]
  },
  {
   "cell_type": "code",
   "execution_count": null,
   "id": "f9f21cc0",
   "metadata": {},
   "outputs": [],
   "source": [
    "%matplotlib notebook\n",
    "import matplotlib.pylab as plt\n",
    "plt.plot(np.sum(group1, axis=0))"
   ]
  },
  {
   "cell_type": "code",
   "execution_count": null,
   "id": "c5375dc7",
   "metadata": {},
   "outputs": [],
   "source": [
    "scope.clock.pll.set_outfreqs(7.5E6, 159E6, 1, force_recalc=True)"
   ]
  },
  {
   "cell_type": "markdown",
   "id": "db3748ca",
   "metadata": {},
   "source": [
    "### Additional JTAG Speed Tests"
   ]
  },
  {
   "cell_type": "code",
   "execution_count": null,
   "id": "896e90d3",
   "metadata": {},
   "outputs": [],
   "source": [
    "for i in range(1490, 1520, 5):\n",
    "    scope.clock.pll.set_outfreqs(7.5E6, i * 1E5, 1, force_recalc=True)\n",
    "    time.sleep(0.1)\n",
    "    scope.LA.reset_MMCM()\n",
    "    time.sleep(0.5)\n",
    "    #assert scope.LA.locked\n",
    "    \n",
    "    scope.io.nrst = False\n",
    "    time.sleep(0.1)\n",
    "    scope.io.nrst = None\n",
    "    time.sleep(0.1)\n",
    "    print(target.read())\n",
    "    \n",
    "    print(\"*** Attempting {:d}\".format(i))\n",
    "    \n",
    "    try:\n",
    "        capture_ttest_jtag(1, repeat=1, resync=False, xorinout=True)   \n",
    "        print(\">>> Worked @ {:d}\".format(i))\n",
    "        break\n",
    "    except:\n",
    "        pass\n",
    "    \n",
    "    try:\n",
    "        capture_ttest_jtag(1, repeat=1, resync=False, xorinout=True)   \n",
    "        print(\">>> Worked @ {:d}\".format(i))\n",
    "        break\n",
    "    except:\n",
    "        pass\n",
    "   \n",
    "    scope.io.nrst = False\n",
    "    time.sleep(0.1)\n",
    "    scope.io.nrst = None\n",
    "    time.sleep(0.1)\n",
    "    print(target.read())\n",
    "\n",
    "    try:\n",
    "        capture_ttest_jtag(4, repeat=1, resync=False, xorinout=True)   \n",
    "        print(\">>> Worked @ {:d}\".format(i))\n",
    "        break\n",
    "    except:\n",
    "        pass\n",
    "        \n",
    "scope.io.nrst = None"
   ]
  },
  {
   "cell_type": "markdown",
   "id": "99958402",
   "metadata": {},
   "source": [
    "### CPA Capture"
   ]
  },
  {
   "cell_type": "code",
   "execution_count": null,
   "id": "a7fdfeb4",
   "metadata": {},
   "outputs": [],
   "source": [
    "scope.LA"
   ]
  },
  {
   "cell_type": "code",
   "execution_count": null,
   "id": "09ed529a",
   "metadata": {},
   "outputs": [],
   "source": [
    "splot = cw.StreamPlot()\n",
    "splot.plot()"
   ]
  },
  {
   "cell_type": "code",
   "execution_count": null,
   "id": "167f0644",
   "metadata": {},
   "outputs": [],
   "source": [
    "from tqdm.notebook import trange\n",
    "import numpy as np\n",
    "import time\n",
    "\n",
    "ktp = cw.ktp.Basic() # default - fixed key, random plaintext\n",
    "\n",
    "textins = []\n",
    "textouts = []\n",
    "waves = []\n",
    "keys = []\n",
    "\n",
    "N = 500000\n",
    "for i in trange(N, desc='Capturing traces'):\n",
    "    key, text = ktp.next() # new plaintext, same key\n",
    "    #ps.runBlock()\n",
    "    scope.LA.arm()\n",
    "    trace = cw.capture_trace(scope, target, text, key) # set key, send plaintext, receive ciphertext, capture power trace\n",
    "    if not trace:\n",
    "        continue\n",
    "    raw = scope.LA.read_capture_data()\n",
    "    tck = scope.LA.extract(raw, 5)\n",
    "    tdo = scope.LA.extract(raw, 3)\n",
    "    tdi = scope.LA.extract(raw, 7)\n",
    "    tms = scope.LA.extract(raw, 6)\n",
    "\n",
    "    wave = tdo\n",
    "            \n",
    "    wave = wave ^ tdi  \n",
    "    \n",
    "    #wave = trace.wave\n",
    " \n",
    "    waves.append(wave)\n",
    "    textins.append(trace.textin)\n",
    "    textouts.append(trace.textout)\n",
    "    keys.append(trace.key)\n",
    "\n",
    "    # Update our plot with a new trace\n",
    "    if i % 100 == 0:\n",
    "        splot.update(wave) # wave is the name for the data for our power trace\n",
    "        \n",
    "    if i % 10000 == 0:\n",
    "        try:\n",
    "            print(\"Attempting save at {:d}\".format(i))\n",
    "            #raise IOError(\"Change 'False' to True and run this again\")\n",
    "            save_ets(waves, textins, textouts, keys, \"d:/data_store/jtagglitch_15MHzCPU_159MHz_10koffsetLA_mixerjtagboard_jtaglaresults_k.ets\", overwrite=False)\n",
    "            print(\"phew\")\n",
    "        except:\n",
    "            print(\"Hmm... save failed, skipped!\")\n",
    "            pass"
   ]
  },
  {
   "cell_type": "code",
   "execution_count": null,
   "id": "c97bca1b",
   "metadata": {},
   "outputs": [],
   "source": [
    "wave"
   ]
  },
  {
   "cell_type": "code",
   "execution_count": null,
   "id": "6da0f881",
   "metadata": {},
   "outputs": [],
   "source": [
    "save_ets(waves, textins, textouts, keys, \"d:/data_store/jtagglitch_15MHzCPU_159MHz_10koffsetLA_mixerjtagboard_jtaglaresults_60k.ets\", overwrite=True)"
   ]
  },
  {
   "cell_type": "markdown",
   "id": "b364b2aa",
   "metadata": {},
   "source": [
    "### Shunt Resistor SCA Comparison\n",
    "\n",
    "We'll use the same sampling frequency as above to do a shunt resistor measurement. Add a SMA cable between the shunt output and the ChipWhisperer Husky input.\n",
    "\n",
    "We'll turn OFF the JTAG clock while doing this test to reduce the noise. If you want a better comparison (better in terms of will more accurately match what is recorded above), be sure `jtag_clkout(True)` is set instead."
   ]
  },
  {
   "cell_type": "code",
   "execution_count": null,
   "id": "5ad01d6b",
   "metadata": {},
   "outputs": [],
   "source": [
    "jtag_clkout(False)"
   ]
  },
  {
   "cell_type": "markdown",
   "id": "89ad05b2",
   "metadata": {},
   "source": [
    "Record a lot of samples since we don't know where leakage will occur:"
   ]
  },
  {
   "cell_type": "code",
   "execution_count": null,
   "id": "b03fe9d6",
   "metadata": {},
   "outputs": [],
   "source": [
    "scope.adc.samples = 100000"
   ]
  },
  {
   "cell_type": "code",
   "execution_count": null,
   "id": "a171e8cb",
   "metadata": {},
   "outputs": [],
   "source": [
    "splot = cw.StreamPlot()\n",
    "splot.plot()"
   ]
  },
  {
   "cell_type": "code",
   "execution_count": null,
   "id": "49d32693",
   "metadata": {},
   "outputs": [],
   "source": [
    "N = 5000\n",
    "group1, group2 = capture_ttest(N, splot=splot)"
   ]
  },
  {
   "cell_type": "code",
   "execution_count": null,
   "id": "cb9000c3",
   "metadata": {},
   "outputs": [],
   "source": [
    "#nptsave(\"jtagglitch_221ms_5k_sca\", group1, group2)"
   ]
  },
  {
   "cell_type": "code",
   "execution_count": null,
   "id": "204065e8",
   "metadata": {},
   "outputs": [],
   "source": [
    "from scipy.stats import ttest_ind\n",
    "t_val = ttest_ind(group1, group2, axis=0, equal_var=False)[0]"
   ]
  },
  {
   "cell_type": "code",
   "execution_count": null,
   "id": "b2fa628b",
   "metadata": {},
   "outputs": [],
   "source": [
    "%matplotlib notebook\n",
    "plot_t(t_val, N, \"T-Test, SCA (for JTAG Comparison)\")"
   ]
  },
  {
   "cell_type": "code",
   "execution_count": null,
   "id": "f4e80c9b",
   "metadata": {},
   "outputs": [],
   "source": [
    "%matplotlib notebook\n",
    "plot_t(t_val[6500:(6500+16000)], N, \"T-Test, SCA (for JTAG Comparison)\")"
   ]
  },
  {
   "cell_type": "code",
   "execution_count": null,
   "id": "e688a48b",
   "metadata": {},
   "outputs": [],
   "source": [
    "#np.save(\"jtagglitch_221ms_5k_scashunt\", t_val)"
   ]
  },
  {
   "cell_type": "markdown",
   "id": "b3ebac2a",
   "metadata": {},
   "source": [
    "### Shunt resistor CPA Comparison\n",
    "\n",
    "Again - set the JTAG clock as being on or off as required."
   ]
  },
  {
   "cell_type": "code",
   "execution_count": null,
   "id": "31f31244",
   "metadata": {},
   "outputs": [],
   "source": [
    "jtag_clkout(False)"
   ]
  },
  {
   "cell_type": "code",
   "execution_count": null,
   "id": "f8ee9b6a",
   "metadata": {},
   "outputs": [],
   "source": [
    "#scope.clock.clkgen_freq = 221E6"
   ]
  },
  {
   "cell_type": "code",
   "execution_count": null,
   "id": "e8770a6c",
   "metadata": {},
   "outputs": [],
   "source": [
    "scope.clock.pll.set_outfreqs(7.5E6, 158E6, 1, force_recalc=True)"
   ]
  },
  {
   "cell_type": "code",
   "execution_count": null,
   "id": "816a7510",
   "metadata": {},
   "outputs": [],
   "source": [
    "scope.adc.offset = 0\n",
    "scope.adc.samples = 100000"
   ]
  },
  {
   "cell_type": "code",
   "execution_count": null,
   "id": "0eac8f99",
   "metadata": {},
   "outputs": [],
   "source": [
    "splot = cw.StreamPlot()\n",
    "splot.plot()"
   ]
  },
  {
   "cell_type": "code",
   "execution_count": null,
   "id": "6d927253",
   "metadata": {},
   "outputs": [],
   "source": [
    "from tqdm.notebook import trange\n",
    "import numpy as np\n",
    "import time\n",
    "\n",
    "ktp = cw.ktp.Basic() # default - fixed key, random plaintext\n",
    "\n",
    "textins = []\n",
    "textouts = []\n",
    "waves = []\n",
    "keys = []\n",
    "\n",
    "N = 5000\n",
    "for i in trange(N, desc='Capturing traces'):\n",
    "    key, text = ktp.next() # new plaintext, same key\n",
    "    #ps.runBlock()\n",
    "    #scope.LA.arm()\n",
    "    trace = cw.capture_trace(scope, target, text, key) # set key, send plaintext, receive ciphertext, capture power trace\n",
    "    if not trace:\n",
    "        continue\n",
    "\n",
    "    wave = trace.wave\n",
    " \n",
    "    waves.append(wave)\n",
    "    textins.append(trace.textin)\n",
    "    textouts.append(trace.textout)\n",
    "    keys.append(trace.key)\n",
    "\n",
    "    # Update our plot with a new trace\n",
    "    if i % 5 == 0:\n",
    "        splot.update(wave) # wave is the name for the data for our power trace"
   ]
  },
  {
   "cell_type": "code",
   "execution_count": null,
   "id": "82d5ddb2",
   "metadata": {},
   "outputs": [],
   "source": [
    "scope.adc.trig_count / 10"
   ]
  },
  {
   "cell_type": "code",
   "execution_count": null,
   "id": "4247f55f",
   "metadata": {},
   "outputs": [],
   "source": [
    "cw.plot(np.mean(waves, axis=0))"
   ]
  },
  {
   "cell_type": "code",
   "execution_count": null,
   "id": "a9afd11b",
   "metadata": {},
   "outputs": [],
   "source": [
    "save_ets(waves, textins, textouts, keys, \"d:/data_store/jtagglitch_15MHzCPU_158MHz_shuntcpa.ets\", overwrite=True)"
   ]
  },
  {
   "cell_type": "code",
   "execution_count": null,
   "id": "c78f7cf0",
   "metadata": {},
   "outputs": [],
   "source": [
    "def get_min_max2(results, knownkey, byteindex=0):\n",
    "    max1 = np.max(results[0:knownkey], axis=0)\n",
    "    max2 = np.max(results[(knownkey+1):], axis=0)\n",
    "    maxline = np.max(np.array([max1, max2]), axis=0)\n",
    "    \n",
    "    min1 = np.min(results[0:knownkey], axis=0)\n",
    "    min2 = np.min(results[(knownkey+1):], axis=0)\n",
    "    minline = np.min(np.array([min1, min2]), axis=0)\n",
    "    return minline, maxline"
   ]
  },
  {
   "cell_type": "code",
   "execution_count": null,
   "id": "e2895e4b",
   "metadata": {},
   "outputs": [],
   "source": [
    "%matplotlib notebook\n",
    "import matplotlib.pylab as plt\n",
    "fig, ax = plt.subplots(figsize=(8, 4))\n",
    "#ax.plot(results2[0,1,0,:,:].T, color='gray')\n",
    "\n",
    "minline, maxline = get_min_max2(newresults, dataset[\"0/0/key\"][0,plotkey], plotkey)\n",
    "ax.plot(minline, color='gray')\n",
    "ax.plot(maxline, color='gray')\n",
    "\n",
    "ax.plot(newresults[dataset[\"0/0/key\"][0,plotkey]], color='red')\n",
    "#ax.plot(results2[0,1,0,dataset[\"0/0/key\"][0,1],:].T, color='green')\n",
    "#ax.plot(results2[0,2,0,dataset[\"0/0/key\"][0,2],:].T, color='blue')\n",
    "#ax.plot(results2[0,2,0,dataset[\"0/0/key\"][0,15],:].T, color='orange')\n",
    "ax.set_xlabel('Samples')\n",
    "ax.set_ylabel('CPA')\n",
    "plt.show()"
   ]
  }
 ],
 "metadata": {
  "kernelspec": {
   "display_name": "Python 3 (ipykernel)",
   "language": "python",
   "name": "python3"
  },
  "language_info": {
   "codemirror_mode": {
    "name": "ipython",
    "version": 3
   },
   "file_extension": ".py",
   "mimetype": "text/x-python",
   "name": "python",
   "nbconvert_exporter": "python",
   "pygments_lexer": "ipython3",
   "version": "3.10.8"
  }
 },
 "nbformat": 4,
 "nbformat_minor": 5
}
