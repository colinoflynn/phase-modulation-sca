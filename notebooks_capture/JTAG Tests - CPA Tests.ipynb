{
 "cells": [
  {
   "cell_type": "markdown",
   "id": "d8b927f0",
   "metadata": {},
   "source": [
    "## Validation of JTAG Jitter Measurement"
   ]
  },
  {
   "cell_type": "code",
   "execution_count": 1,
   "id": "6ee03b31",
   "metadata": {},
   "outputs": [],
   "source": [
    "import numpy as np\n",
    "import chipwhisperer as cw\n",
    "import os"
   ]
  },
  {
   "cell_type": "code",
   "execution_count": 2,
   "id": "46c9b541",
   "metadata": {},
   "outputs": [],
   "source": [
    "%run \"functions.ipynb\""
   ]
  },
  {
   "cell_type": "code",
   "execution_count": 3,
   "id": "2756f911",
   "metadata": {},
   "outputs": [],
   "source": [
    "data_dir = \"data_store\""
   ]
  },
  {
   "cell_type": "markdown",
   "id": "c9e0085f",
   "metadata": {},
   "source": [
    "## ChipWhisperer Configuration (Shared)"
   ]
  },
  {
   "cell_type": "code",
   "execution_count": 4,
   "id": "f3736a81",
   "metadata": {},
   "outputs": [],
   "source": [
    "# Set hardware settings\n",
    "SCOPETYPE = 'OPENADC'\n",
    "PLATFORM = 'CW308_SAM4S'\n",
    "CRYPTO_TARGET='TINYAES128C' # 'TINYAES128C' or 'MBEDTLS'\n",
    "SS_VER='SS_VER_2_1'"
   ]
  },
  {
   "cell_type": "code",
   "execution_count": 8,
   "id": "50bf0a21",
   "metadata": {},
   "outputs": [],
   "source": [
    "# Connect to ChipWhisperer\n",
    "#%run \"../../../Setup_Scripts/Setup_Generic.ipynb\"\n",
    "\n",
    "#scope = cw.scope(bitstream = r\"C:\\Users\\cofly\\Dropbox (Personal)\\academic_dev_work\\cwhusky_top.bit\")\n",
    "scope = cw.scope(bitstream = r\"C:\\dev\\cwhusky-fpga-jtag\\cwhusky_top_jtagclknoglitch.bit\")\n",
    "target = cw.target(scope, cw.targets.SimpleSerial2)"
   ]
  },
  {
   "cell_type": "code",
   "execution_count": 9,
   "id": "ba83b626",
   "metadata": {},
   "outputs": [
    {
     "name": "stdout",
     "output_type": "stream",
     "text": [
      "scope.gain.mode                          changed from low                       to high                     \n",
      "scope.gain.gain                          changed from 0                         to 22                       \n",
      "scope.gain.db                            changed from 15.0                      to 25.091743119266056       \n",
      "scope.adc.samples                        changed from 131124                    to 5000                     \n",
      "scope.clock.clkgen_freq                  changed from 0                         to 7370129.87012987         \n",
      "scope.clock.adc_freq                     changed from 0                         to 29480519.48051948        \n",
      "scope.clock.extclk_monitor_enabled       changed from True                      to False                    \n",
      "scope.clock.extclk_tolerance             changed from 1144409.1796875           to 13096723.705530167       \n",
      "scope.io.tio1                            changed from serial_tx                 to serial_rx                \n",
      "scope.io.tio2                            changed from serial_rx                 to serial_tx                \n",
      "scope.io.hs2                             changed from None                      to clkgen                   \n",
      "scope.io.cdc_settings                    changed from bytearray(b'\\x01\\x00\\x00\\x00') to bytearray(b'\\x00\\x00\\x00\\x00')\n",
      "scope.glitch.phase_shift_steps           changed from 0                         to 4592                     \n",
      "scope.trace.capture.trigger_source       changed from trace trigger, rule #0    to firmware trigger         \n"
     ]
    }
   ],
   "source": [
    "scope.default_setup()"
   ]
  },
  {
   "cell_type": "code",
   "execution_count": 10,
   "id": "3d9f1837",
   "metadata": {},
   "outputs": [],
   "source": [
    "def jtag_clkout(enabled):\n",
    "    if enabled:\n",
    "        data = 0x08\n",
    "    else:\n",
    "        data = 0x00\n",
    "\n",
    "    CODE_READ = 0x80\n",
    "    CODE_WRITE = 0xC0\n",
    "    scope.userio.oa.sendMessage(CODE_WRITE, \"USERIO_DEBUG_DRIVEN\", [data])\n",
    "    \n",
    "    # Can use this to check write worked\n",
    "    #scope.userio.oa.sendMessage(CODE_READ, \"USERIO_DEBUG_DRIVEN\")\n",
    "    "
   ]
  },
  {
   "cell_type": "code",
   "execution_count": 11,
   "id": "3b1ba3b6",
   "metadata": {},
   "outputs": [],
   "source": [
    "scope.clock.clkgen_freq = 20E6\n",
    "scope.clock.adc_mul = 1"
   ]
  },
  {
   "cell_type": "code",
   "execution_count": 12,
   "id": "2892e455",
   "metadata": {},
   "outputs": [
    {
     "data": {
      "text/plain": [
       "clkgen_src             = system\n",
       "clkgen_freq            = 20000000.0\n",
       "adc_mul                = 1\n",
       "adc_freq               = 20000000.0\n",
       "freq_ctr               = 0\n",
       "freq_ctr_src           = extclk\n",
       "clkgen_locked          = True\n",
       "adc_phase              = 0\n",
       "extclk_monitor_enabled = False\n",
       "extclk_error           = False\n",
       "extclk_tolerance       = 13096723.705530167"
      ]
     },
     "execution_count": 12,
     "metadata": {},
     "output_type": "execute_result"
    }
   ],
   "source": [
    "scope.clock"
   ]
  },
  {
   "cell_type": "markdown",
   "id": "10ca23ac",
   "metadata": {},
   "source": [
    "## Build Firmware - 2 MHz Internal Clock, no External Output"
   ]
  },
  {
   "cell_type": "code",
   "execution_count": null,
   "id": "5b75f284",
   "metadata": {},
   "outputs": [],
   "source": [
    "C_EXTRA_DEFS=\"-DUSE_PLL -DUSE_EMBEDDED_CLOCK -DPLL_15MHZ\""
   ]
  },
  {
   "cell_type": "code",
   "execution_count": null,
   "id": "152a1fc2",
   "metadata": {},
   "outputs": [],
   "source": [
    "%%bash -s \"$PLATFORM\" \"$CRYPTO_TARGET\" \"$SS_VER\" \"$C_EXTRA_DEFS\"\n",
    "# compile firmware\n",
    "cd ../colin-hacktest1/firmware/simpleserial-aes-spitest\n",
    "make PLATFORM=$1 CRYPTO_TARGET=$2 SS_VER=$3 C_EXTRA_DEFS=\"$4\" -j"
   ]
  },
  {
   "cell_type": "code",
   "execution_count": null,
   "id": "90ae6bc8",
   "metadata": {},
   "outputs": [],
   "source": [
    "# program firmware onto target\n",
    "prog = cw.programmers.SAM4SProgrammer\n",
    "cw.program_target(scope, prog, \"../colin-hacktest1/firmware/simpleserial-aes-spitest/simpleserial-aes-{}.hex\".format(PLATFORM))"
   ]
  },
  {
   "cell_type": "code",
   "execution_count": null,
   "id": "c3769572",
   "metadata": {},
   "outputs": [],
   "source": [
    "# Baud is lower so it works from internal oscillator which isn't as precise\n",
    "target.baud = 38400"
   ]
  },
  {
   "cell_type": "code",
   "execution_count": null,
   "id": "72f8729e",
   "metadata": {},
   "outputs": [],
   "source": [
    "# When device is running at 2 MHz baud calculation is off - measuring actual baud shows this is correct:\n",
    "# Uncomment this when compiling for 2 MHz firmware\n",
    "#target.baud = 62750"
   ]
  },
  {
   "cell_type": "markdown",
   "id": "b051965a",
   "metadata": {},
   "source": [
    "## JTAG Setup"
   ]
  },
  {
   "cell_type": "code",
   "execution_count": null,
   "id": "97210793",
   "metadata": {},
   "outputs": [],
   "source": [
    "scope.io.hs2 = None"
   ]
  },
  {
   "cell_type": "code",
   "execution_count": null,
   "id": "321574dd",
   "metadata": {},
   "outputs": [],
   "source": []
  },
  {
   "cell_type": "markdown",
   "id": "9f3c57c5",
   "metadata": {},
   "source": [
    "#### Setting up JTAG into Bypass Mode"
   ]
  },
  {
   "cell_type": "code",
   "execution_count": null,
   "id": "c2d82aad",
   "metadata": {},
   "outputs": [],
   "source": [
    "def read_tdo_status():\n",
    "    pins = scope.userio.status\n",
    "    if pins & (1<<3):\n",
    "        return True\n",
    "    else:\n",
    "        return False\n",
    "    \n",
    "def write(tms, tdi):\n",
    "    old = scope.userio.drive_data\n",
    "    old &= ~(1<<6 | 1<<7)\n",
    "    if tms:\n",
    "        old |= 1<<6\n",
    "    if tdi:\n",
    "        old |= 1<<7\n",
    "    \n",
    "    scope.userio.drive_data = old\n",
    "    scope.userio.drive_data = old | (1<<5)\n",
    "    scope.userio.drive_data = old & ~(1<<5)"
   ]
  },
  {
   "cell_type": "markdown",
   "id": "c9721105",
   "metadata": {},
   "source": [
    "Normally `JTAGSEL` being low works fine. Sometimes it's helpful to set it high (call the following function with `True`) for testing. Note when `JTAGSEL` is high code won't run on the microcontroller. But the bypass mode worked fine with this set `False`.\n",
    "\n",
    "This assumes you've modified the SAM4S2AA board to route TIO3 to JTAGSEL, see this photo:\n",
    "\n",
    "\n",
    "Note this should NOT be required, so you can recreate the results with a stock ChipWhisperer-Husky kit."
   ]
  },
  {
   "cell_type": "code",
   "execution_count": null,
   "id": "9ffb879a",
   "metadata": {},
   "outputs": [],
   "source": [
    "def change_jtag_mode(boundary_scan=False):\n",
    "    scope.io.tio3 = boundary_scan\n",
    "    scope.io.nrst = False\n",
    "    time.sleep(0.05)\n",
    "    scope.io.nrst = True"
   ]
  },
  {
   "cell_type": "markdown",
   "id": "da4e7848",
   "metadata": {},
   "source": [
    "The following requires you to put the 20-pin connector from the USERIO pins on the CW-HUSKY to the JTAG header on the CW313 target board. With that connected, you have the following:\n",
    "\n",
    "* d[2] = nrst\n",
    "* d[3] = tdo\n",
    "* d[4] = rclk\n",
    "* d[5] = tck\n",
    "* d[6] = tms\n",
    "* d[7] = tdi\n",
    "\n",
    "Running the following code will enable bypass mode and then tri-state the TCK & TDI pins. You can then feed a 40 MHz clock into TCK & a 20 MHz clock into TDI, be sure there is a 90 degree phase offset so the rising edge of the 40 MHz clock correctly clocks the 20 MHz clock into TDI.\n",
    "\n",
    "If it worked, you should see a 20 MHz clock coming out of TDO. The 20 MHz clock is what we use to measure the delay in the target device."
   ]
  },
  {
   "cell_type": "code",
   "execution_count": null,
   "id": "90e5b83b",
   "metadata": {},
   "outputs": [],
   "source": [
    "def setup_bypass(verbose=True):\n",
    "    #Take control of TDI, TMS, TCK\n",
    "    scope.userio.direction = 0b11100000\n",
    "    \n",
    "    write(1, 1)\n",
    "    write(1, 1)\n",
    "    write(1, 1)\n",
    "    write(1, 1)\n",
    "    write(1, 1)\n",
    "\n",
    "    write(0, 1) #\n",
    "    write(1, 1)\n",
    "    write(1, 1)\n",
    "    write(0, 1)\n",
    "    write(0, 1)\n",
    "\n",
    "    #Send a bunch of 1's to force bypass mode\n",
    "    for i in range(0, 10):\n",
    "        write(0, 1)\n",
    "\n",
    "    #exit shift-IR state\n",
    "    write(1,1)\n",
    "\n",
    "    write(1, 1)\n",
    "    write(1, 1)\n",
    "    write(0, 1)\n",
    "    write(0, 1)\n",
    "\n",
    "    for i in range(0, 10):\n",
    "        write(0, 0)\n",
    "\n",
    "    tdo_result = []\n",
    "\n",
    "    for i in range(0, 10):\n",
    "        tdo_result.append(read_tdo_status())\n",
    "        if i == 0:\n",
    "            write(0, 1)\n",
    "        else:\n",
    "            write(0, 0)\n",
    "\n",
    "    if tdo_result[0:10] == [False, True, False, False, False, False, False, False, False, False]:\n",
    "        if verbose:\n",
    "            print(\"JTAG Setup successful - bypass mode enabled, saw '1' sequence successfuly\")\n",
    "        return True\n",
    "    else:\n",
    "        if verbose:\n",
    "            print(\"JTAG Setup not successful\")\n",
    "            print(tdo_result)\n",
    "        return False"
   ]
  },
  {
   "cell_type": "code",
   "execution_count": null,
   "id": "0d3daa36",
   "metadata": {},
   "outputs": [],
   "source": [
    "jtag_clkout(False)\n",
    "setup_bypass()"
   ]
  },
  {
   "cell_type": "code",
   "execution_count": null,
   "id": "e5f593ad",
   "metadata": {},
   "outputs": [],
   "source": [
    "scope.clock.clkgen_freq = 5E6"
   ]
  },
  {
   "cell_type": "markdown",
   "id": "2149a615",
   "metadata": {},
   "source": [
    "The following will turn on the TDI/TCK clock. If you externally jumper TDO to HS1 you can confirm the clock is coming back OK."
   ]
  },
  {
   "cell_type": "code",
   "execution_count": null,
   "id": "13a2d65f",
   "metadata": {},
   "outputs": [],
   "source": [
    "jtag_clkout(True)"
   ]
  },
  {
   "cell_type": "code",
   "execution_count": null,
   "id": "6477b3b9",
   "metadata": {},
   "outputs": [],
   "source": [
    "scope.clock"
   ]
  },
  {
   "cell_type": "code",
   "execution_count": null,
   "id": "ba50a678",
   "metadata": {},
   "outputs": [],
   "source": [
    " scope.clock.pll._warning_freq = 400E6"
   ]
  },
  {
   "cell_type": "code",
   "execution_count": null,
   "id": "aa28b31a",
   "metadata": {},
   "outputs": [],
   "source": [
    "import time\n",
    "lasterror = 0\n",
    "errorlist = []\n",
    "for i in range(15, 300, 1):\n",
    "    \n",
    "    jtag_clkout(False)\n",
    "    if setup_bypass(False) == False:\n",
    "        #raise IOError(\"JTAG Setup error!\")\n",
    "        pass\n",
    "    scope.clock.clkgen_freq = i*1E6\n",
    "    jtag_clkout(True)\n",
    "    time.sleep(0.1)\n",
    "    \n",
    "    expected = i*1E6 / 2\n",
    "    actual = scope.clock.freq_ctr\n",
    "    \n",
    "    error = (actual - expected) / expected * 100\n",
    "    \n",
    "    print(\"{:.1f} MHz TCK: {:.1f} MHz input (error = {:.2f}%)\".format(i, actual/1E6, error))\n",
    "\n",
    "    errorlist.append({\"tck\":i, \"actual\":actual})"
   ]
  },
  {
   "cell_type": "code",
   "execution_count": null,
   "id": "60d2cb03",
   "metadata": {},
   "outputs": [],
   "source": [
    "#np.save(\"sam4s2aa_errorlist.npy\", errorlist)\n",
    "#np.save(\"mpc5676r_errorlist.npy\", errorlist)\n",
    "#np.save(\"k24f_errorlist.npy\", errorlist)\n",
    "#np.save(\"stm32f303_errorlist.npy\", errorlist)\n",
    "#np.save(\"stm32g474_errorlist.npy\", errorlist)"
   ]
  },
  {
   "cell_type": "markdown",
   "id": "7f19d853",
   "metadata": {},
   "source": [
    "## ChipWhisperer Measurement Setup"
   ]
  },
  {
   "cell_type": "code",
   "execution_count": null,
   "id": "43aeed49",
   "metadata": {},
   "outputs": [],
   "source": [
    "jtag_clkout(False)\n",
    "setup_bypass()"
   ]
  },
  {
   "cell_type": "code",
   "execution_count": null,
   "id": "2433b0d3",
   "metadata": {},
   "outputs": [],
   "source": [
    "# Default to 200 MHz TCK - OK for SAM4S2AA, not all devices will support this high of a frequency however.\n",
    "scope.clock.clkgen_freq = 200E6"
   ]
  },
  {
   "cell_type": "code",
   "execution_count": null,
   "id": "124837b5",
   "metadata": {},
   "outputs": [],
   "source": [
    "jtag_clkout(True)"
   ]
  },
  {
   "cell_type": "code",
   "execution_count": null,
   "id": "59399d59",
   "metadata": {},
   "outputs": [],
   "source": [
    "scope.gain.mode = \"low\"\n",
    "scope.gain.gain = 25"
   ]
  },
  {
   "cell_type": "code",
   "execution_count": null,
   "id": "10f4b5d8",
   "metadata": {},
   "outputs": [],
   "source": [
    "scope.clock.clkgen_freq = 200E6"
   ]
  },
  {
   "cell_type": "markdown",
   "id": "837e1dd6",
   "metadata": {},
   "source": [
    "### TVLA for Jitter Measurement"
   ]
  },
  {
   "cell_type": "code",
   "execution_count": null,
   "id": "3a6f2d72",
   "metadata": {},
   "outputs": [],
   "source": [
    "scope.adc.samples = 20000"
   ]
  },
  {
   "cell_type": "code",
   "execution_count": null,
   "id": "6575f660",
   "metadata": {},
   "outputs": [],
   "source": [
    "scope.adc.offset"
   ]
  },
  {
   "cell_type": "code",
   "execution_count": null,
   "id": "a8620e4d",
   "metadata": {},
   "outputs": [],
   "source": [
    "splot = cw.StreamPlot()\n",
    "splot.plot()"
   ]
  },
  {
   "cell_type": "code",
   "execution_count": null,
   "id": "5d9c6c49",
   "metadata": {},
   "outputs": [],
   "source": [
    "N = 1000\n",
    "group1, group2 = capture_ttest(N, picoscope=False, splot=splot)"
   ]
  },
  {
   "cell_type": "code",
   "execution_count": null,
   "id": "86bd8212",
   "metadata": {},
   "outputs": [],
   "source": [
    "first = []\n",
    "for g in group1:\n",
    "    first.append(g[0])\n",
    "avg = np.mean(first)"
   ]
  },
  {
   "cell_type": "code",
   "execution_count": null,
   "id": "034f93ea",
   "metadata": {},
   "outputs": [],
   "source": [
    "group1resync = []\n",
    "for g in group1:\n",
    "    if g[0] > avg:\n",
    "        group1resync.append(g[:-1])\n",
    "    else:\n",
    "        group1resync.append(g[1:])\n",
    "\n",
    "group2resync = []\n",
    "for g in group2:\n",
    "    if g[0] > avg:\n",
    "        group2resync.append(g[:-1])\n",
    "    else:\n",
    "        group2resync.append(g[1:])"
   ]
  },
  {
   "cell_type": "code",
   "execution_count": null,
   "id": "da7bf72b",
   "metadata": {},
   "outputs": [],
   "source": [
    "#nptsave(\"cwhusky_jtag_vdic_2mhzcpu_20mhzadc_15kpts_10ktraces_async\", group1, group2)"
   ]
  },
  {
   "cell_type": "code",
   "execution_count": null,
   "id": "54e54e55",
   "metadata": {},
   "outputs": [],
   "source": []
  },
  {
   "cell_type": "code",
   "execution_count": null,
   "id": "1915631e",
   "metadata": {},
   "outputs": [],
   "source": [
    "#nptsave(\"cwhusky_jtag_mixeronport_2mhzcpu_200mhzadc_50kpts_1ktraces_async\", group1, group2)"
   ]
  },
  {
   "cell_type": "code",
   "execution_count": null,
   "id": "d2560f3e",
   "metadata": {},
   "outputs": [],
   "source": [
    "#group1, group2, N = nptload(\"cwhusky_jtag_vdic_2mhzcpu_20mhzadc_15kpts_10ktraces_async\")"
   ]
  },
  {
   "cell_type": "code",
   "execution_count": null,
   "id": "cdc88325",
   "metadata": {},
   "outputs": [],
   "source": [
    "from scipy import signal\n",
    "sos = signal.butter(5, 0.01, 'highpass', output='sos')\n",
    "\n",
    "group11 = signal.sosfilt(sos, group1resync)\n",
    "group12 = signal.sosfilt(sos, group2resync)"
   ]
  },
  {
   "cell_type": "code",
   "execution_count": null,
   "id": "06dc6635",
   "metadata": {},
   "outputs": [],
   "source": [
    "import numpy as np\n",
    "mean1 = np.mean(group11, axis=0)#[2000:]\n",
    "mean2 = np.mean(group12, axis=0)#[2000:]\n",
    "cw.plot(mean2) * cw.plot(mean1)"
   ]
  },
  {
   "cell_type": "code",
   "execution_count": null,
   "id": "6992ec51",
   "metadata": {},
   "outputs": [],
   "source": [
    "from scipy.stats import ttest_ind\n",
    "t_val = ttest_ind(group11, group12, axis=0, equal_var=False)[0]"
   ]
  },
  {
   "cell_type": "code",
   "execution_count": null,
   "id": "ef2237b8",
   "metadata": {},
   "outputs": [],
   "source": [
    "plot_t(t_val, N, \"JTAG Delay Measurement, 15MHz CPU, 100 MHz TDI, Bypass Enabled\")"
   ]
  },
  {
   "cell_type": "markdown",
   "id": "eeb61b4f",
   "metadata": {},
   "source": [
    "## CPA Measurement"
   ]
  },
  {
   "cell_type": "code",
   "execution_count": null,
   "id": "bb6a4647",
   "metadata": {},
   "outputs": [],
   "source": [
    "from tqdm.notebook import trange\n",
    "import numpy as np\n",
    "import time\n",
    "\n",
    "ktp = cw.ktp.Basic() # default - fixed key, random plaintext\n",
    "\n",
    "textins = []\n",
    "textouts = []\n",
    "waves = []\n",
    "keys = []\n",
    "\n",
    "N = 10000\n",
    "for i in trange(N, desc='Capturing traces'):\n",
    "    key, text = ktp.next() # new plaintext, same key\n",
    "    #ps.runBlock()\n",
    "    trace = cw.capture_trace(scope, target, text, key) # set key, send plaintext, receive ciphertext, capture power trace\n",
    "    if not trace:\n",
    "        continue\n",
    "    \n",
    "    #while ps.isReady() == False:\n",
    "    #    continue\n",
    "    \n",
    "    #wave = ps.getDataV('A')\n",
    "    \n",
    "    wave = trace.wave\n",
    " \n",
    "    waves.append(wave)\n",
    "    textins.append(trace.textin)\n",
    "    textouts.append(trace.textout)\n",
    "    keys.append(trace.key)\n",
    "\n",
    "    # Update our plot with a new trace\n",
    "    if i % 5 == 0:\n",
    "        splot.update(wave) # wave is the name for the data for our power trace"
   ]
  },
  {
   "cell_type": "code",
   "execution_count": null,
   "id": "f971d05d",
   "metadata": {},
   "outputs": [],
   "source": [
    "first = []\n",
    "for w in waves:\n",
    "    first.append(w[0])\n",
    "avg = np.mean(first)"
   ]
  },
  {
   "cell_type": "code",
   "execution_count": null,
   "id": "8224ee1f",
   "metadata": {},
   "outputs": [],
   "source": [
    "tracesresync = []\n",
    "for w in waves:\n",
    "    if w[0] < avg:\n",
    "        tracesresync.append(w[:-1])\n",
    "    else:\n",
    "        tracesresync.append(w[1:])"
   ]
  },
  {
   "cell_type": "code",
   "execution_count": null,
   "id": "24ec0871",
   "metadata": {},
   "outputs": [],
   "source": [
    "cw.plot(tracesresync[0]) * cw.plot(tracesresync[1]) * cw.plot(tracesresync[10])"
   ]
  },
  {
   "cell_type": "code",
   "execution_count": null,
   "id": "0c32daf0",
   "metadata": {},
   "outputs": [],
   "source": [
    "%run \"functions.ipynb\""
   ]
  },
  {
   "cell_type": "code",
   "execution_count": null,
   "id": "534f971d",
   "metadata": {},
   "outputs": [],
   "source": [
    "data_dir = \"data_store\""
   ]
  },
  {
   "cell_type": "code",
   "execution_count": null,
   "id": "a2058f4a",
   "metadata": {},
   "outputs": [],
   "source": [
    "import numpy as np\n",
    "import zarr\n",
    "from numcodecs import lz4\n",
    "from numcodecs import Blosc\n",
    "\n",
    "def zarr_store(filename, waves, textins, textouts, keys):\n",
    "\n",
    "    compressor = None\n",
    "    #compressor = Blosc(cname='lz4hc', clevel=9, shuffle=Blosc.SHUFFLE)\n",
    "    compressor_metadata = None\n",
    "    zarr_dir = zarr.DirectoryStore(filename)\n",
    "    zarr_group = zarr.hierarchy.group(store=zarr_dir)\n",
    "    zarr_group_tile = zarr_group.require_group(\"0/0\")\n",
    "\n",
    "    samples = waves[0].shape[0]\n",
    "\n",
    "    zarr_group_tile.zeros(\n",
    "        name=\"plaintext\",\n",
    "        shape=(len(textins),16),\n",
    "        chunks=(len(textins),16),\n",
    "        dtype=np.uint8,\n",
    "        compressor=compressor_metadata\n",
    "    )\n",
    "\n",
    "    zarr_group_tile.zeros(\n",
    "        name=\"key\",\n",
    "        shape=(len(textins),16),\n",
    "        chunks=(len(textins),16),\n",
    "        dtype=np.uint8,\n",
    "        compressor=compressor_metadata\n",
    "    )\n",
    "\n",
    "    zarr_group_tile.zeros(\n",
    "        name=\"ciphertext\",\n",
    "        shape=(len(textins),16),\n",
    "        chunks=(len(textins),16),\n",
    "        dtype=np.uint8,\n",
    "        compressor=compressor_metadata\n",
    "    )\n",
    "\n",
    "    zarr_group_tile.zeros(\n",
    "        name=\"traces\",\n",
    "        shape=(len(waves),samples),\n",
    "        chunks=(len(waves),samples),\n",
    "        dtype=np.double, # int8 or int16\n",
    "        compressor=compressor\n",
    "    )\n",
    "\n",
    "    zarr_group_tile['traces'] = waves\n",
    "    zarr_group_tile['plaintext'] = textins\n",
    "    zarr_group_tile['ciphertext'] = textouts\n",
    "    zarr_group_tile['key'] = keys\n",
    "\n",
    "    zarr_dir.close()\n",
    "\n",
    "    print(zarr_group_tile.tree())"
   ]
  },
  {
   "cell_type": "code",
   "execution_count": null,
   "id": "07b859fe",
   "metadata": {},
   "outputs": [],
   "source": [
    "#import shutil\n",
    "#shutil.rmtree(\"jtag_200msps_10k_cpa_resync\")"
   ]
  },
  {
   "cell_type": "code",
   "execution_count": null,
   "id": "7272a6fb",
   "metadata": {},
   "outputs": [],
   "source": [
    "zarr_store(\"jtag_200msps_10k_cpa_resync\", tracesresync, textins, textouts, keys)"
   ]
  },
  {
   "cell_type": "code",
   "execution_count": null,
   "id": "f15f9ee3",
   "metadata": {},
   "outputs": [],
   "source": [
    "from scarr.engines.cpa import CPA as cpa\n",
    "from scarr.file_handling.trace_handler import TraceHandler as th\n",
    "from scarr.models.subBytes_weight import SubBytes_weight\n",
    "from scarr.container.container import Container, ContainerOptions"
   ]
  },
  {
   "cell_type": "code",
   "execution_count": null,
   "id": "8bc05aa9",
   "metadata": {},
   "outputs": [],
   "source": [
    "dataset_name = \"jtag_200msps_10k_cpa_resync\"\n",
    "dataset = zarr.open(dataset_name, \"r\")"
   ]
  },
  {
   "cell_type": "code",
   "execution_count": null,
   "id": "f5244406",
   "metadata": {},
   "outputs": [],
   "source": [
    "handler2 = th(fileName=dataset_name)\n",
    "model = SubBytes_weight()\n",
    "engine2 = cpa(model)\n",
    "container2 = Container(options=ContainerOptions(engine=engine2, handler=handler2))"
   ]
  },
  {
   "cell_type": "code",
   "execution_count": null,
   "id": "3093ab1f",
   "metadata": {},
   "outputs": [],
   "source": [
    "# this should be quite fast on most modern computers (<2 min)\n",
    "container2.run()"
   ]
  },
  {
   "cell_type": "code",
   "execution_count": null,
   "id": "21644ef8",
   "metadata": {},
   "outputs": [],
   "source": [
    "results2 = container2.engine.get_result()"
   ]
  },
  {
   "cell_type": "code",
   "execution_count": null,
   "id": "7fe46e86",
   "metadata": {},
   "outputs": [],
   "source": [
    "container2.engine.get_candidate()"
   ]
  },
  {
   "cell_type": "code",
   "execution_count": null,
   "id": "808daf20",
   "metadata": {},
   "outputs": [],
   "source": []
  },
  {
   "cell_type": "code",
   "execution_count": null,
   "id": "a00f2793",
   "metadata": {},
   "outputs": [],
   "source": [
    "import matplotlib.pylab as plt\n",
    "fig, ax = plt.subplots(figsize=(32, 4))\n",
    "ax.plot(results2[0,0,0,:,:].T, color='gray')\n",
    "ax.plot(results2[0,0,0,dataset[\"0/0/key\"][0,0],:].T, color='red')\n",
    "\n",
    "ax.set_xlabel('Samples')\n",
    "ax.set_ylabel('CPA')\n",
    "plt.show()"
   ]
  },
  {
   "cell_type": "markdown",
   "id": "3b95aa6d",
   "metadata": {},
   "source": [
    "### TVLA for Baseline (JTAG Bypass Disabled)"
   ]
  },
  {
   "cell_type": "markdown",
   "id": "b356b3ff",
   "metadata": {},
   "source": [
    "Turn OFF the 40 MHz TCLK & 20 MHz TDI clock (e.g., turn off signal generator output). Then run the following block which will perform a JTAG TAP reset to set it back to a normal state (where bypass will be disabled)."
   ]
  },
  {
   "cell_type": "code",
   "execution_count": null,
   "id": "863a2ff1",
   "metadata": {},
   "outputs": [],
   "source": [
    "#Take control of TDI, TMS, TCK\n",
    "scope.userio.direction = 0b11100000\n",
    "write(1, 1)\n",
    "write(1, 1)\n",
    "write(1, 1)\n",
    "write(1, 1)\n",
    "write(1, 1)\n",
    "scope.userio.direction = 0b01000000"
   ]
  },
  {
   "cell_type": "markdown",
   "id": "933c4a52",
   "metadata": {},
   "source": [
    "Turn back on the 40 MHz TCLK & 20 MHz TDI clock. Confirm that no clock is coming out of TDO."
   ]
  },
  {
   "cell_type": "code",
   "execution_count": null,
   "id": "3ab98314",
   "metadata": {},
   "outputs": [],
   "source": [
    "scope.adc.samples = 15000"
   ]
  },
  {
   "cell_type": "code",
   "execution_count": null,
   "id": "2d89242b",
   "metadata": {},
   "outputs": [],
   "source": [
    "splot = cw.StreamPlot()\n",
    "splot.plot()"
   ]
  },
  {
   "cell_type": "code",
   "execution_count": null,
   "id": "d8d112da",
   "metadata": {},
   "outputs": [],
   "source": [
    "N = 10000\n",
    "group1, group2 = capture_ttest(N, picoscope=False, splot=splot)"
   ]
  },
  {
   "cell_type": "code",
   "execution_count": null,
   "id": "0992935a",
   "metadata": {},
   "outputs": [],
   "source": [
    "#nptsave(\"cwhusky_jtag_notenabled_vdic_2mhzcpu_20mhzadc_15kpts_10ktraces_async\", group1, group2)"
   ]
  },
  {
   "cell_type": "code",
   "execution_count": null,
   "id": "04fdbff5",
   "metadata": {},
   "outputs": [],
   "source": [
    "group1, group2, N = nptload(\"cwhusky_jtag_notenabled_vdic_2mhzcpu_20mhzadc_15kpts_10ktraces_async\")"
   ]
  },
  {
   "cell_type": "code",
   "execution_count": null,
   "id": "121b0fc1",
   "metadata": {},
   "outputs": [],
   "source": [
    "from scipy import signal\n",
    "sos = signal.butter(5, 0.015, 'highpass', output='sos')\n",
    "\n",
    "group11 = signal.sosfilt(sos, group1)\n",
    "group12 = signal.sosfilt(sos, group2)"
   ]
  },
  {
   "cell_type": "code",
   "execution_count": null,
   "id": "9fcd3a82",
   "metadata": {},
   "outputs": [],
   "source": [
    "import numpy as np\n",
    "mean1 = np.mean(group11, axis=0)[2000:]\n",
    "mean2 = np.mean(group12, axis=0)[2000:]\n",
    "cw.plot(mean2) * cw.plot(mean1)"
   ]
  },
  {
   "cell_type": "code",
   "execution_count": null,
   "id": "0f53ad1e",
   "metadata": {},
   "outputs": [],
   "source": [
    "from scipy.stats import ttest_ind\n",
    "t_val = ttest_ind(group11, group12, axis=0, equal_var=False)[0]"
   ]
  },
  {
   "cell_type": "code",
   "execution_count": null,
   "id": "bcabd6f1",
   "metadata": {},
   "outputs": [],
   "source": [
    "plot_t(t_val, N, \"JTAG Delay Measurement, 2MHz CPU, 20 MHz TDI, Bypass Disabled\")"
   ]
  },
  {
   "cell_type": "markdown",
   "id": "1ded68c4",
   "metadata": {},
   "source": [
    "## Countermeasure Testing"
   ]
  },
  {
   "cell_type": "markdown",
   "id": "55c973d7",
   "metadata": {},
   "source": [
    "### Countermeasure Description\n",
    "\n",
    "The countermeasure is run on a TinyFPGA BX. It uses a 148 MHz clock to \"reclock\" the TDO line. This doesn't seem to impact usage of JTAG tools at normal speeds (250kHz - 10 MHz).\n",
    "\n",
    "\n",
    "```\n",
    "module top (\n",
    "   input  CLK,   // 16 MHz on-board clock\n",
    "   output LED,   // on-board LED\n",
    "   output USBPU,  // USB pull-up enable, set low to disable\n",
    "\n",
    "   input PIN_2,\n",
    "   output PIN_3,\n",
    "   output PIN_13\n",
    "\n",
    "\n",
    "   );\n",
    "\n",
    "    /**\n",
    "    * PLL configuration\n",
    "    *\n",
    "    * This Verilog module was generated automatically\n",
    "    * using the icepll tool from the IceStorm project.\n",
    "    * Use at your own risk.\n",
    "    *\n",
    "    * Given input frequency:        16.000 MHz\n",
    "    * Requested output frequency:  150.000 MHz\n",
    "    * Achieved output frequency:   148.000 MHz\n",
    "    */\n",
    "    wire clock_in;\n",
    "    wire clock_out;\n",
    "    wire locked;\n",
    "    SB_PLL40_CORE #(\n",
    "                    .FEEDBACK_PATH(\"SIMPLE\"),\n",
    "                    .DIVR(4'b0000),         // DIVR =  0\n",
    "                    .DIVF(7'b0100100),      // DIVF = 36\n",
    "                    .DIVQ(3'b010),          // DIVQ =  2\n",
    "                    .FILTER_RANGE(3'b001)   // FILTER_RANGE = 1\n",
    "            ) uut (\n",
    "                    .LOCK(locked),\n",
    "                    .RESETB(1'b1),\n",
    "                    .BYPASS(1'b0),\n",
    "                    .REFERENCECLK(clock_in),\n",
    "                    .PLLOUTCORE(clock_out)\n",
    "                    );\n",
    "\n",
    "\n",
    "  reg relatched;\n",
    "  wire clock;\n",
    "\n",
    "  //PLL connection\n",
    "  assign clock_in = CLK;\n",
    "  assign clock = clock_out;\n",
    "\n",
    "  //Countermeasure OFF - uncomment this line, comment out the below\n",
    "  //assign relatched = PIN_2;\n",
    "\n",
    "\n",
    "  //Countermeasure ON - uncomment this line, comment out hte above\n",
    "  always @(posedge clock) relatched <= PIN_2;\n",
    "\n",
    "   assign PIN_3 = relatched;\n",
    "   assign PIN_13 = relatched;\n",
    "\n",
    "\n",
    "   assign LED = 1'b1;  // blink on-board LED every second\n",
    "   assign USBPU = 1'b0;   // disable USB\n",
    "endmodule  // top\n",
    "```\n",
    "\n",
    "To program the board, `tinyprog` is used:\n",
    "\n",
    "```\n",
    "!pip install tinyprog\n",
    "```\n",
    "\n",
    "Note the board is powered from 3.3V from the target device. The USB is only connected during programming.\n",
    "\n",
    "### CW Setup\n",
    "\n",
    "We again use 15K samples:"
   ]
  },
  {
   "cell_type": "code",
   "execution_count": null,
   "id": "2c782171",
   "metadata": {},
   "outputs": [],
   "source": [
    "scope.adc.samples = 15000"
   ]
  },
  {
   "cell_type": "code",
   "execution_count": null,
   "id": "889e2764",
   "metadata": {},
   "outputs": [],
   "source": []
  },
  {
   "cell_type": "markdown",
   "id": "52d95608",
   "metadata": {},
   "source": [
    "### Countermeasure - Baseline Measurement\n",
    "\n",
    "Initially, the countermeasre ISN'T in the path, but is connected to power. This is to give a baseline with the same setup."
   ]
  },
  {
   "cell_type": "code",
   "execution_count": null,
   "id": "96e36d92",
   "metadata": {},
   "outputs": [],
   "source": []
  },
  {
   "cell_type": "code",
   "execution_count": null,
   "id": "eecc3601",
   "metadata": {},
   "outputs": [],
   "source": [
    "scope.gain.gain = 35\n",
    "scope.gain.mode = \"low\"\n",
    "scope.gain"
   ]
  },
  {
   "cell_type": "code",
   "execution_count": null,
   "id": "07af8318",
   "metadata": {},
   "outputs": [],
   "source": [
    "scope"
   ]
  },
  {
   "cell_type": "code",
   "execution_count": null,
   "id": "c26e2124",
   "metadata": {},
   "outputs": [],
   "source": [
    "splot = cw.StreamPlot()\n",
    "splot.plot()"
   ]
  },
  {
   "cell_type": "code",
   "execution_count": null,
   "id": "3ca3a8c4",
   "metadata": {},
   "outputs": [],
   "source": [
    "N = 10000\n",
    "group1, group2 = capture_ttest(N, picoscope=False, splot=splot)"
   ]
  },
  {
   "cell_type": "code",
   "execution_count": null,
   "id": "123c844c",
   "metadata": {},
   "outputs": [],
   "source": [
    "#nptsave(\"cwhusky_jtag_vdic_2mhzcpu_20mhzadc_15kpts_10ktraces_async_fpgapowereddisconnected\", group1, group2)"
   ]
  },
  {
   "cell_type": "code",
   "execution_count": null,
   "id": "a04985f9",
   "metadata": {},
   "outputs": [],
   "source": [
    "group1, group2, N = nptload(\"cwhusky_jtag_vdic_2mhzcpu_20mhzadc_15kpts_10ktraces_async_fpgapowereddisconnected\")"
   ]
  },
  {
   "cell_type": "code",
   "execution_count": null,
   "id": "674a8956",
   "metadata": {},
   "outputs": [],
   "source": [
    "from scipy import signal\n",
    "sos = signal.butter(5, 0.03, 'highpass', output='sos')\n",
    "\n",
    "group11 = signal.sosfilt(sos, group1)\n",
    "group12 = signal.sosfilt(sos, group2)"
   ]
  },
  {
   "cell_type": "code",
   "execution_count": null,
   "id": "97ad4e2d",
   "metadata": {},
   "outputs": [],
   "source": [
    "import numpy as np\n",
    "mean1 = np.mean(group11, axis=0)[2000:]\n",
    "mean2 = np.mean(group12, axis=0)[2000:]\n",
    "cw.plot(mean2) * cw.plot(mean1)"
   ]
  },
  {
   "cell_type": "code",
   "execution_count": null,
   "id": "7ec5bb16",
   "metadata": {},
   "outputs": [],
   "source": [
    "from scipy.stats import ttest_ind\n",
    "t_val = ttest_ind(group11, group12, axis=0, equal_var=False)[0]"
   ]
  },
  {
   "cell_type": "code",
   "execution_count": null,
   "id": "05481ff6",
   "metadata": {},
   "outputs": [],
   "source": [
    "plot_t(t_val, N, \"JTAG Delay Measurement, 2MHz CPU, 20 MHz TDI, TinyFPGA powered but disconnected\")"
   ]
  },
  {
   "cell_type": "markdown",
   "id": "b725f20a",
   "metadata": {},
   "source": [
    "### Countermeasure - FPGA inserted, but direct connection (no reclocking)\n",
    "\n",
    "The second baseline is where the TinyFPGA is inserted into the TDO pin, but the countermeasure is \"disabled\" by just doing this in the FPGA design:\n",
    "\n",
    "```\n",
    "assign relatched = PIN_2;\n",
    "```\n",
    "\n",
    "This means no reclocking is happening. This is to check how much jitter is added just by the additional digital path."
   ]
  },
  {
   "cell_type": "code",
   "execution_count": null,
   "id": "baab6fa4",
   "metadata": {},
   "outputs": [],
   "source": [
    "!tinyprog -p countermeasure_ice40_on.bin -b"
   ]
  },
  {
   "cell_type": "code",
   "execution_count": null,
   "id": "c08d75b5",
   "metadata": {},
   "outputs": [],
   "source": [
    "scope.gain.gain = 35\n",
    "scope.gain.mode = \"low\"\n",
    "scope.gain"
   ]
  },
  {
   "cell_type": "code",
   "execution_count": null,
   "id": "96b067fe",
   "metadata": {},
   "outputs": [],
   "source": [
    "splot = cw.StreamPlot()\n",
    "splot.plot()"
   ]
  },
  {
   "cell_type": "code",
   "execution_count": null,
   "id": "aa825d50",
   "metadata": {},
   "outputs": [],
   "source": [
    "N = 1000\n",
    "group1, group2 = capture_ttest(N, picoscope=False, splot=splot)"
   ]
  },
  {
   "cell_type": "code",
   "execution_count": null,
   "id": "8372ca06",
   "metadata": {},
   "outputs": [],
   "source": [
    "#nptsave(\"cwhusky_jtag_vdic_2mhzcpu_20mhzadc_15kpts_10ktraces_async_fpgacountermeasuredisabled\", group1, group2)"
   ]
  },
  {
   "cell_type": "code",
   "execution_count": null,
   "id": "810fa473",
   "metadata": {},
   "outputs": [],
   "source": [
    "group1, group2, N = nptload(\"cwhusky_jtag_vdic_2mhzcpu_20mhzadc_15kpts_10ktraces_async_fpgacountermeasuredisabled\")"
   ]
  },
  {
   "cell_type": "code",
   "execution_count": null,
   "id": "aa63aea5",
   "metadata": {},
   "outputs": [],
   "source": [
    "from scipy import signal\n",
    "sos = signal.butter(5, 0.03, 'highpass', output='sos')\n",
    "group11 = signal.sosfilt(sos, group1)\n",
    "group12 = signal.sosfilt(sos, group2)"
   ]
  },
  {
   "cell_type": "code",
   "execution_count": null,
   "id": "af02aa98",
   "metadata": {},
   "outputs": [],
   "source": [
    "import numpy as np\n",
    "mean1 = np.mean(group11, axis=0)[500:]\n",
    "mean2 = np.mean(group12, axis=0)[500:]\n",
    "cw.plot(mean2) * cw.plot(mean1)"
   ]
  },
  {
   "cell_type": "code",
   "execution_count": null,
   "id": "3f0dfd47",
   "metadata": {},
   "outputs": [],
   "source": [
    "from scipy.stats import ttest_ind\n",
    "t_val = ttest_ind(group11, group12, axis=0, equal_var=False)[0]"
   ]
  },
  {
   "cell_type": "code",
   "execution_count": null,
   "id": "52b6a1e2",
   "metadata": {},
   "outputs": [],
   "source": [
    "plot_t(t_val, N, \"JTAG Delay Measurement, 2MHz CPU, 20 MHz TDI, Countermeasure Disabled\")"
   ]
  },
  {
   "cell_type": "markdown",
   "id": "3d6a25a9",
   "metadata": {},
   "source": [
    "### Countermeasure Enabled\n",
    "\n",
    "The same setup as previously, but the FPGA is reprogrammed with the countermeasure."
   ]
  },
  {
   "cell_type": "code",
   "execution_count": null,
   "id": "c376c2f0",
   "metadata": {},
   "outputs": [],
   "source": [
    "!tinyprog -p countermeasure_ice40_on.bin -b"
   ]
  },
  {
   "cell_type": "code",
   "execution_count": null,
   "id": "02259847",
   "metadata": {},
   "outputs": [],
   "source": [
    "splot = cw.StreamPlot()\n",
    "splot.plot()"
   ]
  },
  {
   "cell_type": "code",
   "execution_count": null,
   "id": "ee9e098c",
   "metadata": {},
   "outputs": [],
   "source": [
    "N = 10000\n",
    "group1, group2 = capture_ttest(N, picoscope=False, splot=splot)"
   ]
  },
  {
   "cell_type": "code",
   "execution_count": null,
   "id": "a76a7c5e",
   "metadata": {},
   "outputs": [],
   "source": [
    "#nptsave(\"cwhusky_jtag_vdic_2mhzcpu_20mhzadc_15kpts_10ktraces_async_fpgacountermeasureenabled\", group1, group2)"
   ]
  },
  {
   "cell_type": "code",
   "execution_count": null,
   "id": "1d9a4701",
   "metadata": {},
   "outputs": [],
   "source": [
    "group1, group2, N = nptload(\"cwhusky_jtag_vdic_2mhzcpu_20mhzadc_15kpts_10ktraces_async_fpgacountermeasureenabled\")"
   ]
  },
  {
   "cell_type": "code",
   "execution_count": null,
   "id": "30cd39c1",
   "metadata": {},
   "outputs": [],
   "source": [
    "from scipy import signal\n",
    "sos = signal.butter(5, 0.03, 'highpass', output='sos')\n",
    "\n",
    "group11 = signal.sosfilt(sos, group1)\n",
    "group12 = signal.sosfilt(sos, group2)"
   ]
  },
  {
   "cell_type": "code",
   "execution_count": null,
   "id": "2fe0ee29",
   "metadata": {},
   "outputs": [],
   "source": [
    "import numpy as np\n",
    "mean1 = np.mean(group11, axis=0)[2000:]\n",
    "mean2 = np.mean(group12, axis=0)[2000:]\n",
    "cw.plot(mean2) * cw.plot(mean1)"
   ]
  },
  {
   "cell_type": "code",
   "execution_count": null,
   "id": "25789927",
   "metadata": {},
   "outputs": [],
   "source": [
    "from scipy.stats import ttest_ind\n",
    "t_val = ttest_ind(group11, group12, axis=0, equal_var=False)[0]"
   ]
  },
  {
   "cell_type": "code",
   "execution_count": null,
   "id": "60fdcc79",
   "metadata": {},
   "outputs": [],
   "source": [
    "plot_t(t_val, N, \"JTAG Delay Measurement, 2MHz CPU, 20 MHz TDI, Countermeasure Enabled\")"
   ]
  },
  {
   "cell_type": "code",
   "execution_count": null,
   "id": "05c62f85",
   "metadata": {},
   "outputs": [],
   "source": []
  },
  {
   "cell_type": "code",
   "execution_count": null,
   "id": "4631bbd5",
   "metadata": {},
   "outputs": [],
   "source": []
  },
  {
   "cell_type": "code",
   "execution_count": null,
   "id": "9f53e300",
   "metadata": {},
   "outputs": [],
   "source": [
    "target.baud = 38400"
   ]
  },
  {
   "cell_type": "code",
   "execution_count": null,
   "id": "d82e09f9",
   "metadata": {},
   "outputs": [],
   "source": [
    "N = 10000\n",
    "group1, group2 = capture_ttest(N, picoscope=False, splot=None)"
   ]
  },
  {
   "cell_type": "code",
   "execution_count": null,
   "id": "6aae9ea4",
   "metadata": {},
   "outputs": [],
   "source": []
  }
 ],
 "metadata": {
  "kernelspec": {
   "display_name": "Python 3 (ipykernel)",
   "language": "python",
   "name": "python3"
  },
  "language_info": {
   "codemirror_mode": {
    "name": "ipython",
    "version": 3
   },
   "file_extension": ".py",
   "mimetype": "text/x-python",
   "name": "python",
   "nbconvert_exporter": "python",
   "pygments_lexer": "ipython3",
   "version": "3.10.8"
  }
 },
 "nbformat": 4,
 "nbformat_minor": 5
}
