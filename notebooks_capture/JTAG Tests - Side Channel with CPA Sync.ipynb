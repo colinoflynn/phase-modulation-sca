{
 "cells": [
  {
   "cell_type": "markdown",
   "id": "d8b927f0",
   "metadata": {},
   "source": [
    "## Validation of JTAG Jitter Measurement"
   ]
  },
  {
   "cell_type": "code",
   "execution_count": null,
   "id": "6ee03b31",
   "metadata": {},
   "outputs": [],
   "source": [
    "import numpy as np\n",
    "import chipwhisperer as cw\n",
    "import os"
   ]
  },
  {
   "cell_type": "code",
   "execution_count": null,
   "id": "46c9b541",
   "metadata": {},
   "outputs": [],
   "source": [
    "%run \"functions.ipynb\""
   ]
  },
  {
   "cell_type": "code",
   "execution_count": null,
   "id": "2756f911",
   "metadata": {},
   "outputs": [],
   "source": [
    "data_dir = r\"d:\\data_store\""
   ]
  },
  {
   "cell_type": "markdown",
   "id": "c9e0085f",
   "metadata": {},
   "source": [
    "## ChipWhisperer Configuration (Shared)"
   ]
  },
  {
   "cell_type": "code",
   "execution_count": null,
   "id": "f3736a81",
   "metadata": {},
   "outputs": [],
   "source": [
    "# Set hardware settings\n",
    "SCOPETYPE = 'OPENADC'\n",
    "PLATFORM = 'CW308_SAM4S'\n",
    "CRYPTO_TARGET='TINYAES128C' # 'TINYAES128C' or 'MBEDTLS'\n",
    "SS_VER='SS_VER_2_1'"
   ]
  },
  {
   "cell_type": "code",
   "execution_count": null,
   "id": "50bf0a21",
   "metadata": {},
   "outputs": [],
   "source": [
    "# Connect to ChipWhisperer\n",
    "scope = cw.scope(bitstream = r\"firmwares\\cwhusky_top.bit\")\n",
    "target = cw.target(scope, cw.targets.SimpleSerial2)"
   ]
  },
  {
   "cell_type": "code",
   "execution_count": null,
   "id": "ba83b626",
   "metadata": {},
   "outputs": [],
   "source": [
    "scope.default_setup()"
   ]
  },
  {
   "cell_type": "code",
   "execution_count": null,
   "id": "3d9f1837",
   "metadata": {},
   "outputs": [],
   "source": [
    "def jtag_clkout(enabled):\n",
    "    if enabled:\n",
    "        data = 0x08\n",
    "    else:\n",
    "        data = 0x00\n",
    "\n",
    "    CODE_READ = 0x80\n",
    "    CODE_WRITE = 0xC0\n",
    "    scope.userio.oa.sendMessage(CODE_WRITE, \"USERIO_DEBUG_DRIVEN\", [data])\n",
    "    \n",
    "    # Can use this to check write worked\n",
    "    #scope.userio.oa.sendMessage(CODE_READ, \"USERIO_DEBUG_DRIVEN\")\n",
    "    "
   ]
  },
  {
   "cell_type": "code",
   "execution_count": null,
   "id": "3b1ba3b6",
   "metadata": {},
   "outputs": [],
   "source": [
    "#Set some lower defaults so ADC doesn't complain later\n",
    "scope.clock.adc_mul = 1"
   ]
  },
  {
   "cell_type": "markdown",
   "id": "10ca23ac",
   "metadata": {},
   "source": [
    "## 15 MHz CPU, AES, Clock Output"
   ]
  },
  {
   "cell_type": "code",
   "execution_count": null,
   "id": "90ae6bc8",
   "metadata": {},
   "outputs": [],
   "source": [
    "# program firmware onto target\n",
    "prog = cw.programmers.SAM4SProgrammer\n",
    "cw.program_target(scope, prog, \"firmwares/fw-15mhz-clkout.hex\")"
   ]
  },
  {
   "cell_type": "code",
   "execution_count": null,
   "id": "0e14eff5",
   "metadata": {},
   "outputs": [],
   "source": [
    "scope.io.target_pwr = False\n",
    "time.sleep(0.1)\n",
    "scope.io.target_pwr = True"
   ]
  },
  {
   "cell_type": "code",
   "execution_count": null,
   "id": "c3769572",
   "metadata": {},
   "outputs": [],
   "source": [
    "# Baud is lower so it works from internal oscillator which isn't as precise\n",
    "target.baud = 38400"
   ]
  },
  {
   "cell_type": "code",
   "execution_count": null,
   "id": "72f8729e",
   "metadata": {},
   "outputs": [],
   "source": [
    "# When device is running at 2 MHz baud calculation is off - measuring actual baud shows this is correct:\n",
    "# Uncomment this when compiling for 2 MHz firmware\n",
    "#target.baud = 62750"
   ]
  },
  {
   "cell_type": "code",
   "execution_count": null,
   "id": "648ada76",
   "metadata": {},
   "outputs": [],
   "source": [
    "scope.clock.freq_ctr"
   ]
  },
  {
   "cell_type": "code",
   "execution_count": null,
   "id": "d8ee3024",
   "metadata": {},
   "outputs": [],
   "source": [
    "scope.clock.clkgen_src = \"extclk\"\n",
    "scope.io.hs2 = None\n",
    "scope.clock.pll.set_outfreqs(15*1E6/2, 30E6, 1, True)"
   ]
  },
  {
   "cell_type": "code",
   "execution_count": null,
   "id": "1d27af19",
   "metadata": {},
   "outputs": [],
   "source": [
    "#scope.clock.clkgen_src = \"extclk\"\n",
    "#scope.io.hs2 = None\n",
    "#scope.clock.pll.set_outfreqs(15*1E6/2, 15E6, 1, True)"
   ]
  },
  {
   "cell_type": "markdown",
   "id": "b051965a",
   "metadata": {},
   "source": [
    "## JTAG Setup"
   ]
  },
  {
   "cell_type": "markdown",
   "id": "9f3c57c5",
   "metadata": {},
   "source": [
    "#### Setting up JTAG into Bypass Mode"
   ]
  },
  {
   "cell_type": "code",
   "execution_count": null,
   "id": "c2d82aad",
   "metadata": {},
   "outputs": [],
   "source": [
    "def read_tdo_status():\n",
    "    pins = scope.userio.status\n",
    "    if pins & (1<<3):\n",
    "        return True\n",
    "    else:\n",
    "        return False\n",
    "    \n",
    "def write(tms, tdi):\n",
    "    old = scope.userio.drive_data\n",
    "    old &= ~(1<<6 | 1<<7)\n",
    "    if tms:\n",
    "        old |= 1<<6\n",
    "    if tdi:\n",
    "        old |= 1<<7\n",
    "    \n",
    "    scope.userio.drive_data = old\n",
    "    scope.userio.drive_data = old | (1<<5)\n",
    "    scope.userio.drive_data = old & ~(1<<5)"
   ]
  },
  {
   "cell_type": "markdown",
   "id": "c9721105",
   "metadata": {},
   "source": [
    "Normally `JTAGSEL` being low works fine. Sometimes it's helpful to set it high (call the following function with `True`) for testing. Note when `JTAGSEL` is high code won't run on the microcontroller. But the bypass mode worked fine with this set `False`.\n",
    "\n",
    "This assumes you've modified the SAM4S2AA board to route TIO3 to JTAGSEL, see this photo:\n",
    "\n",
    "\n",
    "Note this should NOT be required, so you can recreate the results with a stock ChipWhisperer-Husky kit."
   ]
  },
  {
   "cell_type": "code",
   "execution_count": null,
   "id": "9ffb879a",
   "metadata": {},
   "outputs": [],
   "source": [
    "def change_jtag_mode(boundary_scan=False):\n",
    "    scope.io.tio3 = boundary_scan\n",
    "    scope.io.nrst = False\n",
    "    time.sleep(0.05)\n",
    "    scope.io.nrst = True"
   ]
  },
  {
   "cell_type": "code",
   "execution_count": null,
   "id": "206fc721",
   "metadata": {},
   "outputs": [],
   "source": [
    "#change_jtag_mode(False)"
   ]
  },
  {
   "cell_type": "markdown",
   "id": "da4e7848",
   "metadata": {},
   "source": [
    "The following requires you to put the 20-pin connector from the USERIO pins on the CW-HUSKY to the JTAG header on the CW313 target board. With that connected, you have the following:\n",
    "\n",
    "* d[2] = nrst\n",
    "* d[3] = tdo\n",
    "* d[4] = rclk\n",
    "* d[5] = tck\n",
    "* d[6] = tms\n",
    "* d[7] = tdi\n",
    "\n",
    "Running the following code will enable bypass mode and then tri-state the TCK & TDI pins. You can then feed a 40 MHz clock into TCK & a 20 MHz clock into TDI, be sure there is a 90 degree phase offset so the rising edge of the 40 MHz clock correctly clocks the 20 MHz clock into TDI.\n",
    "\n",
    "If it worked, you should see a 20 MHz clock coming out of TDO. The 20 MHz clock is what we use to measure the delay in the target device."
   ]
  },
  {
   "cell_type": "code",
   "execution_count": null,
   "id": "90e5b83b",
   "metadata": {},
   "outputs": [],
   "source": [
    "def setup_bypass(verbose=True):\n",
    "    #Take control of TDI, TMS, TCK\n",
    "    scope.userio.direction = 0b11100000\n",
    "    \n",
    "    write(1, 1)\n",
    "    write(1, 1)\n",
    "    write(1, 1)\n",
    "    write(1, 1)\n",
    "    write(1, 1)\n",
    "\n",
    "    write(0, 1) #\n",
    "    write(1, 1)\n",
    "    write(1, 1)\n",
    "    write(0, 1)\n",
    "    write(0, 1)\n",
    "\n",
    "    #Send a bunch of 1's to force bypass mode\n",
    "    for i in range(0, 10):\n",
    "        write(0, 1)\n",
    "\n",
    "    #exit shift-IR state\n",
    "    write(1,1)\n",
    "\n",
    "    write(1, 1)\n",
    "    write(1, 1)\n",
    "    write(0, 1)\n",
    "    write(0, 1)\n",
    "\n",
    "    for i in range(0, 10):\n",
    "        write(0, 0)\n",
    "\n",
    "    tdo_result = []\n",
    "\n",
    "    for i in range(0, 10):\n",
    "        tdo_result.append(read_tdo_status())\n",
    "        if i == 0:\n",
    "            write(0, 1)\n",
    "        else:\n",
    "            write(0, 0)\n",
    "\n",
    "    if tdo_result[0:10] == [False, True, False, False, False, False, False, False, False, False]:\n",
    "        if verbose:\n",
    "            print(\"JTAG Setup successful - bypass mode enabled, saw '1' sequence successfuly\")\n",
    "        return True\n",
    "    else:\n",
    "        if verbose:\n",
    "            print(\"JTAG Setup not successful\")\n",
    "            print(tdo_result)\n",
    "        return False"
   ]
  },
  {
   "cell_type": "code",
   "execution_count": null,
   "id": "0d3daa36",
   "metadata": {},
   "outputs": [],
   "source": [
    "jtag_clkout(False)\n",
    "setup_bypass()"
   ]
  },
  {
   "cell_type": "markdown",
   "id": "2149a615",
   "metadata": {},
   "source": [
    "The following will turn on the TDI/TCK clock. If you externally jumper TDO to HS1 you can confirm the clock is coming back OK."
   ]
  },
  {
   "cell_type": "code",
   "execution_count": null,
   "id": "13a2d65f",
   "metadata": {},
   "outputs": [],
   "source": [
    "jtag_clkout(True)"
   ]
  },
  {
   "cell_type": "code",
   "execution_count": null,
   "id": "6477b3b9",
   "metadata": {},
   "outputs": [],
   "source": [
    "scope.clock"
   ]
  },
  {
   "cell_type": "markdown",
   "id": "7f19d853",
   "metadata": {},
   "source": [
    "## ChipWhisperer Measurement Setup"
   ]
  },
  {
   "cell_type": "code",
   "execution_count": null,
   "id": "43aeed49",
   "metadata": {},
   "outputs": [],
   "source": [
    "jtag_clkout(False)"
   ]
  },
  {
   "cell_type": "code",
   "execution_count": null,
   "id": "0cb99781",
   "metadata": {},
   "outputs": [],
   "source": [
    "setup_bypass()"
   ]
  },
  {
   "cell_type": "code",
   "execution_count": null,
   "id": "124837b5",
   "metadata": {},
   "outputs": [],
   "source": [
    "jtag_clkout(True)"
   ]
  },
  {
   "cell_type": "code",
   "execution_count": null,
   "id": "59399d59",
   "metadata": {},
   "outputs": [],
   "source": [
    "scope.gain.mode = \"low\"\n",
    "scope.gain.gain = 10"
   ]
  },
  {
   "cell_type": "code",
   "execution_count": null,
   "id": "54678d86",
   "metadata": {},
   "outputs": [],
   "source": [
    "scope.io.nrst = None"
   ]
  },
  {
   "cell_type": "markdown",
   "id": "837e1dd6",
   "metadata": {},
   "source": [
    "### TVLA for Jitter Measurement\n",
    "\n",
    "We'll now capture 3 T-Test datasets:\n",
    "\n",
    "1. Where the JTAG bypass loop is enabled, and a clock is fed in\n",
    "2. Where the JTAG bypass loop is enabled, but the clock is stopped (this will force the I/O pin to a constant state)\n",
    "3. Where the JTAG bypass loops is disabled, but the clock is running (don't expect good results, but a good baseline)"
   ]
  },
  {
   "cell_type": "code",
   "execution_count": null,
   "id": "3a6f2d72",
   "metadata": {},
   "outputs": [],
   "source": [
    "scope.adc.samples = 10000"
   ]
  },
  {
   "cell_type": "code",
   "execution_count": null,
   "id": "6575f660",
   "metadata": {},
   "outputs": [],
   "source": [
    "scope.clock"
   ]
  },
  {
   "cell_type": "code",
   "execution_count": null,
   "id": "d1d03b66",
   "metadata": {},
   "outputs": [],
   "source": [
    "scope.gain.gain = 45"
   ]
  },
  {
   "cell_type": "code",
   "execution_count": null,
   "id": "a8620e4d",
   "metadata": {},
   "outputs": [],
   "source": [
    "splot = cw.StreamPlot()\n",
    "splot.plot()"
   ]
  },
  {
   "cell_type": "code",
   "execution_count": null,
   "id": "cfc7ec99",
   "metadata": {},
   "outputs": [],
   "source": [
    "scope.clock"
   ]
  },
  {
   "cell_type": "markdown",
   "id": "9123589b",
   "metadata": {},
   "source": [
    "**Dataset #1:** The JTAG clock was turned on earlier, so we just do a capture."
   ]
  },
  {
   "cell_type": "code",
   "execution_count": null,
   "id": "86bd8212",
   "metadata": {},
   "outputs": [],
   "source": [
    "group1, group2 = capture_ttest(10000, splot=splot)"
   ]
  },
  {
   "cell_type": "code",
   "execution_count": null,
   "id": "034f93ea",
   "metadata": {},
   "outputs": [],
   "source": [
    "#nptsave(\"cwhusky_jtag_mixer_15mhzcpu_30mhzadc_10ktraces_sync\", group1, group2)"
   ]
  },
  {
   "cell_type": "markdown",
   "id": "bdad670f",
   "metadata": {},
   "source": [
    "**Dataset #2:** Turn off the clock, which will leave TDO driving a constant value and still \"connected\" to the bypass register."
   ]
  },
  {
   "cell_type": "code",
   "execution_count": null,
   "id": "fb531b94",
   "metadata": {},
   "outputs": [],
   "source": [
    "jtag_clkout(False)"
   ]
  },
  {
   "cell_type": "code",
   "execution_count": null,
   "id": "13eb1ce5",
   "metadata": {},
   "outputs": [],
   "source": [
    "group1, group2 = capture_ttest(10000, splot=splot)"
   ]
  },
  {
   "cell_type": "code",
   "execution_count": null,
   "id": "e4b0cb54",
   "metadata": {},
   "outputs": [],
   "source": [
    "#nptsave(\"cwhusky_jtag_mixer_clockoff_15mhzcpu_30mhzadc_10ktraces_sync\", group1, group2)"
   ]
  },
  {
   "cell_type": "markdown",
   "id": "9cdc395f",
   "metadata": {},
   "source": [
    "**Dataset #3:** Power cycle the target, which will force it back to a \"normal power up state\" as if we never did any JTAG stuff. Could also do a JTAG reset (send TMS/TDI high five times), but we do this in case other stuff happened."
   ]
  },
  {
   "cell_type": "code",
   "execution_count": null,
   "id": "824f659c",
   "metadata": {},
   "outputs": [],
   "source": [
    "scope.io.target_pwr = False\n",
    "time.sleep(0.25)\n",
    "scope.io.target_pwr = True"
   ]
  },
  {
   "cell_type": "code",
   "execution_count": null,
   "id": "94075b64",
   "metadata": {},
   "outputs": [],
   "source": [
    "# Turn clock back on\n",
    "jtag_clkout(True)"
   ]
  },
  {
   "cell_type": "code",
   "execution_count": null,
   "id": "6ac7f098",
   "metadata": {},
   "outputs": [],
   "source": [
    "group1, group2 = capture_ttest(10000, splot=splot)"
   ]
  },
  {
   "cell_type": "code",
   "execution_count": null,
   "id": "9761de67",
   "metadata": {},
   "outputs": [],
   "source": [
    "#nptsave(\"cwhusky_jtag_mixer_tclknobypass_15mhzcpu_30mhzadc_10ktraces_sync\", group1, group2)"
   ]
  },
  {
   "cell_type": "markdown",
   "id": "8c6e80f7",
   "metadata": {},
   "source": [
    "#### In-Notebook Analysis (mostly for debug)\n",
    "\n",
    "The T-Test results notebook is used for plotting, this is used for checking averages and results when you can't wait."
   ]
  },
  {
   "cell_type": "code",
   "execution_count": null,
   "id": "06dc6635",
   "metadata": {},
   "outputs": [],
   "source": [
    "import numpy as np\n",
    "mean1 = np.mean(group1, axis=0)#[2000:]\n",
    "mean2 = np.mean(group2, axis=0)#[2000:]\n",
    "cw.plot(mean2) * cw.plot(mean1)"
   ]
  },
  {
   "cell_type": "code",
   "execution_count": null,
   "id": "6992ec51",
   "metadata": {},
   "outputs": [],
   "source": [
    "from scipy.stats import ttest_ind\n",
    "t_val = ttest_ind(group1, group2, axis=0, equal_var=False)[0]"
   ]
  },
  {
   "cell_type": "code",
   "execution_count": null,
   "id": "ef2237b8",
   "metadata": {},
   "outputs": [],
   "source": [
    "plt.figure()\n",
    "plot_t(t_val, 10000, \"Debug\")\n",
    "plt.show()"
   ]
  },
  {
   "cell_type": "markdown",
   "id": "eeb61b4f",
   "metadata": {},
   "source": [
    "## CPA Measurements"
   ]
  },
  {
   "cell_type": "markdown",
   "id": "858f3dd7",
   "metadata": {},
   "source": [
    "### With Mixer, with TDI/TDO Clock"
   ]
  },
  {
   "cell_type": "code",
   "execution_count": null,
   "id": "cb42d0d5",
   "metadata": {},
   "outputs": [],
   "source": [
    "scope.gain.gain = 45"
   ]
  },
  {
   "cell_type": "code",
   "execution_count": null,
   "id": "76959744",
   "metadata": {},
   "outputs": [],
   "source": [
    "jtag_clkout(False)"
   ]
  },
  {
   "cell_type": "code",
   "execution_count": null,
   "id": "57f7ffb8",
   "metadata": {},
   "outputs": [],
   "source": [
    "setup_bypass()"
   ]
  },
  {
   "cell_type": "code",
   "execution_count": null,
   "id": "a525057a",
   "metadata": {},
   "outputs": [],
   "source": [
    "jtag_clkout(True)"
   ]
  },
  {
   "cell_type": "code",
   "execution_count": null,
   "id": "a51a733b",
   "metadata": {},
   "outputs": [],
   "source": [
    "from tqdm.notebook import trange\n",
    "import numpy as np\n",
    "import time\n",
    "\n",
    "ktp = cw.ktp.Basic() # default - fixed key, random plaintext\n",
    "\n",
    "textins = []\n",
    "textouts = []\n",
    "waves = []\n",
    "keys = []\n",
    "\n",
    "N = 100000\n",
    "for i in trange(N, desc='Capturing traces'):\n",
    "    key, text = ktp.next() # new plaintext, same key\n",
    "    #ps.runBlock()\n",
    "    trace = cw.capture_trace(scope, target, text, key) # set key, send plaintext, receive ciphertext, capture power trace\n",
    "    if not trace:\n",
    "        continue\n",
    "    \n",
    "    #while ps.isReady() == False:\n",
    "    #    continue\n",
    "    \n",
    "    #wave = ps.getDataV('A')\n",
    "    \n",
    "    wave = trace.wave\n",
    " \n",
    "    waves.append(wave)\n",
    "    textins.append(trace.textin)\n",
    "    textouts.append(trace.textout)\n",
    "    keys.append(trace.key)\n",
    "\n",
    "    # Update our plot with a new trace\n",
    "    if i % 100 == 0:\n",
    "        splot.update(wave) # wave is the name for the data for our power trace\n",
    "        \n",
    "    if i % 10000 == 0:\n",
    "        raise IOError(\"Change 'False' to True and run this again\")\n",
    "        try:\n",
    "            print(\"Attempting save at {:d}\".format(i))            \n",
    "            save_ets(waves, textins, textouts, keys, \"d:/data_store/cwhusky_jtag_mixer_15mhzcpu_30mhzadc_sync_k.ets\", overwrite=False)\n",
    "            print(\"phew\")\n",
    "        except:\n",
    "            print(\"Hmm... save failed, skipped!\")\n",
    "            pass"
   ]
  },
  {
   "cell_type": "code",
   "execution_count": null,
   "id": "8327469e",
   "metadata": {},
   "outputs": [],
   "source": [
    "#save_ets(waves, textins, textouts, keys, \"d:/data_store/cwhusky_jtag_mixer_15mhzcpu_30mhzadc_sync_k.ets\", overwrite=True)"
   ]
  },
  {
   "cell_type": "markdown",
   "id": "f74bd121",
   "metadata": {},
   "source": [
    "### Baseline with clock off (I/O pin measurement)"
   ]
  },
  {
   "cell_type": "code",
   "execution_count": null,
   "id": "1e119c02",
   "metadata": {},
   "outputs": [],
   "source": [
    "# Turn clock off\n",
    "jtag_clkout(False)"
   ]
  },
  {
   "cell_type": "code",
   "execution_count": null,
   "id": "812ba4e1",
   "metadata": {},
   "outputs": [],
   "source": [
    "scope.gain.gain = 65"
   ]
  },
  {
   "cell_type": "code",
   "execution_count": null,
   "id": "bb6a4647",
   "metadata": {},
   "outputs": [],
   "source": [
    "from tqdm.notebook import trange\n",
    "import numpy as np\n",
    "import time\n",
    "\n",
    "ktp = cw.ktp.Basic() # default - fixed key, random plaintext\n",
    "\n",
    "textins = []\n",
    "textouts = []\n",
    "waves = []\n",
    "keys = []\n",
    "\n",
    "N = 100000\n",
    "for i in trange(N, desc='Capturing traces'):\n",
    "    key, text = ktp.next() # new plaintext, same key\n",
    "    #ps.runBlock()\n",
    "    trace = cw.capture_trace(scope, target, text, key) # set key, send plaintext, receive ciphertext, capture power trace\n",
    "    if not trace:\n",
    "        continue\n",
    "    \n",
    "    #while ps.isReady() == False:\n",
    "    #    continue\n",
    "    \n",
    "    #wave = ps.getDataV('A')\n",
    "    \n",
    "    wave = trace.wave\n",
    " \n",
    "    waves.append(wave)\n",
    "    textins.append(trace.textin)\n",
    "    textouts.append(trace.textout)\n",
    "    keys.append(trace.key)\n",
    "\n",
    "    # Update our plot with a new trace\n",
    "    if i % 100 == 0:\n",
    "        splot.update(wave) # wave is the name for the data for our power trace\n",
    "        \n",
    "    if i % 10000 == 0:\n",
    "        raise IOError(\"Change 'False' to True and run this again, comment out this line\")\n",
    "        try:\n",
    "            print(\"Attempting save at {:d}\".format(i))\n",
    "            save_ets(waves, textins, textouts, keys, \"d:/data_store/cwhusky_jtagclockoff_mixer_15mhzcpu_30mhzadc_sync.ets\", overwrite=False)\n",
    "            print(\"phew\")\n",
    "        except:\n",
    "            print(\"Hmm... save failed, skipped!\")\n",
    "            pass"
   ]
  },
  {
   "cell_type": "code",
   "execution_count": null,
   "id": "43be70be",
   "metadata": {},
   "outputs": [],
   "source": [
    "#save_ets(waves, textins, textouts, keys, \"d:/data_store/cwhusky_jtagclockoff_mixer_15mhzcpu_30mhzadc_sync.ets\", overwrite=True)"
   ]
  },
  {
   "cell_type": "markdown",
   "id": "7383a323",
   "metadata": {},
   "source": [
    "## Baseline for CPA"
   ]
  },
  {
   "cell_type": "code",
   "execution_count": null,
   "id": "d1353e73",
   "metadata": {},
   "outputs": [],
   "source": [
    "# Turn clock off\n",
    "jtag_clkout(False)"
   ]
  },
  {
   "cell_type": "code",
   "execution_count": null,
   "id": "971d6a9a",
   "metadata": {},
   "outputs": [],
   "source": [
    "scope.adc"
   ]
  },
  {
   "cell_type": "code",
   "execution_count": null,
   "id": "bfe9364c",
   "metadata": {},
   "outputs": [],
   "source": [
    "scope.gain.gain = 50"
   ]
  },
  {
   "cell_type": "code",
   "execution_count": null,
   "id": "464141e9",
   "metadata": {},
   "outputs": [],
   "source": [
    "from tqdm.notebook import trange\n",
    "import numpy as np\n",
    "import time\n",
    "\n",
    "ktp = cw.ktp.Basic() # default - fixed key, random plaintext\n",
    "\n",
    "textins = []\n",
    "textouts = []\n",
    "waves = []\n",
    "keys = []\n",
    "\n",
    "N = 5000\n",
    "for i in trange(N, desc='Capturing traces'):\n",
    "    key, text = ktp.next() # new plaintext, same key\n",
    "    #ps.runBlock()\n",
    "    trace = cw.capture_trace(scope, target, text, key) # set key, send plaintext, receive ciphertext, capture power trace\n",
    "    if not trace:\n",
    "        continue\n",
    "    \n",
    "    #while ps.isReady() == False:\n",
    "    #    continue\n",
    "    \n",
    "    #wave = ps.getDataV('A')\n",
    "    \n",
    "    wave = trace.wave\n",
    " \n",
    "    waves.append(wave)\n",
    "    textins.append(trace.textin)\n",
    "    textouts.append(trace.textout)\n",
    "    keys.append(trace.key)\n",
    "\n",
    "    # Update our plot with a new trace\n",
    "    if i % 100 == 0:\n",
    "        splot.update(wave) # wave is the name for the data for our power trace"
   ]
  },
  {
   "cell_type": "code",
   "execution_count": null,
   "id": "ce98030a",
   "metadata": {},
   "outputs": [],
   "source": [
    "#save_ets(waves, textins, textouts, keys, \"d:/data_store/cwhusky_shunt_15mhzcpu_30mhzadc_sync.ets\", overwrite=True)"
   ]
  },
  {
   "cell_type": "code",
   "execution_count": null,
   "id": "d18886ed",
   "metadata": {},
   "outputs": [],
   "source": [
    "group1, group2 = capture_ttest(10000, splot=splot)"
   ]
  },
  {
   "cell_type": "code",
   "execution_count": null,
   "id": "467d4efe",
   "metadata": {},
   "outputs": [],
   "source": [
    "#nptsave(\"cwhusky_shunt_15mhzcpu_30mhzadc_10ktraces_sync\", group1, group2)"
   ]
  },
  {
   "cell_type": "code",
   "execution_count": null,
   "id": "245f7c7b",
   "metadata": {},
   "outputs": [],
   "source": []
  },
  {
   "cell_type": "code",
   "execution_count": null,
   "id": "6037a943",
   "metadata": {},
   "outputs": [],
   "source": [
    "target"
   ]
  },
  {
   "cell_type": "code",
   "execution_count": null,
   "id": "5265a47a",
   "metadata": {},
   "outputs": [],
   "source": [
    "# Turn clock off\n",
    "jtag_clkout(True)"
   ]
  },
  {
   "cell_type": "code",
   "execution_count": null,
   "id": "3fd75591",
   "metadata": {},
   "outputs": [],
   "source": [
    "scope.gain.gain = 50"
   ]
  },
  {
   "cell_type": "code",
   "execution_count": null,
   "id": "d048f871",
   "metadata": {},
   "outputs": [],
   "source": [
    "from tqdm.notebook import trange\n",
    "import numpy as np\n",
    "import time\n",
    "\n",
    "ktp = cw.ktp.Basic() # default - fixed key, random plaintext\n",
    "\n",
    "textins = []\n",
    "textouts = []\n",
    "waves = []\n",
    "keys = []\n",
    "\n",
    "N = 5000\n",
    "for i in trange(N, desc='Capturing traces'):\n",
    "    key, text = ktp.next() # new plaintext, same key\n",
    "    #ps.runBlock()\n",
    "    trace = cw.capture_trace(scope, target, text, key) # set key, send plaintext, receive ciphertext, capture power trace\n",
    "    if not trace:\n",
    "        continue\n",
    "    \n",
    "    #while ps.isReady() == False:\n",
    "    #    continue\n",
    "    \n",
    "    #wave = ps.getDataV('A')\n",
    "    \n",
    "    wave = trace.wave\n",
    " \n",
    "    waves.append(wave)\n",
    "    textins.append(trace.textin)\n",
    "    textouts.append(trace.textout)\n",
    "    keys.append(trace.key)\n",
    "\n",
    "    # Update our plot with a new trace\n",
    "    if i % 100 == 0:\n",
    "        splot.update(wave) # wave is the name for the data for our power trace"
   ]
  },
  {
   "cell_type": "code",
   "execution_count": null,
   "id": "828241c4",
   "metadata": {},
   "outputs": [],
   "source": [
    "#save_ets(waves, textins, textouts, keys, \"d:/data_store/cwhusky_shunt_withtditck_15mhzcpu_30mhzadc_sync.ets\", overwrite=False)"
   ]
  },
  {
   "cell_type": "markdown",
   "id": "1ded68c4",
   "metadata": {},
   "source": [
    "## Countermeasure Testing"
   ]
  },
  {
   "cell_type": "markdown",
   "id": "55c973d7",
   "metadata": {},
   "source": [
    "### Countermeasure Description\n",
    "\n",
    "The countermeasure is run on a TinyFPGA BX. It uses a 148 MHz clock to \"reclock\" the TDO line. This doesn't seem to impact usage of JTAG tools at normal speeds (250kHz - 10 MHz).\n",
    "\n",
    "\n",
    "```\n",
    "module top (\n",
    "   input  CLK,   // 16 MHz on-board clock\n",
    "   output LED,   // on-board LED\n",
    "   output USBPU,  // USB pull-up enable, set low to disable\n",
    "\n",
    "   input PIN_2,\n",
    "   output PIN_3,\n",
    "   output PIN_13\n",
    "\n",
    "\n",
    "   );\n",
    "\n",
    "    /**\n",
    "    * PLL configuration\n",
    "    *\n",
    "    * This Verilog module was generated automatically\n",
    "    * using the icepll tool from the IceStorm project.\n",
    "    * Use at your own risk.\n",
    "    *\n",
    "    * Given input frequency:        16.000 MHz\n",
    "    * Requested output frequency:  150.000 MHz\n",
    "    * Achieved output frequency:   148.000 MHz\n",
    "    */\n",
    "    wire clock_in;\n",
    "    wire clock_out;\n",
    "    wire locked;\n",
    "    SB_PLL40_CORE #(\n",
    "                    .FEEDBACK_PATH(\"SIMPLE\"),\n",
    "                    .DIVR(4'b0000),         // DIVR =  0\n",
    "                    .DIVF(7'b0100100),      // DIVF = 36\n",
    "                    .DIVQ(3'b010),          // DIVQ =  2\n",
    "                    .FILTER_RANGE(3'b001)   // FILTER_RANGE = 1\n",
    "            ) uut (\n",
    "                    .LOCK(locked),\n",
    "                    .RESETB(1'b1),\n",
    "                    .BYPASS(1'b0),\n",
    "                    .REFERENCECLK(clock_in),\n",
    "                    .PLLOUTCORE(clock_out)\n",
    "                    );\n",
    "\n",
    "\n",
    "  reg relatched;\n",
    "  wire clock;\n",
    "\n",
    "  //PLL connection\n",
    "  assign clock_in = CLK;\n",
    "  assign clock = clock_out;\n",
    "\n",
    "  //Countermeasure OFF - uncomment this line, comment out the below\n",
    "  //assign relatched = PIN_2;\n",
    "\n",
    "\n",
    "  //Countermeasure ON - uncomment this line, comment out hte above\n",
    "  always @(posedge clock) relatched <= PIN_2;\n",
    "\n",
    "   assign PIN_3 = relatched;\n",
    "   assign PIN_13 = relatched;\n",
    "\n",
    "\n",
    "   assign LED = 1'b1;  // blink on-board LED every second\n",
    "   assign USBPU = 1'b0;   // disable USB\n",
    "endmodule  // top\n",
    "```\n",
    "\n",
    "To program the board, `tinyprog` is used:\n",
    "\n",
    "```\n",
    "!pip install tinyprog\n",
    "```\n",
    "\n",
    "Note the board is powered from 3.3V from the target device. The USB is only connected during programming.\n",
    "\n",
    "### CW Setup"
   ]
  },
  {
   "cell_type": "code",
   "execution_count": null,
   "id": "889e2764",
   "metadata": {},
   "outputs": [],
   "source": [
    "scope.clock"
   ]
  },
  {
   "cell_type": "markdown",
   "id": "b725f20a",
   "metadata": {},
   "source": [
    "### Countermeasure - FPGA inserted, but direct connection (no reclocking)\n",
    "\n",
    "The second baseline is where the TinyFPGA is inserted into the TDO pin, but the countermeasure is \"disabled\" by just doing this in the FPGA design:\n",
    "\n",
    "```\n",
    "assign relatched = PIN_21;\n",
    "```\n",
    "\n",
    "This means no reclocking is happening. This is to check how much jitter is added just by the additional digital path."
   ]
  },
  {
   "cell_type": "code",
   "execution_count": null,
   "id": "baab6fa4",
   "metadata": {},
   "outputs": [],
   "source": [
    "!tinyprog -p \"firmwares/ice40_countermeasure_off_jtagcable.bin\" -b"
   ]
  },
  {
   "cell_type": "code",
   "execution_count": null,
   "id": "10729b18",
   "metadata": {},
   "outputs": [],
   "source": [
    "jtag_clkout(False)\n",
    "setup_bypass()"
   ]
  },
  {
   "cell_type": "code",
   "execution_count": null,
   "id": "770c50ea",
   "metadata": {},
   "outputs": [],
   "source": [
    "jtag_clkout(True)"
   ]
  },
  {
   "cell_type": "code",
   "execution_count": null,
   "id": "c08d75b5",
   "metadata": {
    "scrolled": true
   },
   "outputs": [],
   "source": [
    "scope.gain.gain = 45\n",
    "scope.gain.mode = \"low\"\n",
    "scope.gain"
   ]
  },
  {
   "cell_type": "code",
   "execution_count": null,
   "id": "96b067fe",
   "metadata": {},
   "outputs": [],
   "source": [
    "splot = cw.StreamPlot()\n",
    "splot.plot()"
   ]
  },
  {
   "cell_type": "code",
   "execution_count": null,
   "id": "aa825d50",
   "metadata": {},
   "outputs": [],
   "source": [
    "N = 10000\n",
    "group1, group2 = capture_ttest(N, picoscope=False, splot=splot)"
   ]
  },
  {
   "cell_type": "code",
   "execution_count": null,
   "id": "8372ca06",
   "metadata": {},
   "outputs": [],
   "source": [
    "nptsave(\"cwhusky_jtag_mixerboard_15mhzcpu_30mhzadc_10ktraces_sync_fpgacountermeasuredisabled\", group1, group2)"
   ]
  },
  {
   "cell_type": "markdown",
   "id": "3d6a25a9",
   "metadata": {},
   "source": [
    "### Countermeasure Enabled\n",
    "\n",
    "The same setup as previously, but the FPGA is reprogrammed with the countermeasure."
   ]
  },
  {
   "cell_type": "code",
   "execution_count": null,
   "id": "c376c2f0",
   "metadata": {},
   "outputs": [],
   "source": [
    "!tinyprog -p \"firmwares/ice40_countermeasure_on_jtagcable.bin\" -b"
   ]
  },
  {
   "cell_type": "code",
   "execution_count": null,
   "id": "cbe3ba87",
   "metadata": {},
   "outputs": [],
   "source": [
    "jtag_clkout(False)\n",
    "setup_bypass()"
   ]
  },
  {
   "cell_type": "code",
   "execution_count": null,
   "id": "73bcae53",
   "metadata": {},
   "outputs": [],
   "source": [
    "jtag_clkout(True)"
   ]
  },
  {
   "cell_type": "code",
   "execution_count": null,
   "id": "ee9e098c",
   "metadata": {},
   "outputs": [],
   "source": [
    "N = 10000\n",
    "group1, group2 = capture_ttest(N, picoscope=False, splot=splot)"
   ]
  },
  {
   "cell_type": "code",
   "execution_count": null,
   "id": "a76a7c5e",
   "metadata": {},
   "outputs": [],
   "source": [
    "nptsave(\"cwhusky_jtag_mixerboard_15mhzcpu_30mhzadc_10ktraces_sync_fpgacountermeasureenabled\", group1, group2)"
   ]
  },
  {
   "cell_type": "code",
   "execution_count": null,
   "id": "d0f29c5a",
   "metadata": {},
   "outputs": [],
   "source": []
  },
  {
   "cell_type": "code",
   "execution_count": null,
   "id": "4bbbf5e7",
   "metadata": {},
   "outputs": [],
   "source": [
    "scope.gain.gain = 30\n",
    "scope.gain.mode = \"low\"\n",
    "scope.gain"
   ]
  },
  {
   "cell_type": "code",
   "execution_count": null,
   "id": "cb0d8404",
   "metadata": {},
   "outputs": [],
   "source": [
    "from tqdm.notebook import trange\n",
    "import numpy as np\n",
    "import time\n",
    "\n",
    "ktp = cw.ktp.Basic() # default - fixed key, random plaintext\n",
    "\n",
    "textins = []\n",
    "textouts = []\n",
    "waves = []\n",
    "keys = []\n",
    "\n",
    "N = 100000\n",
    "for i in trange(N, desc='Capturing traces'):\n",
    "    key, text = ktp.next() # new plaintext, same key\n",
    "    #ps.runBlock()\n",
    "    trace = cw.capture_trace(scope, target, text, key) # set key, send plaintext, receive ciphertext, capture power trace\n",
    "    if not trace:\n",
    "        continue\n",
    "    \n",
    "    #while ps.isReady() == False:\n",
    "    #    continue\n",
    "    \n",
    "    #wave = ps.getDataV('A')\n",
    "    \n",
    "    wave = trace.wave\n",
    " \n",
    "    waves.append(wave)\n",
    "    textins.append(trace.textin)\n",
    "    textouts.append(trace.textout)\n",
    "    keys.append(trace.key)\n",
    "\n",
    "    # Update our plot with a new trace\n",
    "    if i % 100 == 0:\n",
    "        splot.update(wave) # wave is the name for the data for our power trace\n",
    "        \n",
    "    if i % 10000 == 0:\n",
    "        try:\n",
    "            print(\"Attempting save at {:d}\".format(i))\n",
    "            raise IOError(\"Change 'False' to True and run this again\")\n",
    "            save_ets(waves, textins, textouts, keys, \"d:/data_store/cwhusky_jtagcounetmeasured_mixer_15mhzcpu_30mhzadc_sync_k.ets\", overwrite=False)\n",
    "            print(\"phew\")\n",
    "        except:\n",
    "            print(\"Hmm... save failed, skipped!\")\n",
    "            pass"
   ]
  },
  {
   "cell_type": "code",
   "execution_count": null,
   "id": "63900574",
   "metadata": {},
   "outputs": [],
   "source": [
    "#save_ets(waves, textins, textouts, keys, \"d:/data_store/cwhusky_jtagcounetmeasured_mixer_15mhzcpu_30mhzadc_sync_k.ets\", overwrite=True)"
   ]
  },
  {
   "cell_type": "code",
   "execution_count": null,
   "id": "2b1f48b9",
   "metadata": {},
   "outputs": [],
   "source": []
  },
  {
   "cell_type": "code",
   "execution_count": null,
   "id": "264212d4",
   "metadata": {},
   "outputs": [],
   "source": []
  },
  {
   "cell_type": "code",
   "execution_count": null,
   "id": "a8ddb82c",
   "metadata": {},
   "outputs": [],
   "source": [
    "scope.clock.clkgen_src = \"extclk\"\n",
    "scope.io.hs2 = None\n",
    "scope.clock.pll.set_outfreqs(15*1E6/2, 15E6, 2, True)"
   ]
  },
  {
   "cell_type": "code",
   "execution_count": null,
   "id": "ed772b7e",
   "metadata": {},
   "outputs": [],
   "source": []
  }
 ],
 "metadata": {
  "kernelspec": {
   "display_name": "Python 3 (ipykernel)",
   "language": "python",
   "name": "python3"
  },
  "language_info": {
   "codemirror_mode": {
    "name": "ipython",
    "version": 3
   },
   "file_extension": ".py",
   "mimetype": "text/x-python",
   "name": "python",
   "nbconvert_exporter": "python",
   "pygments_lexer": "ipython3",
   "version": "3.10.8"
  }
 },
 "nbformat": 4,
 "nbformat_minor": 5
}
