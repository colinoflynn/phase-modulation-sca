{
 "cells": [
  {
   "cell_type": "code",
   "execution_count": null,
   "id": "6517a30e",
   "metadata": {},
   "outputs": [],
   "source": [
    "import numpy as np\n",
    "import chipwhisperer as cw\n",
    "import os"
   ]
  },
  {
   "cell_type": "code",
   "execution_count": null,
   "id": "2f75aaac",
   "metadata": {},
   "outputs": [],
   "source": [
    "%run \"functions.ipynb\""
   ]
  },
  {
   "cell_type": "code",
   "execution_count": null,
   "id": "6b6d7613",
   "metadata": {},
   "outputs": [],
   "source": [
    "data_dir = \"d:/data_store\""
   ]
  },
  {
   "cell_type": "markdown",
   "id": "49e5e97c",
   "metadata": {},
   "source": [
    "## ChipWhisperer Configuration (Shared)"
   ]
  },
  {
   "cell_type": "code",
   "execution_count": null,
   "id": "aeead019",
   "metadata": {},
   "outputs": [],
   "source": [
    "# Set hardware settings\n",
    "SCOPETYPE = 'OPENADC'\n",
    "PLATFORM = 'CW308_SAM4S'\n",
    "CRYPTO_TARGET='TINYAES128C' # 'TINYAES128C' or 'MBEDTLS'\n",
    "SS_VER='SS_VER_2_1'"
   ]
  },
  {
   "cell_type": "code",
   "execution_count": null,
   "id": "09febd52",
   "metadata": {},
   "outputs": [],
   "source": [
    "# Connect to ChipWhisperer\n",
    "%run \"../../../Setup_Scripts/Setup_Generic.ipynb\""
   ]
  },
  {
   "cell_type": "markdown",
   "id": "884eb7d4",
   "metadata": {},
   "source": [
    "### Firmware Programming"
   ]
  },
  {
   "cell_type": "code",
   "execution_count": null,
   "id": "b138b93b",
   "metadata": {},
   "outputs": [],
   "source": [
    "# program firmware onto target\n",
    "cw.program_target(scope, prog, \"./firmwares/fw-120mhz-clkout.hex\")"
   ]
  },
  {
   "cell_type": "code",
   "execution_count": null,
   "id": "acf44fe9",
   "metadata": {},
   "outputs": [],
   "source": [
    "#Baud is lower so it works from internal oscillator which isn't as precise\n",
    "target.baud = 38400"
   ]
  },
  {
   "cell_type": "code",
   "execution_count": null,
   "id": "981ab5fc",
   "metadata": {},
   "outputs": [],
   "source": [
    "scope.io.hs2 = None"
   ]
  },
  {
   "cell_type": "code",
   "execution_count": null,
   "id": "84d652c8",
   "metadata": {},
   "outputs": [],
   "source": [
    "scope.io.target_pwr = False\n",
    "time.sleep(0.25)\n",
    "scope.io.target_pwr = True"
   ]
  },
  {
   "cell_type": "markdown",
   "id": "f08f162e",
   "metadata": {},
   "source": [
    "## Mixer Measurement - Clock from Device Cleaned Up"
   ]
  },
  {
   "cell_type": "code",
   "execution_count": null,
   "id": "b3350c3a",
   "metadata": {},
   "outputs": [],
   "source": [
    "def tcapture(prefix, syncstr, fmcu, msps):\n",
    "    N = 10000\n",
    "    group1, group2 = capture_ttest(N, picoscope=False, splot=splot)\n",
    "    nptsave(prefix + \"{:d}mhz_{:s}_{:d}msps_ttest_10k\".format(fmcu, syncstr, msps), group1, group2)"
   ]
  },
  {
   "cell_type": "code",
   "execution_count": null,
   "id": "ed40a0ba",
   "metadata": {},
   "outputs": [],
   "source": [
    "import time\n",
    "scope.clock.clkgen_src = \"extclk\""
   ]
  },
  {
   "cell_type": "code",
   "execution_count": null,
   "id": "d6b3c918",
   "metadata": {},
   "outputs": [],
   "source": [
    "scope.clock.pll.set_outfreqs(60E6, 60E6, 2, True)"
   ]
  },
  {
   "cell_type": "markdown",
   "id": "332a18e9",
   "metadata": {},
   "source": [
    "Check that you've got a clkgen_freq around 60MHz, adc_freq around 120MHz, and freq_ctr is measuring the clock on HS1 as around 60MHz. Things won't be perfect due to the SAM4S2A internal oscillator.\n",
    "\n",
    "If you don't see the right frequencies, check jumpers on the isolator board."
   ]
  },
  {
   "cell_type": "code",
   "execution_count": null,
   "id": "c13145c3",
   "metadata": {},
   "outputs": [],
   "source": [
    "scope.clock"
   ]
  },
  {
   "cell_type": "code",
   "execution_count": null,
   "id": "23c467f7",
   "metadata": {},
   "outputs": [],
   "source": [
    "scope.io.hs2 = \"clkgen\""
   ]
  },
  {
   "cell_type": "code",
   "execution_count": null,
   "id": "8ad97b91",
   "metadata": {},
   "outputs": [],
   "source": [
    "scope.gain.mode = \"low\"\n",
    "scope.gain.gain = 45"
   ]
  },
  {
   "cell_type": "code",
   "execution_count": null,
   "id": "fe28d9ba",
   "metadata": {},
   "outputs": [],
   "source": [
    "scope.adc.samples = 10000"
   ]
  },
  {
   "cell_type": "code",
   "execution_count": null,
   "id": "7d9c6360",
   "metadata": {},
   "outputs": [],
   "source": [
    "splot = cw.StreamPlot()\n",
    "splot.plot()"
   ]
  },
  {
   "cell_type": "code",
   "execution_count": null,
   "id": "0291b9c3",
   "metadata": {},
   "outputs": [],
   "source": [
    "tcapture(\"mixer_bothclks_defaultfilter_\", \"sync\", 120, 120)"
   ]
  },
  {
   "cell_type": "code",
   "execution_count": null,
   "id": "e08759ad",
   "metadata": {},
   "outputs": [],
   "source": [
    "scope.adc.samples = 5000"
   ]
  },
  {
   "cell_type": "code",
   "execution_count": null,
   "id": "67f6eb27",
   "metadata": {},
   "outputs": [],
   "source": [
    "waves, textins, textouts, keys = capture_cpa(5000, splot=splot)"
   ]
  },
  {
   "cell_type": "code",
   "execution_count": null,
   "id": "11887e4d",
   "metadata": {},
   "outputs": [],
   "source": [
    "save_ets(waves, textins, textouts, keys, \"d:/data_store/mixer_default_120mhz_sync_120msps_cpa.ets\", overwrite=False)"
   ]
  },
  {
   "cell_type": "markdown",
   "id": "f03e1345",
   "metadata": {},
   "source": [
    "### Adjusting the PLL Loop Bandwidth\n",
    "\n",
    "The CW-Husky uses a CDCI6214, see [datasheet here](https://www.ti.com/lit/ds/symlink/cdci6214.pdf?ts=1711988669125) we write register `1F` to set the PLL loop parameters. \n",
    "\n",
    "* ZeroCap value: 0x10 (480pF)\n",
    "* Resistor value: 0x09 (8.5kOhm)\n",
    "* PoleCap value: 0x14 (19.5pF)\n",
    "\n",
    "This is roughly based on calculations from the TI tools for a lower loop bandwidth than the default."
   ]
  },
  {
   "cell_type": "code",
   "execution_count": null,
   "id": "f0b4c388",
   "metadata": {},
   "outputs": [],
   "source": [
    "pll_loop_filt = 0x10 << 9 | 0x9 << 5 | 0x14 << 0\n",
    "scope.clock.pll.write_reg(0x1f, pll_loop_filt)"
   ]
  },
  {
   "cell_type": "code",
   "execution_count": null,
   "id": "26cd02c9",
   "metadata": {},
   "outputs": [],
   "source": [
    "scope.adc.samples = 10000"
   ]
  },
  {
   "cell_type": "code",
   "execution_count": null,
   "id": "28a7ff89",
   "metadata": {},
   "outputs": [],
   "source": [
    "tcapture(\"mixer_bothclks_slowerfilter_\", \"sync\", 120, 120)"
   ]
  },
  {
   "cell_type": "code",
   "execution_count": null,
   "id": "9f99dff0",
   "metadata": {},
   "outputs": [],
   "source": [
    "scope.adc.samples = 5000"
   ]
  },
  {
   "cell_type": "code",
   "execution_count": null,
   "id": "dac0244e",
   "metadata": {},
   "outputs": [],
   "source": [
    "waves, textins, textouts, keys = capture_cpa(5000, splot=splot)"
   ]
  },
  {
   "cell_type": "code",
   "execution_count": null,
   "id": "6a84677b",
   "metadata": {},
   "outputs": [],
   "source": [
    "save_ets(waves, textins, textouts, keys, \"d:/data_store/mixer_slowerfilter_120mhz_sync_120msps_cpa.ets\", overwrite=False)"
   ]
  },
  {
   "cell_type": "markdown",
   "id": "4caa8fc8",
   "metadata": {},
   "source": [
    "## V-Div ADC Mixer\n",
    "\n",
    "* Remove jumper from CWHS2 to MIX-LOW\n",
    "* Connect SMA to VDIV\n"
   ]
  },
  {
   "cell_type": "code",
   "execution_count": null,
   "id": "f98164b2",
   "metadata": {},
   "outputs": [],
   "source": [
    "scope.io.hs2 = None"
   ]
  },
  {
   "cell_type": "code",
   "execution_count": null,
   "id": "e28dab99",
   "metadata": {},
   "outputs": [],
   "source": [
    "scope.gain.mode = \"high\"\n",
    "scope.gain.gain = 30"
   ]
  },
  {
   "cell_type": "code",
   "execution_count": null,
   "id": "861d702f",
   "metadata": {},
   "outputs": [],
   "source": [
    "tcapture(\"vdiv_\", \"sync\", 120, 120)"
   ]
  },
  {
   "cell_type": "code",
   "execution_count": null,
   "id": "037bf86a",
   "metadata": {},
   "outputs": [],
   "source": [
    "scope.adc.samples = 5000"
   ]
  },
  {
   "cell_type": "code",
   "execution_count": null,
   "id": "e06435b7",
   "metadata": {},
   "outputs": [],
   "source": [
    "waves, textins, textouts, keys = capture_cpa(40000, splot=splot)"
   ]
  },
  {
   "cell_type": "code",
   "execution_count": null,
   "id": "b61e5db9",
   "metadata": {},
   "outputs": [],
   "source": [
    "save_ets(waves, textins, textouts, keys, \"d:/data_store/vdiv_120mhz_sync_120msps_cpa.ets\", overwrite=False)"
   ]
  },
  {
   "cell_type": "markdown",
   "id": "088fcd1c",
   "metadata": {},
   "source": [
    "## Optical Isolator Testing\n",
    "\n",
    "The following uses the optical isolator for T-Test & CPA result saving. For these results the 50 MBaud isolators are used. The CLKOUT is maximum of 60 MHz, so the faster isolators aren't needed.\n",
    "\n",
    "You can avoid mounting U1 and TR1 on the boards (along with all the support parts for those devices).\n",
    "\n",
    "Switch the isolator for the optical board. The HS2 optical connection is not needed, but the other optical connections are needed.\n",
    "\n",
    "On the target isolator board:\n",
    " * Jumper HS1 to the 50MB isolator (the clock runs at 60MHz and seems to work OK still, the faster isolator isn't needed).\n",
    " * Connect a 3xAA battery holder\n",
    "\n",
    "On the CW isolator board:\n",
    " * Jumper HS2 to MIXER-RF (this will connect the cleaned up clock from ChipWhisperer to the mixer)\n",
    " * Jumper 50MB to MIXER-LO\n",
    " * Jumper HS1 to MIXER-LO (this connects the optical isolator to HS1 input on ChipWhisperer)\n",
    " \n",
    "Check the extclock `freq_ctr` is stable at around 60MHz & the `adc_freq` is again close to 120MHz:"
   ]
  },
  {
   "cell_type": "code",
   "execution_count": null,
   "id": "8877054c",
   "metadata": {},
   "outputs": [],
   "source": [
    "scope.clock"
   ]
  },
  {
   "cell_type": "markdown",
   "id": "98ba785d",
   "metadata": {},
   "source": [
    "Turn on the clock to the mixer on the isolator board. If you run this from above you'll be using the tuned PLL parameters still.\n"
   ]
  },
  {
   "cell_type": "code",
   "execution_count": null,
   "id": "52fa9b5a",
   "metadata": {},
   "outputs": [],
   "source": [
    "scope.io.hs2 = \"clkgen\""
   ]
  },
  {
   "cell_type": "code",
   "execution_count": null,
   "id": "05a1deb8",
   "metadata": {},
   "outputs": [],
   "source": [
    "scope.gain.mode = \"low\"\n",
    "scope.gain.gain = 50"
   ]
  },
  {
   "cell_type": "code",
   "execution_count": null,
   "id": "a64da113",
   "metadata": {},
   "outputs": [],
   "source": [
    "scope.adc.samples = 10000"
   ]
  },
  {
   "cell_type": "code",
   "execution_count": null,
   "id": "0d6d228f",
   "metadata": {},
   "outputs": [],
   "source": [
    "tcapture(\"opticalisolator_mixer_bothclks_\", \"sync\", 120, 120)"
   ]
  },
  {
   "cell_type": "code",
   "execution_count": null,
   "id": "ae5f3318",
   "metadata": {},
   "outputs": [],
   "source": [
    "scope.adc.samples = 5000"
   ]
  },
  {
   "cell_type": "code",
   "execution_count": null,
   "id": "b3c0c634",
   "metadata": {},
   "outputs": [],
   "source": [
    "waves, textins, textouts, keys = capture_cpa(5000, splot=splot)"
   ]
  },
  {
   "cell_type": "code",
   "execution_count": null,
   "id": "4c41280a",
   "metadata": {},
   "outputs": [],
   "source": [
    "save_ets(waves, textins, textouts, keys, \"d:/data_store/opticalisolator_mixer_120mhz_sync_120msps_cpa.ets\", overwrite=False)"
   ]
  },
  {
   "cell_type": "code",
   "execution_count": null,
   "id": "3e526854",
   "metadata": {},
   "outputs": [],
   "source": []
  }
 ],
 "metadata": {
  "kernelspec": {
   "display_name": "Python 3 (ipykernel)",
   "language": "python",
   "name": "python3"
  },
  "language_info": {
   "codemirror_mode": {
    "name": "ipython",
    "version": 3
   },
   "file_extension": ".py",
   "mimetype": "text/x-python",
   "name": "python",
   "nbconvert_exporter": "python",
   "pygments_lexer": "ipython3",
   "version": "3.10.8"
  }
 },
 "nbformat": 4,
 "nbformat_minor": 5
}
