{
 "cells": [
  {
   "cell_type": "markdown",
   "id": "fdec5089",
   "metadata": {},
   "source": [
    "# PicoScope: Zero-Crossing Clock Jitter Measurement"
   ]
  },
  {
   "cell_type": "code",
   "execution_count": null,
   "id": "d4d95282",
   "metadata": {},
   "outputs": [],
   "source": [
    "import numpy as np\n",
    "import chipwhisperer as cw\n",
    "import os"
   ]
  },
  {
   "cell_type": "code",
   "execution_count": null,
   "id": "e505f4f3",
   "metadata": {},
   "outputs": [],
   "source": [
    "%run \"functions.ipynb\""
   ]
  },
  {
   "cell_type": "code",
   "execution_count": null,
   "id": "85f46deb",
   "metadata": {},
   "outputs": [],
   "source": [
    "data_dir = \"data_store\""
   ]
  },
  {
   "cell_type": "markdown",
   "id": "9bfd70e6",
   "metadata": {},
   "source": [
    "## ChipWhisperer Configuration (Shared)"
   ]
  },
  {
   "cell_type": "code",
   "execution_count": null,
   "id": "f3736a81",
   "metadata": {},
   "outputs": [],
   "source": [
    "# Set hardware settings\n",
    "SCOPETYPE = 'OPENADC'\n",
    "PLATFORM = 'CW308_SAM4S'\n",
    "CRYPTO_TARGET='TINYAES128C' # 'TINYAES128C' or 'MBEDTLS'\n",
    "SS_VER='SS_VER_2_1'"
   ]
  },
  {
   "cell_type": "code",
   "execution_count": null,
   "id": "311cfad0",
   "metadata": {},
   "outputs": [],
   "source": []
  },
  {
   "cell_type": "code",
   "execution_count": null,
   "id": "50bf0a21",
   "metadata": {},
   "outputs": [],
   "source": [
    "# Connect to ChipWhisperer\n",
    "# You need to fix this path when running!\n",
    "%run \"../../../Setup_Scripts/Setup_Generic.ipynb\""
   ]
  },
  {
   "cell_type": "markdown",
   "id": "10ca23ac",
   "metadata": {},
   "source": [
    "### Build Firmware - Internal Clock Output on Pin"
   ]
  },
  {
   "cell_type": "code",
   "execution_count": null,
   "id": "90ae6bc8",
   "metadata": {},
   "outputs": [],
   "source": [
    "# program firmware onto target\n",
    "cw.program_target(scope, prog, r\"firmwares/fw-120mhz-clkout.hex\")"
   ]
  },
  {
   "cell_type": "code",
   "execution_count": null,
   "id": "c3769572",
   "metadata": {},
   "outputs": [],
   "source": [
    "#Baud is lower so it works from internal oscillator which isn't as precise\n",
    "target.baud = 38400"
   ]
  },
  {
   "cell_type": "markdown",
   "id": "b051965a",
   "metadata": {},
   "source": [
    "### ChipWhisperer Setup - clock from external target only"
   ]
  },
  {
   "cell_type": "code",
   "execution_count": null,
   "id": "e95bd3af",
   "metadata": {},
   "outputs": [],
   "source": [
    "import time\n",
    "scope.clock.clkgen_src = \"extclk\"\n",
    "scope.io.hs2 = None"
   ]
  },
  {
   "cell_type": "code",
   "execution_count": null,
   "id": "886ef61f",
   "metadata": {},
   "outputs": [],
   "source": [
    "scope.clock.pll.set_outfreqs(60E6, 60E6, 2, True)"
   ]
  },
  {
   "cell_type": "code",
   "execution_count": null,
   "id": "d341f7c4",
   "metadata": {},
   "outputs": [],
   "source": [
    "scope.clock"
   ]
  },
  {
   "cell_type": "markdown",
   "id": "89c4b9f7",
   "metadata": {},
   "source": [
    "## PicoScope Capture Setup (Shared for any PicoScope Measurement)\n",
    "\n",
    "This does intial setup, and can be used for a quick shunt comparison\n"
   ]
  },
  {
   "cell_type": "code",
   "execution_count": null,
   "id": "4eb4e613",
   "metadata": {},
   "outputs": [],
   "source": [
    "import os\n",
    "picoinstallpath = os.path.normpath(r\"C:\\Program Files\\Pico Technology\\PicoScope 7 T&M Early Access\")\n",
    "if picoinstallpath not in os.environ['PATH']:\n",
    "    print(\"Adding Pico Install to Path\")\n",
    "    os.environ['PATH'] = picoinstallpath + os.pathsep + os.environ['PATH']\n",
    "else:\n",
    "    print(\"Pico Install Already on Path\")"
   ]
  },
  {
   "cell_type": "code",
   "execution_count": null,
   "id": "b12712bd",
   "metadata": {},
   "outputs": [],
   "source": [
    "from picoscope import ps6000\n",
    "ps = ps6000.PS6000()"
   ]
  },
  {
   "cell_type": "code",
   "execution_count": null,
   "id": "e895bf6a",
   "metadata": {},
   "outputs": [],
   "source": [
    "ps.setChannel(channel='A', coupling='AC', VRange=0.1, VOffset=0.0, enabled=True, BWLimited=0, probeAttenuation=1.0)\n",
    "ps.setChannel(channel='B', coupling='AC', VRange=5.0, VOffset=0.0, enabled=True, BWLimited=0, probeAttenuation=10.0)\n",
    "ps.setChannel(channel='C', enabled=False)\n",
    "ps.setChannel(channel='D', enabled=False)"
   ]
  },
  {
   "cell_type": "code",
   "execution_count": null,
   "id": "cece801c",
   "metadata": {},
   "outputs": [],
   "source": [
    "#Setup timebase\n",
    "samplerate, maxsamples = ps.setSamplingFrequency(1.25E9, 50E3)\n",
    "print(\"Actual = %f GS/s\" % (samplerate/1E9))"
   ]
  },
  {
   "cell_type": "code",
   "execution_count": null,
   "id": "4aa23259",
   "metadata": {},
   "outputs": [],
   "source": [
    "ps.setSimpleTrigger('B', 1.5, timeout_ms=1000)"
   ]
  },
  {
   "cell_type": "code",
   "execution_count": null,
   "id": "dcbbe988",
   "metadata": {},
   "outputs": [],
   "source": []
  },
  {
   "cell_type": "markdown",
   "id": "5b1d4b6d",
   "metadata": {},
   "source": [
    "### T-Test of Shunt Measurement (Setup Validation)"
   ]
  },
  {
   "cell_type": "code",
   "execution_count": null,
   "id": "2bc8bfa1",
   "metadata": {},
   "outputs": [],
   "source": [
    "splot = cw.StreamPlot()\n",
    "splot.plot()"
   ]
  },
  {
   "cell_type": "code",
   "execution_count": null,
   "id": "4154a4d6",
   "metadata": {},
   "outputs": [],
   "source": [
    "N = 1000\n",
    "group1, group2 = capture_ttest(N, picoscope=True, splot=splot)\n",
    "\n",
    "# Uncomment to overwrite\n",
    "#npsave(\"picoscope_shuntmeasurement_tvla_group1.npy\", group1)\n",
    "#npsave(\"picoscope_shuntmeasurement_tvla_group2.npy\", group2)"
   ]
  },
  {
   "cell_type": "markdown",
   "id": "99a4395e",
   "metadata": {},
   "source": [
    "#### Analysis (HW not required)"
   ]
  },
  {
   "cell_type": "code",
   "execution_count": null,
   "id": "2e80bcb8",
   "metadata": {},
   "outputs": [],
   "source": [
    "group1, group2, N = nptload(\"picoscope_shuntmeasurement\")"
   ]
  },
  {
   "cell_type": "code",
   "execution_count": null,
   "id": "8ebb856d",
   "metadata": {},
   "outputs": [],
   "source": [
    "mean1 = np.mean(group1, axis=0)\n",
    "mean2 = np.mean(group2, axis=0)\n",
    "cw.plot(mean2) * cw.plot(mean1)"
   ]
  },
  {
   "cell_type": "code",
   "execution_count": null,
   "id": "3a775144",
   "metadata": {},
   "outputs": [],
   "source": [
    "from scipy.stats import ttest_ind\n",
    "t_val = ttest_ind(group1, group2, axis=0, equal_var=False)[0]\n",
    "\n",
    "plot_t(t_val, N, \"SAM4S 120 MHz, Shunt Measurement (PicoScope)\")"
   ]
  },
  {
   "cell_type": "markdown",
   "id": "be4a9980",
   "metadata": {},
   "source": [
    "### With just the Clock\n",
    "\n",
    "Doing this requires connecting the clock directly to channel A. The range will be adjusted to deal with the larger signal (you may want to adjust the range first before connecting the clock)"
   ]
  },
  {
   "cell_type": "code",
   "execution_count": null,
   "id": "a3358342",
   "metadata": {},
   "outputs": [],
   "source": [
    "scope.io.hs2 = None"
   ]
  },
  {
   "cell_type": "code",
   "execution_count": null,
   "id": "a7408aa6",
   "metadata": {},
   "outputs": [],
   "source": [
    "ps.setChannel(channel='A', coupling='AC', VRange=5, VOffset=0.0, enabled=True, BWLimited=0, probeAttenuation=1.0)"
   ]
  },
  {
   "cell_type": "code",
   "execution_count": null,
   "id": "bd1b29b7",
   "metadata": {},
   "outputs": [],
   "source": [
    "splot = cw.StreamPlot()\n",
    "splot.plot()"
   ]
  },
  {
   "cell_type": "code",
   "execution_count": null,
   "id": "617cea1c",
   "metadata": {},
   "outputs": [],
   "source": [
    "N = 20000\n",
    "group1, group2 = capture_ttest(N, picoscope=True, splot=splot)\n",
    "\n",
    "#Uncomment to overwrite\n",
    "#np.save(\"picoscope_rawrxclock_tvla_group1_20k.npy\", group1)\n",
    "#np.save(\"picoscope_rawrxclock_tvla_group2_20k.npy\", group2)"
   ]
  },
  {
   "cell_type": "code",
   "execution_count": null,
   "id": "92cef8c9",
   "metadata": {},
   "outputs": [],
   "source": [
    "#Two datasets were captured - this one @ 1.25 GS/s, 20K per group\n",
    "group1, group2, N = nptload(\"picoscope_rawrxclock_20k\")"
   ]
  },
  {
   "cell_type": "code",
   "execution_count": null,
   "id": "2b52c7d6",
   "metadata": {},
   "outputs": [],
   "source": [
    "#This is a smaller dataset, 5K per group\n",
    "group1, group2, N = nptload(\"picoscope_rawrxclock.npy\")"
   ]
  },
  {
   "cell_type": "code",
   "execution_count": null,
   "id": "a70d2a58",
   "metadata": {},
   "outputs": [],
   "source": [
    "import numpy as np\n",
    "mean1 = np.mean(group1, axis=0)\n",
    "mean2 = np.mean(group2, axis=0)\n",
    "cw.plot(mean2) * cw.plot(mean1)"
   ]
  },
  {
   "cell_type": "code",
   "execution_count": null,
   "id": "5b7ed592",
   "metadata": {},
   "outputs": [],
   "source": [
    "from scipy.stats import ttest_ind\n",
    "t_val = ttest_ind(group1, group2, axis=0, equal_var=False)[0]"
   ]
  },
  {
   "cell_type": "code",
   "execution_count": null,
   "id": "7de5f679",
   "metadata": {},
   "outputs": [],
   "source": [
    "plot_t(t_val, N, \"Raw Clock Input\")"
   ]
  },
  {
   "cell_type": "markdown",
   "id": "e2485656",
   "metadata": {},
   "source": [
    "#### Converting raw clock to time stamps"
   ]
  },
  {
   "cell_type": "code",
   "execution_count": null,
   "id": "9d49c543",
   "metadata": {},
   "outputs": [],
   "source": [
    "group1time = create_diffs(group1)\n",
    "group2time = create_diffs(group2)"
   ]
  },
  {
   "cell_type": "code",
   "execution_count": null,
   "id": "da2f41ba",
   "metadata": {},
   "outputs": [],
   "source": [
    "trim_length = min((min([len(g) for g in group1time]), min([len(g) for g in group2time])))\n",
    "group1time = [g[0:trim_length] for g in group1time]\n",
    "group2time = [g[0:trim_length] for g in group2time]"
   ]
  },
  {
   "cell_type": "code",
   "execution_count": null,
   "id": "66a64c9c",
   "metadata": {},
   "outputs": [],
   "source": [
    "import numpy as np\n",
    "mean1 = np.mean(group1time, axis=0)\n",
    "mean2 = np.mean(group2time, axis=0)\n",
    "cw.plot(mean2) * cw.plot(mean1)"
   ]
  },
  {
   "cell_type": "code",
   "execution_count": null,
   "id": "5913286c",
   "metadata": {},
   "outputs": [],
   "source": [
    "from scipy.stats import ttest_ind\n",
    "t_val = ttest_ind(group1time, group2time, axis=0, equal_var=False)[0]"
   ]
  },
  {
   "cell_type": "code",
   "execution_count": null,
   "id": "39f131cc",
   "metadata": {},
   "outputs": [],
   "source": [
    "plot_t(t_val, N, \"Clock Input, Zero-Crossing to Jitter\")"
   ]
  },
  {
   "cell_type": "code",
   "execution_count": null,
   "id": "68ffff51",
   "metadata": {},
   "outputs": [],
   "source": [
    "#ps.close()"
   ]
  },
  {
   "cell_type": "markdown",
   "id": "edb1e502",
   "metadata": {},
   "source": [
    "### With Zero Crossing Location Only Recorded (smaller traces)"
   ]
  },
  {
   "cell_type": "code",
   "execution_count": null,
   "id": "0154070d",
   "metadata": {},
   "outputs": [],
   "source": [
    "splot = cw.StreamPlot()\n",
    "splot.plot()"
   ]
  },
  {
   "cell_type": "code",
   "execution_count": null,
   "id": "10301433",
   "metadata": {},
   "outputs": [],
   "source": [
    "N = 50000\n",
    "group1, group2 = capture_ttest(N, picoscope=True, splot=splot, t\n",
    "\n",
    "#Uncomment to overwrite\n",
    "np.save(\"picoscope_rawrxclock_tvla_group1_zcross_50k.npy\", group1)\n",
    "np.save(\"picoscope_rawrxclock_tvla_group2_zcross_50k.npy\", group2)"
   ]
  },
  {
   "cell_type": "code",
   "execution_count": null,
   "id": "24af8624",
   "metadata": {},
   "outputs": [],
   "source": []
  },
  {
   "cell_type": "code",
   "execution_count": null,
   "id": "ba51f500",
   "metadata": {},
   "outputs": [],
   "source": [
    "group1, group2, N = nptload(\"picoscope_rawrxclock_zcross_50k\")"
   ]
  },
  {
   "cell_type": "code",
   "execution_count": null,
   "id": "4db2c3d5",
   "metadata": {},
   "outputs": [],
   "source": [
    "group1time = create_diffs_from_crossings(group1)\n",
    "group2time = create_diffs_from_crossings(group2)"
   ]
  },
  {
   "cell_type": "code",
   "execution_count": null,
   "id": "fc42b8a8",
   "metadata": {},
   "outputs": [],
   "source": [
    "trim_length = min((min([len(g) for g in group1time]), min([len(g) for g in group2time])))\n",
    "group1time = [g[0:trim_length] for g in group1time]\n",
    "group2time = [g[0:trim_length] for g in group2time]"
   ]
  },
  {
   "cell_type": "code",
   "execution_count": null,
   "id": "610a0686",
   "metadata": {},
   "outputs": [],
   "source": [
    "import numpy as np\n",
    "mean1 = np.mean(group1time, axis=0)\n",
    "mean2 = np.mean(group2time, axis=0)\n",
    "cw.plot(mean2) * cw.plot(mean1)"
   ]
  },
  {
   "cell_type": "code",
   "execution_count": null,
   "id": "d43d76e4",
   "metadata": {},
   "outputs": [],
   "source": [
    "trim_length = min([len(g) for g in group1])\n",
    "group1trim = [g[0:trim_length] for g in group1]"
   ]
  },
  {
   "cell_type": "code",
   "execution_count": null,
   "id": "004b790b",
   "metadata": {},
   "outputs": [],
   "source": [
    "#cw.plot(np.std(group1trim, axis=0))\n",
    "cw.plot(np.std(group1time, axis=0))"
   ]
  },
  {
   "cell_type": "code",
   "execution_count": null,
   "id": "ed6650fb",
   "metadata": {},
   "outputs": [],
   "source": [
    "from scipy.stats import ttest_ind\n",
    "t_val = ttest_ind(group1time, group2time, axis=0, equal_var=False)[0]"
   ]
  },
  {
   "cell_type": "code",
   "execution_count": null,
   "id": "10a5d615",
   "metadata": {
    "scrolled": true
   },
   "outputs": [],
   "source": [
    "plot_t(t_val, N, \"Clock Input, Zero-Crossing to Jitter\")"
   ]
  },
  {
   "cell_type": "markdown",
   "id": "a4ec0c43",
   "metadata": {},
   "source": [
    "#### Comparing to Shunt Measurement"
   ]
  },
  {
   "cell_type": "code",
   "execution_count": null,
   "id": "893d5491",
   "metadata": {},
   "outputs": [],
   "source": [
    "g1s, g2s, Ns = nptload(\"picoscope_shuntmeasurement\")\n",
    "\n",
    "mean_trace_shunt = np.mean(g1s, axis=0)\n",
    "mean_trace_clock = np.mean(group1time, axis=0)"
   ]
  },
  {
   "cell_type": "code",
   "execution_count": null,
   "id": "2f42dcfe",
   "metadata": {},
   "outputs": [],
   "source": [
    "import matplotlib.pylab as plt\n",
    "import scipy as sp\n",
    "\n",
    "resampled = sp.signal.resample(mean_trace_shunt, int(len(mean_trace_shunt)*10.9))"
   ]
  },
  {
   "cell_type": "code",
   "execution_count": null,
   "id": "fb9c0a8f",
   "metadata": {},
   "outputs": [],
   "source": [
    "import matplotlib.pyplot as plt\n",
    "import numpy as np\n",
    "\n",
    "dt = 1 / (1.25E9 / 10.9) * 1000\n",
    "\n",
    "time = np.arange(0, dt*5100, dt)\n",
    "\n",
    "fig, (ax1, ax2) = plt.subplots(2, sharex=True)\n",
    "fig.suptitle('Shunt & Time Measurement Comparison (1.25 GS/s)')\n",
    "ax1.plot(time, sp.signal.decimate(resampled, 100)[150:5250])\n",
    "ax2.plot(time, mean_trace_clock[150:5250])\n",
    "\n",
    "ax1.set_ylabel(\"Avg. Voltage\")\n",
    "ax2.set_ylabel(\"Avg. Cycle Delta\")\n",
    "\n",
    "plt.xlabel(\"Time (uS)\")\n",
    "\n",
    "ax1.grid(True)\n",
    "ax2.grid(True)\n",
    "\n",
    "#fig.tight_layout()  # otherwise the right y-label is slightly clipped\n",
    "plt.show()"
   ]
  },
  {
   "cell_type": "code",
   "execution_count": null,
   "id": "9a76e7fd",
   "metadata": {},
   "outputs": [],
   "source": [
    "1250 / 120"
   ]
  }
 ],
 "metadata": {
  "kernelspec": {
   "display_name": "Python 3 (ipykernel)",
   "language": "python",
   "name": "python3"
  },
  "language_info": {
   "codemirror_mode": {
    "name": "ipython",
    "version": 3
   },
   "file_extension": ".py",
   "mimetype": "text/x-python",
   "name": "python",
   "nbconvert_exporter": "python",
   "pygments_lexer": "ipython3",
   "version": "3.10.8"
  }
 },
 "nbformat": 4,
 "nbformat_minor": 5
}
