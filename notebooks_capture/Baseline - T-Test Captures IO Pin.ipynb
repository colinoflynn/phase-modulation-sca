{
 "cells": [
  {
   "cell_type": "markdown",
   "id": "7fa89cc9",
   "metadata": {},
   "source": [
    "# Baseline SCA Measurements using GND and IO Pins\n",
    "\n",
    "The following script was used to capture the baseline measurements, first for T-Test, and then for CPA.\n",
    "\n",
    "The firmware is also built in this notebook to keep a constant binary image for later comparison.\n",
    "\n",
    "Note both sync & async captures leave the clock output enabled. This could be turned off as it increases noise a bit, but to leave the closest comparison between the two we've used the same binaries.\n",
    "\n",
    "If you just want to see the analysis, see Notebook TODO: Add XREF to Analysis Notebook"
   ]
  },
  {
   "cell_type": "code",
   "execution_count": null,
   "id": "6ee03b31",
   "metadata": {},
   "outputs": [],
   "source": [
    "import numpy as np\n",
    "import chipwhisperer as cw\n",
    "import os"
   ]
  },
  {
   "cell_type": "code",
   "execution_count": null,
   "id": "46c9b541",
   "metadata": {},
   "outputs": [],
   "source": [
    "%run \"functions.ipynb\""
   ]
  },
  {
   "cell_type": "code",
   "execution_count": null,
   "id": "2756f911",
   "metadata": {},
   "outputs": [],
   "source": [
    "data_dir = \"d:/data_store\""
   ]
  },
  {
   "cell_type": "markdown",
   "id": "aa55a4e1",
   "metadata": {},
   "source": [
    "## Firmware Builds, including Clock Input"
   ]
  },
  {
   "cell_type": "code",
   "execution_count": null,
   "id": "05b09ba5",
   "metadata": {},
   "outputs": [],
   "source": [
    "C_EXTRA_DEFS=\"-DUSE_PLL -DUSE_EXTERNAL_CLOCK -DPLL_120MHZ -DPCLK_ENABLED\""
   ]
  },
  {
   "cell_type": "code",
   "execution_count": null,
   "id": "fdacdade",
   "metadata": {},
   "outputs": [],
   "source": [
    "%%bash -s \"$PLATFORM\" \"$CRYPTO_TARGET\" \"$SS_VER\" \"$C_EXTRA_DEFS\"\n",
    "# compile firmware\n",
    "cd ../colin-hacktest1/firmware/simpleserial-aes-spitest\n",
    "make PLATFORM=$1 CRYPTO_TARGET=$2 SS_VER=$3 C_EXTRA_DEFS=\"$4\" -j\n",
    "cp simpleserial-aes-CW308_SAM4S.hex  ../../../sam4s-comparisons/firmwares/fw-120mhz-clkout-clkin.hex"
   ]
  },
  {
   "cell_type": "code",
   "execution_count": null,
   "id": "56499ca0",
   "metadata": {},
   "outputs": [],
   "source": [
    "C_EXTRA_DEFS=\"-DUSE_PLL -DUSE_EXTERNAL_CLOCK -DPLL_120MHZ\""
   ]
  },
  {
   "cell_type": "code",
   "execution_count": null,
   "id": "2613d5a1",
   "metadata": {},
   "outputs": [],
   "source": [
    "%%bash -s \"$PLATFORM\" \"$CRYPTO_TARGET\" \"$SS_VER\" \"$C_EXTRA_DEFS\"\n",
    "# compile firmware\n",
    "cd ../colin-hacktest1/firmware/simpleserial-aes-spitest\n",
    "make PLATFORM=$1 CRYPTO_TARGET=$2 SS_VER=$3 C_EXTRA_DEFS=\"$4\" -j\n",
    "cp simpleserial-aes-CW308_SAM4S.hex  ../../../sam4s-comparisons/firmwares/fw-120mhz-clkin.hex"
   ]
  },
  {
   "cell_type": "code",
   "execution_count": null,
   "id": "e9cb17e3",
   "metadata": {},
   "outputs": [],
   "source": []
  },
  {
   "cell_type": "code",
   "execution_count": null,
   "id": "0b109f6e",
   "metadata": {},
   "outputs": [],
   "source": [
    "C_EXTRA_DEFS=\"-DUSE_PLL -DUSE_EXTERNAL_CLOCK -DPLL_15MHZ -DPCLK_ENABLED\""
   ]
  },
  {
   "cell_type": "code",
   "execution_count": null,
   "id": "51843334",
   "metadata": {},
   "outputs": [],
   "source": [
    "%%bash -s \"$PLATFORM\" \"$CRYPTO_TARGET\" \"$SS_VER\" \"$C_EXTRA_DEFS\"\n",
    "# compile firmware\n",
    "cd ../colin-hacktest1/firmware/simpleserial-aes-spitest\n",
    "make PLATFORM=$1 CRYPTO_TARGET=$2 SS_VER=$3 C_EXTRA_DEFS=\"$4\" -j\n",
    "cp simpleserial-aes-CW308_SAM4S.hex  ../../../sam4s-comparisons/firmwares/fw-15mhz-clkout-clkin.hex"
   ]
  },
  {
   "cell_type": "code",
   "execution_count": null,
   "id": "942b85ac",
   "metadata": {},
   "outputs": [],
   "source": [
    "C_EXTRA_DEFS=\"-DUSE_PLL -DUSE_EXTERNAL_CLOCK -DPLL_120MHZ -DPCLK_PIN_LOW\""
   ]
  },
  {
   "cell_type": "code",
   "execution_count": null,
   "id": "9e2abf22",
   "metadata": {},
   "outputs": [],
   "source": [
    "%%bash -s \"$PLATFORM\" \"$CRYPTO_TARGET\" \"$SS_VER\" \"$C_EXTRA_DEFS\"\n",
    "# compile firmware\n",
    "cd ../colin-hacktest1/firmware/simpleserial-aes-spitest\n",
    "make PLATFORM=$1 CRYPTO_TARGET=$2 SS_VER=$3 C_EXTRA_DEFS=\"$4\" -j\n",
    "cp simpleserial-aes-CW308_SAM4S.hex  ../../../sam4s-comparisons/firmwares/fw-120mhz-clkin-pclklow.hex"
   ]
  },
  {
   "cell_type": "code",
   "execution_count": null,
   "id": "95618bcb",
   "metadata": {},
   "outputs": [],
   "source": [
    "C_EXTRA_DEFS=\"-DUSE_PLL -DUSE_EXTERNAL_CLOCK -DPLL_15MHZ\""
   ]
  },
  {
   "cell_type": "code",
   "execution_count": null,
   "id": "62b15ecc",
   "metadata": {
    "scrolled": true
   },
   "outputs": [],
   "source": [
    "%%bash -s \"$PLATFORM\" \"$CRYPTO_TARGET\" \"$SS_VER\" \"$C_EXTRA_DEFS\"\n",
    "# compile firmware\n",
    "cd ../colin-hacktest1/firmware/simpleserial-aes-spitest\n",
    "make PLATFORM=$1 CRYPTO_TARGET=$2 SS_VER=$3 C_EXTRA_DEFS=\"$4\" -j\n",
    "cp simpleserial-aes-CW308_SAM4S.hex  ../../../sam4s-comparisons/firmwares/fw-15mhz-clkin.hex"
   ]
  },
  {
   "cell_type": "markdown",
   "id": "c9e0085f",
   "metadata": {},
   "source": [
    "## ChipWhisperer Configuration (Shared)"
   ]
  },
  {
   "cell_type": "code",
   "execution_count": null,
   "id": "f3736a81",
   "metadata": {},
   "outputs": [],
   "source": [
    "# Set hardware settings\n",
    "SCOPETYPE = 'OPENADC'\n",
    "PLATFORM = 'CW308_SAM4S'\n",
    "CRYPTO_TARGET='TINYAES128C' # 'TINYAES128C' or 'MBEDTLS'\n",
    "SS_VER='SS_VER_2_1'"
   ]
  },
  {
   "cell_type": "code",
   "execution_count": null,
   "id": "50bf0a21",
   "metadata": {},
   "outputs": [],
   "source": [
    "# Connect to ChipWhisperer\n",
    "%run \"../../../Setup_Scripts/Setup_Generic.ipynb\""
   ]
  },
  {
   "cell_type": "code",
   "execution_count": null,
   "id": "9de0f56c",
   "metadata": {},
   "outputs": [],
   "source": [
    "scope.adc.samples = 10000"
   ]
  },
  {
   "cell_type": "markdown",
   "id": "ed19b477",
   "metadata": {},
   "source": [
    "Make a live plot to monitor captures"
   ]
  },
  {
   "cell_type": "code",
   "execution_count": null,
   "id": "981c52a8",
   "metadata": {
    "scrolled": true
   },
   "outputs": [],
   "source": [
    "splot = cw.StreamPlot()\n",
    "splot.plot()"
   ]
  },
  {
   "cell_type": "markdown",
   "id": "bc356965",
   "metadata": {},
   "source": [
    "## T-Test Captures"
   ]
  },
  {
   "cell_type": "code",
   "execution_count": null,
   "id": "71e899aa",
   "metadata": {},
   "outputs": [],
   "source": [
    "def tcapture(prefix, syncstr, fmcu, msps):\n",
    "    N = 10000\n",
    "    group1, group2 = capture_ttest(N, picoscope=False, splot=splot)\n",
    "    nptsave(prefix + \"{:d}mhz_{:s}_{:d}msps_ttest_10k\".format(fmcu, syncstr, msps), group1, group2)"
   ]
  },
  {
   "cell_type": "markdown",
   "id": "043e5851",
   "metadata": {},
   "source": [
    "## Clock Input & Output Test"
   ]
  },
  {
   "cell_type": "code",
   "execution_count": null,
   "id": "b25c19ec",
   "metadata": {},
   "outputs": [],
   "source": [
    "# Set 12 MHz output to MCU, then sample at 10x that. MCU will run at frequency programmed in (120 MHz in these tests)\n",
    "scope.clock.clkgen_freq = 12E6\n",
    "scope.clock.adc_mul = 10"
   ]
  },
  {
   "cell_type": "code",
   "execution_count": null,
   "id": "e26c3667",
   "metadata": {},
   "outputs": [],
   "source": [
    "#Turn on clock output\n",
    "scope.io.hs2 = \"clkgen\""
   ]
  },
  {
   "cell_type": "code",
   "execution_count": null,
   "id": "c3769572",
   "metadata": {},
   "outputs": [],
   "source": [
    "# Baud is lower as built from same source\n",
    "target.baud = 38400"
   ]
  },
  {
   "cell_type": "code",
   "execution_count": null,
   "id": "064e2ad4",
   "metadata": {},
   "outputs": [],
   "source": [
    "#10K samples is enough to capture a few rounds\n",
    "scope.adc.samples = 10000"
   ]
  },
  {
   "cell_type": "code",
   "execution_count": null,
   "id": "dedb2a67",
   "metadata": {},
   "outputs": [],
   "source": [
    "scope.clock"
   ]
  },
  {
   "cell_type": "markdown",
   "id": "d33a11c2",
   "metadata": {},
   "source": [
    "### GND Connected Test"
   ]
  },
  {
   "cell_type": "code",
   "execution_count": null,
   "id": "e09bb84b",
   "metadata": {},
   "outputs": [],
   "source": [
    "#Crank the gain WAY up for this test\n",
    "scope.gain.mode = \"high\"\n",
    "scope.gain.gain = 30"
   ]
  },
  {
   "cell_type": "code",
   "execution_count": null,
   "id": "4805e8c7",
   "metadata": {},
   "outputs": [],
   "source": [
    "# program firmware onto target,\n",
    "cw.program_target(scope, prog, \"firmwares/fw-120mhz-clkout-clkin.hex\") #clkout\n",
    "scope.io.target_pwr = False\n",
    "time.sleep(0.25)\n",
    "scope.io.target_pwr = True"
   ]
  },
  {
   "cell_type": "code",
   "execution_count": null,
   "id": "7ce270b4",
   "metadata": {},
   "outputs": [],
   "source": [
    "# Leave jumpers JP4 and JP5 both mounted for this test\n",
    "tcapture(\"gnd_clkin_clkout_\", \"sync\", 120, 120)"
   ]
  },
  {
   "cell_type": "code",
   "execution_count": null,
   "id": "0e50aeef",
   "metadata": {},
   "outputs": [],
   "source": [
    "# Remove jumper JP5 and then run this block, this means the clock output won't go across the 20-pin cable, so less noise\n",
    "tcapture(\"gnd_clkin_clkout_nojumper_\", \"sync\", 120, 120)"
   ]
  },
  {
   "cell_type": "code",
   "execution_count": null,
   "id": "6e8135a5",
   "metadata": {},
   "outputs": [],
   "source": [
    "# program firmware onto target, takes clock input, doesn't output anything\n",
    "cw.program_target(scope, prog, \"firmwares/fw-120mhz-clkin.hex\") #clkout\n",
    "scope.io.target_pwr = False\n",
    "time.sleep(0.25)\n",
    "scope.io.target_pwr = True"
   ]
  },
  {
   "cell_type": "code",
   "execution_count": null,
   "id": "b59cfdf2",
   "metadata": {},
   "outputs": [],
   "source": [
    "# Jumper JP5 removed still (no signal across it however)\n",
    "tcapture(\"gnd_clkin_\", \"sync\", 120, 120)"
   ]
  },
  {
   "cell_type": "markdown",
   "id": "593d77cd",
   "metadata": {},
   "source": [
    "We also capture a SHUNT clkin_clkout for reference"
   ]
  },
  {
   "cell_type": "code",
   "execution_count": null,
   "id": "e90f55ad",
   "metadata": {},
   "outputs": [],
   "source": [
    "#Gain back to normalish\n",
    "scope.gain.mode = \"low\"\n",
    "scope.gain.gain = 45"
   ]
  },
  {
   "cell_type": "code",
   "execution_count": null,
   "id": "90bc5749",
   "metadata": {},
   "outputs": [],
   "source": [
    "tcapture(\"shunt_clkin_clkout_\", \"sync\", 120, 120)"
   ]
  },
  {
   "cell_type": "markdown",
   "id": "4f0d6ba5",
   "metadata": {},
   "source": [
    "### I/O Pin High/Low Test\n",
    "\n",
    "Leave jumpers JP4 mounted, remove JP5, connect SMA to pins CLKout & GND of breakout\n"
   ]
  },
  {
   "cell_type": "code",
   "execution_count": null,
   "id": "b37924b7",
   "metadata": {},
   "outputs": [],
   "source": [
    "# program firmware onto target, takes clock input, doesn't output anything\n",
    "# F/W will set the clock pin as an output & set it \"high\" if PCLK is disabled\n",
    "cw.program_target(scope, prog, \"firmwares/fw-120mhz-clkin.hex\") #clkout\n",
    "scope.io.target_pwr = False\n",
    "time.sleep(0.25)\n",
    "scope.io.target_pwr = True"
   ]
  },
  {
   "cell_type": "code",
   "execution_count": null,
   "id": "1c6b0b91",
   "metadata": {},
   "outputs": [],
   "source": [
    "#Crank the gain up for this test, not as high as straight GND though\n",
    "scope.gain.mode = \"low\"\n",
    "scope.gain.gain = 30"
   ]
  },
  {
   "cell_type": "code",
   "execution_count": null,
   "id": "2b89a76c",
   "metadata": {},
   "outputs": [],
   "source": [
    "tcapture(\"iohigh_clkin_\", \"sync\", 120, 120)"
   ]
  },
  {
   "cell_type": "code",
   "execution_count": null,
   "id": "5807d3f8",
   "metadata": {},
   "outputs": [],
   "source": [
    "# program firmware onto target, takes clock input, doesn't output anything\n",
    "# F/W will set the clock pin as an output & set it \"low\" with this define\n",
    "cw.program_target(scope, prog, \"firmwares/fw-120mhz-clkin-pclklow.hex\") #clkout\n",
    "scope.io.target_pwr = False\n",
    "time.sleep(0.25)\n",
    "scope.io.target_pwr = True"
   ]
  },
  {
   "cell_type": "code",
   "execution_count": null,
   "id": "4cb0f192",
   "metadata": {},
   "outputs": [],
   "source": [
    "tcapture(\"iolow_clkin_\", \"sync\", 120, 120)"
   ]
  },
  {
   "cell_type": "markdown",
   "id": "62cee89a",
   "metadata": {},
   "source": [
    "## I/O Pin Low - Through Isolator"
   ]
  },
  {
   "cell_type": "code",
   "execution_count": null,
   "id": "7713fbd6",
   "metadata": {},
   "outputs": [],
   "source": [
    "# program firmware onto target, takes clock input, doesn't output anything\n",
    "# F/W will set the clock pin as an output & set it \"low\" with this define\n",
    "cw.program_target(scope, prog, \"firmwares/fw-120mhz-clkin-pclklow.hex\") #clkout\n",
    "scope.io.target_pwr = False\n",
    "time.sleep(0.25)\n",
    "scope.io.target_pwr = True"
   ]
  },
  {
   "cell_type": "code",
   "execution_count": null,
   "id": "74c208db",
   "metadata": {},
   "outputs": [],
   "source": [
    "#Crank the gain up for this test, not as high as straight GND though as seemed like it would clip\n",
    "scope.gain.mode = \"low\"\n",
    "scope.gain.gain = 35"
   ]
  },
  {
   "cell_type": "code",
   "execution_count": null,
   "id": "a6ace3de",
   "metadata": {},
   "outputs": [],
   "source": [
    "tcapture(\"icisolator_iolow_clkin_\", \"sync\", 120, 120)"
   ]
  },
  {
   "cell_type": "markdown",
   "id": "0e1c0992",
   "metadata": {},
   "source": [
    "Using the optical isolator boards:\n",
    "* On CW313 Target, mount both HS1 and HS2 jumpers\n",
    "* On Isolator-Target, ensure HS2 connects to 50MB, HS1 connects to 50MB\n",
    "* Connect both HS1 and HS2 with isolator cables\n",
    "* On Isolator-ChipWhisperer, Connect HS2 to 50MB (don't connect to Mixer-RF)\n",
    "* Connect 50MB to Mixer-LO (or use a jumper wire to connect 50MB to SMA, this routes it through the mixer, but should roughly work as well)"
   ]
  },
  {
   "cell_type": "code",
   "execution_count": null,
   "id": "d785ce9e",
   "metadata": {},
   "outputs": [],
   "source": [
    "tcapture(\"opticalisolator_extsma_iolow_clkin_\", \"sync\", 120, 120)"
   ]
  },
  {
   "cell_type": "code",
   "execution_count": null,
   "id": "ae1b1b9e",
   "metadata": {},
   "outputs": [],
   "source": []
  }
 ],
 "metadata": {
  "kernelspec": {
   "display_name": "Python 3 (ipykernel)",
   "language": "python",
   "name": "python3"
  },
  "language_info": {
   "codemirror_mode": {
    "name": "ipython",
    "version": 3
   },
   "file_extension": ".py",
   "mimetype": "text/x-python",
   "name": "python",
   "nbconvert_exporter": "python",
   "pygments_lexer": "ipython3",
   "version": "3.10.8"
  }
 },
 "nbformat": 4,
 "nbformat_minor": 5
}
