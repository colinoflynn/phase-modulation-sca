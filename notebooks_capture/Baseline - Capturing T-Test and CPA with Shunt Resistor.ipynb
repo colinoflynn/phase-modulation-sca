{
 "cells": [
  {
   "cell_type": "markdown",
   "id": "7fa89cc9",
   "metadata": {},
   "source": [
    "# Baseline SCA Measurements using Shunt Resistor on Target\n",
    "\n",
    "The following script was used to capture the baseline measurements, first for T-Test, and then for CPA.\n",
    "\n",
    "The firmware is also built in this notebook to keep a constant binary image for later comparison.\n",
    "\n",
    "Note both sync & async captures leave the clock output enabled. This could be turned off as it increases noise a bit, but to leave the closest comparison between the two I've used the same binaries."
   ]
  },
  {
   "cell_type": "code",
   "execution_count": null,
   "id": "6ee03b31",
   "metadata": {},
   "outputs": [],
   "source": [
    "import numpy as np\n",
    "import chipwhisperer as cw\n",
    "import os"
   ]
  },
  {
   "cell_type": "code",
   "execution_count": null,
   "id": "46c9b541",
   "metadata": {},
   "outputs": [],
   "source": [
    "%run \"functions.ipynb\""
   ]
  },
  {
   "cell_type": "code",
   "execution_count": null,
   "id": "2756f911",
   "metadata": {},
   "outputs": [],
   "source": [
    "data_dir = \"d:/data_store\""
   ]
  },
  {
   "cell_type": "markdown",
   "id": "c9e0085f",
   "metadata": {},
   "source": [
    "## ChipWhisperer Configuration (Shared)"
   ]
  },
  {
   "cell_type": "code",
   "execution_count": null,
   "id": "f3736a81",
   "metadata": {},
   "outputs": [],
   "source": [
    "# Set hardware settings\n",
    "SCOPETYPE = 'OPENADC'\n",
    "PLATFORM = 'CW308_SAM4S'\n",
    "CRYPTO_TARGET='TINYAES128C' # 'TINYAES128C' or 'MBEDTLS'\n",
    "SS_VER='SS_VER_2_1'"
   ]
  },
  {
   "cell_type": "code",
   "execution_count": null,
   "id": "50bf0a21",
   "metadata": {},
   "outputs": [],
   "source": [
    "# Connect to ChipWhisperer\n",
    "%run \"../../../Setup_Scripts/Setup_Generic.ipynb\""
   ]
  },
  {
   "cell_type": "markdown",
   "id": "10ca23ac",
   "metadata": {},
   "source": [
    "### Build Firmware Files & Cache for future use\n",
    "You must pass extra defines to the makefile to build various firmwares:\n",
    "\n",
    "```\n",
    "C_EXTRA_DEFS=\"-DUSE_PLL -DUSE_EMBEDDED_CLOCK -DPLL_120MHZ\"\n",
    "```\n",
    "\n",
    "Clock Source Options:\n",
    "* `-DUSE_EXTERNAL_CLOCK`: Uses a 12 MHz clock input, must setup ChipWhisperer to generate that\n",
    "* `-DUSE_EMBEDDED_CLOCK`: Uses a 12 MHz internal clock (not as stable as an XTAL)\n",
    "\n",
    "General Options:\n",
    "* `-DUSE_PLL`: Uses PLL, without this runs from external clock directly (normal ChipWhisperer HAL)\n",
    "* `-DADD_PLL_JITTER1`: First strategy to add PLL jitter, sets `PMC_OCR` register before each AES encryption.\n",
    "\n",
    "PLL Setup Options:\n",
    "* `-DPLL_120MHZ`: PLL outputs 120 MHz to MCU core\n",
    "* `-DPLL_15MHZ`: PLL outputs 15 MHz to MCU core\n",
    "* `-DPLL_2MHZ`: PLL outputs 2 MHz to MCU core\n",
    "\n",
    "Output Options:\n",
    "* `-DPCLK_ENABLED`: Turns on PCLK output, which is always 1/2 of the MCU core frequency (e.g., 60/7.5/1MHz)\n",
    "* `-PCLK_PIN_LOW`: If `-DPCLK_ENABLED` is NOT included the I/O pin is normally driven HIGH. With this define it will be driven LOW instead. Do not use this in combination with `-DPCLK_ENABLED` or you will have an invalid build.\n"
   ]
  },
  {
   "cell_type": "code",
   "execution_count": null,
   "id": "5b75f284",
   "metadata": {},
   "outputs": [],
   "source": [
    "C_EXTRA_DEFS=\"-DUSE_PLL -DUSE_EMBEDDED_CLOCK -DPLL_120MHZ -DPCLK_ENABLED\""
   ]
  },
  {
   "cell_type": "code",
   "execution_count": null,
   "id": "152a1fc2",
   "metadata": {},
   "outputs": [],
   "source": [
    "%%bash -s \"$PLATFORM\" \"$CRYPTO_TARGET\" \"$SS_VER\" \"$C_EXTRA_DEFS\"\n",
    "# compile firmware\n",
    "cd ../colin-hacktest1/firmware/simpleserial-aes-spitest\n",
    "make PLATFORM=$1 CRYPTO_TARGET=$2 SS_VER=$3 C_EXTRA_DEFS=\"$4\" -j\n",
    "cp simpleserial-aes-CW308_SAM4S.hex  ../../../sam4s-comparisons/firmwares/fw-120mhz-clkout.hex"
   ]
  },
  {
   "cell_type": "code",
   "execution_count": null,
   "id": "ecceb91c",
   "metadata": {},
   "outputs": [],
   "source": [
    "C_EXTRA_DEFS=\"-DUSE_PLL -DUSE_EMBEDDED_CLOCK -DPLL_15MHZ -DPCLK_ENABLED\""
   ]
  },
  {
   "cell_type": "code",
   "execution_count": null,
   "id": "1e024048",
   "metadata": {},
   "outputs": [],
   "source": [
    "%%bash -s \"$PLATFORM\" \"$CRYPTO_TARGET\" \"$SS_VER\" \"$C_EXTRA_DEFS\"\n",
    "# compile firmware\n",
    "cd ../colin-hacktest1/firmware/simpleserial-aes-spitest\n",
    "make PLATFORM=$1 CRYPTO_TARGET=$2 SS_VER=$3 C_EXTRA_DEFS=\"$4\" -j\n",
    "cp simpleserial-aes-CW308_SAM4S.hex  ../../../sam4s-comparisons/firmwares/fw-15mhz-clkout.hex"
   ]
  },
  {
   "cell_type": "code",
   "execution_count": null,
   "id": "a4be287b",
   "metadata": {},
   "outputs": [],
   "source": [
    "C_EXTRA_DEFS=\"-DUSE_PLL -DUSE_EMBEDDED_CLOCK -DPLL_2MHZ -DPCLK_ENABLED\""
   ]
  },
  {
   "cell_type": "code",
   "execution_count": null,
   "id": "33d85898",
   "metadata": {},
   "outputs": [],
   "source": [
    "%%bash -s \"$PLATFORM\" \"$CRYPTO_TARGET\" \"$SS_VER\" \"$C_EXTRA_DEFS\"\n",
    "# compile firmware\n",
    "cd ../colin-hacktest1/firmware/simpleserial-aes-spitest\n",
    "make PLATFORM=$1 CRYPTO_TARGET=$2 SS_VER=$3 C_EXTRA_DEFS=\"$4\" -j\n",
    "cp simpleserial-aes-CW308_SAM4S.hex  ../../../sam4s-comparisons/firmwares/fw-2mhz-clkout.hex"
   ]
  },
  {
   "cell_type": "code",
   "execution_count": null,
   "id": "a57f398a",
   "metadata": {},
   "outputs": [],
   "source": [
    "C_EXTRA_DEFS=\"-DUSE_PLL -DUSE_EMBEDDED_CLOCK -DPLL_120MHZ\""
   ]
  },
  {
   "cell_type": "code",
   "execution_count": null,
   "id": "cb827319",
   "metadata": {},
   "outputs": [],
   "source": [
    "%%bash -s \"$PLATFORM\" \"$CRYPTO_TARGET\" \"$SS_VER\" \"$C_EXTRA_DEFS\"\n",
    "# compile firmware\n",
    "cd ../colin-hacktest1/firmware/simpleserial-aes-spitest\n",
    "make PLATFORM=$1 CRYPTO_TARGET=$2 SS_VER=$3 C_EXTRA_DEFS=\"$4\" -j\n",
    "cp simpleserial-aes-CW308_SAM4S.hex  ../../../sam4s-comparisons/firmwares/fw-120mhz.hex"
   ]
  },
  {
   "cell_type": "code",
   "execution_count": null,
   "id": "910a60b5",
   "metadata": {},
   "outputs": [],
   "source": [
    "C_EXTRA_DEFS=\"-DUSE_PLL -DUSE_EMBEDDED_CLOCK -DPLL_15MHZ\""
   ]
  },
  {
   "cell_type": "code",
   "execution_count": null,
   "id": "3ecd7735",
   "metadata": {},
   "outputs": [],
   "source": [
    "%%bash -s \"$PLATFORM\" \"$CRYPTO_TARGET\" \"$SS_VER\" \"$C_EXTRA_DEFS\"\n",
    "# compile firmware\n",
    "cd ../colin-hacktest1/firmware/simpleserial-aes-spitest\n",
    "make PLATFORM=$1 CRYPTO_TARGET=$2 SS_VER=$3 C_EXTRA_DEFS=\"$4\" -j\n",
    "cp simpleserial-aes-CW308_SAM4S.hex  ../../../sam4s-comparisons/firmwares/fw-15mhz.hex"
   ]
  },
  {
   "cell_type": "code",
   "execution_count": null,
   "id": "470dfdef",
   "metadata": {},
   "outputs": [],
   "source": [
    "C_EXTRA_DEFS=\"-DUSE_PLL -DUSE_EMBEDDED_CLOCK -DPLL_2MHZ\""
   ]
  },
  {
   "cell_type": "code",
   "execution_count": null,
   "id": "6b5f55d5",
   "metadata": {},
   "outputs": [],
   "source": [
    "%%bash -s \"$PLATFORM\" \"$CRYPTO_TARGET\" \"$SS_VER\" \"$C_EXTRA_DEFS\"\n",
    "# compile firmware\n",
    "cd ../colin-hacktest1/firmware/simpleserial-aes-spitest\n",
    "make PLATFORM=$1 CRYPTO_TARGET=$2 SS_VER=$3 C_EXTRA_DEFS=\"$4\" -j\n",
    "cp simpleserial-aes-CW308_SAM4S.hex  ../../../sam4s-comparisons/firmwares/fw-2mhz.hex"
   ]
  },
  {
   "cell_type": "markdown",
   "id": "e14b9ef2",
   "metadata": {},
   "source": [
    "Set default settings for rest of captures (will be overridden for some captures):\n",
    "* No clock driven to target\n",
    "* Gain mode works for most captures (could be adjusted)\n",
    "* 50K samples (could be adjusted)"
   ]
  },
  {
   "cell_type": "code",
   "execution_count": null,
   "id": "895116f9",
   "metadata": {},
   "outputs": [],
   "source": [
    "scope.io.hs2 = None\n",
    "scope.gain.mode = \"low\"\n",
    "scope.gain.gain = 45"
   ]
  },
  {
   "cell_type": "code",
   "execution_count": null,
   "id": "9de0f56c",
   "metadata": {},
   "outputs": [],
   "source": [
    "scope.adc.samples = 50000"
   ]
  },
  {
   "cell_type": "markdown",
   "id": "ed19b477",
   "metadata": {},
   "source": [
    "Make a live plot to monitor captures"
   ]
  },
  {
   "cell_type": "code",
   "execution_count": null,
   "id": "981c52a8",
   "metadata": {},
   "outputs": [],
   "source": [
    "splot = cw.StreamPlot()\n",
    "splot.plot()"
   ]
  },
  {
   "cell_type": "markdown",
   "id": "bc356965",
   "metadata": {},
   "source": [
    "## T-Test Captures"
   ]
  },
  {
   "cell_type": "code",
   "execution_count": null,
   "id": "90ae6bc8",
   "metadata": {},
   "outputs": [],
   "source": [
    "# program firmware onto target\n",
    "cw.program_target(scope, prog, \"firmwares/fw-120mhz-clkout.hex\")\n",
    "scope.io.target_pwr = False\n",
    "time.sleep(0.25)\n",
    "scope.io.target_pwr = True"
   ]
  },
  {
   "cell_type": "code",
   "execution_count": null,
   "id": "c3769572",
   "metadata": {},
   "outputs": [],
   "source": [
    "#Baud is lower so it works from internal oscillator which isn't as precise\n",
    "target.baud = 38400"
   ]
  },
  {
   "cell_type": "code",
   "execution_count": null,
   "id": "47c8f057",
   "metadata": {},
   "outputs": [],
   "source": [
    "scope.io.hs2 = None"
   ]
  },
  {
   "cell_type": "code",
   "execution_count": null,
   "id": "24ab1973",
   "metadata": {},
   "outputs": [],
   "source": [
    "#syncronous - 120 MS/s ADC setting\n",
    "def clocksetup(syncstr, fmcu, msps):\n",
    "    if syncstr == \"sync\":\n",
    "        scope.clock.clkgen_src = \"extclk\"\n",
    "        scope.io.hs2 = None\n",
    "\n",
    "        if msps == 120:\n",
    "            scope.clock.pll.set_outfreqs(fmcu*1E6/2, 60E6, 2, True)\n",
    "        elif msps == 60:\n",
    "            scope.clock.pll.set_outfreqs(fmcu*1E6/2, 60E6, 1, True)\n",
    "        else:\n",
    "            raise ValueError\n",
    "    elif syncstr == \"async\":\n",
    "        scope.clock.clkgen_src = \"internal\"\n",
    "        scope.clock.clkgen_freq = 60E6\n",
    "        if msps == 120:\n",
    "            scope.clock.adc_mul = 2\n",
    "        elif msps == 60:\n",
    "            scope.clock.adc_mul = 1\n",
    "        else:\n",
    "            raise ValueError\n",
    "    else:\n",
    "        raise ValueError"
   ]
  },
  {
   "cell_type": "code",
   "execution_count": null,
   "id": "e09bb84b",
   "metadata": {},
   "outputs": [],
   "source": [
    "def basetcapture(syncstr, fmcu, msps):\n",
    "    N = 10000\n",
    "    clocksetup(syncstr, fmcu, msps)\n",
    "    group1, group2 = capture_ttest(N, picoscope=False, splot=splot)\n",
    "    nptsave(\"baseline{:d}mhz_{:s}_{:d}msps_ttest_10k\".format(fmcu, syncstr, msps), group1, group2)"
   ]
  },
  {
   "cell_type": "code",
   "execution_count": null,
   "id": "7ce270b4",
   "metadata": {},
   "outputs": [],
   "source": [
    "basetcapture(\"sync\", 120, 120)"
   ]
  },
  {
   "cell_type": "code",
   "execution_count": null,
   "id": "1ff678c7",
   "metadata": {},
   "outputs": [],
   "source": [
    "basetcapture(\"sync\", 120, 60)"
   ]
  },
  {
   "cell_type": "code",
   "execution_count": null,
   "id": "b669728c",
   "metadata": {},
   "outputs": [],
   "source": [
    "basetcapture(\"async\", 120, 120)"
   ]
  },
  {
   "cell_type": "code",
   "execution_count": null,
   "id": "8f3fde30",
   "metadata": {},
   "outputs": [],
   "source": [
    "basetcapture(\"async\", 120, 60)"
   ]
  },
  {
   "cell_type": "code",
   "execution_count": null,
   "id": "5c1fd4aa",
   "metadata": {},
   "outputs": [],
   "source": [
    "# program firmware onto target\n",
    "cw.program_target(scope, prog, \"firmwares/fw-15mhz-clkout.hex\")\n",
    "scope.io.target_pwr = False\n",
    "time.sleep(0.25)\n",
    "scope.io.target_pwr = True"
   ]
  },
  {
   "cell_type": "code",
   "execution_count": null,
   "id": "af282c36",
   "metadata": {},
   "outputs": [],
   "source": [
    "basetcapture(\"sync\", 15, 120)"
   ]
  },
  {
   "cell_type": "code",
   "execution_count": null,
   "id": "8763a138",
   "metadata": {},
   "outputs": [],
   "source": [
    "basetcapture(\"sync\", 15, 60)"
   ]
  },
  {
   "cell_type": "code",
   "execution_count": null,
   "id": "8fe3b6dd",
   "metadata": {},
   "outputs": [],
   "source": [
    "basetcapture(\"async\", 15, 120)"
   ]
  },
  {
   "cell_type": "code",
   "execution_count": null,
   "id": "d1ac2e67",
   "metadata": {},
   "outputs": [],
   "source": [
    "basetcapture(\"async\", 15, 60)"
   ]
  },
  {
   "cell_type": "code",
   "execution_count": null,
   "id": "159ea850",
   "metadata": {},
   "outputs": [],
   "source": [
    "# program firmware onto target\n",
    "cw.program_target(scope, prog, \"firmwares/fw-2mhz-clkout.hex\")\n",
    "scope.io.target_pwr = False\n",
    "time.sleep(0.25)\n",
    "scope.io.target_pwr = True"
   ]
  },
  {
   "cell_type": "markdown",
   "id": "99d035e9",
   "metadata": {},
   "source": [
    "The 2MHz firmware has a different baud as it can't calculate the same 38400 one"
   ]
  },
  {
   "cell_type": "code",
   "execution_count": null,
   "id": "1c08d359",
   "metadata": {},
   "outputs": [],
   "source": [
    "target.baud = 62750"
   ]
  },
  {
   "cell_type": "code",
   "execution_count": null,
   "id": "49c043c3",
   "metadata": {},
   "outputs": [],
   "source": [
    "scope.gain.gain = 20\n",
    "scope.gain.mode = \"high\""
   ]
  },
  {
   "cell_type": "markdown",
   "id": "b0ed274c",
   "metadata": {},
   "source": [
    "Sync capture isn't possible. With a 2MHz CPU, the output clock is 1 MHz, which falls below the PLL input range to be able to calculate up to 120 or 60 MHz. So we just ignore these."
   ]
  },
  {
   "cell_type": "code",
   "execution_count": null,
   "id": "d847a11b",
   "metadata": {},
   "outputs": [],
   "source": [
    "#basetcapture(\"sync\", 2, 120)"
   ]
  },
  {
   "cell_type": "code",
   "execution_count": null,
   "id": "e3d81c86",
   "metadata": {},
   "outputs": [],
   "source": [
    "#basetcapture(\"sync\", 2, 60)"
   ]
  },
  {
   "cell_type": "markdown",
   "id": "3d9e058b",
   "metadata": {},
   "source": []
  },
  {
   "cell_type": "code",
   "execution_count": null,
   "id": "a0df67a7",
   "metadata": {},
   "outputs": [],
   "source": [
    "scope.adc.samples = 100000\n",
    "scope.adc.offset = 100000"
   ]
  },
  {
   "cell_type": "code",
   "execution_count": null,
   "id": "b47c07f4",
   "metadata": {},
   "outputs": [],
   "source": [
    "basetcapture(\"async\", 2, 120)"
   ]
  },
  {
   "cell_type": "code",
   "execution_count": null,
   "id": "397a8e4c",
   "metadata": {},
   "outputs": [],
   "source": [
    "scope.adc.samples = 100000\n",
    "scope.adc.offset = 50000"
   ]
  },
  {
   "cell_type": "code",
   "execution_count": null,
   "id": "31ce18c1",
   "metadata": {},
   "outputs": [],
   "source": [
    "basetcapture(\"async\", 2, 60)"
   ]
  },
  {
   "cell_type": "markdown",
   "id": "4cec1c35",
   "metadata": {},
   "source": [
    "## SCA Captures"
   ]
  },
  {
   "cell_type": "code",
   "execution_count": null,
   "id": "c3ec1fde",
   "metadata": {},
   "outputs": [],
   "source": [
    "# program firmware onto target\n",
    "cw.program_target(scope, prog, \"firmwares/fw-120mhz-clkout.hex\")\n",
    "scope.io.target_pwr = False\n",
    "time.sleep(0.25)\n",
    "scope.io.target_pwr = True"
   ]
  },
  {
   "cell_type": "code",
   "execution_count": null,
   "id": "1c9bed6b",
   "metadata": {},
   "outputs": [],
   "source": [
    "#Baud is lower so it works from internal oscillator which isn't as precise\n",
    "target.baud = 38400"
   ]
  },
  {
   "cell_type": "code",
   "execution_count": null,
   "id": "b155aef7",
   "metadata": {},
   "outputs": [],
   "source": [
    "scope.io.hs2 = None"
   ]
  },
  {
   "cell_type": "code",
   "execution_count": null,
   "id": "e00154fb",
   "metadata": {},
   "outputs": [],
   "source": [
    "splot = cw.StreamPlot()\n",
    "splot.plot()"
   ]
  },
  {
   "cell_type": "code",
   "execution_count": null,
   "id": "746c5ff6",
   "metadata": {},
   "outputs": [],
   "source": [
    "#Don't need as many samples for these\n",
    "scope.adc.offset = 0\n",
    "scope.adc.samples = 20000"
   ]
  },
  {
   "cell_type": "code",
   "execution_count": null,
   "id": "720eedd1",
   "metadata": {},
   "outputs": [],
   "source": [
    "clocksetup(\"sync\", 120, 120)"
   ]
  },
  {
   "cell_type": "code",
   "execution_count": null,
   "id": "01f4b97a",
   "metadata": {},
   "outputs": [],
   "source": [
    "waves, textins, textouts, keys = capture_cpa(1000, splot=splot)"
   ]
  },
  {
   "cell_type": "code",
   "execution_count": null,
   "id": "6d079ad3",
   "metadata": {},
   "outputs": [],
   "source": [
    "save_ets(waves, textins, textouts, keys, \"./data_store/baseline120mhz_sync_120msps_cpa.ets\", overwrite=False)"
   ]
  },
  {
   "cell_type": "code",
   "execution_count": null,
   "id": "cf020275",
   "metadata": {},
   "outputs": [],
   "source": [
    "clocksetup(\"sync\", 120, 60)"
   ]
  },
  {
   "cell_type": "code",
   "execution_count": null,
   "id": "53be6521",
   "metadata": {},
   "outputs": [],
   "source": [
    "waves, textins, textouts, keys = capture_cpa(4000, splot=splot)"
   ]
  },
  {
   "cell_type": "code",
   "execution_count": null,
   "id": "75f418ca",
   "metadata": {},
   "outputs": [],
   "source": [
    "save_ets(waves, textins, textouts, keys, \"./data_store/baseline120mhz_sync_60msps_cpa.ets\", overwrite=False)"
   ]
  },
  {
   "cell_type": "code",
   "execution_count": null,
   "id": "3f2280ed",
   "metadata": {},
   "outputs": [],
   "source": [
    "scope.adc.offset = 0\n",
    "scope.adc.samples = 6000\n",
    "clocksetup(\"async\", 120, 120)"
   ]
  },
  {
   "cell_type": "code",
   "execution_count": null,
   "id": "ce7525a0",
   "metadata": {},
   "outputs": [],
   "source": [
    "waves, textins, textouts, keys = capture_cpa(80000, splot=splot)"
   ]
  },
  {
   "cell_type": "code",
   "execution_count": null,
   "id": "18060b86",
   "metadata": {},
   "outputs": [],
   "source": [
    "save_ets(waves, textins, textouts, keys, \"./data_store/baseline120mhz_async_120msps_cpa.ets\", overwrite=False)"
   ]
  },
  {
   "cell_type": "code",
   "execution_count": null,
   "id": "adf49153",
   "metadata": {},
   "outputs": [],
   "source": [
    "clocksetup(\"async\", 120, 60)"
   ]
  },
  {
   "cell_type": "code",
   "execution_count": null,
   "id": "9adfaed8",
   "metadata": {},
   "outputs": [],
   "source": [
    "waves, textins, textouts, keys = capture_cpa(80000, splot=splot)"
   ]
  },
  {
   "cell_type": "code",
   "execution_count": null,
   "id": "839d782a",
   "metadata": {},
   "outputs": [],
   "source": [
    "save_ets(waves, textins, textouts, keys, \"./data_store/baseline120mhz_async_60msps_cpa.ets\", overwrite=False)"
   ]
  },
  {
   "cell_type": "code",
   "execution_count": null,
   "id": "981848cf",
   "metadata": {},
   "outputs": [],
   "source": [
    "# program firmware onto target\n",
    "cw.program_target(scope, prog, \"firmwares/fw-15mhz-clkout.hex\")\n",
    "scope.io.target_pwr = False\n",
    "time.sleep(0.25)\n",
    "scope.io.target_pwr = True"
   ]
  },
  {
   "cell_type": "code",
   "execution_count": null,
   "id": "816f4b67",
   "metadata": {},
   "outputs": [],
   "source": [
    "scope.adc.offset = 11000\n",
    "scope.adc.samples = 10000"
   ]
  },
  {
   "cell_type": "code",
   "execution_count": null,
   "id": "e5ccfc69",
   "metadata": {},
   "outputs": [],
   "source": [
    "clocksetup(\"sync\", 15, 120)"
   ]
  },
  {
   "cell_type": "code",
   "execution_count": null,
   "id": "6019982a",
   "metadata": {},
   "outputs": [],
   "source": [
    "waves, textins, textouts, keys = capture_cpa(5000, splot=splot)"
   ]
  },
  {
   "cell_type": "code",
   "execution_count": null,
   "id": "d765a550",
   "metadata": {},
   "outputs": [],
   "source": [
    "save_ets(waves, textins, textouts, keys, \"./data_store/baseline15mhz_sync_120msps_cpa.ets\", overwrite=False)"
   ]
  },
  {
   "cell_type": "code",
   "execution_count": null,
   "id": "bed7bfb7",
   "metadata": {},
   "outputs": [],
   "source": [
    "scope.adc.offset = int(11000/2)\n",
    "scope.adc.samples = int(10000/2)"
   ]
  },
  {
   "cell_type": "code",
   "execution_count": null,
   "id": "d50f5e23",
   "metadata": {},
   "outputs": [],
   "source": [
    "clocksetup(\"sync\", 15, 60)"
   ]
  },
  {
   "cell_type": "code",
   "execution_count": null,
   "id": "67dde506",
   "metadata": {},
   "outputs": [],
   "source": [
    "waves, textins, textouts, keys = capture_cpa(5000, splot=splot)"
   ]
  },
  {
   "cell_type": "code",
   "execution_count": null,
   "id": "1aa77540",
   "metadata": {},
   "outputs": [],
   "source": [
    "save_ets(waves, textins, textouts, keys, \"./data_store/baseline15mhz_sync_60msps_cpa.ets\", overwrite=False)"
   ]
  },
  {
   "cell_type": "code",
   "execution_count": null,
   "id": "ce4ea81c",
   "metadata": {},
   "outputs": [],
   "source": [
    "scope.adc.offset = 11000\n",
    "scope.adc.samples = 10000"
   ]
  },
  {
   "cell_type": "code",
   "execution_count": null,
   "id": "7cd2bcfe",
   "metadata": {},
   "outputs": [],
   "source": [
    "clocksetup(\"async\", 15, 120)"
   ]
  },
  {
   "cell_type": "code",
   "execution_count": null,
   "id": "0f871904",
   "metadata": {},
   "outputs": [],
   "source": [
    "waves, textins, textouts, keys = capture_cpa(40000, splot=splot)"
   ]
  },
  {
   "cell_type": "code",
   "execution_count": null,
   "id": "7e9aa4d7",
   "metadata": {},
   "outputs": [],
   "source": [
    "save_ets(waves, textins, textouts, keys, \"./data_store/baseline15mhz_async_120msps_cpa.ets\", overwrite=True)"
   ]
  },
  {
   "cell_type": "code",
   "execution_count": null,
   "id": "06739334",
   "metadata": {},
   "outputs": [],
   "source": [
    "scope.adc.offset = int(11000/2)\n",
    "scope.adc.samples = int(10000/2)"
   ]
  },
  {
   "cell_type": "code",
   "execution_count": null,
   "id": "2e4c1761",
   "metadata": {},
   "outputs": [],
   "source": [
    "clocksetup(\"async\", 15, 60)"
   ]
  },
  {
   "cell_type": "code",
   "execution_count": null,
   "id": "e0ee36d9",
   "metadata": {},
   "outputs": [],
   "source": [
    "waves, textins, textouts, keys = capture_cpa(50000, splot=splot)"
   ]
  },
  {
   "cell_type": "code",
   "execution_count": null,
   "id": "4d50f064",
   "metadata": {},
   "outputs": [],
   "source": [
    "save_ets(waves, textins, textouts, keys, \"./data_store/baseline15mhz_async_60msps_cpa.ets\", overwrite=False)"
   ]
  },
  {
   "cell_type": "code",
   "execution_count": null,
   "id": "5058ac53",
   "metadata": {},
   "outputs": [],
   "source": [
    "# program firmware onto target\n",
    "cw.program_target(scope, prog, \"firmwares/fw-2mhz-clkout.hex\")\n",
    "scope.io.target_pwr = False\n",
    "time.sleep(0.25)\n",
    "scope.io.target_pwr = True"
   ]
  },
  {
   "cell_type": "code",
   "execution_count": null,
   "id": "f3efc60b",
   "metadata": {},
   "outputs": [],
   "source": [
    "target.baud = 62750"
   ]
  },
  {
   "cell_type": "code",
   "execution_count": null,
   "id": "ac28d04f",
   "metadata": {},
   "outputs": [],
   "source": [
    "scope.gain.gain = 20\n",
    "scope.gain.mode = \"high\""
   ]
  },
  {
   "cell_type": "code",
   "execution_count": null,
   "id": "5a7799dc",
   "metadata": {},
   "outputs": [],
   "source": [
    "scope.adc.samples = 130000\n",
    "scope.adc.offset = 50000"
   ]
  },
  {
   "cell_type": "code",
   "execution_count": null,
   "id": "50d530a8",
   "metadata": {},
   "outputs": [],
   "source": [
    "clocksetup(\"async\", 2, 120)"
   ]
  },
  {
   "cell_type": "code",
   "execution_count": null,
   "id": "d699359e",
   "metadata": {},
   "outputs": [],
   "source": [
    "waves, textins, textouts, keys = capture_cpa(5000, splot=splot)"
   ]
  },
  {
   "cell_type": "code",
   "execution_count": null,
   "id": "82982f86",
   "metadata": {},
   "outputs": [],
   "source": [
    "save_ets(waves, textins, textouts, keys, \"./data_store/baseline2mhz_async_120msps_cpa.ets\", overwrite=True)"
   ]
  },
  {
   "cell_type": "code",
   "execution_count": null,
   "id": "91c3ec40",
   "metadata": {},
   "outputs": [],
   "source": [
    "scope.adc.samples = 130000\n",
    "scope.adc.offset = 50000"
   ]
  },
  {
   "cell_type": "code",
   "execution_count": null,
   "id": "6ae6937c",
   "metadata": {},
   "outputs": [],
   "source": [
    "clocksetup(\"async\", 2, 60)"
   ]
  },
  {
   "cell_type": "code",
   "execution_count": null,
   "id": "315a5fb6",
   "metadata": {},
   "outputs": [],
   "source": [
    "waves, textins, textouts, keys = capture_cpa(20000, splot=None)"
   ]
  },
  {
   "cell_type": "code",
   "execution_count": null,
   "id": "8f6ea0bd",
   "metadata": {},
   "outputs": [],
   "source": [
    "save_ets(waves, textins, textouts, keys, \"d:/data_store/baseline2mhz_async_60msps_cpa.ets\", overwrite=True)"
   ]
  },
  {
   "cell_type": "code",
   "execution_count": null,
   "id": "8b817e58",
   "metadata": {},
   "outputs": [],
   "source": []
  },
  {
   "cell_type": "markdown",
   "id": "5946943a",
   "metadata": {},
   "source": [
    "You can use the following to get a rough idea of length of AES rounds, or plot the waveforms to ensure things look right:"
   ]
  },
  {
   "cell_type": "code",
   "execution_count": null,
   "id": "f1f95302",
   "metadata": {},
   "outputs": [],
   "source": [
    "scope.adc.trig_count / 10"
   ]
  },
  {
   "cell_type": "code",
   "execution_count": null,
   "id": "4921e4ca",
   "metadata": {},
   "outputs": [],
   "source": [
    "plt.plot(waves[0])"
   ]
  }
 ],
 "metadata": {
  "kernelspec": {
   "display_name": "Python 3 (ipykernel)",
   "language": "python",
   "name": "python3"
  },
  "language_info": {
   "codemirror_mode": {
    "name": "ipython",
    "version": 3
   },
   "file_extension": ".py",
   "mimetype": "text/x-python",
   "name": "python",
   "nbconvert_exporter": "python",
   "pygments_lexer": "ipython3",
   "version": "3.10.8"
  }
 },
 "nbformat": 4,
 "nbformat_minor": 5
}
