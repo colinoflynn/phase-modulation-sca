{
 "cells": [
  {
   "cell_type": "markdown",
   "metadata": {
    "id": "75MPHKqQRAQs"
   },
   "source": [
    "# Artifact Table 1-A for Phase Moducation Side Channel Analysis and JTAG Attacks\n",
    "\n",
    "This is part of a series of artifacts. Note these notebooks are designed to run on Google Colab so have been simplified from those available in the [full repository](https://github.com/colinoflynn/phase-modulation-sca).\n",
    "\n",
    "To run these notebooks, simply run from top to bottom.\n",
    "\n",
    "**Section of Paper Reproduced**: These will reproduce CPA results in Table 1.\n",
    "\n",
    "**WARNING**: Some steps, such as the extraction, can be very slow. Try not to forget you started the process as CoLab will kill unattended notebooks eventually, and you'll have to start again."
   ]
  },
  {
   "cell_type": "code",
   "execution_count": null,
   "metadata": {
    "colab": {
     "base_uri": "https://localhost:8080/"
    },
    "id": "MWa9PY6RDxVX",
    "outputId": "3d8b5d72-faad-4544-c230-cc709915d0b2"
   },
   "outputs": [],
   "source": [
    "!pip install scared"
   ]
  },
  {
   "cell_type": "code",
   "execution_count": null,
   "metadata": {},
   "outputs": [],
   "source": [
    "!sudo apt-get install zstd"
   ]
  },
  {
   "cell_type": "code",
   "execution_count": null,
   "metadata": {
    "colab": {
     "base_uri": "https://localhost:8080/"
    },
    "id": "kd_kSapJGg1t",
    "outputId": "74b1cd4c-c4de-434c-c166-ac2a4a01dd19"
   },
   "outputs": [],
   "source": [
    "!wget https://zenodo.org/records/13359322/files/baseline_traces_cpa.tar.zst?download=1"
   ]
  },
  {
   "cell_type": "code",
   "execution_count": null,
   "metadata": {
    "colab": {
     "base_uri": "https://localhost:8080/"
    },
    "id": "hDveHxw0Gjs5",
    "outputId": "6f311a1e-16e4-4d75-bc92-f456b8bd1a62"
   },
   "outputs": [],
   "source": [
    "!tar -xf baseline_traces_cpa.tar.zst?download=1"
   ]
  },
  {
   "cell_type": "code",
   "execution_count": null,
   "metadata": {
    "id": "S04oWW9uGy5c"
   },
   "outputs": [],
   "source": [
    "!rm -rf baseline_traces_cpa.tar.zst?download=1"
   ]
  },
  {
   "cell_type": "code",
   "execution_count": null,
   "metadata": {
    "id": "2zxA7DIfPvXE"
   },
   "outputs": [],
   "source": [
    "import scared\n",
    "import estraces\n",
    "import numpy as np"
   ]
  },
  {
   "cell_type": "code",
   "execution_count": null,
   "metadata": {
    "id": "qLscXmCaQFOU"
   },
   "outputs": [],
   "source": [
    "knownkey = [43, 126, 21, 22, 40, 174, 210, 166, 171, 247, 21, 136, 9, 207, 79, 60]"
   ]
  },
  {
   "cell_type": "code",
   "execution_count": null,
   "metadata": {
    "id": "t8scopA1QHpN"
   },
   "outputs": [],
   "source": [
    "def find_success(att, knownkey):\n",
    "    recovered_masterkey = np.argmax(att.scores, axis=0).astype('uint8')\n",
    "    print(recovered_masterkey == knownkey)\n",
    "\n",
    "    for i in range(0, np.shape(att.convergence_traces)[2]):\n",
    "        if np.all(np.argmax(att.convergence_traces[:,:,i], axis=0) == knownkey):\n",
    "            return (i+1)*att.convergence_step\n",
    "    return -1"
   ]
  },
  {
   "cell_type": "code",
   "execution_count": null,
   "metadata": {
    "id": "-TfUu_anQJKT"
   },
   "outputs": [],
   "source": [
    "import scared\n",
    "from scipy import signal\n",
    "\n",
    "\n",
    "def do_cpa(filename, step=25, window=None, hpf=None, lpf=None):\n",
    "    ths = estraces.read_ths_from_ets_file(filename)\n",
    "    print(ths)\n",
    "\n",
    "    selection_function = scared.aes.selection_functions.encrypt.FirstSubBytes()\n",
    "\n",
    "    att = scared.CPAAttack(selection_function=selection_function,\n",
    "                           model=scared.HammingWeight(),\n",
    "                           discriminant=scared.maxabs,\n",
    "                           convergence_step=step)\n",
    "\n",
    "    processes = []\n",
    "\n",
    "    # Simple high pass filter (HPF)\n",
    "    if hpf:\n",
    "        sos = signal.butter(5, hpf, 'highpass', output='sos')\n",
    "\n",
    "        @scared.preprocess\n",
    "        def hpfproc(traces):\n",
    "            return signal.sosfilt(sos, traces)\n",
    "\n",
    "        processes.append(hpfproc)\n",
    "\n",
    "    # Simple low pass filter (LPF)\n",
    "    if lpf:\n",
    "        sos = signal.butter(5, lpf, 'lowpass', output='sos')\n",
    "\n",
    "        @scared.preprocess\n",
    "        def lpfproc(traces):\n",
    "            return signal.sosfilt(sos, traces)\n",
    "\n",
    "        processes.append(lpfproc)\n",
    "\n",
    "    # This resync preprocessing isn't really used, was used with some JTAG captures only\n",
    "    @scared.preprocess\n",
    "    def resync(traces):\n",
    "        import numpy as np\n",
    "        first = []\n",
    "        for w in traces:\n",
    "            first.append(w[0])\n",
    "        avg = np.mean(first)\n",
    "\n",
    "        tracesresync = []\n",
    "        for w in traces:\n",
    "            if w[0] < avg:\n",
    "                tracesresync.append(w[:-1])\n",
    "            else:\n",
    "                tracesresync.append(w[1:])\n",
    "        return np.array(tracesresync)\n",
    "    #processes.append(resync)\n",
    "\n",
    "    if window:\n",
    "        container = scared.Container(ths, frame=range(window[0], window[1]), preprocesses=processes)\n",
    "    else:\n",
    "        container = scared.Container(ths, preprocesses=processes)\n",
    "\n",
    "\n",
    "    att.run(container)\n",
    "\n",
    "    import numpy as np\n",
    "\n",
    "    recovered_masterkey = np.argmax(att.scores, axis=0).astype('uint8')\n",
    "\n",
    "    return att"
   ]
  },
  {
   "cell_type": "code",
   "execution_count": null,
   "metadata": {
    "id": "1R-6k6RGQLNG"
   },
   "outputs": [],
   "source": [
    "# Datasets in baseline_traces_cpa online\n",
    "filenames = [('baseline_traces_cpa/baseline120mhz_sync_120msps_cpa.ets', 25, None, None, None),\n",
    "             ('baseline_traces_cpa/baseline120mhz_sync_60msps_cpa.ets', 25, None, None, None),\n",
    "             ('baseline_traces_cpa/baseline120mhz_async_120msps_cpa.ets', 125, None, None, None),\n",
    "             ('baseline_traces_cpa/baseline120mhz_async_60msps_cpa.ets', 125, (0, 3000), None, None),\n",
    "             ('baseline_traces_cpa/baseline15mhz_sync_120msps_cpa.ets', 50, None, None, None),\n",
    "             ('baseline_traces_cpa/baseline15mhz_sync_60msps_cpa.ets', 50, None, None, None),\n",
    "             ('baseline_traces_cpa/baseline15mhz_async_120msps_cpa.ets', 50, (1000, 6000), None, None),\n",
    "             ('baseline_traces_cpa/baseline15mhz_async_60msps_cpa.ets', 50, (500, 3000), None, None),\n",
    "            ]\n"
   ]
  },
  {
   "cell_type": "markdown",
   "metadata": {
    "id": "LvsM_WCjSQ7D"
   },
   "source": [
    "## Doing all the CPA attacks on baseline measurements\n",
    "\n",
    "The following will do all the attacks on *baseline* measurements. The results get saved to a `.npy` file for further use. The `.npy` files have also been saved from prior runs.\n",
    "\n",
    "The following results in the CPA numbers that are reported in the paper."
   ]
  },
  {
   "cell_type": "code",
   "execution_count": null,
   "metadata": {
    "colab": {
     "base_uri": "https://localhost:8080/"
    },
    "id": "-09IesG8QglL",
    "outputId": "bd1e63bc-3eda-49ef-83fd-a02e35fecfab"
   },
   "outputs": [],
   "source": [
    "for f in filenames:\n",
    "    att = do_cpa(f[0], f[1], f[2], f[3], f[4])\n",
    "    successnum = find_success(att, knownkey)\n",
    "    print(\"{:s} = {:d}\".format(f[0], successnum))\n",
    "    np.save(f[0] + \".npy\", att)"
   ]
  },
  {
   "cell_type": "markdown",
   "metadata": {
    "id": "tOkcLRTdV6Ss"
   },
   "source": [
    "The above results in a bunch of output, but the important parts are the lines that look like this:\n",
    "\n",
    "```\n",
    "baseline_traces_cpa/baseline120mhz_sync_120msps_cpa.ets = 750\n",
    "baseline_traces_cpa/baseline120mhz_sync_60msps_cpa.ets = 1350\n",
    "baseline_traces_cpa/baseline120mhz_async_120msps_cpa.ets = 28375\n",
    "baseline_traces_cpa/baseline120mhz_async_60msps_cpa.ets = 66750\n",
    "baseline_traces_cpa/baseline15mhz_sync_120msps_cpa.ets = 3250\n",
    "baseline_traces_cpa/baseline15mhz_sync_60msps_cpa.ets = 3600\n",
    "baseline_traces_cpa/baseline15mhz_async_120msps_cpa.ets = 19700\n",
    "baseline_traces_cpa/baseline15mhz_async_60msps_cpa.ets = 22800\n",
    "```\n",
    "\n",
    "These baseline values can be found in **Table 1** in the paper, reproduced here in Markdown (not exactly perfect):\n",
    "\n",
    "| CPU Freq | Asynchronous Sampling |       |         |       | Synchronous Sampling |      |         |      |\n",
    "|----------|-----------------------|-------|---------|-------|----------------------|------|---------|------|\n",
    "|          | 120 MS/s              |       | 60 MS/s |       | 120 MS/S             |      | 60 MS/s |      |\n",
    "|          | |TVLA|                | CPA   | |TVLA|  | CPA   | |TVLA|               | CPA  | |TVLA|  | CPA  |\n",
    "| 120 MHz  | 5.0                   | 28375 | 4.2     | 66750 | 43.9                 | 750  | 28.8    | 1350 |\n",
    "| 15 MHz   | 5.9                   | 19900 | 5.0     | 22800 | 24.0                 | 3250 | 25.8    | 3600 |\n",
    "\n",
    "Note depending on the reporting internal there seems to be minor variations - here the table as 19900 for 15Mhz CPU / 120 MS/s async, but re-running it here resulted in 19700."
   ]
  },
  {
   "cell_type": "markdown",
   "metadata": {
    "id": "WF21lRmaVOwD"
   },
   "source": [
    "You may wish to save the .npy files. While we have a copy of them, for a \"complete\" artifact recreation you should copy the .npy files to the CPA plotting notebook.\n",
    "\n",
    "The easiest way to do this if using colab (and not a local Jupyter install) is to copy them to a directory & compress them. Then download the file in the CoLab web interface.\n",
    "\n",
    "The following block will move them to a `results` directory, then the block after that will compress that directory. Look for a `results.7z` file you download."
   ]
  },
  {
   "cell_type": "code",
   "execution_count": null,
   "metadata": {
    "colab": {
     "base_uri": "https://localhost:8080/"
    },
    "id": "NUnYcNtWVOJ9",
    "outputId": "f526f2d0-8d90-45a8-e576-d9f8f9c0408d"
   },
   "outputs": [],
   "source": [
    "%%bash\n",
    "mkdir results\n",
    "mv baseline_traces_cpa/*.npy results/."
   ]
  },
  {
   "cell_type": "code",
   "execution_count": null,
   "metadata": {
    "colab": {
     "base_uri": "https://localhost:8080/"
    },
    "id": "GWmCoXejVONL",
    "outputId": "15b7af8e-3ba9-421a-e128-d34ad77a7df3"
   },
   "outputs": [],
   "source": [
    "!7z a results.7z results"
   ]
  },
  {
   "cell_type": "markdown",
   "metadata": {
    "id": "lVYPH57HbR01"
   },
   "source": [
    "You will now need to reproduce the T-Test results in Table 1. See the next artifact to do this."
   ]
  },
  {
   "cell_type": "code",
   "execution_count": null,
   "metadata": {
    "id": "yOO1kliuTHsw"
   },
   "outputs": [],
   "source": []
  }
 ],
 "metadata": {
  "colab": {
   "provenance": []
  },
  "kernelspec": {
   "display_name": "Python 3 (ipykernel)",
   "language": "python",
   "name": "python3"
  },
  "language_info": {
   "codemirror_mode": {
    "name": "ipython",
    "version": 3
   },
   "file_extension": ".py",
   "mimetype": "text/x-python",
   "name": "python",
   "nbconvert_exporter": "python",
   "pygments_lexer": "ipython3",
   "version": "3.10.8"
  }
 },
 "nbformat": 4,
 "nbformat_minor": 1
}
