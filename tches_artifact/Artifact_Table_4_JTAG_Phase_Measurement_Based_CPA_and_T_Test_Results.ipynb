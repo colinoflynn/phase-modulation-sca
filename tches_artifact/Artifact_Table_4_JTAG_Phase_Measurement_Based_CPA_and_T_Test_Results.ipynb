{
 "cells": [
  {
   "cell_type": "markdown",
   "metadata": {
    "id": "75MPHKqQRAQs"
   },
   "source": [
    "# Artifact of Table 4 for Phase Moducation Side Channel Analysis and JTAG Attacks\n",
    "\n",
    "This is part of a series of artifacts. Note these notebooks are designed to run on Google Colab so have been simplified from those available in the [full repository](https://github.com/colinoflynn/phase-modulation-sca).\n",
    "\n",
    "To run these notebooks, simply run from top to bottom.\n",
    "\n",
    "**WARNING**: Some steps, such as the extraction, can be very slow. Try not to forget you started the process as CoLab will kill unattended notebooks eventually, and you'll have to start again."
   ]
  },
  {
   "cell_type": "code",
   "execution_count": null,
   "metadata": {
    "colab": {
     "base_uri": "https://localhost:8080/"
    },
    "id": "MWa9PY6RDxVX",
    "outputId": "1ce0b4fe-bf41-432f-e712-1dbd7fe46284"
   },
   "outputs": [],
   "source": [
    "import sys\n",
    "!{sys.executable} -m pip install scared"
   ]
  },
  {
   "cell_type": "code",
   "execution_count": null,
   "metadata": {},
   "outputs": [],
   "source": [
    "!sudo apt-get install zstd"
   ]
  },
  {
   "cell_type": "code",
   "execution_count": null,
   "metadata": {
    "colab": {
     "base_uri": "https://localhost:8080/"
    },
    "id": "kd_kSapJGg1t",
    "outputId": "7e103ad9-932e-47ef-e9a3-1d0f6de35d5f"
   },
   "outputs": [],
   "source": [
    "!wget https://zenodo.org/records/13359322/files/jtagpm.tar.zst?download=1"
   ]
  },
  {
   "cell_type": "code",
   "execution_count": null,
   "metadata": {
    "colab": {
     "base_uri": "https://localhost:8080/"
    },
    "id": "hDveHxw0Gjs5",
    "outputId": "88fdf39a-fbba-4436-acf4-66643ac44f22"
   },
   "outputs": [],
   "source": [
    "!tar -xf jtagpm.tar.zst?download=1"
   ]
  },
  {
   "cell_type": "code",
   "execution_count": null,
   "metadata": {
    "colab": {
     "base_uri": "https://localhost:8080/"
    },
    "id": "j-T-mIig0O2s",
    "outputId": "e5a9d1fb-013f-47f5-df7c-dedbfec4051b"
   },
   "outputs": [],
   "source": [
    "!ls -l pmjtag_cpa"
   ]
  },
  {
   "cell_type": "code",
   "execution_count": null,
   "metadata": {
    "id": "S04oWW9uGy5c"
   },
   "outputs": [],
   "source": [
    "!rm -rf jtagpm.tar.zst?download=1"
   ]
  },
  {
   "cell_type": "code",
   "execution_count": null,
   "metadata": {
    "id": "2zxA7DIfPvXE"
   },
   "outputs": [],
   "source": [
    "import scared\n",
    "import estraces\n",
    "import numpy as np"
   ]
  },
  {
   "cell_type": "code",
   "execution_count": null,
   "metadata": {
    "colab": {
     "base_uri": "https://localhost:8080/"
    },
    "id": "qLscXmCaQFOU",
    "outputId": "5ea78cf3-2c6a-43f7-9024-448c2f0a6cef"
   },
   "outputs": [],
   "source": [
    "knownkey = [43, 126, 21, 22, 40, 174, 210, 166, 171, 247, 21, 136, 9, 207, 79, 60]"
   ]
  },
  {
   "cell_type": "code",
   "execution_count": null,
   "metadata": {
    "id": "t8scopA1QHpN"
   },
   "outputs": [],
   "source": [
    "def find_success(att, knownkey):\n",
    "    recovered_masterkey = np.argmax(att.scores, axis=0).astype('uint8')\n",
    "    print(recovered_masterkey == knownkey)\n",
    "\n",
    "    for i in range(0, np.shape(att.convergence_traces)[2]):\n",
    "        if np.all(np.argmax(att.convergence_traces[:,:,i], axis=0) == knownkey):\n",
    "            return (i+1)*att.convergence_step\n",
    "    return -1"
   ]
  },
  {
   "cell_type": "code",
   "execution_count": null,
   "metadata": {
    "id": "-TfUu_anQJKT"
   },
   "outputs": [],
   "source": [
    "import scared\n",
    "from scipy import signal\n",
    "\n",
    "\n",
    "def do_cpa(filename, step=25, window=None, hpf=None, lpf=None):\n",
    "    ths = estraces.read_ths_from_ets_file(filename)\n",
    "    print(ths)\n",
    "\n",
    "    selection_function = scared.aes.selection_functions.encrypt.FirstSubBytes()\n",
    "\n",
    "    att = scared.CPAAttack(selection_function=selection_function,\n",
    "                           model=scared.HammingWeight(),\n",
    "                           discriminant=scared.maxabs,\n",
    "                           convergence_step=step)\n",
    "\n",
    "    processes = []\n",
    "\n",
    "    # Simple high pass filter (HPF)\n",
    "    if hpf:\n",
    "        sos = signal.butter(5, hpf, 'highpass', output='sos')\n",
    "\n",
    "        @scared.preprocess\n",
    "        def hpfproc(traces):\n",
    "            return signal.sosfilt(sos, traces)\n",
    "\n",
    "        processes.append(hpfproc)\n",
    "\n",
    "    # Simple low pass filter (LPF)\n",
    "    if lpf:\n",
    "        sos = signal.butter(5, lpf, 'lowpass', output='sos')\n",
    "\n",
    "        @scared.preprocess\n",
    "        def lpfproc(traces):\n",
    "            return signal.sosfilt(sos, traces)\n",
    "\n",
    "        processes.append(lpfproc)\n",
    "\n",
    "    # This resync preprocessing isn't really used, was used with some JTAG captures only\n",
    "    @scared.preprocess\n",
    "    def resync(traces):\n",
    "        import numpy as np\n",
    "        first = []\n",
    "        for w in traces:\n",
    "            first.append(w[0])\n",
    "        avg = np.mean(first)\n",
    "\n",
    "        tracesresync = []\n",
    "        for w in traces:\n",
    "            if w[0] < avg:\n",
    "                tracesresync.append(w[:-1])\n",
    "            else:\n",
    "                tracesresync.append(w[1:])\n",
    "        return np.array(tracesresync)\n",
    "    #processes.append(resync)\n",
    "\n",
    "    if window:\n",
    "        container = scared.Container(ths, frame=range(window[0], window[1]), preprocesses=processes)\n",
    "    else:\n",
    "        container = scared.Container(ths, preprocesses=processes)\n",
    "\n",
    "\n",
    "    att.run(container)\n",
    "\n",
    "    import numpy as np\n",
    "\n",
    "    recovered_masterkey = np.argmax(att.scores, axis=0).astype('uint8')\n",
    "\n",
    "    return att"
   ]
  },
  {
   "cell_type": "code",
   "execution_count": null,
   "metadata": {
    "id": "1R-6k6RGQLNG"
   },
   "outputs": [],
   "source": [
    "# Datasets in baseline_traces_cpa online\n",
    "filenames = [\n",
    "             ('pmjtag_cpa/cwhusky_shunt_15mhzcpu_30mhzadc_sync.ets', 100, None, None, None),\n",
    "             ('pmjtag_cpa/cwhusky_jtag_mixer_15mhzcpu_30mhzadc_sync_k.ets', 25, None, None, None), # 8900 @ 25 steps\n",
    "             ('pmjtag_cpa/cwhusky_jtagclockoff_mixer_15mhzcpu_30mhzadc_sync.ets', 500, None, None, None),\n",
    "            ]"
   ]
  },
  {
   "cell_type": "markdown",
   "metadata": {
    "id": "LvsM_WCjSQ7D"
   },
   "source": [
    "## Doing all the CPA attacks on JTAG Phase Modulation measurements\n",
    "\n",
    "The following will do all the attacks on *phase modulation* measurements. The results get saved to a `.npy` file for further use. The `.npy` files have also been saved from prior runs."
   ]
  },
  {
   "cell_type": "code",
   "execution_count": null,
   "metadata": {
    "colab": {
     "base_uri": "https://localhost:8080/"
    },
    "id": "-09IesG8QglL",
    "outputId": "09ecebc5-e384-40a5-a99a-b8d8bc08f5e0"
   },
   "outputs": [],
   "source": [
    "for f in filenames:\n",
    "    att = do_cpa(f[0], f[1], f[2], f[3], f[4])\n",
    "    successnum = find_success(att, knownkey)\n",
    "    print(\"{:s} = {:d}\".format(f[0], successnum))\n",
    "    np.save(f[0] + \".npy\", att)"
   ]
  },
  {
   "cell_type": "markdown",
   "metadata": {
    "id": "T7HvyEM2fvqr"
   },
   "source": []
  },
  {
   "cell_type": "code",
   "execution_count": null,
   "metadata": {
    "id": "3ENDw-lAfv1b"
   },
   "outputs": [],
   "source": [
    "%%bash\n",
    "mkdir results\n",
    "mv baseline_traces_cpa/*.npy results/."
   ]
  },
  {
   "cell_type": "code",
   "execution_count": null,
   "metadata": {
    "id": "uUmlahyRfwik"
   },
   "outputs": [],
   "source": [
    "!7z a results.7z results"
   ]
  },
  {
   "cell_type": "code",
   "execution_count": null,
   "metadata": {
    "id": "R1E1RP-WQlx9"
   },
   "outputs": [],
   "source": []
  },
  {
   "cell_type": "markdown",
   "metadata": {
    "id": "5OQC4sF2YiqE"
   },
   "source": [
    "The above results in a bunch of output, but the important parts are the lines that look like this:\n",
    "\n",
    "```\n",
    "pmjtag_cpa/cwhusky_shunt_15mhzcpu_30mhzadc_sync.ets = 1800\n",
    "pmjtag_cpa/cwhusky_jtag_mixer_15mhzcpu_30mhzadc_sync_k.ets = 8900\n",
    "pmjtag_cpa/cwhusky_jtagclockoff_mixer_15mhzcpu_30mhzadc_sync.ets = -1\n",
    "```\n",
    "\n",
    "The above can be found in Table 4, showing the CPA results of the JTAG PM-SCA. We'll recreate the T-Test results below.\n",
    "\n",
    "Table 4 is recreated here for convience:\n",
    "\n",
    "\n",
    "| Measurement Basis         | TVLA | CPA  |\n",
    "|---------------------------|--------|------|\n",
    "| Shunt on VCC              | 24.0   | 1800 |\n",
    "| JTAG: Mixer, Toggling TDO | 11.7   | 8900 |\n",
    "| JTAG: Mixer, Constant TDO | 4.0    | --   |\n",
    "\n",
    "Note that the final constant TDO does not have a successful result report.\n"
   ]
  },
  {
   "cell_type": "markdown",
   "metadata": {
    "id": "vpvVnNDHYdwd"
   },
   "source": [
    "You may wish to save the .npy files. While we have a copy of them, for a \"complete\" artifact recreation you should copy the .npy files to the CPA plotting notebook.\n",
    "\n",
    "The easiest way to do this if using colab (and not a local Jupyter install) is to copy them to a directory & compress them. Then download the file in the CoLab web interface.\n",
    "\n",
    "The following block will move them to a `results` directory, then the block after that will compress that directory. Look for a `results.7z` file you download."
   ]
  },
  {
   "cell_type": "code",
   "execution_count": null,
   "metadata": {
    "id": "4WxRDDl5YeMT"
   },
   "outputs": [],
   "source": [
    "%%bash\n",
    "mkdir results\n",
    "mv baseline_traces_cpa/*.npy results/."
   ]
  },
  {
   "cell_type": "code",
   "execution_count": null,
   "metadata": {
    "id": "AvZlmLI-YgY9"
   },
   "outputs": [],
   "source": [
    "!7z a results.7z results"
   ]
  },
  {
   "cell_type": "markdown",
   "metadata": {
    "id": "FYgl39ELZNrd"
   },
   "source": [
    "## T-Test Results\n",
    "\n",
    "The following recreats the T-Test results for Table 4."
   ]
  },
  {
   "cell_type": "code",
   "execution_count": null,
   "metadata": {
    "id": "olxZeCLUZNG1"
   },
   "outputs": [],
   "source": [
    "import os\n",
    "import numpy as np\n",
    "def plot_t(t_val, N, titledata=\"\"):\n",
    "    import matplotlib.pylab as plt\n",
    "    ldata = len(t_val)\n",
    "    plt.plot(t_val)\n",
    "    plt.plot([0, ldata], [4.5, 4.5], 'k--')\n",
    "    plt.plot([0, ldata], [-4.5, -4.5], 'k--')\n",
    "    plt.title(\"TVLA Results, N=%d, %s\"%(N, titledata))\n",
    "    plt.xlabel(\"Sample Number\")\n",
    "    plt.ylabel(\"T-Test Value\")\n",
    "\n",
    "#Set root data dir, not \"mixers\"\n",
    "data_dir = \"\"\n",
    "\n",
    "def npload(filename):\n",
    "    return np.load(os.path.join(data_dir, filename), allow_pickle=True)\n",
    "\n",
    "def nptload(prefix):\n",
    "    group1 = npload(prefix + \"_tvla_group1.npy\")\n",
    "    group2 = npload(prefix + \"_tvla_group2.npy\")\n",
    "    N = round((len(group1) + len(group2)) / 2)\n",
    "    return group1, group2, N\n",
    "\n",
    "def npsave(filename, array):\n",
    "    np.save(os.path.join(data_dir, filename), array)\n",
    "\n",
    "def nptsave(prefix, group1, group2):\n",
    "    npsave(prefix + \"_tvla_group1.npy\", group1)\n",
    "    npsave(prefix + \"_tvla_group2.npy\", group2)\n"
   ]
  },
  {
   "cell_type": "code",
   "execution_count": null,
   "metadata": {
    "id": "UUJC6eRFZbZE"
   },
   "outputs": [],
   "source": [
    "files = [\n",
    "         [r\"pmjtag_test/cwhusky_shunt_15mhzcpu_30mhzadc_10ktraces_sync\", 100, None, None, None],\n",
    "         [r\"pmjtag_test/cwhusky_jtag_mixer_15mhzcpu_30mhzadc_10ktraces_sync\", 100, None, None, None],\n",
    "         [r\"pmjtag_test/cwhusky_jtag_mixer_clockoff_15mhzcpu_30mhzadc_10ktraces_sync\", 100, None, None, None],\n",
    "\n",
    "        ]"
   ]
  },
  {
   "cell_type": "code",
   "execution_count": null,
   "metadata": {
    "colab": {
     "base_uri": "https://localhost:8080/"
    },
    "id": "XTpjHCglZsPj",
    "outputId": "f5197db8-d3a3-44ac-b6fe-7935fb341612"
   },
   "outputs": [],
   "source": [
    "from scipy.stats import ttest_ind\n",
    "import matplotlib.pylab as plt\n",
    "from scipy import signal\n",
    "\n",
    "def find_max_t(file, start=0, end=-1, hpf=None, lpf=None, resync_jtag=False):\n",
    "    group1, group2, N = nptload(file)\n",
    "\n",
    "    if resync_jtag:\n",
    "        first = []\n",
    "        for g in group1:\n",
    "            first.append(g[0])\n",
    "        avg = np.mean(first)\n",
    "        group1resync = []\n",
    "        for g in group1:\n",
    "            if g[0] > avg:\n",
    "                group1resync.append(g[:-1])\n",
    "            else:\n",
    "                group1resync.append(g[1:])\n",
    "\n",
    "        group2resync = []\n",
    "        for g in group2:\n",
    "            if g[0] > avg:\n",
    "                group2resync.append(g[:-1])\n",
    "            else:\n",
    "                group2resync.append(g[1:])\n",
    "\n",
    "        group1 = group1resync\n",
    "        group2 = group2resync\n",
    "\n",
    "    if hpf:\n",
    "        sos = signal.butter(5, hpf, 'highpass', output='sos')\n",
    "        group1 = signal.sosfilt(sos, group1)\n",
    "        group2 = signal.sosfilt(sos, group2)\n",
    "\n",
    "    if lpf:\n",
    "        sos = signal.butter(5, lpf, 'lowpass', output='sos')\n",
    "        group1 = signal.sosfilt(sos, group1)\n",
    "        group2 = signal.sosfilt(sos, group2)\n",
    "\n",
    "    t_val = ttest_ind(group1[start:end], group2[start:end], axis=0, equal_var=False)[0]\n",
    "    max_t = max(abs(t_val))\n",
    "    return max_t, t_val\n",
    "for f in files:\n",
    "    max_t, t_val = find_max_t(f[0], start=f[1], end=f[2], hpf=f[3], lpf=f[4])\n",
    "    print(\"{:s}: {:f}\".format(f[0], max_t))"
   ]
  },
  {
   "cell_type": "markdown",
   "metadata": {
    "id": "cgGz49yibC1c"
   },
   "source": [
    "This outputs the T-Test results. You can confirm the values match the table above (Table 4 in paper):\n",
    "\n",
    "```\n",
    "pmjtag_test/cwhusky_shunt_15mhzcpu_30mhzadc_10ktraces_sync: 23.980417\n",
    "pmjtag_test/cwhusky_jtag_mixer_15mhzcpu_30mhzadc_10ktraces_sync: 11.718989\n",
    "pmjtag_test/cwhusky_jtag_mixer_clockoff_15mhzcpu_30mhzadc_10ktraces_sync: 3.643309\n",
    "```\n",
    "\n",
    "Note the final value is slightly off. The dataset in the paper used the a slightly different dataset & the one here was recaptued. The T-Test value is lower so it does not impact the results in the paper itself.\n"
   ]
  },
  {
   "cell_type": "markdown",
   "metadata": {
    "id": "zmIMk89DbM41"
   },
   "source": [
    "This should now be Table 4 fully reproduced, both CPA and T-Test values."
   ]
  },
  {
   "cell_type": "code",
   "execution_count": null,
   "metadata": {
    "id": "fbLN7wErZv_D"
   },
   "outputs": [],
   "source": []
  }
 ],
 "metadata": {
  "colab": {
   "provenance": []
  },
  "kernelspec": {
   "display_name": "Python 3 (ipykernel)",
   "language": "python",
   "name": "python3"
  },
  "language_info": {
   "codemirror_mode": {
    "name": "ipython",
    "version": 3
   },
   "file_extension": ".py",
   "mimetype": "text/x-python",
   "name": "python",
   "nbconvert_exporter": "python",
   "pygments_lexer": "ipython3",
   "version": "3.10.8"
  }
 },
 "nbformat": 4,
 "nbformat_minor": 1
}
