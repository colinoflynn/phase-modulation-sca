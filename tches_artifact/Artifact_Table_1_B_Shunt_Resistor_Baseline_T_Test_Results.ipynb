{
 "cells": [
  {
   "cell_type": "markdown",
   "metadata": {
    "id": "75MPHKqQRAQs"
   },
   "source": [
    "# Artifact Table 1-B for Phase Moducation Side Channel Analysis and JTAG Attacks\n",
    "\n",
    "This is part of a series of artifacts. Note these notebooks are designed to run on Google Colab so have been simplified from those available in the [full repository](https://github.com/colinoflynn/phase-modulation-sca).\n",
    "\n",
    "To run these notebooks, simply run from top to bottom.\n",
    "\n",
    "**WARNING**: Some steps, such as the extraction, can be very slow. Try not to forget you started the process as CoLab will kill unattended notebooks eventually, and you'll have to start again."
   ]
  },
  {
   "cell_type": "code",
   "execution_count": null,
   "metadata": {},
   "outputs": [],
   "source": [
    "!sudo apt-get install zstd"
   ]
  },
  {
   "cell_type": "code",
   "execution_count": null,
   "metadata": {
    "colab": {
     "base_uri": "https://localhost:8080/"
    },
    "id": "kd_kSapJGg1t",
    "outputId": "76a868f0-d244-4c53-f704-56383b9b3bb6"
   },
   "outputs": [],
   "source": [
    "!wget https://zenodo.org/records/13359322/files/baseline_traces_ttest.tar.zst?download=1"
   ]
  },
  {
   "cell_type": "code",
   "execution_count": null,
   "metadata": {
    "colab": {
     "base_uri": "https://localhost:8080/"
    },
    "id": "hDveHxw0Gjs5",
    "outputId": "b5b356ab-b023-4dbb-ca9c-336952f4b0e0"
   },
   "outputs": [],
   "source": [
    "!tar -xf baseline_traces_ttest.tar.zst?download=1"
   ]
  },
  {
   "cell_type": "code",
   "execution_count": null,
   "metadata": {
    "id": "S04oWW9uGy5c"
   },
   "outputs": [],
   "source": [
    "!rm -rf baseline_traces_ttest.tar.zst?download=1"
   ]
  },
  {
   "cell_type": "markdown",
   "metadata": {
    "id": "FYgl39ELZNrd"
   },
   "source": [
    "## T-Test Results\n",
    "\n",
    "The following recreats the T-Test results for Table 1."
   ]
  },
  {
   "cell_type": "code",
   "execution_count": null,
   "metadata": {
    "id": "olxZeCLUZNG1"
   },
   "outputs": [],
   "source": [
    "import os\n",
    "import numpy as np\n",
    "def plot_t(t_val, N, titledata=\"\"):\n",
    "    import matplotlib.pylab as plt\n",
    "    ldata = len(t_val)\n",
    "    plt.plot(t_val)\n",
    "    plt.plot([0, ldata], [4.5, 4.5], 'k--')\n",
    "    plt.plot([0, ldata], [-4.5, -4.5], 'k--')\n",
    "    plt.title(\"TVLA Results, N=%d, %s\"%(N, titledata))\n",
    "    plt.xlabel(\"Sample Number\")\n",
    "    plt.ylabel(\"T-Test Value\")\n",
    "\n",
    "#Set root data dir, not \"mixers\"\n",
    "data_dir = \"\"\n",
    "\n",
    "def npload(filename):\n",
    "    return np.load(os.path.join(data_dir, filename), allow_pickle=True)\n",
    "\n",
    "def nptload(prefix):\n",
    "    group1 = npload(prefix + \"_tvla_group1.npy\")\n",
    "    group2 = npload(prefix + \"_tvla_group2.npy\")\n",
    "    N = round((len(group1) + len(group2)) / 2)\n",
    "    return group1, group2, N\n",
    "\n",
    "def npsave(filename, array):\n",
    "    np.save(os.path.join(data_dir, filename), array)\n",
    "\n",
    "def nptsave(prefix, group1, group2):\n",
    "    npsave(prefix + \"_tvla_group1.npy\", group1)\n",
    "    npsave(prefix + \"_tvla_group2.npy\", group2)\n"
   ]
  },
  {
   "cell_type": "code",
   "execution_count": null,
   "metadata": {
    "colab": {
     "base_uri": "https://localhost:8080/"
    },
    "id": "ZzZJe2hmlnPl",
    "outputId": "94ef399f-e15d-4873-e563-b1395aa03260"
   },
   "outputs": [],
   "source": [
    "!ls -lh baseline_traces_ttest/"
   ]
  },
  {
   "cell_type": "code",
   "execution_count": null,
   "metadata": {
    "id": "UUJC6eRFZbZE"
   },
   "outputs": [],
   "source": [
    "files = [\n",
    "         [r\"baseline_traces_ttest/baseline120mhz_sync_120msps_ttest_10k\", 100, 10000, 0.01, 0.1], #None, None],\n",
    "         [r\"baseline_traces_ttest/baseline120mhz_sync_60msps_ttest_10k\", 200, 5000, 0.01, 0.1], # None, None],\n",
    "         [r\"baseline_traces_ttest/baseline120mhz_async_120msps_ttest_10k\", 200, 10000, 0.01, 0.1], # None],\n",
    "         [r\"baseline_traces_ttest/baseline120mhz_async_60msps_ttest_10k\", 100, 5000, 0.01, 0.1], # None, None],\n",
    "         [r\"baseline_traces_ttest/baseline15mhz_sync_120msps_ttest_10k\", 1000, -1, 0.01, 0.1], # None, None],\n",
    "         [r\"baseline_traces_ttest/baseline15mhz_sync_60msps_ttest_10k\", 500, -1, 0.01, 0.1], # None, None],\n",
    "         [r\"baseline_traces_ttest/baseline15mhz_async_120msps_ttest_10k\", 1000, -1, 0.01, 0.1], # None, None],\n",
    "         [r\"baseline_traces_ttest/baseline15mhz_async_60msps_ttest_10k\", 500, -1, 0.01, 0.1], # None, None],\n",
    "        ]"
   ]
  },
  {
   "cell_type": "code",
   "execution_count": null,
   "metadata": {
    "id": "XTpjHCglZsPj"
   },
   "outputs": [],
   "source": [
    "from scipy.stats import ttest_ind\n",
    "import matplotlib.pylab as plt\n",
    "from scipy import signal\n",
    "\n",
    "def find_max_t(file, start=0, end=-1, hpf=None, lpf=None, resync_jtag=False):\n",
    "    group1, group2, N = nptload(file)\n",
    "\n",
    "    if resync_jtag:\n",
    "        first = []\n",
    "        for g in group1:\n",
    "            first.append(g[0])\n",
    "        avg = np.mean(first)\n",
    "        group1resync = []\n",
    "        for g in group1:\n",
    "            if g[0] > avg:\n",
    "                group1resync.append(g[:-1])\n",
    "            else:\n",
    "                group1resync.append(g[1:])\n",
    "\n",
    "        group2resync = []\n",
    "        for g in group2:\n",
    "            if g[0] > avg:\n",
    "                group2resync.append(g[:-1])\n",
    "            else:\n",
    "                group2resync.append(g[1:])\n",
    "\n",
    "        group1 = group1resync\n",
    "        group2 = group2resync\n",
    "\n",
    "    if hpf:\n",
    "        sos = signal.butter(5, hpf, 'highpass', output='sos')\n",
    "        group1 = signal.sosfilt(sos, group1)\n",
    "        group2 = signal.sosfilt(sos, group2)\n",
    "\n",
    "    if lpf:\n",
    "        sos = signal.butter(5, lpf, 'lowpass', output='sos')\n",
    "        group1 = signal.sosfilt(sos, group1)\n",
    "        group2 = signal.sosfilt(sos, group2)\n",
    "\n",
    "    t_val = ttest_ind(group1[start:end], group2[start:end], axis=0, equal_var=False)[0]\n",
    "    max_t = max(abs(t_val))\n",
    "    return max_t, t_val\n",
    "for f in files:\n",
    "    max_t, t_val = find_max_t(f[0], start=f[1], end=f[2], hpf=f[3], lpf=f[4])\n",
    "    print(\"{:s}: {:f}\".format(f[0], max_t))"
   ]
  },
  {
   "cell_type": "code",
   "execution_count": null,
   "metadata": {
    "id": "fbLN7wErZv_D"
   },
   "outputs": [],
   "source": []
  },
  {
   "cell_type": "markdown",
   "metadata": {
    "id": "nm_tp16OmBL9"
   },
   "source": [
    "**WARNING** - the above seems to crash on colab due to memory sometimes!"
   ]
  },
  {
   "cell_type": "markdown",
   "metadata": {
    "id": "Iidz8WUqbZFT"
   },
   "source": [
    "These baseline values can be found in **Table 1** in the paper, reproduced here in Markdown (not exactly perfect):\n",
    "\n",
    "| CPU Freq | Asynchronous Sampling |       |         |       | Synchronous Sampling |      |         |      |\n",
    "|----------|-----------------------|-------|---------|-------|----------------------|------|---------|------|\n",
    "|          | 120 MS/s              |       | 60 MS/s |       | 120 MS/S             |      | 60 MS/s |      |\n",
    "|          | |TVLA|                | CPA   | |TVLA|  | CPA   | |TVLA|               | CPA  | |TVLA|  | CPA  |\n",
    "| 120 MHz  | 31.3                  | 28375 | 4.2     | 66750 | 43.9                 | 750  | 28.8    | 1350 |\n",
    "| 15 MHz   | 5.9                   | 19900 | 5.0     | 22800 | 24.0                 | 3250 | 25.8    | 3600 |\n",
    "\n",
    "The output of the above should match the TVLA values as described by the filename.\n",
    "\n"
   ]
  },
  {
   "cell_type": "code",
   "execution_count": null,
   "metadata": {},
   "outputs": [],
   "source": []
  }
 ],
 "metadata": {
  "colab": {
   "provenance": []
  },
  "kernelspec": {
   "display_name": "Python 3 (ipykernel)",
   "language": "python",
   "name": "python3"
  },
  "language_info": {
   "codemirror_mode": {
    "name": "ipython",
    "version": 3
   },
   "file_extension": ".py",
   "mimetype": "text/x-python",
   "name": "python",
   "nbconvert_exporter": "python",
   "pygments_lexer": "ipython3",
   "version": "3.10.8"
  }
 },
 "nbformat": 4,
 "nbformat_minor": 1
}
