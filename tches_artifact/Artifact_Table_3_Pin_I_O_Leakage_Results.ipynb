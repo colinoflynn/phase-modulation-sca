{
 "cells": [
  {
   "cell_type": "markdown",
   "metadata": {
    "id": "75MPHKqQRAQs"
   },
   "source": [
    "# Artifact of Table 3 for Phase Moducation Side Channel Analysis and JTAG Attacks\n",
    "\n",
    "This is part of a series of artifacts. Note these notebooks are designed to run on Google Colab so have been simplified from those available in the [full repository](https://github.com/colinoflynn/phase-modulation-sca).\n",
    "\n",
    "To run these notebooks, simply run from top to bottom.\n",
    "\n",
    "**WARNING**: Some steps, such as the extraction, can be very slow. Try not to forget you started the process as CoLab will kill unattended notebooks eventually, and you'll have to start again."
   ]
  },
  {
   "cell_type": "code",
   "execution_count": null,
   "metadata": {},
   "outputs": [],
   "source": [
    "!sudo apt-get install zstd"
   ]
  },
  {
   "cell_type": "code",
   "execution_count": null,
   "metadata": {
    "colab": {
     "base_uri": "https://localhost:8080/"
    },
    "id": "kd_kSapJGg1t",
    "outputId": "001de7d8-dc7f-4a81-d87a-3a90a9e6bf35"
   },
   "outputs": [],
   "source": [
    "!wget https://zenodo.org/records/13359322/files/ioleakage.tar.zst?download=1"
   ]
  },
  {
   "cell_type": "code",
   "execution_count": null,
   "metadata": {
    "colab": {
     "base_uri": "https://localhost:8080/"
    },
    "id": "hDveHxw0Gjs5",
    "outputId": "6eac4c73-48fd-438e-e130-197246884d5c"
   },
   "outputs": [],
   "source": [
    "!tar -xf ioleakage.tar.zst?download=1"
   ]
  },
  {
   "cell_type": "code",
   "execution_count": null,
   "metadata": {
    "id": "S04oWW9uGy5c"
   },
   "outputs": [],
   "source": [
    "!rm -rf  ioleakage.tar.zst?download=1"
   ]
  },
  {
   "cell_type": "markdown",
   "metadata": {
    "id": "FYgl39ELZNrd"
   },
   "source": [
    "## T-Test Results\n",
    "\n",
    "The following recreats the T-Test results for Table 3."
   ]
  },
  {
   "cell_type": "code",
   "execution_count": null,
   "metadata": {
    "id": "olxZeCLUZNG1"
   },
   "outputs": [],
   "source": [
    "import os\n",
    "import numpy as np\n",
    "def plot_t(t_val, N, titledata=\"\"):\n",
    "    import matplotlib.pylab as plt\n",
    "    ldata = len(t_val)\n",
    "    plt.plot(t_val)\n",
    "    plt.plot([0, ldata], [4.5, 4.5], 'k--')\n",
    "    plt.plot([0, ldata], [-4.5, -4.5], 'k--')\n",
    "    plt.title(\"TVLA Results, N=%d, %s\"%(N, titledata))\n",
    "    plt.xlabel(\"Sample Number\")\n",
    "    plt.ylabel(\"T-Test Value\")\n",
    "\n",
    "#Set root data dir, not \"mixers\"\n",
    "data_dir = \"\"\n",
    "\n",
    "def npload(filename):\n",
    "    return np.load(os.path.join(data_dir, filename), allow_pickle=True)\n",
    "\n",
    "def nptload(prefix):\n",
    "    group1 = npload(prefix + \"_tvla_group1.npy\")\n",
    "    group2 = npload(prefix + \"_tvla_group2.npy\")\n",
    "    N = round((len(group1) + len(group2)) / 2)\n",
    "    return group1, group2, N\n",
    "\n",
    "def npsave(filename, array):\n",
    "    np.save(os.path.join(data_dir, filename), array)\n",
    "\n",
    "def nptsave(prefix, group1, group2):\n",
    "    npsave(prefix + \"_tvla_group1.npy\", group1)\n",
    "    npsave(prefix + \"_tvla_group2.npy\", group2)\n"
   ]
  },
  {
   "cell_type": "code",
   "execution_count": null,
   "metadata": {
    "id": "UUJC6eRFZbZE"
   },
   "outputs": [],
   "source": [
    "files = [\n",
    "         [r\"ioleakage/gnd_clkin_120mhz_sync_120msps_ttest_10k\", 100, 10000, 0.01, 0.1],\n",
    "         [r\"ioleakage/iohigh_clkin_120mhz_sync_120msps_ttest_10k\", 100, 10000, 0.01, 0.1],\n",
    "         [r\"ioleakage/iolow_clkin_120mhz_sync_120msps_ttest_10k\", 100, 10000, 0.01, 0.1],\n",
    "         [r\"ioleakage/icisolator_iolow_clkin_120mhz_sync_120msps_ttest_10k\", 100, 10000, 0.01, 0.1],\n",
    "         [r\"ioleakage/opticalisolator_iolow_clkin_120mhz_sync_120msps_ttest_10k\", 100, 10000,0.01, 0.1],\n",
    "        ]"
   ]
  },
  {
   "cell_type": "code",
   "execution_count": null,
   "metadata": {
    "colab": {
     "base_uri": "https://localhost:8080/"
    },
    "id": "XTpjHCglZsPj",
    "outputId": "5009dacb-7783-49d3-c2a7-09e9015d4feb"
   },
   "outputs": [],
   "source": [
    "from scipy.stats import ttest_ind\n",
    "import matplotlib.pylab as plt\n",
    "from scipy import signal\n",
    "\n",
    "def find_max_t(file, start=0, end=-1, hpf=None, lpf=None, resync_jtag=False):\n",
    "    group1, group2, N = nptload(file)\n",
    "\n",
    "    if resync_jtag:\n",
    "        first = []\n",
    "        for g in group1:\n",
    "            first.append(g[0])\n",
    "        avg = np.mean(first)\n",
    "        group1resync = []\n",
    "        for g in group1:\n",
    "            if g[0] > avg:\n",
    "                group1resync.append(g[:-1])\n",
    "            else:\n",
    "                group1resync.append(g[1:])\n",
    "\n",
    "        group2resync = []\n",
    "        for g in group2:\n",
    "            if g[0] > avg:\n",
    "                group2resync.append(g[:-1])\n",
    "            else:\n",
    "                group2resync.append(g[1:])\n",
    "\n",
    "        group1 = group1resync\n",
    "        group2 = group2resync\n",
    "\n",
    "    if hpf:\n",
    "        sos = signal.butter(5, hpf, 'highpass', output='sos')\n",
    "        group1 = signal.sosfilt(sos, group1)\n",
    "        group2 = signal.sosfilt(sos, group2)\n",
    "\n",
    "    if lpf:\n",
    "        sos = signal.butter(5, lpf, 'lowpass', output='sos')\n",
    "        group1 = signal.sosfilt(sos, group1)\n",
    "        group2 = signal.sosfilt(sos, group2)\n",
    "\n",
    "    t_val = ttest_ind(group1[start:end], group2[start:end], axis=0, equal_var=False)[0]\n",
    "    max_t = max(abs(t_val))\n",
    "    return max_t, t_val\n",
    "for f in files:\n",
    "    max_t, t_val = find_max_t(f[0], start=f[1], end=f[2], hpf=f[3], lpf=f[4])\n",
    "    print(\"{:s}: {:f}\".format(f[0], max_t))"
   ]
  },
  {
   "cell_type": "markdown",
   "metadata": {
    "id": "cgGz49yibC1c"
   },
   "source": [
    "The output should look like this:\n",
    "\n",
    "```\n",
    "ioleakage/gnd_clkin_120mhz_sync_120msps_ttest_10k: 3.753704\n",
    "ioleakage/iohigh_clkin_120mhz_sync_120msps_ttest_10k: 3.741362\n",
    "ioleakage/iolow_clkin_120mhz_sync_120msps_ttest_10k: 5.113831\n",
    "ioleakage/icisolator_iolow_clkin_120mhz_sync_120msps_ttest_10k: 1.970434\n",
    "ioleakage/opticalisolator_iolow_clkin_120mhz_sync_120msps_ttest_10k: 3.503088\n",
    "```\n",
    "\n",
    "These can be compared to Table 3 in the paper:\n",
    "\n",
    "| Measurement | Isolator | TVLA   |\n",
    "|-------------|----------|--------|\n",
    "| GND         | None     | 3.8    |\n",
    "| IO-High     | None     | 3.7    |\n",
    "| IO-Low      | None     | 5.1    |\n",
    "| IO-Low      | IC-Based | 2.0    |\n",
    "| IO-Low      | Optical  | 3.5    |\n",
    "\n",
    "This should verify that the T-Test results of the IO-pin leakage match.\n"
   ]
  },
  {
   "cell_type": "markdown",
   "metadata": {
    "id": "KGUC5W0anPfG"
   },
   "source": [
    "This verifies Table 3 and completes this artifact."
   ]
  },
  {
   "cell_type": "code",
   "execution_count": null,
   "metadata": {
    "id": "FGsvYOcFnP6k"
   },
   "outputs": [],
   "source": []
  }
 ],
 "metadata": {
  "colab": {
   "provenance": []
  },
  "kernelspec": {
   "display_name": "Python 3 (ipykernel)",
   "language": "python",
   "name": "python3"
  },
  "language_info": {
   "codemirror_mode": {
    "name": "ipython",
    "version": 3
   },
   "file_extension": ".py",
   "mimetype": "text/x-python",
   "name": "python",
   "nbconvert_exporter": "python",
   "pygments_lexer": "ipython3",
   "version": "3.10.8"
  }
 },
 "nbformat": 4,
 "nbformat_minor": 1
}
