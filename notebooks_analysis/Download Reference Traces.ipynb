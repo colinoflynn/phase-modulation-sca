{
 "cells": [
  {
   "cell_type": "markdown",
   "id": "3f6f71d5",
   "metadata": {},
   "source": [
    "# Example Traces\n",
    "\n",
    "The following will download a reference trace. Wget will name it wierdly (will have the URL in the name), but passing it to 7z should extract it.\n",
    "\n",
    "I recommend running this notebook on e.g., [Google Colab](https://colab.research.google.com). The traces have been split up so they will fit on the normal ~80GB that colab gives you for free disk space. Don't download and extract them all at once!\n",
    "\n",
    "The extracted size is listed at the bottom on each group so you know what to expect. The size listed by the .7z is the zipped file size. The 7z files total around 33GB compressed, about 275GB uncompressed.\n",
    "\n",
    "Some of the analysis notebook paths might break, if a file is missing check if there is a change in the path name due to the directory extraction. Normally it assumes you have a directory called `data_store` where you put all the data. You'll see the defined as `data_dir` in most of the noteboks.\n",
    "\n",
    "These will require `estraces` and `scared`, you can install both with a simple `!pip install scared` In a notebook cell. This will work in e.g., colab."
   ]
  },
  {
   "cell_type": "code",
   "execution_count": null,
   "id": "e8355bbb",
   "metadata": {},
   "outputs": [],
   "source": [
    "!pip install scared"
   ]
  },
  {
   "cell_type": "markdown",
   "id": "47eb3b2a",
   "metadata": {},
   "source": [
    "## Baseline Shunt Resistor CPA Measurements\n",
    "\n",
    "These traces are in ets (eshard scared) format. They represent baseline shunt resistor attacks:\n",
    "\n",
    "```\n",
    "baseline_traces_cpa.7z (4.6GB): \n",
    "\n",
    "2024-03-30  05:02 PM     3,854,762,749 baseline120mhz_async_120msps_cpa.ets\n",
    "2024-03-30  12:59 PM    12,805,171,445 baseline120mhz_async_60msps_cpa.ets\n",
    "2024-03-30  11:07 AM       161,360,067 baseline120mhz_sync_120msps_cpa.ets\n",
    "2024-03-30  11:17 AM       640,277,203 baseline120mhz_sync_60msps_cpa.ets\n",
    "2024-03-30  03:43 PM     3,207,405,475 baseline15mhz_async_120msps_cpa.ets\n",
    "2024-03-30  04:06 PM     2,013,069,417 baseline15mhz_async_60msps_cpa.ets\n",
    "2024-03-30  02:02 PM       402,864,587 baseline15mhz_sync_120msps_cpa.ets\n",
    "2024-03-30  02:32 PM       202,226,123 baseline15mhz_sync_60msps_cpa.ets\n",
    "               8 File(s) 23,287,137,066 bytes\n",
    "```"
   ]
  },
  {
   "cell_type": "code",
   "execution_count": null,
   "id": "4b11ea0c",
   "metadata": {},
   "outputs": [],
   "source": [
    "!wget https://www.dropbox.com/scl/fi/tlomuvppihg4y1z2x1gfr/baseline_traces_cpa.7z?rlkey=hdn5xpepjedid96o7y7drkjlf&dl=1"
   ]
  },
  {
   "cell_type": "markdown",
   "id": "13c286d2",
   "metadata": {},
   "source": [
    "## CPA Results for baseline, jtag glitch & mixers\n",
    "\n",
    "These are intermediate results, the output of the CPA attacks on some of the traces. They can be used for plotting graphs etc. They will require you to `pip install scared` for numpy to load them successfully. Load with `np.load(filename, allow_pickel=True)`. They are loaded by some of the notebooks.\n",
    "\n",
    "```\n",
    "cpa_results.7z (6GB)\n",
    "\n",
    "2024-04-05  05:19 PM       207,195,078 baseline120mhz_async_120msps_cpa.ets.npy\n",
    "2024-04-05  05:20 PM       108,867,078 baseline120mhz_async_60msps_cpa.ets.npy\n",
    "2024-04-05  05:16 PM       656,227,073 baseline120mhz_sync_120msps_cpa.ets.npy\n",
    "2024-04-05  05:17 PM       658,193,153 baseline120mhz_sync_60msps_cpa.ets.npy\n",
    "2024-04-05  05:22 PM       177,039,314 baseline15mhz_async_120msps_cpa.ets.npy\n",
    "2024-04-05  05:24 PM        98,376,114 baseline15mhz_async_60msps_cpa.ets.npy\n",
    "2024-04-05  05:21 PM       329,450,513 baseline15mhz_sync_120msps_cpa.ets.npy\n",
    "2024-04-05  05:21 PM       165,570,513 baseline15mhz_sync_60msps_cpa.ets.npy\n",
    "2024-04-05  05:27 PM     3,279,290,521 baseline2mhz_async_120msps_cpa.ets.npy\n",
    "2024-04-05  06:49 PM       331,096,111 cwhusky_jtagclockoff_mixer_15mhzcpu_30mhzadc_sync.ets.npy\n",
    "2024-04-05  06:50 PM       331,088,513 cwhusky_jtagcounetmeasured_mixer_15mhzcpu_30mhzadc_sync_k.ets.npy\n",
    "2024-04-05  06:48 PM       351,617,526 cwhusky_jtag_mixer_15mhzcpu_30mhzadc_sync_k.ets.npy\n",
    "2024-04-05  06:49 PM       328,632,101 cwhusky_shunt_15mhzcpu_30mhzadc_sync.ets.npy\n",
    "2024-04-05  04:39 PM       215,524,719 jtagglitch_15MHzCPU_159MHz_10koffsetLA_mixerjtagboard_jtaglaresults_60k.ets.npy\n",
    "2024-04-05  06:39 PM       167,208,513 mixer_default_120mhz_sync_120msps_cpa.ets.npy\n",
    "2024-04-05  06:39 PM       167,208,513 mixer_slowerfilter_120mhz_sync_120msps_cpa.ets.npy\n",
    "2024-04-05  06:43 PM       167,208,513 opticalisolator_mixer_120mhz_sync_120msps_cpa.ets.npy\n",
    "2024-04-05  06:42 PM       190,146,114 vdiv_120mhz_sync_120msps_cpa.ets.npy\n",
    "              18 File(s)  7,929,939,980 bytes\n",
    "\n",
    "```"
   ]
  },
  {
   "cell_type": "code",
   "execution_count": null,
   "id": "7dc936f7",
   "metadata": {},
   "outputs": [],
   "source": [
    "!wget https://www.dropbox.com/scl/fi/j30y4pqrw6jlk37ej15vj/cpa_results.7z?rlkey=3mdh1c5zkmk7wjmexel3j03jv&dl=1"
   ]
  },
  {
   "cell_type": "markdown",
   "id": "8ce7634f",
   "metadata": {},
   "source": [
    "## Mixers via Optical & IC Isolator Tests (clock from target), CPA & T-Test\n",
    "\n",
    "These traces use both the optical & IC isolator test board. In all cases a 60 MHz clock from the target is used to measure the jitter.\n",
    "\n",
    "```\n",
    "mixers.7z (1.5 GB)\n",
    "\n",
    "2024-03-31  11:09 AM       800,400,128 mixer_bothclks_defaultfilter_120mhz_sync_120msps_ttest_10k_tvla_group1.npy\n",
    "2024-03-31  11:09 AM       799,600,128 mixer_bothclks_defaultfilter_120mhz_sync_120msps_ttest_10k_tvla_group2.npy\n",
    "2024-03-31  11:36 AM       797,360,128 mixer_bothclks_slowerfilter_120mhz_sync_120msps_ttest_10k_tvla_group1.npy\n",
    "2024-03-31  11:36 AM       802,640,128 mixer_bothclks_slowerfilter_120mhz_sync_120msps_ttest_10k_tvla_group2.npy\n",
    "2024-03-31  11:25 AM       202,226,123 mixer_default_120mhz_sync_120msps_cpa.ets\n",
    "2024-03-31  11:38 AM       202,226,123 mixer_slowerfilter_120mhz_sync_120msps_cpa.ets\n",
    "2024-03-31  01:36 PM       202,226,123 opticalisolator_mixer_120mhz_sync_120msps_cpa.ets\n",
    "2024-03-31  01:33 PM       789,760,128 opticalisolator_mixer_bothclks_120mhz_sync_120msps_ttest_10k_tvla_group1.npy\n",
    "2024-03-31  01:33 PM       810,240,128 opticalisolator_mixer_bothclks_120mhz_sync_120msps_ttest_10k_tvla_group2.npy\n",
    "2024-03-30  09:43 PM       802,480,128 shunt_clkin_clkout_120mhz_sync_120msps_ttest_10k_tvla_group1.npy\n",
    "2024-03-30  09:43 PM       797,520,128 shunt_clkin_clkout_120mhz_sync_120msps_ttest_10k_tvla_group2.npy\n",
    "2024-03-31  12:52 PM     1,609,965,475 vdiv_120mhz_sync_120msps_cpa.ets\n",
    "2024-03-31  12:03 PM       399,320,128 vdiv_120mhz_sync_120msps_ttest_10k_tvla_group1.npy\n",
    "2024-03-31  12:03 PM       400,680,128 vdiv_120mhz_sync_120msps_ttest_10k_tvla_group2.npy\n",
    "              14 File(s)  9,416,645,124 bytes\n",
    "```"
   ]
  },
  {
   "cell_type": "code",
   "execution_count": null,
   "id": "402468fc",
   "metadata": {},
   "outputs": [],
   "source": [
    "!wget https://www.dropbox.com/scl/fi/67z8waf8iyf562xjzu9ko/mixers.7z?rlkey=tm97vszf4zodrndwmytynbv5n&dl=1"
   ]
  },
  {
   "cell_type": "markdown",
   "id": "ed6f6014",
   "metadata": {},
   "source": [
    "## JTAG Glitch Correlation Analysis, CPA & T-Test\n",
    "\n",
    "```\n",
    "jtag_glitch.7z (926MB)\n",
    "\n",
    "2024-04-04  06:45 AM     4,001,869,731 jtagglitch_15MHzCPU_158MHz_shuntcpa.ets\n",
    "2024-04-04  03:15 PM     4,840,211,065 jtagglitch_15MHzCPU_159MHz_10koffsetLA_mixerjtagboard_jtaglaresults_60k.ets\n",
    "2024-04-04  03:14 PM     4,836,647,545 jtagglitch_15MHzCPU_159MHz_10koffsetLA_mixerjtagboard_jtaglaresults_k.ets\n",
    "2024-04-05  09:03 AM    11,833,899,553 jtagglitch_15MHzCPU_159MHz_async_10koffsetLA_mixerjtagboard_jtaglaresults_k.ets\n",
    "2024-04-05  07:12 AM     1,289,249,856 jtag_offset10000_clock159E6_10k_xor_async_tvla_group1.npy\n",
    "2024-04-05  07:12 AM     1,330,910,400 jtag_offset10000_clock159E6_10k_xor_async_tvla_group2.npy\n",
    "2024-04-05  09:17 AM     1,305,363,840 jtag_offset10000_clock159E6_10k_xor_extclock_new_tvla_group1.npy\n",
    "2024-04-05  09:17 AM     1,314,796,416 jtag_offset10000_clock159E6_10k_xor_extclock_new_tvla_group2.npy\n",
    "2024-04-04  07:51 PM     1,307,590,976 jtag_offset10000_clock159E6_10k_xor_extclock_tvla_group1.npy\n",
    "2024-04-04  07:51 PM     1,312,569,280 jtag_offset10000_clock159E6_10k_xor_extclock_tvla_group2.npy\n",
    "2024-04-04  07:38 PM     1,310,211,136 jtag_offset10000_clock186E6_10k_xor_extclock_tvla_group1.npy\n",
    "2024-04-04  07:38 PM     1,309,949,120 jtag_offset10000_clock186E6_10k_xor_extclock_tvla_group2.npy\n",
    "2024-04-04  02:15 PM     1,304,577,792 jtag_offset12000_clock178E6_10k_1avg_xor_extclock_tvla_group1.npy\n",
    "2024-04-04  02:15 PM     1,315,582,464 jtag_offset12000_clock178E6_10k_1avg_xor_extclock_tvla_group2.npy\n",
    "              14 File(s) 38,613,429,174 bytes\n",
    "\n",
    "```"
   ]
  },
  {
   "cell_type": "code",
   "execution_count": null,
   "id": "13482c72",
   "metadata": {},
   "outputs": [],
   "source": [
    "!wget https://www.dropbox.com/scl/fi/dw5flwpo0ky5wqicuunfd/jtag_glitch.7z?rlkey=urhkwqxj21qpnizt4smsjvzqd&dl=1"
   ]
  },
  {
   "cell_type": "markdown",
   "id": "1ff1707a",
   "metadata": {},
   "source": [
    "## Baseline Shunt Resistor AES T-Test\n",
    "\n",
    "```\n",
    "baseline_traces_ttest.7z (8.2GB):\n",
    "\n",
    "2024-03-29  04:37 PM     4,004,000,128 baseline120mhz_async_120msps_ttest_10k_tvla_group1.npy\n",
    "2024-03-29  04:37 PM     3,996,000,128 baseline120mhz_async_120msps_ttest_10k_tvla_group2.npy\n",
    "2024-03-29  04:48 PM     3,998,000,128 baseline120mhz_async_60msps_ttest_10k_tvla_group1.npy\n",
    "2024-03-29  04:48 PM     4,002,000,128 baseline120mhz_async_60msps_ttest_10k_tvla_group2.npy\n",
    "2024-03-29  04:16 PM     4,000,400,128 baseline120mhz_sync_120msps_ttest_10k_tvla_group1.npy\n",
    "2024-03-29  04:16 PM     3,999,600,128 baseline120mhz_sync_120msps_ttest_10k_tvla_group2.npy\n",
    "2024-03-29  04:27 PM     4,006,400,128 baseline120mhz_sync_60msps_ttest_10k_tvla_group1.npy\n",
    "2024-03-29  04:27 PM     3,993,600,128 baseline120mhz_sync_60msps_ttest_10k_tvla_group2.npy\n",
    "2024-03-29  05:20 PM     4,021,600,128 baseline15mhz_async_120msps_ttest_10k_tvla_group1.npy\n",
    "2024-03-29  05:20 PM     3,978,400,128 baseline15mhz_async_120msps_ttest_10k_tvla_group2.npy\n",
    "2024-03-29  05:31 PM     4,028,000,128 baseline15mhz_async_60msps_ttest_10k_tvla_group1.npy\n",
    "2024-03-29  05:31 PM     3,972,000,128 baseline15mhz_async_60msps_ttest_10k_tvla_group2.npy\n",
    "2024-03-29  04:59 PM     3,979,600,128 baseline15mhz_sync_120msps_ttest_10k_tvla_group1.npy\n",
    "2024-03-29  04:59 PM     4,020,400,128 baseline15mhz_sync_120msps_ttest_10k_tvla_group2.npy\n",
    "2024-03-29  05:10 PM     4,011,600,128 baseline15mhz_sync_60msps_ttest_10k_tvla_group1.npy\n",
    "2024-03-29  05:10 PM     3,988,400,128 baseline15mhz_sync_60msps_ttest_10k_tvla_group2.npy\n",
    "              16 File(s) 64,000,002,048 bytes\n",
    "```"
   ]
  },
  {
   "cell_type": "code",
   "execution_count": null,
   "id": "5757d460",
   "metadata": {},
   "outputs": [],
   "source": [
    "!wget https://www.dropbox.com/scl/fi/b5x221v5k88kuobm1nrfi/baseline_traces_ttest.7z?rlkey=jnt4xpextsrxz73osjxn261oi&dl=1"
   ]
  },
  {
   "cell_type": "markdown",
   "id": "8cc13c13",
   "metadata": {},
   "source": [
    "## IO Pin Leakage T-Test\n",
    "\n",
    "```\n",
    "ioleakage.7z (5.3GB)\n",
    "\n",
    "2024-03-30  08:48 PM     4,034,800,128 gnd_120mhz_sync_120msps_ttest_10k_tvla_group1.npy\n",
    "2024-03-30  08:48 PM     3,965,200,128 gnd_120mhz_sync_120msps_ttest_10k_tvla_group2.npy\n",
    "2024-03-31  10:21 AM       799,840,128 gnd_clkin_120mhz_sync_120msps_ttest_10k_tvla_group1.npy\n",
    "2024-03-31  10:21 AM       800,160,128 gnd_clkin_120mhz_sync_120msps_ttest_10k_tvla_group2.npy\n",
    "2024-03-31  09:30 AM       797,600,128 gnd_clkin_clkout_120mhz_sync_120msps_ttest_10k_tvla_group1.npy\n",
    "2024-03-31  09:30 AM       802,400,128 gnd_clkin_clkout_120mhz_sync_120msps_ttest_10k_tvla_group2.npy\n",
    "2024-03-31  09:38 AM       801,520,128 gnd_clkin_clkout_nojumper_120mhz_sync_120msps_ttest_10k_tvla_group1.npy\n",
    "2024-03-31  09:38 AM       798,480,128 gnd_clkin_clkout_nojumper_120mhz_sync_120msps_ttest_10k_tvla_group2.npy\n",
    "2024-03-30  09:14 PM     3,998,400,128 gnd_noclockout_120mhz_async_120msps_ttest_10k_tvla_group1.npy\n",
    "2024-03-30  09:14 PM     4,001,600,128 gnd_noclockout_120mhz_async_120msps_ttest_10k_tvla_group2.npy\n",
    "2024-03-31  10:36 AM       800,320,128 icisolator_iolow_clkin_120mhz_sync_120msps_ttest_10k_tvla_group1.npy\n",
    "2024-03-31  10:36 AM       799,680,128 icisolator_iolow_clkin_120mhz_sync_120msps_ttest_10k_tvla_group2.npy\n",
    "2024-03-31  10:00 AM       798,480,128 iohigh_clkin_120mhz_sync_120msps_ttest_10k_tvla_group1.npy\n",
    "2024-03-31  10:00 AM       801,520,128 iohigh_clkin_120mhz_sync_120msps_ttest_10k_tvla_group2.npy\n",
    "2024-03-31  10:08 AM       799,280,128 iolow_clkin_120mhz_sync_120msps_ttest_10k_tvla_group1.npy\n",
    "2024-03-31  10:08 AM       800,640,128 iolow_clkin_120mhz_sync_120msps_ttest_10k_tvla_group2.npy\n",
    "2024-03-31  02:05 PM       800,080,128 opticalisolator_extsma_iolow_clkin_120mhz_sync_120msps_ttest_10k_tvla_group1.npy\n",
    "2024-03-31  02:05 PM       799,920,128 opticalisolator_extsma_iolow_clkin_120mhz_sync_120msps_ttest_10k_tvla_group2.npy\n",
    "2024-03-31  01:50 PM       805,840,128 opticalisolator_iolow_clkin_120mhz_sync_120msps_ttest_10k_tvla_group1.npy\n",
    "2024-03-31  01:50 PM       794,160,128 opticalisolator_iolow_clkin_120mhz_sync_120msps_ttest_10k_tvla_group2.npy\n",
    "              20 File(s) 28,799,922,560 bytes\n",
    "\n",
    "```"
   ]
  },
  {
   "cell_type": "code",
   "execution_count": null,
   "id": "512e9973",
   "metadata": {},
   "outputs": [],
   "source": [
    "!wget https://www.dropbox.com/scl/fi/q87stf2t7sasmo7vave0e/ioleakage.7z?rlkey=np2fd7qk6kz2d975rhsttvenr&dl=1"
   ]
  },
  {
   "cell_type": "markdown",
   "id": "61cb9997",
   "metadata": {},
   "source": [
    "## JTAG Taps\n",
    "\n",
    "```\n",
    "jtag_taps.7z (8.2 GB):\n",
    "\n",
    "2024-04-02  08:01 AM     1,599,840,128 jtag_16mhztdo_32msps_noresync_eTPU2_10k_tvla_group1.npy\n",
    "2024-04-02  08:01 AM     1,600,160,128 jtag_16mhztdo_32msps_noresync_eTPU2_10k_tvla_group2.npy\n",
    "2024-04-02  07:29 AM     1,595,520,128 jtag_16mhztdo_32msps_noresync_eTPU_10k_tvla_group1.npy\n",
    "2024-04-02  07:29 AM     1,604,480,128 jtag_16mhztdo_32msps_noresync_eTPU_10k_tvla_group2.npy\n",
    "2024-04-02  06:57 AM     1,598,080,128 jtag_16mhztdo_32msps_noresync_Main_10k_tvla_group1.npy\n",
    "2024-04-02  06:57 AM     1,601,920,128 jtag_16mhztdo_32msps_noresync_Main_10k_tvla_group2.npy\n",
    "2024-04-02  07:07 AM     1,587,840,128 jtag_16mhztdo_32msps_noresync_NPC_10k_tvla_group1.npy\n",
    "2024-04-02  07:07 AM     1,612,160,128 jtag_16mhztdo_32msps_noresync_NPC_10k_tvla_group2.npy\n",
    "2024-04-02  07:39 AM     1,601,280,128 jtag_16mhztdo_32msps_noresync_NXDM_10k_tvla_group1.npy\n",
    "2024-04-02  07:39 AM     1,598,720,128 jtag_16mhztdo_32msps_noresync_NXDM_10k_tvla_group2.npy\n",
    "2024-04-02  08:11 AM     1,600,800,128 jtag_16mhztdo_32msps_noresync_NXDM_B_10k_tvla_group1.npy\n",
    "2024-04-02  08:11 AM     1,599,200,128 jtag_16mhztdo_32msps_noresync_NXDM_B_10k_tvla_group2.npy\n",
    "2024-04-02  07:50 AM     1,597,600,128 jtag_16mhztdo_32msps_noresync_NXFR_10k_tvla_group1.npy\n",
    "2024-04-02  07:50 AM     1,602,400,128 jtag_16mhztdo_32msps_noresync_NXFR_10k_tvla_group2.npy\n",
    "2024-04-02  07:18 AM     1,598,080,128 jtag_16mhztdo_32msps_noresync_ONCE_10k_tvla_group1.npy\n",
    "2024-04-02  07:18 AM     1,601,920,128 jtag_16mhztdo_32msps_noresync_ONCE_10k_tvla_group2.npy\n",
    "2024-04-02  08:22 AM     1,602,240,128 jtag_16mhztdo_32msps_noresync_ONCE_1_10k_tvla_group1.npy\n",
    "2024-04-02  08:22 AM     1,597,760,128 jtag_16mhztdo_32msps_noresync_ONCE_1_10k_tvla_group2.npy\n",
    "2024-04-01  06:28 PM     1,598,160,216 jtag_16mhztdo_eTPU2_10k_tvla_group1.npy\n",
    "2024-04-01  06:28 PM     1,601,680,040 jtag_16mhztdo_eTPU2_10k_tvla_group2.npy\n",
    "2024-04-01  05:56 PM     1,609,679,640 jtag_16mhztdo_eTPU_10k_tvla_group1.npy\n",
    "2024-04-01  05:56 PM     1,590,160,616 jtag_16mhztdo_eTPU_10k_tvla_group2.npy\n",
    "2024-04-01  05:24 PM     1,585,200,864 jtag_16mhztdo_Main_10k_tvla_group1.npy\n",
    "2024-04-01  05:24 PM     1,614,639,392 jtag_16mhztdo_Main_10k_tvla_group2.npy\n",
    "2024-04-01  05:35 PM     1,599,920,128 jtag_16mhztdo_NPC_10k_tvla_group1.npy\n",
    "2024-04-01  05:35 PM     1,599,920,128 jtag_16mhztdo_NPC_10k_tvla_group2.npy\n",
    "2024-04-01  06:07 PM     1,595,920,328 jtag_16mhztdo_NXDM_10k_tvla_group1.npy\n",
    "2024-04-01  06:07 PM     1,603,919,928 jtag_16mhztdo_NXDM_10k_tvla_group2.npy\n",
    "2024-04-01  06:39 PM     1,605,839,832 jtag_16mhztdo_NXDM_B_10k_tvla_group1.npy\n",
    "2024-04-01  06:39 PM     1,594,000,424 jtag_16mhztdo_NXDM_B_10k_tvla_group2.npy\n",
    "2024-04-01  06:18 PM     1,612,079,520 jtag_16mhztdo_NXFR_10k_tvla_group1.npy\n",
    "2024-04-01  06:18 PM     1,587,760,736 jtag_16mhztdo_NXFR_10k_tvla_group2.npy\n",
    "2024-04-01  05:45 PM     1,597,680,240 jtag_16mhztdo_ONCE_10k_tvla_group1.npy\n",
    "2024-04-01  05:46 PM     1,602,160,016 jtag_16mhztdo_ONCE_10k_tvla_group2.npy\n",
    "2024-04-01  06:50 PM     1,604,879,880 jtag_16mhztdo_ONCE_1_10k_tvla_group1.npy\n",
    "2024-04-01  06:50 PM     1,594,960,376 jtag_16mhztdo_ONCE_1_10k_tvla_group2.npy\n",
    "2024-04-01  07:21 PM     8,003,228,831 mpc5676r_jtag_etpu_16mhz_16msps_50k_cpa.ets\n",
    "2024-04-02  12:45 PM     1,002,904,363 mpc5676r_sca_16mhz_32msps_5k_cpa_25k.ets\n",
    "2024-04-11  05:47 PM       327,983,157 mpc5676r_sca_16mhz_32msps_5k_cpa_25k.ets.npy\n",
    "              39 File(s) 66,932,680,959 bytes\n",
    "```"
   ]
  },
  {
   "cell_type": "code",
   "execution_count": null,
   "id": "b9b43ef0",
   "metadata": {},
   "outputs": [],
   "source": [
    "!wget https://www.dropbox.com/scl/fi/24cfztygmkdij7auuuxzw/jtag_taps.7z?rlkey=2kv27ek0sse8d5msw3dje0pf8&dl=1"
   ]
  }
 ],
 "metadata": {
  "kernelspec": {
   "display_name": "Python 3 (ipykernel)",
   "language": "python",
   "name": "python3"
  },
  "language_info": {
   "codemirror_mode": {
    "name": "ipython",
    "version": 3
   },
   "file_extension": ".py",
   "mimetype": "text/x-python",
   "name": "python",
   "nbconvert_exporter": "python",
   "pygments_lexer": "ipython3",
   "version": "3.10.8"
  }
 },
 "nbformat": 4,
 "nbformat_minor": 5
}
