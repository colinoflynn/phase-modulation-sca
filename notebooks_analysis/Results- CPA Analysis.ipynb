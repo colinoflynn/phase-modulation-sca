{
 "cells": [
  {
   "cell_type": "markdown",
   "id": "3cf3a010",
   "metadata": {},
   "source": [
    "# CPA Analysis Notebook\n",
    "\n",
    "This notebook uses various captured data and gives CPA results."
   ]
  },
  {
   "cell_type": "code",
   "execution_count": null,
   "id": "c7a19719",
   "metadata": {},
   "outputs": [],
   "source": [
    "import scared\n",
    "import estraces\n",
    "import numpy as np"
   ]
  },
  {
   "cell_type": "code",
   "execution_count": null,
   "id": "a4705164",
   "metadata": {},
   "outputs": [],
   "source": [
    "knownkey = [43, 126, 21, 22, 40, 174, 210, 166, 171, 247, 21, 136, 9, 207, 79, 60]"
   ]
  },
  {
   "cell_type": "code",
   "execution_count": null,
   "id": "43fcd189",
   "metadata": {},
   "outputs": [],
   "source": [
    "def find_success(att, knownkey):\n",
    "    recovered_masterkey = np.argmax(att.scores, axis=0).astype('uint8')\n",
    "    print(recovered_masterkey == knownkey)\n",
    "    \n",
    "    for i in range(0, np.shape(att.convergence_traces)[2]):\n",
    "        if np.all(np.argmax(att.convergence_traces[:,:,i], axis=0) == knownkey):\n",
    "            return (i+1)*att.convergence_step\n",
    "    return -1"
   ]
  },
  {
   "cell_type": "code",
   "execution_count": null,
   "id": "e3ce9bea",
   "metadata": {},
   "outputs": [],
   "source": [
    "import scared\n",
    "from scipy import signal\n",
    "\n",
    "\n",
    "def do_cpa(filename, step=25, window=None, hpf=None, lpf=None):\n",
    "    ths = estraces.read_ths_from_ets_file(filename)\n",
    "    print(ths)\n",
    "\n",
    "    selection_function = scared.aes.selection_functions.encrypt.FirstSubBytes()\n",
    "\n",
    "    att = scared.CPAAttack(selection_function=selection_function,\n",
    "                           model=scared.HammingWeight(), \n",
    "                           discriminant=scared.maxabs,\n",
    "                           convergence_step=step)\n",
    "    \n",
    "    processes = []\n",
    "    \n",
    "    # Simple high pass filter (HPF)\n",
    "    if hpf:\n",
    "        sos = signal.butter(5, hpf, 'highpass', output='sos')\n",
    "        \n",
    "        @scared.preprocess\n",
    "        def hpfproc(traces):\n",
    "            return signal.sosfilt(sos, traces)\n",
    "\n",
    "        processes.append(hpfproc)\n",
    "    \n",
    "    # Simple low pass filter (LPF)\n",
    "    if lpf:\n",
    "        sos = signal.butter(5, lpf, 'lowpass', output='sos')\n",
    "        \n",
    "        @scared.preprocess\n",
    "        def lpfproc(traces):\n",
    "            return signal.sosfilt(sos, traces)\n",
    "\n",
    "        processes.append(lpfproc)\n",
    "        \n",
    "    # This resync preprocessing isn't really used, was used with some JTAG captures only\n",
    "    @scared.preprocess\n",
    "    def resync(traces):\n",
    "        import numpy as np\n",
    "        first = []\n",
    "        for w in traces:\n",
    "            first.append(w[0])\n",
    "        avg = np.mean(first)\n",
    "        \n",
    "        tracesresync = []\n",
    "        for w in traces:\n",
    "            if w[0] < avg:\n",
    "                tracesresync.append(w[:-1])\n",
    "            else:\n",
    "                tracesresync.append(w[1:])                \n",
    "        return np.array(tracesresync)\n",
    "    #processes.append(resync)\n",
    "    \n",
    "    if window:\n",
    "        container = scared.Container(ths, frame=range(window[0], window[1]), preprocesses=processes)\n",
    "    else:\n",
    "        container = scared.Container(ths, preprocesses=processes)\n",
    "        \n",
    "\n",
    "    att.run(container)\n",
    "\n",
    "    import numpy as np\n",
    "\n",
    "    recovered_masterkey = np.argmax(att.scores, axis=0).astype('uint8')\n",
    "\n",
    "    return att"
   ]
  },
  {
   "cell_type": "code",
   "execution_count": null,
   "id": "9150ac03",
   "metadata": {},
   "outputs": [],
   "source": [
    "#Uncomment relevant datasets\n",
    "filenames = [('d:/data_store/baseline120mhz_sync_120msps_cpa.ets', 25, None, None, None),\n",
    "             ('d:/data_store/baseline120mhz_sync_60msps_cpa.ets', 25, None, None, None),\n",
    "             ('d:/data_store/baseline120mhz_async_120msps_cpa.ets', 125, None, None, None),\n",
    "             ('d:/data_store/baseline120mhz_async_60msps_cpa.ets', 125, (0, 3000), None, None),\n",
    "             ('d:/data_store/baseline15mhz_sync_120msps_cpa.ets', 50, None, None, None),\n",
    "             ('d:/data_store/baseline15mhz_sync_60msps_cpa.ets', 50, None, None, None),\n",
    "             ('d:/data_store/baseline15mhz_async_120msps_cpa.ets', 50, (1000, 6000), None, None),\n",
    "             ('d:/data_store/baseline15mhz_async_60msps_cpa.ets', 50, (500, 3000), None, None),\n",
    "             #('d:/data_store/baseline2mhz_async_120msps_cpa.ets', 50, None, None, None),\n",
    "             #('d:/data_store/baseline2mhz_async_60msps_cpa.ets', 50, None, None), #(60000, 80000), None),\n",
    "             #('d:/data_store/baseline2mhz_async_60msps_cpa.ets', None, None, None),\n",
    "             #('d:/data_store/mixer_default_120mhz_sync_120msps_cpa.ets', 25, None, None, None),\n",
    "             #('d:/data_store/mixer_slowerfilter_120mhz_sync_120msps_cpa.ets', 25, None, None, None),\n",
    "             #('d:/data_store/vdiv_120mhz_sync_120msps_cpa.ets', 25, None, 0.1, None),    \n",
    "             ('d:/data_store/opticalisolator_mixer_120mhz_sync_120msps_cpa.ets', 25, None, None, None),\n",
    "             ('d:/data_store/cwhusky_jtag_mixer_15mhzcpu_30mhzadc_sync_k.ets', 25, None, None, None), # 8900 @ 25 steps\n",
    "             ('d:/data_store/cwhusky_jtagclockoff_mixer_15mhzcpu_30mhzadc_sync.ets', 500, None, None, None),\n",
    "             ('d:/data_store/cwhusky_shunt_15mhzcpu_30mhzadc_sync.ets', 100, None, None, None),\n",
    "             #('d:/data_store/cwhusky_jtagcounetmeasured_mixer_15mhzcpu_30mhzadc_sync_k.ets', 25, None, None, None), # 1800@25 steps\n",
    "             #('d:/data_store/jtagglitch_15MHzCPU_158MHzLA_mixerjtagboard_jtaglaresults_k.ets', 500, (8000, 14000), None, None),\n",
    "             #('d:/data_store/jtagglitch_15MHzCPU_174MHz_shuntcpa.ets', 500, (17590, 24000), None, None),\n",
    "             #('d:/data_store/jtagglitch_15MHzCPU_158MHz_shuntcpa.ets', 100, None, None, None),\n",
    "             #('d:/data_store/jtagglitch_15MHzCPU_159MHz_10koffsetLA_mixerjtagboard_jtaglaresults_60k.ets', 500, (6000,12500), None, None),\n",
    "             ('d:/data_store/jtagglitch_15MHzCPU_159MHz_async_10koffsetLA_mixerjtagboard_jtaglaresults_k.ets', 500, (3600,9000), None, None),\n",
    "            #(r'd:/data_store/jtag_taps/mpc5676r_sca_16mhz_32msps_5k_cpa_25k.ets', 500, (5000, 15000), None, None)\n",
    "            ]\n",
    "\n",
    "## Datasets that weren't used but still valid\n",
    "#('d:/data_store/cwhusky_shunt_15mhzcpu_15mhzadc_sync.ets', 25, None, None, None), # 475 @25 steps\n",
    "#('d:/data_store/cwhusky_jtag_mixer_15mhzcpu_15mhzadc_sync_40k.ets', 25, (1500, 2500), 0.001, None), #32750 @25 steps\n",
    "#('d:/data_store/cwhusky_jtagclockoff_mixer_15mhzcpu_15mhzadc_sync_100k.ets', 500, (1500, 2500), 0.001, None), #No result\n",
    "\n",
    "## Datasets that weren't really successful, used for R&D, TODO for future papers\n",
    "#('d:/data_store/mpc5676r_shunt_64msps_save.ets', 500, None, 0.015, None),\n",
    "#('d:/data_store/mpc5676r_jtag_etpu_16mhz_64msps_50k_cpa.ets', 500, None, None, None),\n",
    "#('d:/data_store/mpc5676r_jtag_etpu_16mhz_32msps_150k_cpa.ets', 500, (19000, 20000), 0.015, None),\n",
    "#('d:/data_store/mpc5676r_sca_16mhz_32msps_5k_cpa_25k.ets', 500, (5000, 15000), None, None),\n",
    "#('d:/data_store/mpc5676r_sca_jtagclockon_16mhz_32msps_21k_cpa_25k.ets', 500, (5000, 15000), 0.015, 0.3),\n",
    "#('d:/data_store/mpc5676r_jtag_16mhz_32msps_5koffset_cpa_300k.ets', 500, None, 0.1, 0.5),"
   ]
  },
  {
   "cell_type": "code",
   "execution_count": null,
   "id": "552a6cd2",
   "metadata": {},
   "outputs": [],
   "source": [
    "for f in filenames:\n",
    "    att = do_cpa(f[0], f[1], f[2], f[3], f[4])\n",
    "    successnum = find_success(att, knownkey)\n",
    "    \n",
    "    print(\"{:s} = {:d}\".format(f[0], successnum))\n",
    "    \n",
    "    np.save(f[0] + \".npy\", att)"
   ]
  },
  {
   "cell_type": "markdown",
   "id": "840a5304",
   "metadata": {},
   "source": [
    "The following will plot some information, this was used normally by commenting out the list so online a single thing would run:"
   ]
  },
  {
   "cell_type": "code",
   "execution_count": null,
   "id": "575be2ff",
   "metadata": {},
   "outputs": [],
   "source": [
    "import matplotlib.pylab as plt\n",
    "from cycler import cycler\n",
    "for bindex in range(0, 16):\n",
    "    #bindex = 1\n",
    "    plt.figure()\n",
    "    ax = plt.gca()\n",
    "    ax.set_prop_cycle(cycler('color', [(1,0,0,1.0) if i == knownkey[bindex] else (.5,.5,.5, 0.05) for i in range(0,256)]))\n",
    "    plt.title('Convergence score', fontsize=20)\n",
    "    plt.xlabel('Number of blocks', fontsize=14)\n",
    "    plt.ylabel('CPA score', fontsize=14)\n",
    "    plt.plot(att.convergence_traces[:, bindex,:].T,)\n",
    "    plt.show()"
   ]
  },
  {
   "cell_type": "code",
   "execution_count": null,
   "id": "622826f0",
   "metadata": {},
   "outputs": [],
   "source": [
    "%matplotlib inline\n",
    "import matplotlib.pylab as plt\n",
    "from cycler import cycler\n",
    "\n",
    "plt.figure(figsize=(8, 5))\n",
    "plt.title('Convergence Scope')#, fontsize=20)\n",
    "plt.xlabel('Number of Traces')#, fontsize=14)\n",
    "plt.ylabel('CPA Result')#, fontsize=14)\n",
    "\n",
    "tcol = [(1,0,0,1.0)]*16\n",
    "\n",
    "conv_shape = np.shape(att.convergence_traces[0])\n",
    "\n",
    "for bindex in range(0, 16):\n",
    "    ax = plt.gca()\n",
    "    tc = tcol[bindex]\n",
    "    ax.set_prop_cycle(cycler('color', [(1,0,0,0) if i == knownkey[bindex] else (.5,.5,.5, 0.2) for i in range(0,256)]))\n",
    "    plt.plot(att.convergence_traces[:, bindex,:].T,)\n",
    "\n",
    "for bindex in range(0, 16):\n",
    "    ax = plt.gca()\n",
    "    tc = tcol[bindex]\n",
    "    #ax.set_prop_cycle(cycler('color', [tc if i == knownkey[bindex] else (.5,.5,.5, 0.05) for i in range(0,256)]))\n",
    "    plt.plot(att.convergence_traces[knownkey[bindex], bindex, :].T, 'r')\n",
    "    \n",
    "tickstep = int(conv_shape[1] / 10)\n",
    "    \n",
    "plt.plot([5000/att.convergence_step, 5000/att.convergence_step], [0.01, 0.08], 'k--')\n",
    "    \n",
    "xticks = [j for j in range(0, conv_shape[1], tickstep)]\n",
    "#xticks.append(conv_shape[1])\n",
    "xlabels = [str(i * att.convergence_step) for i in xticks]\n",
    "plt.xticks(xticks, xlabels, rotation=-45)\n",
    "ax.set_ylim([0.01, 0.08])\n",
    "    \n",
    "plt.show()"
   ]
  },
  {
   "cell_type": "code",
   "execution_count": null,
   "id": "108c7f96",
   "metadata": {},
   "outputs": [],
   "source": [
    "%matplotlib notebook\n",
    "import matplotlib.pylab as plt\n",
    "plt.figure()\n",
    "for i in range(0, 15):\n",
    "    plt.plot(att.results[knownkey[i]][i])"
   ]
  },
  {
   "cell_type": "markdown",
   "id": "65e309c1",
   "metadata": {},
   "source": [
    "## R&D Stuff / Individual Tests"
   ]
  },
  {
   "cell_type": "code",
   "execution_count": null,
   "id": "9973d164",
   "metadata": {},
   "outputs": [],
   "source": [
    "recovered_masterkey = np.argmax(att.scores, axis=0).astype('uint8')"
   ]
  },
  {
   "cell_type": "code",
   "execution_count": null,
   "id": "f4c422d8",
   "metadata": {},
   "outputs": [],
   "source": [
    "recovered_masterkey"
   ]
  },
  {
   "cell_type": "code",
   "execution_count": null,
   "id": "00ba2e1b",
   "metadata": {},
   "outputs": [],
   "source": [
    "import chipwhisperer as cw\n",
    "data_dir = \"d:/data_store\""
   ]
  },
  {
   "cell_type": "code",
   "execution_count": null,
   "id": "7267d137",
   "metadata": {},
   "outputs": [],
   "source": [
    "%run \"functions.ipynb\""
   ]
  },
  {
   "cell_type": "code",
   "execution_count": null,
   "id": "c950be5a",
   "metadata": {},
   "outputs": [],
   "source": [
    "from scipy.stats import ttest_ind\n",
    "import matplotlib.pylab as plt\n",
    "\n",
    "file = \"shunt_clkin_clkout_120mhz_sync_120msps_ttest_10k\"\n",
    "\n",
    "start = 100\n",
    "end = 10000\n",
    "\n",
    "group1, group2, N = nptload(file)\n",
    "t_val = ttest_ind(group1[start:end], group2[start:end], axis=0, equal_var=False)[0]\n",
    "max_t = max(abs(t_val))   "
   ]
  },
  {
   "cell_type": "code",
   "execution_count": null,
   "id": "001c014d",
   "metadata": {},
   "outputs": [],
   "source": [
    "print(max_t)"
   ]
  },
  {
   "cell_type": "code",
   "execution_count": null,
   "id": "684df148",
   "metadata": {},
   "outputs": [],
   "source": [
    "import matplotlib.pylab as plt\n",
    "\n",
    "plt.figure()\n",
    "plt.plot(np.mean(group1, axis=0))\n",
    "plt.show()"
   ]
  },
  {
   "cell_type": "code",
   "execution_count": null,
   "id": "2f81d5ac",
   "metadata": {},
   "outputs": [],
   "source": []
  },
  {
   "cell_type": "code",
   "execution_count": null,
   "id": "263e0a48",
   "metadata": {},
   "outputs": [],
   "source": []
  },
  {
   "cell_type": "code",
   "execution_count": null,
   "id": "a291d1f1",
   "metadata": {},
   "outputs": [],
   "source": [
    "import estraces\n",
    "ths = estraces.read_ths_from_ets_file(r\"d:\\data_store\\cwhusky_jtagclockoff_mixer_15mhzcpu_30mhzadc_sync.ets\")"
   ]
  },
  {
   "cell_type": "code",
   "execution_count": null,
   "id": "d12435cc",
   "metadata": {},
   "outputs": [],
   "source": [
    "%matplotlib notebook\n",
    "import matplotlib.pylab as plt\n",
    "import numpy as np\n",
    "plt.plot(np.mean(ths.samples[0:50], axis=0))\n"
   ]
  },
  {
   "cell_type": "code",
   "execution_count": null,
   "id": "484c3f78",
   "metadata": {},
   "outputs": [],
   "source": [
    "plt.plot(ths.samples[0])\n",
    "plt.plot(ths.samples[1])\n"
   ]
  }
 ],
 "metadata": {
  "kernelspec": {
   "display_name": "Python 3 (ipykernel)",
   "language": "python",
   "name": "python3"
  },
  "language_info": {
   "codemirror_mode": {
    "name": "ipython",
    "version": 3
   },
   "file_extension": ".py",
   "mimetype": "text/x-python",
   "name": "python",
   "nbconvert_exporter": "python",
   "pygments_lexer": "ipython3",
   "version": "3.10.8"
  }
 },
 "nbformat": 4,
 "nbformat_minor": 5
}
