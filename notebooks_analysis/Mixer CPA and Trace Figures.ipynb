{
 "cells": [
  {
   "cell_type": "code",
   "execution_count": null,
   "id": "81714818",
   "metadata": {},
   "outputs": [],
   "source": [
    "import numpy as np\n",
    "import chipwhisperer as cw\n",
    "import os\n",
    "import matplotlib.pylab as plt"
   ]
  },
  {
   "cell_type": "code",
   "execution_count": null,
   "id": "563e7a22",
   "metadata": {},
   "outputs": [],
   "source": [
    "%run \"functions.ipynb\""
   ]
  },
  {
   "cell_type": "code",
   "execution_count": null,
   "id": "716b8bb1",
   "metadata": {},
   "outputs": [],
   "source": [
    "data_dir = \"d:/data_store\""
   ]
  },
  {
   "cell_type": "code",
   "execution_count": null,
   "id": "09696e7c",
   "metadata": {},
   "outputs": [],
   "source": [
    "mixergroup1, mixergroup2, N = nptload(\"opticalisolator_mixer_bothclks_120mhz_sync_120msps_ttest_10k\")\n",
    "shuntgroup1, shuntgroup2, N = nptload(\"baseline120mhz_sync_120msps_ttest_10k\")"
   ]
  },
  {
   "cell_type": "code",
   "execution_count": null,
   "id": "b99518b1",
   "metadata": {},
   "outputs": [],
   "source": [
    "fig, ax = plt.subplots(2, 2, figsize=(12,8))\n",
    "\n",
    "fig.suptitle(r\"Mixer PM-SCA (from Clock Measurement via Optical Isolator) vs. Shunt PA-SCA\", fontsize=16)\n",
    "\n",
    "start = 500\n",
    "end = 3500\n",
    "\n",
    "x = [1.0/120E6 * i * 1E6 for i in range(0, len(mixergroup1[0]))][start:end]\n",
    "\n",
    "ax[0,0].plot(x, mixergroup1[0][start:end], 'g')\n",
    "ax[0,0].set_title(\"Mixer (Optical Isolator), Single Trace, 120 MS/s\", fontsize=14)\n",
    "ax[0,0].set_ylabel(\"Avg\", fontsize=13)\n",
    "ax[0,0].set_xlabel(r\"Time from Trigger ($\\mu$S)\", fontsize=13)\n",
    "\n",
    "\n",
    "ax[0,1].plot(x, np.mean(mixergroup1, axis=0)[start:end], 'g')\n",
    "ax[0,1].set_title(\"Mixer (Optical Isolator), Avg. (n=10000)\", fontsize=14)\n",
    "ax[0,1].set_ylabel(\"Value\", fontsize=13)\n",
    "ax[0,1].set_xlabel(r\"Time from Trigger ($\\mu$S)\", fontsize=13)\n",
    "\n",
    "ax[1,0].plot(x, shuntgroup1[0][start:end])\n",
    "ax[1,0].set_title(\"Shunt Resistor, Single Trace, 120 MS/s\", fontsize=14)\n",
    "ax[1,0].set_ylabel(\"Avg\", fontsize=13)\n",
    "ax[1,0].set_xlabel(r\"Time from Trigger ($\\mu$S)\", fontsize=13)\n",
    "\n",
    "\n",
    "ax[1,1].plot(x, np.mean(shuntgroup1, axis=0)[start:end])\n",
    "ax[1,1].set_title(\"Shunt Resistor, Avg. (n=10000)\", fontsize=14)\n",
    "ax[1,1].set_ylabel(\"Value\", fontsize=13)\n",
    "ax[1,1].set_xlabel(r\"Time from Trigger ($\\mu$S)\", fontsize=13)\n",
    "\n",
    "plt.tight_layout()\n",
    "\n",
    "plt.savefig(\"opticalpmwaveform.png\", dpi=300)\n",
    "plt.savefig(\"opticalpmwaveform.eps\", dpi=300)\n",
    "plt.show()"
   ]
  },
  {
   "cell_type": "code",
   "execution_count": null,
   "id": "51a73991",
   "metadata": {},
   "outputs": [],
   "source": []
  },
  {
   "cell_type": "code",
   "execution_count": null,
   "id": "c7a19719",
   "metadata": {},
   "outputs": [],
   "source": [
    "import scared\n",
    "import estraces\n",
    "import numpy as np"
   ]
  },
  {
   "cell_type": "code",
   "execution_count": null,
   "id": "a4705164",
   "metadata": {},
   "outputs": [],
   "source": [
    "knownkey = [43, 126, 21, 22, 40, 174, 210, 166, 171, 247, 21, 136, 9, 207, 79, 60]"
   ]
  },
  {
   "cell_type": "code",
   "execution_count": null,
   "id": "43fcd189",
   "metadata": {},
   "outputs": [],
   "source": [
    "def find_success(att, knownkey):\n",
    "    recovered_masterkey = np.argmax(att.scores, axis=0).astype('uint8')\n",
    "    #print(recovered_masterkey == knownkey)\n",
    "    \n",
    "    for i in range(0, np.shape(att.convergence_traces)[2]):\n",
    "        if np.all(np.argmax(att.convergence_traces[:,:,i], axis=0) == knownkey):\n",
    "            return (i+1)*att.convergence_step\n",
    "    return -1"
   ]
  },
  {
   "cell_type": "code",
   "execution_count": null,
   "id": "6135d717",
   "metadata": {},
   "outputs": [],
   "source": []
  },
  {
   "cell_type": "code",
   "execution_count": null,
   "id": "d7c01b93",
   "metadata": {},
   "outputs": [],
   "source": []
  },
  {
   "cell_type": "code",
   "execution_count": null,
   "id": "7e3c40ca",
   "metadata": {},
   "outputs": [],
   "source": []
  },
  {
   "cell_type": "code",
   "execution_count": null,
   "id": "a96b8039",
   "metadata": {},
   "outputs": [],
   "source": [
    "%matplotlib inline\n",
    "import matplotlib.pylab as plt\n",
    "from cycler import cycler\n",
    "\n",
    "def plot_convergance(ax, att, success = None, ylim=[0.01, 0.08], nticks=10):\n",
    "    tcol = [(1,0,0,1.0)]*16\n",
    "\n",
    "    conv_shape = np.shape(att.convergence_traces[0])\n",
    "\n",
    "    for bindex in range(0, 16):\n",
    "        tc = tcol[bindex]\n",
    "        ax.set_prop_cycle(cycler('color', [(1,0,0,0) if i == knownkey[bindex] else (.5,.5,.5, 0.2) for i in range(0,256)]))\n",
    "        ax.plot(att.convergence_traces[:, bindex,:].T,)\n",
    "\n",
    "    for bindex in range(0, 16):\n",
    "        tc = tcol[bindex]\n",
    "        #ax.set_prop_cycle(cycler('color', [tc if i == knownkey[bindex] else (.5,.5,.5, 0.05) for i in range(0,256)]))\n",
    "        ax.plot(att.convergence_traces[knownkey[bindex], bindex, :].T, 'r')\n",
    "\n",
    "    tickstep = int(conv_shape[1] / nticks)\n",
    "\n",
    "    if success:\n",
    "        ax.plot([success/att.convergence_step, success/att.convergence_step], ylim, 'k--')\n",
    "\n",
    "    xticks = [j for j in range(0, conv_shape[1], tickstep)]\n",
    "    #xticks.append(conv_shape[1])\n",
    "    xlabels = [str(i * att.convergence_step) for i in xticks]\n",
    "    ax.set_xticks(xticks, xlabels, rotation=-45)\n",
    "    ax.set_ylim(ylim)"
   ]
  },
  {
   "cell_type": "code",
   "execution_count": null,
   "id": "4a4bbc62",
   "metadata": {},
   "outputs": [],
   "source": [
    "def get_min_max(results, knownkey, byteindex=0):\n",
    "    max1 = np.max(results[0:knownkey,byteindex,:].T, axis=1)\n",
    "    max2 = np.max(results[(knownkey+1):,byteindex,:].T, axis=1)\n",
    "    maxline = np.max(np.array([max1, max2]), axis=0)\n",
    "    \n",
    "    min1 = np.min(results[0:knownkey,byteindex,:].T, axis=1)\n",
    "    min2 = np.min(results[(knownkey+1):,byteindex,:].T, axis=1)\n",
    "    minline = np.min(np.array([min1, min2]), axis=0)\n",
    "    return minline, maxline"
   ]
  },
  {
   "cell_type": "code",
   "execution_count": null,
   "id": "b91bfb7b",
   "metadata": {},
   "outputs": [],
   "source": [
    "import numpy as np\n",
    "att = np.load(data_dir + \"/\" + \"opticalisolator_mixer_120mhz_sync_120msps_cpa.ets.npy\", allow_pickle=True).item()\n",
    "success = find_success(att, knownkey)\n",
    "print(success)"
   ]
  },
  {
   "cell_type": "code",
   "execution_count": null,
   "id": "383dc985",
   "metadata": {},
   "outputs": [],
   "source": []
  },
  {
   "cell_type": "code",
   "execution_count": null,
   "id": "c4cf6445",
   "metadata": {},
   "outputs": [],
   "source": [
    "fig, ax = plt.subplots(1, 2, figsize=(12,5))\n",
    "plot_convergance(ax[0], att, success, ylim=[0.02, 0.20])\n",
    "\n",
    "x = [1.0/120E6 * i * 1E6 for i in range(0, len(att.results[knownkey[0], [0]].T))]\n",
    "\n",
    "start = 800\n",
    "end = 3000\n",
    "\n",
    "for i in range(0, 16):\n",
    "    minline, maxline = get_min_max(att.results, knownkey[i], i)\n",
    "    ax[1].plot(x[start:end], minline[start:end], color=(.5,.5,.5, 0.6))\n",
    "    ax[1].plot(x[start:end], maxline[start:end], color=(.5,.5,.5, 0.6))\n",
    "\n",
    "for i in range(0, 16):\n",
    "    ax[1].plot(x[start:end], att.results[knownkey[i], [i]].T[start:end], 'r')\n",
    "    \n",
    "ax[0].set_xlabel(r\"Trace Number\", fontsize=13)\n",
    "ax[0].set_ylabel(r\"CPA Result\", fontsize=13)\n",
    "\n",
    "ax[1].set_xlabel(r\"Time from Trigger ($\\mu$S)\", fontsize=13)\n",
    "ax[1].set_ylabel(\"CPA Result (All Bytes)\", fontsize=13)\n",
    "\n",
    "fig.suptitle(r\"Clock Output PM-CPA Results, Optical Isolator\", fontsize=16)\n",
    "\n",
    "plt.tight_layout()\n",
    "\n",
    "plt.savefig(\"opticalpmcpa.png\", dpi=300)\n",
    "plt.savefig(\"opticalpmcpa.eps\", dpi=300)\n",
    "    \n",
    "plt.show()"
   ]
  },
  {
   "cell_type": "code",
   "execution_count": null,
   "id": "dfa03cda",
   "metadata": {},
   "outputs": [],
   "source": []
  },
  {
   "cell_type": "code",
   "execution_count": null,
   "id": "bbe238a7",
   "metadata": {},
   "outputs": [],
   "source": []
  }
 ],
 "metadata": {
  "kernelspec": {
   "display_name": "Python 3 (ipykernel)",
   "language": "python",
   "name": "python3"
  },
  "language_info": {
   "codemirror_mode": {
    "name": "ipython",
    "version": 3
   },
   "file_extension": ".py",
   "mimetype": "text/x-python",
   "name": "python",
   "nbconvert_exporter": "python",
   "pygments_lexer": "ipython3",
   "version": "3.10.8"
  }
 },
 "nbformat": 4,
 "nbformat_minor": 5
}
