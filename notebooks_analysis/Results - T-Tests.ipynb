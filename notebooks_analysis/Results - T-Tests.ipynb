{
 "cells": [
  {
   "cell_type": "markdown",
   "id": "a2ddd016",
   "metadata": {},
   "source": [
    "# Baseline Results (Section X.X) - T-Test\n",
    "\n",
    "This notebook loads the T-Test results saved from the other notebook, and returns the maximum value.\n",
    "\n",
    "Some minor windowing is done to ensure the results of the faster encryption only include the encryption area & not the data transfer which will give false results.\n"
   ]
  },
  {
   "cell_type": "code",
   "execution_count": null,
   "id": "d946fadd",
   "metadata": {},
   "outputs": [],
   "source": [
    "import chipwhisperer as cw\n",
    "%run \"functions.ipynb\""
   ]
  },
  {
   "cell_type": "code",
   "execution_count": null,
   "id": "165954a6",
   "metadata": {},
   "outputs": [],
   "source": [
    "import numpy as np\n",
    "data_dir = r\"d:\\data_store\""
   ]
  },
  {
   "cell_type": "markdown",
   "id": "f5d5eb06",
   "metadata": {},
   "source": [
    "This data set ran the JTAG too fast for reliable operation on some of the TAPs:\n",
    "\n",
    "```\n",
    "          [\"jtag_32mhztdo_64msps_noresync_Main_10k\",   100, None, 0.015, 0.5],\n",
    "          [\"jtag_32mhztdo_64msps_noresync_NPC_10k\",   100, None, 0.015, 0.5],\n",
    "          [\"jtag_32mhztdo_64msps_noresync_ONCE_10k\",   100, None, 0.015, 0.5],\n",
    "          [\"jtag_32mhztdo_64msps_noresync_eTPU_10k\",   100, None, 0.015, 0.5],\n",
    "          [\"jtag_32mhztdo_64msps_noresync_NXDM_10k\",   100, None, 0.015, 0.5],\n",
    "          [\"jtag_32mhztdo_64msps_noresync_NXFR_10k\",   100, None, 0.015, 0.5],\n",
    "          [\"jtag_32mhztdo_64msps_noresync_eTPU2_10k\",   100, None, 0.015, 0.5],\n",
    "          [\"jtag_32mhztdo_64msps_noresync_NXDM_B_10k\",   100, None, 0.015, 0.5],\n",
    "          [\"jtag_32mhztdo_64msps_noresync_ONCE_1_10k\",   100, None, 0.015, 0.5]\n",
    "          [\"jtag_32mhztdo_64msps_Main_10k\",   100, None, 0.015, 0.5],\n",
    "          [\"jtag_32mhztdo_64msps_NPC_10k\",   100, None, 0.015, 0.5],\n",
    "          [\"jtag_32mhztdo_64msps_ONCE_10k\",   100, None, 0.015, 0.5],\n",
    "          [\"jtag_32mhztdo_64msps_eTPU_10k\",   100, None, 0.015, 0.5],\n",
    "          [\"jtag_32mhztdo_64msps_NXDM_10k\",   100, None, 0.015, 0.5],\n",
    "```\n",
    "\n",
    "This data set wasn't needed (2MHz CPU):\n",
    "```\n",
    "          [\"baseline_traces_ttest\\baseline2mhz_async_120msps_ttest_10k\", 1000, -1, 0.01, 0.1], #, None, None],\n",
    "          [\"baseline_traces_ttest\\baseline2mhz_async_60msps_ttest_10k\", 1000, -1, 0.01, 0.1], #, None, None], \n",
    "```\n",
    "\n",
    "Unused glitch frequency:\n",
    "```\n",
    "          [r\"jtag_glitch\\jtag_offset10000_clock186E6_10k_xor_extclock\", 0, None, None, None],\n",
    "```\n",
    "\n",
    "Unused PM JTAG tests:\n",
    "```\n",
    "         [r\"pmjtag_test\\cwhusky_jtag_mixerboard_15mhzcpu_200mhzadc_50kpts_10ktraces_async\", 100, None, 0.001, 0.6],\n",
    "         [r\"pmjtag_test\\cwhusky_jtag_mixerboard_notclk_15mhzcpu_200mhzadc_50kpts_10ktraces_async\", 100, None, 0.001, 0.6],\n",
    "         [r\"pmjtag_test\\cwhusky_jtag_mixer_15mhzcpu_15mhzadc_10ktraces_sync\", 100, None, None, None],\n",
    "         [r\"pmjtag_test\\cwhusky_jtag_mixer_clockoff_15mhzcpu_15mhzadc_10ktraces_sync\", 100, None, None, None],\n",
    "         [r\"pmjtag_test\\cwhusky_jtag_mixer_tclknobypass_15mhzcpu_15mhzadc_10ktraces_sync\", 100, None, None, None],\n",
    "         [r\"pmjtag_test\\cwhusky_shunt_15mhzcpu_15mhzadc_10ktraces_sync\", 100, None, None, None],\n",
    "         [r\"pmjtag_test\\cwhusky_jtag_mixerboard_15mhzcpu_30mhzadc_10ktraces_sync_fpgacountermeasuredisabled\", 100, None, None, None],\n",
    "         [r\"pmjtag_test\\cwhusky_jtag_mixerboard_15mhzcpu_15mhzadc_10ktraces_sync_fpgacountermeasureenabled_50mhz\", 100, None, None, None],\n",
    "         [r\"pmjtag_test\\cwhusky_jtag_mixerboard_15mhzcpu_30mhzadc_10ktraces_sync_fpgacountermeasuredisabled\", 100, None, None, None],\n",
    "```"
   ]
  },
  {
   "cell_type": "code",
   "execution_count": null,
   "id": "3a1c3472",
   "metadata": {},
   "outputs": [],
   "source": [
    "files = [[r\"baseline_traces_ttest\\baseline120mhz_sync_120msps_ttest_10k\", 100, 10000, 0.01, 0.1], #None, None],\n",
    "         [r\"baseline_traces_ttest\\baseline120mhz_sync_60msps_ttest_10k\", 200, 5000, 0.01, 0.1], # None, None],\n",
    "         [r\"baseline_traces_ttest\\baseline120mhz_async_120msps_ttest_10k\", 200, 10000, 0.01, 0.1], # None],\n",
    "         [r\"baseline_traces_ttest\\baseline120mhz_async_60msps_ttest_10k\", 100, 5000, 0.01, 0.1], # None, None],\n",
    "         [r\"baseline_traces_ttest\\baseline15mhz_sync_120msps_ttest_10k\", 1000, -1, 0.01, 0.1], # None, None],\n",
    "         [r\"baseline_traces_ttest\\baseline15mhz_sync_60msps_ttest_10k\", 500, -1, 0.01, 0.1], # None, None],\n",
    "         [r\"baseline_traces_ttest\\baseline15mhz_async_120msps_ttest_10k\", 1000, -1, 0.01, 0.1], # None, None],\n",
    "         [r\"baseline_traces_ttest\\baseline15mhz_async_60msps_ttest_10k\", 500, -1, 0.01, 0.1], # None, None],   \n",
    "         [r\"ioleakage\\gnd_clkin_clkout_120mhz_sync_120msps_ttest_10k\", 100, 10000, 0.01, 0.1],\n",
    "         [r\"ioleakage\\gnd_clkin_clkout_nojumper_120mhz_sync_120msps_ttest_10k\", 100, 10000, 0.01, 0.1],\n",
    "         [r\"ioleakage\\iohigh_clkin_120mhz_sync_120msps_ttest_10k\", 100, 10000, 0.01, 0.1],\n",
    "         [r\"ioleakage\\iolow_clkin_120mhz_sync_120msps_ttest_10k\", 100, 10000, 0.01, 0.1],\n",
    "         [r\"ioleakage\\gnd_clkin_120mhz_sync_120msps_ttest_10k\", 100, 10000, 0.01, 0.1],\n",
    "         [r\"ioleakage\\icisolator_iolow_clkin_120mhz_sync_120msps_ttest_10k\", 100, 10000, 0.01, 0.1],\n",
    "         [r\"ioleakage\\opticalisolator_iolow_clkin_120mhz_sync_120msps_ttest_10k\", 100, 10000,0.01, 0.1],\n",
    "         [r\"ioleakage\\opticalisolator_extsma_iolow_clkin_120mhz_sync_120msps_ttest_10k\", 100, 10000,0.01, 0.1],    \n",
    "         [r\"mixers\\mixer_bothclks_defaultfilter_120mhz_sync_120msps_ttest_10k\", 100, 10000, None, None],\n",
    "         [r\"mixers\\mixer_bothclks_slowerfilter_120mhz_sync_120msps_ttest_10k\", 100, 10000, None, None,],\n",
    "         [r\"mixers\\vdiv_120mhz_sync_120msps_ttest_10k\", 100, 10000, 0.1, 0.5],\n",
    "         [r\"mixers\\opticalisolator_mixer_bothclks_120mhz_sync_120msps_ttest_10k\", 100, 10000, None, None,],         \n",
    "         [r\"jtag_taps\\jtag_16mhztdo_Main_10k\",   100, None, 0.015, 0.6],\n",
    "         [r\"jtag_taps\\jtag_16mhztdo_NPC_10k\",    100, None, 0.015, 0.6],\n",
    "         [r\"jtag_taps\\jtag_16mhztdo_ONCE_10k\",   100, None, 0.015, 0.6],\n",
    "         [r\"jtag_taps\\jtag_16mhztdo_eTPU_10k\",   100, None, 0.015, 0.6],\n",
    "         [r\"jtag_taps\\jtag_16mhztdo_NXDM_10k\",   100, None, 0.015, 0.6],\n",
    "         [r\"jtag_taps\\jtag_16mhztdo_NXFR_10k\",   100, None, 0.015, 0.6],\n",
    "         [r\"jtag_taps\\jtag_16mhztdo_eTPU2_10k\",  100, None, 0.015, 0.6],\n",
    "         [r\"jtag_taps\\jtag_16mhztdo_NXDM_B_10k\", 100, None, 0.015, 0.6],\n",
    "         [r\"jtag_taps\\jtag_16mhztdo_ONCE_1_10k\", 100, None, 0.015, 0.6],\n",
    "         [r\"jtag_taps\\jtag_16mhztdo_32msps_noresync_Main_10k\", 100, None, None, None], #0.001, 0.6],\n",
    "         [r\"jtag_taps\\jtag_16mhztdo_32msps_noresync_NPC_10k\", 100, None, None, None], #0.001, 0.6],\n",
    "         [r\"jtag_taps\\jtag_16mhztdo_32msps_noresync_ONCE_10k\", 100, None, None, None], #0.001, 0.6],\n",
    "         [r\"jtag_taps\\jtag_16mhztdo_32msps_noresync_eTPU_10k\", 100, None, None, None],#0.001, 0.6],\n",
    "         [r\"jtag_taps\\jtag_16mhztdo_32msps_noresync_NXDM_10k\", 100, None, None, None],#0.001, 0.6],\n",
    "         [r\"jtag_taps\\jtag_16mhztdo_32msps_noresync_NXFR_10k\", 100, None, None, None],#0.001, 0.6],\n",
    "         [r\"jtag_taps\\jtag_16mhztdo_32msps_noresync_eTPU2_10k\", 100, None, None, None],#0.001, 0.6],\n",
    "         [r\"jtag_taps\\jtag_16mhztdo_32msps_noresync_NXDM_B_10k\", 100, None, None, None],#0.001, 0.6],\n",
    "         [r\"jtag_taps\\jtag_16mhztdo_32msps_noresync_ONCE_1_10k\", 100, None, None, None],#0.001, 0.6],\n",
    "         [r\"pmjtag_test\\cwhusky_jtag_mixer_15mhzcpu_30mhzadc_10ktraces_sync\", 100, None, None, None],\n",
    "         [r\"pmjtag_test\\cwhusky_jtag_mixerboard_15mhzcpu_30mhzadc_10ktraces_sync_fpgacountermeasureenabled\", 100, None, None, None],\n",
    "         [r\"pmjtag_test\\cwhusky_shunt_15mhzcpu_30mhzadc_10ktraces_sync\", 100, None, None, None],\n",
    "         [r\"pmjtag_test\\cwhusky_jtag_mixerboard_15mhzcpu_30mhzadc_10ktraces_sync_fpgacountermeasureenabled\", 100, None, None, None],\n",
    "         [r\"jtag_glitch\\jtag_offset10000_clock159E6_10k_xor_extclock\", 0, None, None, None],\n",
    "         [r\"jtag_glitch\\jtag_offset10000_clock159E6_10k_xor_extclock_new\", 0, None, None, None],\n",
    "         [r\"jtag_glitch\\jtag_offset10000_clock159E6_10k_xor_async\", 0, None, None, None],\n",
    "        ]"
   ]
  },
  {
   "cell_type": "code",
   "execution_count": null,
   "id": "cccb9d66",
   "metadata": {},
   "outputs": [],
   "source": []
  },
  {
   "cell_type": "code",
   "execution_count": null,
   "id": "91474bce",
   "metadata": {},
   "outputs": [],
   "source": [
    "from scipy.stats import ttest_ind\n",
    "import matplotlib.pylab as plt\n",
    "from scipy import signal\n",
    "\n",
    "def find_max_t(file, start=0, end=-1, hpf=None, lpf=None, resync_jtag=False):    \n",
    "    group1, group2, N = nptload(file)\n",
    "    \n",
    "    if resync_jtag:\n",
    "        first = []\n",
    "        for g in group1:\n",
    "            first.append(g[0])\n",
    "        avg = np.mean(first)\n",
    "        group1resync = []\n",
    "        for g in group1:\n",
    "            if g[0] > avg:\n",
    "                group1resync.append(g[:-1])\n",
    "            else:\n",
    "                group1resync.append(g[1:])\n",
    "\n",
    "        group2resync = []\n",
    "        for g in group2:\n",
    "            if g[0] > avg:\n",
    "                group2resync.append(g[:-1])\n",
    "            else:\n",
    "                group2resync.append(g[1:])\n",
    "                \n",
    "        group1 = group1resync\n",
    "        group2 = group2resync\n",
    "    \n",
    "    if hpf:        \n",
    "        sos = signal.butter(5, hpf, 'highpass', output='sos')\n",
    "        group1 = signal.sosfilt(sos, group1)\n",
    "        group2 = signal.sosfilt(sos, group2)\n",
    "    \n",
    "    if lpf:\n",
    "        sos = signal.butter(5, lpf, 'lowpass', output='sos')\n",
    "        group1 = signal.sosfilt(sos, group1)\n",
    "        group2 = signal.sosfilt(sos, group2)\n",
    "        \n",
    "    t_val = ttest_ind(group1[start:end], group2[start:end], axis=0, equal_var=False)[0]\n",
    "    max_t = max(abs(t_val))   \n",
    "    return max_t, t_val    "
   ]
  },
  {
   "cell_type": "code",
   "execution_count": null,
   "id": "ad1b441a",
   "metadata": {},
   "outputs": [],
   "source": [
    "for f in files:\n",
    "    max_t, t_val = find_max_t(f[0], start=f[1], end=f[2], hpf=f[3], lpf=f[4])\n",
    "    print(\"{:s}: {:f}\".format(f[0], max_t))"
   ]
  },
  {
   "cell_type": "code",
   "execution_count": null,
   "id": "73028088",
   "metadata": {},
   "outputs": [],
   "source": [
    "# The following is just an example of loading a trace & viewing results manually"
   ]
  },
  {
   "cell_type": "code",
   "execution_count": null,
   "id": "fd2ffa79",
   "metadata": {},
   "outputs": [],
   "source": [
    "group1, group2, N = nptload(r\"baseline_traces_ttest\\baseline15mhz_async_60msps_ttest_10k\")"
   ]
  },
  {
   "cell_type": "code",
   "execution_count": null,
   "id": "557d3f01",
   "metadata": {},
   "outputs": [],
   "source": [
    "from scipy import signal\n",
    "\n",
    "sos = signal.butter(5, 0.001, 'highpass', output='sos')\n",
    "group1 = signal.sosfilt(sos, group1)\n",
    "group2 = signal.sosfilt(sos, group2)\n",
    "\n",
    "sos = signal.butter(5, 0.1, 'lowpass', output='sos')\n",
    "group1 = signal.sosfilt(sos, group1)\n",
    "group2 = signal.sosfilt(sos, group2)\n"
   ]
  },
  {
   "cell_type": "code",
   "execution_count": null,
   "id": "2ff48341",
   "metadata": {},
   "outputs": [],
   "source": [
    "t_val = ttest_ind(group1, group2, axis=0, equal_var=False)[0]\n",
    "print(max(abs(t_val)))"
   ]
  },
  {
   "cell_type": "code",
   "execution_count": null,
   "id": "c7ddcb9a",
   "metadata": {},
   "outputs": [],
   "source": [
    "plt.figure()\n",
    "plot_t(t_val, 10000)"
   ]
  },
  {
   "cell_type": "code",
   "execution_count": null,
   "id": "b1730c8a",
   "metadata": {},
   "outputs": [],
   "source": [
    "#Example of checking the power traces itself:\n",
    "%matplotlib notebook\n",
    "import matplotlib.pylab as plt\n",
    "plt.plot(np.mean(group1, axis=0)[6000:])"
   ]
  },
  {
   "cell_type": "code",
   "execution_count": null,
   "id": "7dd75e3c",
   "metadata": {},
   "outputs": [],
   "source": [
    "#main = np.mean(group1, axis=0)[6000:]\n",
    "#npc = np.mean(group1, axis=0)[6000:]"
   ]
  },
  {
   "cell_type": "code",
   "execution_count": null,
   "id": "3cd164c5",
   "metadata": {},
   "outputs": [],
   "source": [
    "plt.figure()\n",
    "plt.plot(main+0.0015)\n",
    "plt.plot(npc)"
   ]
  },
  {
   "cell_type": "code",
   "execution_count": null,
   "id": "8043d842",
   "metadata": {},
   "outputs": [],
   "source": [
    "#Example of checking the power traces itself:\n",
    "%matplotlib notebook\n",
    "import matplotlib.pylab as plt\n",
    "plt.plot(group1[0])\n",
    "plt.plot(group1[1])\n",
    "plt.plot(group1[2])\n",
    "plt.plot(group1[3])\n",
    "plt.plot(group1[4])\n",
    "plt.plot(group1[5])"
   ]
  },
  {
   "cell_type": "code",
   "execution_count": null,
   "id": "43a73a9d",
   "metadata": {},
   "outputs": [],
   "source": [
    "#Example of checking the power traces itself:\n",
    "%matplotlib notebook\n",
    "import matplotlib.pylab as plt\n",
    "plt.plot(np.mean(group1, axis=0))"
   ]
  }
 ],
 "metadata": {
  "kernelspec": {
   "display_name": "Python 3 (ipykernel)",
   "language": "python",
   "name": "python3"
  },
  "language_info": {
   "codemirror_mode": {
    "name": "ipython",
    "version": 3
   },
   "file_extension": ".py",
   "mimetype": "text/x-python",
   "name": "python",
   "nbconvert_exporter": "python",
   "pygments_lexer": "ipython3",
   "version": "3.10.8"
  }
 },
 "nbformat": 4,
 "nbformat_minor": 5
}
